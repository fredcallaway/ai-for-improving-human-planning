{
 "cells": [
  {
   "cell_type": "code",
   "execution_count": 1,
   "metadata": {},
   "outputs": [],
   "source": [
    "%matplotlib inline\n",
    "\n",
    "import matplotlib.pyplot as plt\n",
    "import numpy as np\n",
    "import pandas as pd\n",
    "import seaborn as sns\n",
    "import scipy.stats as stats\n",
    "import matplotlib as plt\n",
    "import itertools as it\n",
    "from analysis_utils import *\n",
    "from statannot import add_stat_annotation"
   ]
  },
  {
   "cell_type": "code",
   "execution_count": 2,
   "metadata": {},
   "outputs": [],
   "source": [
    "import rpy2.robjects as ro\n",
    "from rpy2.robjects import pandas2ri\n",
    "pandas2ri.activate()\n",
    "%load_ext rpy2.ipython"
   ]
  },
  {
   "cell_type": "code",
   "execution_count": 3,
   "metadata": {},
   "outputs": [],
   "source": [
    "sns.set_style('white')"
   ]
  },
  {
   "cell_type": "markdown",
   "metadata": {},
   "source": [
    "# Setup"
   ]
  },
  {
   "cell_type": "code",
   "execution_count": 24,
   "metadata": {},
   "outputs": [],
   "source": [
    "EXPERIMENT = 6\n",
    "SKIP_BOOT = False\n",
    "\n",
    "if EXPERIMENT in (5, 7, 8):\n",
    "    print(f'Use exp{EXPERIMENT}.ipynb')\n",
    "    exit()\n",
    "\n",
    "os.makedirs(f'stats/{EXPERIMENT}', exist_ok=True)\n",
    "def write_tex(name, tex):\n",
    "    file = f\"stats/{EXPERIMENT}/{name}.tex\"\n",
    "    with open(file, \"w+\") as f:\n",
    "        f.write(str(tex) + r\"\\unskip\" + \"\\n\")\n",
    "    print(f'wrote \"{tex}\" to \"{file}\"')\n",
    "\n",
    "data = get_data(EXPERIMENT)\n",
    "pdf = data['participants'].rename(columns={'wid': 'pid'}).set_index('pid').copy()\n",
    "full_pdf = pdf.copy()\n",
    "mdf = data['trials'].rename(columns={'wid': 'pid'}).set_index('pid').copy()\n",
    "mdf.trial_time /= 1000\n",
    "mdf['clicked'] = mdf.n_clicks > 0\n",
    "\n",
    "# Normalize score by optimal performance (chance is zero for these experiments)\n",
    "with open('mouselab_maxscores.json') as f:\n",
    "    maxscores = json.load(f)\n",
    "\n",
    "test_env = {\n",
    "    1: 'basic',\n",
    "    2: 'big',\n",
    "    3: 'big',\n",
    "    4: 'unstructured',\n",
    "    6: 'basic'\n",
    "}\n",
    "maxscore = {'training': maxscores['basic'], \n",
    "            'test': maxscores[test_env[EXPERIMENT]]}\n",
    "mdf.score *= (100/mdf.block.apply(maxscore.get))\n",
    "\n",
    "full_pdf = pdf.copy()\n",
    "\n",
    "if EXPERIMENT == 3:\n",
    "    pdf.query('completed_1', inplace=True)\n",
    "else:\n",
    "    pdf.query('completed', inplace=True)\n",
    "    \n",
    "if EXPERIMENT == 6:\n",
    "    pdf.rename(columns={'with_info': 'information', 'with_reward': 'reward'}, inplace=True)\n",
    "    fb_namer = {\n",
    "        (0, 0): 'none',\n",
    "        (1, 0): 'info_only',\n",
    "        (0, 1): 'reward_only',\n",
    "        (1, 1): 'both'\n",
    "    }\n",
    "    pdf['feedback'] = pdf.apply(lambda row: fb_namer[row.information, row.reward], axis=1)\n",
    "    mdf['information'] = pdf.information\n",
    "    mdf['reward'] = pdf.reward\n",
    "    fb_order = list(fb_namer.values())\n",
    "else:\n",
    "    fb_order = [fb for fb in ['none', 'action', 'meta'] if fb in set(pdf.feedback)]"
   ]
  },
  {
   "cell_type": "markdown",
   "metadata": {},
   "source": [
    "## Demographics"
   ]
  },
  {
   "cell_type": "code",
   "execution_count": 25,
   "metadata": {},
   "outputs": [
    {
     "name": "stdout",
     "output_type": "stream",
     "text": [
      "wrote \"$36.0$\" to \"stats/6/mean-age.tex\"\n",
      "wrote \"$18$\" to \"stats/6/min-age.tex\"\n",
      "wrote \"$87$\" to \"stats/6/max-age.tex\"\n",
      "wrote \"$204$\" to \"stats/6/N-female.tex\"\n",
      "wrote \"$417$\" to \"stats/6/N-total.tex\"\n",
      "wrote \"$105$\" to \"stats/6/N-both.tex\"\n",
      "wrote \"$104$\" to \"stats/6/N-reward_only.tex\"\n",
      "wrote \"$104$\" to \"stats/6/N-info_only.tex\"\n",
      "wrote \"$104$\" to \"stats/6/N-none.tex\"\n",
      "wrote \"\\$1.05\" to \"stats/6/mean-bonus.tex\"\n"
     ]
    }
   ],
   "source": [
    "pids = list(pdf.index.unique())\n",
    "sdf = data['survey'].rename(columns={'wid': 'pid'}).query('pid == @pids').copy()\n",
    "if not isinstance(sdf.responses.iloc[0], dict):\n",
    "    sdf = sdf.loc[~sdf.responses.isna()]\n",
    "    sdf.responses = sdf.responses.apply(ast.literal_eval)\n",
    "\n",
    "if EXPERIMENT == 3:\n",
    "    demo = sdf.loc[sdf.responses.apply(len) == 3].set_index('pid').responses\n",
    "    age = demo.apply(get('Q1'))\n",
    "    gender = demo.apply(get('Q2'))\n",
    "else:\n",
    "    demo = sdf.loc[sdf.responses.apply(len) == 2].set_index('pid').responses\n",
    "    age = demo.apply(get('Q0'))\n",
    "    gender = demo.apply(get('Q1'))\n",
    "    \n",
    "gender = gender.str.lower()\n",
    "age = age.apply(excepts(ValueError, int, lambda _: None))\n",
    "age.loc[age < 18] = None\n",
    "\n",
    "write_tex('mean-age', f'${age.mean():.1f}$')\n",
    "write_tex('min-age', f'${age.min():.0f}$')\n",
    "write_tex('max-age', f'${age.max():.0f}$')\n",
    "\n",
    "regularize = {\n",
    "    'man': 'male',\n",
    "    'woman': 'female',\n",
    "    'f': 'female',\n",
    "    'm': 'male',\n",
    "}\n",
    "gender = gender.apply(lambda x: regularize.get(x.strip(), x))\n",
    "n_fem = gender.value_counts()['female']\n",
    "write_tex(\"N-female\", f'${n_fem}$')\n",
    "\n",
    "write_tex(\"N-total\", f\"${len(pdf)}$\")\n",
    "for fb, n in pdf.feedback.value_counts().items():\n",
    "    write_tex(f\"N-{fb}\", f\"${n}$\")\n",
    "    \n",
    "write_tex('mean-bonus', f'\\${pdf.bonus.mean():.2f}')"
   ]
  },
  {
   "cell_type": "code",
   "execution_count": 26,
   "metadata": {},
   "outputs": [],
   "source": [
    "completed = list(pdf.index)\n",
    "mdf.reset_index(inplace=True)\n",
    "mdf.query('pid == @completed', inplace=True)\n",
    "mdf.set_index('pid', inplace=True)\n",
    "\n",
    "pdf.feedback = pd.Categorical(pdf.feedback, fb_order, ordered=True)    \n",
    "mdf['feedback'] = pdf.feedback\n",
    "block_mean = mdf.groupby(['block', 'pid']).score.mean()\n",
    "for b in ['training', 'test']:\n",
    "    pdf[b] = block_mean[b]"
   ]
  },
  {
   "cell_type": "code",
   "execution_count": 27,
   "metadata": {},
   "outputs": [],
   "source": [
    "if EXPERIMENT == 3:\n",
    "    dropped = pdf.query('not completed').feedback.value_counts()\n",
    "    rate = dropped / pdf.feedback.value_counts()\n",
    "    for fb in fb_order:\n",
    "        write_tex(f'N-drop-{fb}', dropped[fb])\n",
    "        write_tex(f'drop-rate-{fb}', f'${rate[fb]*100:.1f}\\%$')\n",
    "    write_tex('return-rate', f'${pdf.completed.mean()*100:.1f}\\%$')\n",
    "    write_tex('return-N', f'${pdf.completed.sum()}$')\n",
    "    pdf.query('completed', inplace=True)\n",
    "    \n",
    "# pd.Series(pdf.index).to_csv(f'pids/{EXPERIMENT}.csv', index=False, header=False)"
   ]
  },
  {
   "cell_type": "code",
   "execution_count": 8,
   "metadata": {},
   "outputs": [],
   "source": [
    "small_leaves = {3,4,7,8,11,12}\n",
    "transfer_leaves = {5, 6, 7, 9, 10, 11, 16, 17, 18, 20, 21, 22, 27, 28, 29, 31, 32, 33}\n",
    "\n",
    "def clicked_leaf_first(row):\n",
    "    if not row.clicks:\n",
    "        return False\n",
    "    first = row.clicks[0]\n",
    "    transfer =  EXPERIMENT in (2, 3) and row.block == \"test\"\n",
    "    leaves = transfer_leaves if transfer else small_leaves\n",
    "    return first in leaves\n",
    "\n",
    "mdf['backward'] = mdf.apply(clicked_leaf_first, axis=1)\n",
    "pdf['first_backward'] = mdf.query('block == \"train\" and trial_index == 0').backward\n",
    "\n",
    "def n_leaf(row):\n",
    "    if not row.clicks:\n",
    "        return False\n",
    "    transfer =  EXPERIMENT in (2, 3) and row.block == \"test\"\n",
    "    leaves = transfer_leaves if transfer else small_leaves\n",
    "    return sum(click in leaves for click in row.clicks)\n",
    "\n",
    "mdf['n_leaf'] = mdf.apply(n_leaf, axis=1).astype(int)"
   ]
  },
  {
   "cell_type": "code",
   "execution_count": 9,
   "metadata": {},
   "outputs": [
    {
     "name": "stdout",
     "output_type": "stream",
     "text": [
      "wrote \"18\" to \"stats/3/N-drop-previous.tex\"\n",
      "No          230\n",
      "Yes          13\n",
      "Not sure      5\n",
      "Name: previously_participated, dtype: int64\n"
     ]
    }
   ],
   "source": [
    "if EXPERIMENT not in (1, 6, 7):  # run before this was a problem\n",
    "    write_tex('N-drop-previous', sum(pdf.previously_participated != \"No\"))\n",
    "    print(pdf.previously_participated.value_counts())\n",
    "    pdf = pdf.query('previously_participated == \"No\"')\n",
    "    # pdf['first_backward'] = mdf.query('trial_index == 0').backward\n",
    "    # pdf = pdf.query('not first_backward')\n",
    "    mdf = mdf.loc[pdf.index]"
   ]
  },
  {
   "cell_type": "code",
   "execution_count": 10,
   "metadata": {},
   "outputs": [
    {
     "name": "stdout",
     "output_type": "stream",
     "text": [
      "wrote \"104\" to \"stats/3/N-drop.tex\"\n",
      "wrote \"31.1\\%\" to \"stats/3/percent-drop.tex\"\n"
     ]
    }
   ],
   "source": [
    "n_drop = len(full_pdf) - len(pdf)\n",
    "write_tex('N-drop', f'{n_drop}')\n",
    "write_tex('percent-drop', f'{100 * n_drop / len(full_pdf):.1f}\\%')"
   ]
  },
  {
   "cell_type": "code",
   "execution_count": 11,
   "metadata": {},
   "outputs": [],
   "source": [
    "pd.Series(pdf.index).to_csv(f'../data/{EXPERIMENT}/included_pids.csv', index=False, header=True)"
   ]
  },
  {
   "cell_type": "markdown",
   "metadata": {},
   "source": [
    "## Setup Plotting "
   ]
  },
  {
   "cell_type": "code",
   "execution_count": 12,
   "metadata": {},
   "outputs": [],
   "source": [
    "figure = Figures(path=f'figs/{EXPERIMENT}', formats=['pdf']).plot\n",
    "\n",
    "sns.set_style('whitegrid')\n",
    "blue, orange = sns.color_palette('tab10')[:2]\n",
    "gray = (0.5,)*3\n",
    "red = (0.93, 0.21, 0.22)\n",
    "yellow = (0.92, 0.77, 0.22)\n",
    "palette = {\n",
    "    'none': gray,\n",
    "    'action': blue,\n",
    "    'meta': orange,\n",
    "    'info_only': red,\n",
    "    'reward_only': yellow,\n",
    "    'both': orange,\n",
    "}\n",
    "\n",
    "\n",
    "palette = {\n",
    "    'none': gray,\n",
    "    'action': blue,\n",
    "    'meta': orange,\n",
    "    'info_only': red,\n",
    "    'reward_only': yellow,\n",
    "    'both': orange,\n",
    "}\n",
    "\n",
    "nice_names = {\n",
    "    'meta': 'Metacognitive\\nFeedback',\n",
    "    'action': 'Action\\nFeedback',\n",
    "    'none': 'No\\nFeedback',\n",
    "    'feedback': 'Feedback',\n",
    "    'info_only': 'Info\\nOnly',\n",
    "    'reward_only': 'Delay \\nOnly',\n",
    "    'both': 'Info &\\nDelay',\n",
    "    'score': 'Relative Score',\n",
    "    'test': 'Relative Test Score',\n",
    "    'backward': 'Proportion Planning Backward'\n",
    "}\n",
    "\n",
    "def reformat_labels(ax=None):\n",
    "    ax = ax or plt.gca()\n",
    "    labels = [t.get_text() for t in ax.get_xticklabels()]\n",
    "    new_labels = [nice_names.get(lab, lab) for lab in labels]\n",
    "    ax.set_xticklabels(new_labels)\n",
    "    \n",
    "def reformat_legend(ax=None):\n",
    "    if ax is None:\n",
    "        ax = plt.gca()\n",
    "        \n",
    "    handles, labels = ax.get_legend_handles_labels()\n",
    "    ax.legend(handles=handles[1:], labels=[nice_names.get(l, l).replace('\\n', ' ') \n",
    "                                   for l in labels[1:]])\n",
    "    \n",
    "def plot_block_changes():\n",
    "    block_changes = mdf.loc[1].block.apply(Labeler()).diff().reset_index().query('block == 1').index\n",
    "    for t in block_changes:\n",
    "        plt.axvline(t-0.5, c='k', ls='--')\n",
    "\n",
    "from datetime import datetime\n",
    "# os.makedirs(f'stats/{EXPERIMENT}/', exist_ok=True)\n",
    "def result_file(name, ext='tex'):\n",
    "    file = f'stats/{EXPERIMENT}-{name}.{ext}'\n",
    "#     with open(file, 'w+') as f:\n",
    "#         timestamp = datetime.now().strftime('Created on %m/%d/%y at %H:%M:%S\\n\\n')\n",
    "#         f.write(timestamp)\n",
    "    return file"
   ]
  },
  {
   "cell_type": "markdown",
   "metadata": {},
   "source": [
    "# Test score"
   ]
  },
  {
   "cell_type": "code",
   "execution_count": 13,
   "metadata": {},
   "outputs": [],
   "source": [
    "def write_kruskal(name):\n",
    "    out = %R kruskal.test($name ~ feedback, data=rdf)\n",
    "    out = dict(out.items())\n",
    "    df = out[\"parameter\"][0]\n",
    "    p = pval(out[\"p.value\"][0])\n",
    "    stat = out[\"statistic\"][0]\n",
    "    write_tex(f'{name}-kruskal', rf'$H = {stat:.2f}, {p}$')\n",
    "\n",
    "def cohen_d(x,y):\n",
    "    nx = len(x)\n",
    "    ny = len(y)\n",
    "    dof = nx + ny - 2\n",
    "    pooled_std =  np.sqrt(((nx-1)*np.std(x, ddof=1) ** 2 + (ny-1)*np.std(y, ddof=1) ** 2) / dof)\n",
    "    return (np.mean(x) - np.mean(y)) / pooled_std\n",
    "\n",
    "import re\n",
    "independence_results = {}\n",
    "def write_independence_test(y, a, b, alternative='two.sided'):\n",
    "    # oddly, feedback == b tests a > b\n",
    "    out = %R independence_test($y ~ feedback == \"$b\",\\\n",
    "                               data=filter(rdf, feedback %in% c(\"$a\", \"$b\")),\\\n",
    "                               alternative=\"$alternative\")\n",
    "    out = str(out)\n",
    "    match = re.search('Z = (.*), p-value = (.*)', out)\n",
    "    try:\n",
    "        z, p = map(float, match.groups())\n",
    "    except:\n",
    "        print('Cannot parse independence test')\n",
    "        print(out)\n",
    "        raise Exception()\n",
    "    \n",
    "    x = rdf.set_index('feedback')[y]\n",
    "    d = cohen_d(x.loc[a], x.loc[b])\n",
    "    write_tex(f'independence-{y}-{a}-{b}', f'$d = {d:.2f}, Z = {z:.2f}, {pval(p)}$')\n",
    "    independence_results[(y, a, b)] = p\n",
    "\n",
    "rdf = pdf[['test', 'feedback']].rename(columns={\n",
    "    'test': 'score'\n",
    "})"
   ]
  },
  {
   "cell_type": "code",
   "execution_count": 14,
   "metadata": {},
   "outputs": [
    {
     "name": "stderr",
     "output_type": "stream",
     "text": [
      "R[write to console]: \n",
      "Attaching package: ‘dplyr’\n",
      "\n",
      "\n",
      "R[write to console]: The following objects are masked from ‘package:stats’:\n",
      "\n",
      "    filter, lag\n",
      "\n",
      "\n",
      "R[write to console]: The following objects are masked from ‘package:base’:\n",
      "\n",
      "    intersect, setdiff, setequal, union\n",
      "\n",
      "\n",
      "R[write to console]: Loading required package: survival\n",
      "\n"
     ]
    }
   ],
   "source": [
    "%%R -i rdf\n",
    "library(dplyr)\n",
    "library(coin)"
   ]
  },
  {
   "cell_type": "code",
   "execution_count": 15,
   "metadata": {},
   "outputs": [
    {
     "name": "stdout",
     "output_type": "stream",
     "text": [
      "wrote \"$H = 28.66, p < .001$\" to \"stats/3/score-kruskal.tex\"\n"
     ]
    }
   ],
   "source": [
    "write_kruskal('score')"
   ]
  },
  {
   "cell_type": "code",
   "execution_count": 16,
   "metadata": {},
   "outputs": [
    {
     "name": "stdout",
     "output_type": "stream",
     "text": [
      "wrote \"$d = 0.69, Z = 4.04, p < .001$\" to \"stats/3/independence-score-meta-none.tex\"\n",
      "wrote \"$d = 0.88, Z = 5.08, p < .001$\" to \"stats/3/independence-score-meta-action.tex\"\n",
      "wrote \"$d = -0.20, Z = -1.25, p = .210$\" to \"stats/3/independence-score-action-none.tex\"\n"
     ]
    }
   ],
   "source": [
    "if EXPERIMENT == 6:\n",
    "    write_independence_test('score', 'both', 'none')\n",
    "    write_independence_test('score', 'info_only', 'none')\n",
    "    write_independence_test('score', 'reward_only', 'none')\n",
    "    write_independence_test('score', 'reward_only', 'info_only')\n",
    "    write_independence_test('score', 'both', 'reward_only')\n",
    "    write_independence_test('score', 'both', 'info_only')\n",
    "else:\n",
    "    write_independence_test('score', 'meta', 'none')\n",
    "    if 'action' in fb_order:\n",
    "        write_independence_test('score', 'meta', 'action')\n",
    "        write_independence_test('score', 'action', 'none')"
   ]
  },
  {
   "cell_type": "code",
   "execution_count": 17,
   "metadata": {},
   "outputs": [
    {
     "name": "stdout",
     "output_type": "stream",
     "text": [
      "figs/3/test_dist.pdf\n",
      "p-value annotation legend:\n",
      "ns: 5.00e-02 < p <= 1.00e+00\n",
      "*: 1.00e-02 < p <= 5.00e-02\n",
      "**: 1.00e-03 < p <= 1.00e-02\n",
      "***: 1.00e-04 < p <= 1.00e-03\n",
      "****: p <= 1.00e-04\n",
      "\n",
      "action v.s. meta: Custom statistical test, P_val:1.000e-03\n",
      "none v.s. meta: Custom statistical test, P_val:1.000e-03\n",
      "figs/3/test.pdf\n"
     ]
    },
    {
     "data": {
      "text/plain": [
       "<function analysis_utils.Figures.plot.<locals>.decorator.<locals>.wrapped(*args, **kwargs)>"
      ]
     },
     "execution_count": 17,
     "metadata": {},
     "output_type": "execute_result"
    },
    {
     "data": {
      "image/png": "[encoded data removed]",
      "text/plain": [
       "<Figure size 432x288 with 1 Axes>"
      ]
     },
     "metadata": {},
     "output_type": "display_data"
    },
    {
     "data": {
      "image/png": "[encoded data removed]",
      "text/plain": [
       "<Figure size 432x288 with 1 Axes>"
      ]
     },
     "metadata": {},
     "output_type": "display_data"
    }
   ],
   "source": [
    "def plot_test(flag=''):\n",
    "    plt.figure()\n",
    "    if flag == 'dist':\n",
    "        sns.swarmplot('feedback', 'test', data=pdf, palette=palette, alpha=0.5, order=fb_order, \n",
    "                      size=3.5 if EXPERIMENT == 6 else 5)\n",
    "    sns.pointplot('feedback', 'test', data=pdf, palette=palette, order=fb_order, \n",
    "                  scale=1, capsize=0.1, markers='o')\n",
    "    plt.xlabel('')\n",
    "    plt.ylabel(nice_names['test'])\n",
    "    test = 'Test' if EXPERIMENT == 1 else 'Transfer'\n",
    "    reformat_labels()\n",
    "    if EXPERIMENT in (2,3) and flag != 'dist':\n",
    "        plt.ylim(35, 90)\n",
    "    if flag != 'dist':\n",
    "#         all_pairs = [('meta','none'), ('meta','action'), ('action','none')]\n",
    "        nfb = len(fb_order)\n",
    "        all_pairs = [(fb_order[j], fb_order[i]) for i in range(nfb-1) for j in range(i+1, nfb)]\n",
    "        pairs = [(f1, f2) for (f1, f2) in all_pairs if independence_results['score', f1, f2] < .05]\n",
    "        p = [independence_results['score', f1, f2] for (f1, f2) in pairs]\n",
    "        p = [max(p, .001) for p in p] # at most 3 stars\n",
    "        add_stat_annotation(plt.gca(), data=pdf, x='feedback', y='test', order=fb_order,\n",
    "            box_pairs=pairs,\n",
    "            pvalues=p, text_format='star', \n",
    "            fontsize=18, loc='outside', perform_stat_test=False, \n",
    "            line_offset=-.01, text_offset=-3\n",
    "        )\n",
    "#         plt.axhline(8.879, color='black')\n",
    "\n",
    "figure(flag='dist')(plot_test)\n",
    "figure()(plot_test)"
   ]
  },
  {
   "cell_type": "code",
   "execution_count": 18,
   "metadata": {},
   "outputs": [],
   "source": [
    "N_BOOT = 10000\n",
    "test_score = pdf.set_index('feedback').test\n",
    "\n",
    "def ci(xs):\n",
    "    return np.quantile(xs, [0.025, 0.975])\n",
    "\n",
    "def boot_means(n=N_BOOT):\n",
    "    r = {}\n",
    "    for fb in fb_order:\n",
    "        x = test_score.loc[fb]\n",
    "        means = [x.sample(frac=1, replace=True).mean() for _ in range(n)]\n",
    "        r[fb] = np.array(means)\n",
    "    return r"
   ]
  },
  {
   "cell_type": "code",
   "execution_count": 19,
   "metadata": {},
   "outputs": [
    {
     "name": "stdout",
     "output_type": "stream",
     "text": [
      "wrote \"$57.6\\%$\" to \"stats/3/mean-none-percent.tex\"\n",
      "wrote \"$57.6$ points; 95\\% CI: [$48.1$, $66.3$]\" to \"stats/3/mean-none.tex\"\n",
      "wrote \"$57.6$ points (95\\% CI: [$48.1$, $66.3$])\" to \"stats/3/mean-none-alt.tex\"\n",
      "wrote \"$49.0\\%$\" to \"stats/3/mean-action-percent.tex\"\n",
      "wrote \"$49.0$ points; 95\\% CI: [$39.6$, $58.3$]\" to \"stats/3/mean-action.tex\"\n",
      "wrote \"$49.0$ points (95\\% CI: [$39.6$, $58.3$])\" to \"stats/3/mean-action-alt.tex\"\n",
      "wrote \"$81.2\\%$\" to \"stats/3/mean-meta-percent.tex\"\n",
      "wrote \"$81.2$ points; 95\\% CI: [$74.9$, $86.7$]\" to \"stats/3/mean-meta.tex\"\n",
      "wrote \"$81.2$ points (95\\% CI: [$74.9$, $86.7$])\" to \"stats/3/mean-meta-alt.tex\"\n"
     ]
    }
   ],
   "source": [
    "if not SKIP_BOOT:\n",
    "    bm = boot_means()\n",
    "    for fb in fb_order:\n",
    "        x = test_score.loc[fb].mean()\n",
    "        a, b = ci(bm[fb])\n",
    "        write_tex(f'mean-{fb}-percent', rf'${x:.1f}\\%$')\n",
    "        write_tex(f'mean-{fb}', rf'${x:.1f}$ points; 95\\% CI: [${a:.1f}$, ${b:.1f}$]')\n",
    "        write_tex(f'mean-{fb}-alt', rf'${x:.1f}$ points (95\\% CI: [${a:.1f}$, ${b:.1f}$])')"
   ]
  },
  {
   "cell_type": "markdown",
   "metadata": {},
   "source": [
    "# Learning curves"
   ]
  },
  {
   "cell_type": "code",
   "execution_count": 20,
   "metadata": {},
   "outputs": [
    {
     "name": "stdout",
     "output_type": "stream",
     "text": [
      "figs/3/learning_curve_backward.pdf\n"
     ]
    },
    {
     "data": {
      "text/plain": [
       "<function analysis_utils.Figures.plot.<locals>.decorator.<locals>.wrapped(*args, **kwargs)>"
      ]
     },
     "execution_count": 20,
     "metadata": {},
     "output_type": "execute_result"
    },
    {
     "data": {
      "image/png": "[encoded data removed]",
      "text/plain": [
       "<Figure size 432x288 with 1 Axes>"
      ]
     },
     "metadata": {},
     "output_type": "display_data"
    }
   ],
   "source": [
    "def learning_curve(var):\n",
    "    df = mdf.copy()\n",
    "    df.trial_index += 1\n",
    "    sns.lineplot('trial_index', var, hue='feedback', \n",
    "                 data=df, hue_order=fb_order, palette=palette)\n",
    "    plt.ylabel(nice_names[var])\n",
    "    plt.xlabel('Trial Number')\n",
    "    plt.gca().grid(axis='x')\n",
    "    split = mdf.query('block == \"training\"').trial_index.max()\n",
    "    plt.axvline(split+1.5, c='k', ls='--', alpha=0.3)\n",
    "    plt.xticks([1, *range(5, 31, 5)])\n",
    "    plt.xlim(df.trial_index.min()-0.5, df.trial_index.max()+0.5)\n",
    "    reformat_legend()\n",
    "    \n",
    "figure(var='backward')(learning_curve)"
   ]
  },
  {
   "cell_type": "code",
   "execution_count": 21,
   "metadata": {},
   "outputs": [
    {
     "name": "stdout",
     "output_type": "stream",
     "text": [
      "figs/3/learning_curve_score.pdf\n"
     ]
    },
    {
     "data": {
      "text/plain": [
       "<function analysis_utils.Figures.plot.<locals>.decorator.<locals>.wrapped(*args, **kwargs)>"
      ]
     },
     "execution_count": 21,
     "metadata": {},
     "output_type": "execute_result"
    },
    {
     "data": {
      "image/png": "[encoded data removed]",
      "text/plain": [
       "<Figure size 432x288 with 1 Axes>"
      ]
     },
     "metadata": {},
     "output_type": "display_data"
    }
   ],
   "source": [
    "figure(var='score')(learning_curve)"
   ]
  },
  {
   "cell_type": "markdown",
   "metadata": {},
   "source": [
    "# Process"
   ]
  },
  {
   "cell_type": "markdown",
   "metadata": {},
   "source": [
    "## Summary in test block"
   ]
  },
  {
   "cell_type": "code",
   "execution_count": 22,
   "metadata": {},
   "outputs": [
    {
     "name": "stdout",
     "output_type": "stream",
     "text": [
      "wrote \"$67.5$\\%\" to \"stats/3/backward-none-percent.tex\"\n",
      "wrote \"$62.0$\\%\" to \"stats/3/backward-action-percent.tex\"\n",
      "wrote \"$93.6$\\%\" to \"stats/3/backward-meta-percent.tex\"\n"
     ]
    }
   ],
   "source": [
    "def report_ratio(df, key):\n",
    "    name = key.replace('_', '-')\n",
    "    X = df.groupby(['feedback', key]).apply(len)\n",
    "    rate = 100 * df.groupby('feedback')[key].mean()\n",
    "\n",
    "    for c in fb_order:\n",
    "        r = rate[c]\n",
    "        write_tex(f'{name}-{c}-percent', f\"${r:.1f}$\\%\")\n",
    "\n",
    "\n",
    "report_ratio(mdf.query('block == \"test\"').copy(), 'backward')"
   ]
  },
  {
   "cell_type": "markdown",
   "metadata": {},
   "source": [
    "## Mediation"
   ]
  },
  {
   "cell_type": "code",
   "execution_count": 23,
   "metadata": {},
   "outputs": [],
   "source": [
    "if EXPERIMENT in (4, 6):\n",
    "    print(\"Mediation not implemented for this analysis\")\n",
    "    exit()"
   ]
  },
  {
   "cell_type": "code",
   "execution_count": 24,
   "metadata": {},
   "outputs": [],
   "source": [
    "rdf = mdf.query('block == \"test\"').copy().rename(columns={'information': 'info'})\n",
    "# rdf['feedback'] = (rdf.feedback != 'none').astype(int)\n",
    "\n",
    "if EXPERIMENT == 6:\n",
    "    factors = ['info', 'reward']\n",
    "    for c in factors:\n",
    "        rdf[c] = rdf[c].astype(float)\n",
    "else:\n",
    "    factors = ['action', 'meta']\n",
    "    fb = rdf.pop('feedback')\n",
    "    for c in factors:\n",
    "        rdf[c] = (fb == c).astype(int)\n",
    "\n",
    "rdf['clicked'] = rdf.clicked.astype(int)\n",
    "rdf = rdf[[*factors, 'backward', 'clicked', 'n_clicks', 'score', 'trial_index', 'stim_i']].reset_index()\n",
    "rdf.backward.fillna(0, inplace=True)\n",
    "# rdf.trial_index = rdf.trial_index.astype(float)\n",
    "# rdf.query('action == 0', inplace=True)\n",
    "rdf = rdf.groupby('pid').mean()\n",
    "rdf.trial_index -= rdf.trial_index.min()"
   ]
  },
  {
   "cell_type": "code",
   "execution_count": 25,
   "metadata": {},
   "outputs": [
    {
     "name": "stdout",
     "output_type": "stream",
     "text": [
      "\n",
      "Call:\n",
      "lm(formula = score ~ backward, data = rdf)\n",
      "\n",
      "Residuals:\n",
      "     Min       1Q   Median       3Q      Max \n",
      "-144.228  -14.319    1.976   14.106   78.905 \n",
      "\n",
      "Coefficients:\n",
      "            Estimate Std. Error t value Pr(>|t|)    \n",
      "(Intercept)    3.958      3.518   1.125    0.262    \n",
      "backward      78.774      4.173  18.878   <2e-16 ***\n",
      "---\n",
      "Signif. codes:  0 ‘***’ 0.001 ‘**’ 0.01 ‘*’ 0.05 ‘.’ 0.1 ‘ ’ 1\n",
      "\n",
      "Residual standard error: 25 on 228 degrees of freedom\n",
      "Multiple R-squared:  0.6098,\tAdjusted R-squared:  0.6081 \n",
      "F-statistic: 356.4 on 1 and 228 DF,  p-value: < 2.2e-16\n",
      "\n"
     ]
    }
   ],
   "source": [
    "%%R -i rdf -o score\n",
    "fit = lm(score ~ backward, data=rdf)\n",
    "score = summary(fit)\n",
    "score"
   ]
  },
  {
   "cell_type": "code",
   "execution_count": 26,
   "metadata": {},
   "outputs": [
    {
     "name": "stdout",
     "output_type": "stream",
     "text": [
      "\n",
      "Call:\n",
      "lm(formula = score ~ backward, data = rdf)\n",
      "\n",
      "Residuals:\n",
      "     Min       1Q   Median       3Q      Max \n",
      "-144.228  -14.319    1.976   14.106   78.905 \n",
      "\n",
      "Coefficients:\n",
      "            Estimate Std. Error t value Pr(>|t|)    \n",
      "(Intercept)    3.958      3.518   1.125    0.262    \n",
      "backward      78.774      4.173  18.878   <2e-16 ***\n",
      "---\n",
      "Signif. codes:  0 ‘***’ 0.001 ‘**’ 0.01 ‘*’ 0.05 ‘.’ 0.1 ‘ ’ 1\n",
      "\n",
      "Residual standard error: 25 on 228 degrees of freedom\n",
      "Multiple R-squared:  0.6098,\tAdjusted R-squared:  0.6081 \n",
      "F-statistic: 356.4 on 1 and 228 DF,  p-value: < 2.2e-16\n",
      "\n"
     ]
    }
   ],
   "source": [
    "%%R -i rdf -o score\n",
    "fit = lm(score ~ backward, data=rdf)\n",
    "score = summary(fit)\n",
    "score"
   ]
  },
  {
   "cell_type": "code",
   "execution_count": 27,
   "metadata": {},
   "outputs": [
    {
     "name": "stdout",
     "output_type": "stream",
     "text": [
      "wrote \"$78.8$\" to \"stats/3/score-backward.tex\"\n",
      "wrote \"$t(228) = 18.88$, $p < .001$\" to \"stats/3/score-backward-test.tex\"\n"
     ]
    }
   ],
   "source": [
    "score = dict(score.items())\n",
    "df = score['df'][1]\n",
    "est, std, t, p = score['coefficients'][1]\n",
    "write_tex(f'score-backward', f'${est:.1f}$')\n",
    "write_tex(f'score-backward-test', f'$t({df}) = {t:.2f}$, ${pval(p)}$')"
   ]
  },
  {
   "cell_type": "code",
   "execution_count": 28,
   "metadata": {},
   "outputs": [],
   "source": [
    "%%R\n",
    "local({r <- getOption(\"repos\")\n",
    "       r[\"CRAN\"] <- \"https://cloud.r-project.org\" \n",
    "       options(repos=r)\n",
    "})\n",
    "# install.packages('mediation')"
   ]
  },
  {
   "cell_type": "code",
   "execution_count": 29,
   "metadata": {},
   "outputs": [
    {
     "name": "stderr",
     "output_type": "stream",
     "text": [
      "R[write to console]: Loading required package: MASS\n",
      "\n",
      "R[write to console]: \n",
      "Attaching package: ‘MASS’\n",
      "\n",
      "\n",
      "R[write to console]: The following object is masked from ‘package:dplyr’:\n",
      "\n",
      "    select\n",
      "\n",
      "\n",
      "R[write to console]: Loading required package: Matrix\n",
      "\n",
      "R[write to console]: Loading required package: mvtnorm\n",
      "\n",
      "R[write to console]: Loading required package: sandwich\n",
      "\n",
      "R[write to console]: mediation: Causal Mediation Analysis\n",
      "Version: 4.5.0\n",
      "\n",
      "\n"
     ]
    },
    {
     "name": "stdout",
     "output_type": "stream",
     "text": [
      "\n",
      "Causal Mediation Analysis \n",
      "\n",
      "Quasi-Bayesian Confidence Intervals\n",
      "\n",
      "               Estimate 95% CI Lower 95% CI Upper p-value    \n",
      "ACME             19.970       10.312        29.19  <2e-16 ***\n",
      "ADE               3.999       -4.096        11.99    0.34    \n",
      "Total Effect     23.969       11.375        36.54  <2e-16 ***\n",
      "Prop. Mediated    0.839        0.564         1.26  <2e-16 ***\n",
      "---\n",
      "Signif. codes:  0 ‘***’ 0.001 ‘**’ 0.01 ‘*’ 0.05 ‘.’ 0.1 ‘ ’ 1\n",
      "\n",
      "Sample Size Used: 230 \n",
      "\n",
      "\n",
      "Simulations: 1000 \n",
      "\n"
     ]
    }
   ],
   "source": [
    "%%R -i rdf -i EXPERIMENT -o back -o med_out\n",
    "library(mediation)\n",
    "\n",
    "if ('action' %in% colnames(rdf)) {\n",
    "    back_fit = lm(backward ~ action + meta, data=rdf)\n",
    "    score_fit = lm(score ~ backward + action + meta, data=rdf)\n",
    "# } else if (EXPERIMENT == 6) {\n",
    "#     back_fit = lm(backward ~ info + reward, data=rdf)\n",
    "#     score_fit = lm(score ~ backward + info + reward)\n",
    "} else {\n",
    "    back_fit = lm(backward ~ meta, data=rdf)\n",
    "    score_fit = lm(score ~ backward + meta, data=rdf)\n",
    "}\n",
    "med_out = mediate(back_fit, score_fit, treat=\"meta\", mediator=\"backward\")\n",
    "back = summary(back_fit)\n",
    "summary(med_out)"
   ]
  },
  {
   "cell_type": "code",
   "execution_count": 30,
   "metadata": {},
   "outputs": [
    {
     "name": "stdout",
     "output_type": "stream",
     "text": [
      "wrote \"$t(227) = -0.91$, $p = .363$\" to \"stats/3/backward-lm-action.tex\"\n",
      "wrote \"$t(227) = 4.30$, $p < .001$\" to \"stats/3/backward-lm-meta.tex\"\n"
     ]
    }
   ],
   "source": [
    "back = dict(back.items())\n",
    "df = back['df'][1]\n",
    "for i, name in enumerate(fb_order[1:], start=1):\n",
    "    est, std, t, p = back['coefficients'][i]\n",
    "    write_tex(f'backward-lm-{name}', f'$t({df}) = {t:.2f}$, ${pval(p)}$')"
   ]
  },
  {
   "cell_type": "code",
   "execution_count": 31,
   "metadata": {},
   "outputs": [
    {
     "name": "stdout",
     "output_type": "stream",
     "text": [
      "wrote \"20.0\" to \"stats/3/mediation-acme.tex\"\n",
      "wrote \"95\\% CI: [10.3, 29.2], $p < .001$\" to \"stats/3/mediation-acme-ci.tex\"\n",
      "wrote \"4.0\" to \"stats/3/mediation-ade.tex\"\n",
      "wrote \"95\\% CI: [-4.1, 12.0], $p = .342$\" to \"stats/3/mediation-ade-ci.tex\"\n",
      "wrote \"24.0\" to \"stats/3/mediation-total.tex\"\n",
      "wrote \"95\\% CI: [11.4, 36.5], $p < .001$\" to \"stats/3/mediation-total-ci.tex\"\n",
      "wrote \"0.8\" to \"stats/3/mediation-prop.tex\"\n",
      "wrote \"95\\% CI: [0.6, 1.3], $p < .001$\" to \"stats/3/mediation-prop-ci.tex\"\n"
     ]
    }
   ],
   "source": [
    "names = {\n",
    "    'acme': 'd0',\n",
    "    'ade': 'z0',\n",
    "    'total': 'tau',\n",
    "    'prop': 'n0',\n",
    "}\n",
    "med = dict(med_out.items())\n",
    "\n",
    "for k, v in names.items():\n",
    "    est = med[v + ('.coef' if v == 'tau' else '')][0]\n",
    "    lo, hi = med[v+'.ci']\n",
    "    p = med[v+'.p'][0]\n",
    "    write_tex(f'mediation-{k}', f'{est:.1f}')\n",
    "    write_tex(f'mediation-{k}-ci', f'95\\% CI: [{lo:.1f}, {hi:.1f}], ${pval(p)}$')"
   ]
  },
  {
   "cell_type": "code",
   "execution_count": 32,
   "metadata": {},
   "outputs": [
    {
     "name": "stdout",
     "output_type": "stream",
     "text": [
      "Success!\n"
     ]
    }
   ],
   "source": [
    "print(\"Success!\")"
   ]
  }
 ],
 "metadata": {
  "@webio": {
   "lastCommId": null,
   "lastKernelId": null
  },
  "anaconda-cloud": {},
  "kernelspec": {
   "display_name": "Python 3",
   "language": "python",
   "name": "python3"
  },
  "language_info": {
   "codemirror_mode": {
    "name": "ipython",
    "version": 3
   },
   "file_extension": ".py",
   "mimetype": "text/x-python",
   "name": "python",
   "nbconvert_exporter": "python",
   "pygments_lexer": "ipython3",
   "version": "3.7.3"
  },
  "nav_menu": {},
  "toc": {
   "navigate_menu": true,
   "number_sections": true,
   "sideBar": true,
   "threshold": 6,
   "toc_cell": false,
   "toc_section_display": "block",
   "toc_window_display": false
  }
 },
 "nbformat": 4,
 "nbformat_minor": 1
}
