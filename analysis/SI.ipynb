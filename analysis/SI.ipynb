{
 "cells": [
  {
   "cell_type": "code",
   "execution_count": null,
   "metadata": {},
   "outputs": [],
   "source": [
    "import numpy as np\n",
    "import matplotlib.pyplot as plt\n",
    "import seaborn as sns\n",
    "import itertools\n",
    "import pandas as pd\n",
    "from collections import defaultdict, Counter\n",
    "from scipy.stats import chisquare,chi2_contingency\n",
    "from statsmodels.stats.proportion import proportions_ztest, proportions_chisquare\n",
    "from IPython.display import display, HTML\n",
    "from analysis_utils import get_data\n",
    "\n",
    "sns.set_style('white')\n",
    "sns.set_context('notebook', font_scale=1.3)\n",
    "sns.set_palette('tab10')\n",
    "pd.options.mode.chained_assignment = None"
   ]
  },
  {
   "cell_type": "markdown",
   "metadata": {},
   "source": [
    "### Getting pids of required participants"
   ]
  },
  {
   "cell_type": "code",
   "execution_count": null,
   "metadata": {},
   "outputs": [],
   "source": [
    "exp_pids = {}\n",
    "for exp_num in range(1,5):\n",
    "    df = pd.read_csv(f\"pids/{exp_num}.csv\", header = None, index_col = False)\n",
    "    exp_pids[exp_num] = df[0].tolist()\n",
    "    if exp_num == 4:\n",
    "        print(len(exp_pids[exp_num]))"
   ]
  },
  {
   "cell_type": "markdown",
   "metadata": {},
   "source": [
    "### Experimental condition data"
   ]
  },
  {
   "cell_type": "code",
   "execution_count": null,
   "metadata": {},
   "outputs": [],
   "source": [
    "num_conditions = [3, 2, 2, 4]\n",
    "exp_condition_names = [{0: 'No FB', 1: 'MCFB' , 2: 'Action FB'}, {0: 'No FB', 1: 'MCFB'}, {0:'No FB' , 1:'MCFB'}, {0: 'Info without reward', 1: 'Without info and without reward', 2: 'Info with reward',3: 'Without info with reward' }]"
   ]
  },
  {
   "cell_type": "markdown",
   "metadata": {},
   "source": [
    "### Experiment 1"
   ]
  },
  {
   "cell_type": "code",
   "execution_count": null,
   "metadata": {},
   "outputs": [],
   "source": [
    "from joblib import load\n",
    "strategy_sequences = load(\"../data/1/strategy_sequences.pkl\")\n",
    "pids = exp_pids[1]\n",
    "strategy_sequences = {pid: strategy_sequences[pid] for pid in pids}"
   ]
  },
  {
   "cell_type": "code",
   "execution_count": null,
   "metadata": {},
   "outputs": [],
   "source": [
    "### Plotting frequencies of strategies under MCFB over time\n",
    "exp_data = get_data(1)\n",
    "pdf = exp_data['participants']\n",
    "mcfb_pids = pdf[pdf.feedback == 'meta']['pid'].tolist()\n",
    "nofb_pids = pdf[pdf.feedback == 'none']['pid'].tolist()\n",
    "actionfb_pids = pdf[pdf.feedback == 'action']['pid'].tolist()\n",
    "mcfb_pids = [pid for pid in mcfb_pids if pid in pids]\n",
    "nofb_pids = [pid for pid in nofb_pids if pid in pids]\n",
    "actionfb_pids = [pid for pid in actionfb_pids if pid in pids]"
   ]
  },
  {
   "cell_type": "code",
   "execution_count": null,
   "metadata": {},
   "outputs": [],
   "source": [
    "def get_strategy_counts(S):\n",
    "    num_participants = S.shape[0]\n",
    "    num_trials = S.shape[1]\n",
    "    num_strategies = 38\n",
    "    strategy_count = np.zeros((num_trials, num_strategies))\n",
    "    for i in range(num_participants):\n",
    "        for k in range(num_trials):\n",
    "            strategy_count[k][S[i][k]] += 1\n",
    "    return strategy_count"
   ]
  },
  {
   "cell_type": "code",
   "execution_count": null,
   "metadata": {},
   "outputs": [],
   "source": [
    "mcfb_sequences = np.array([strategy_sequences[pid] for pid in mcfb_pids])\n",
    "nofb_sequences = np.array([strategy_sequences[pid] for pid in nofb_pids])\n",
    "actionfb_sequences = np.array([strategy_sequences[pid] for pid in actionfb_pids])\n",
    "\n",
    "mcfb_counts = get_strategy_counts(mcfb_sequences)\n",
    "nofb_counts = get_strategy_counts(nofb_sequences)\n",
    "actionfb_counts = get_strategy_counts(actionfb_sequences)\n",
    "\n",
    "mcfb_frequencies = mcfb_counts/mcfb_sequences.shape[0]\n",
    "nofb_frequencies = nofb_counts/nofb_sequences.shape[0]\n",
    "actionfb_frequencies = actionfb_counts/actionfb_sequences.shape[0]\n",
    "\n",
    "# Strategy numbers are indexed at 0\n",
    "forward_strategies = [21, 22, 27]\n",
    "mcfb_forward = np.sum(mcfb_frequencies[:, forward_strategies], axis = 1)\n",
    "nofb_forward = np.sum(nofb_frequencies[:, forward_strategies], axis = 1)\n",
    "print(\"Relative frequency of participants who used present bias strategies in the first trial:\", nofb_forward[0])\n",
    "print(\"Relative frequency of participants who continued to exhibit present bias:\", nofb_forward[-1])\n",
    "actionfb_forward = np.sum(actionfb_frequencies[:, forward_strategies], axis = 1)\n",
    "\n",
    "# Optimal strategy is 20\n",
    "mcfb_optimal = mcfb_frequencies[:, 20]\n",
    "nofb_optimal = nofb_frequencies[:, 20]\n",
    "actionfb_optimal = actionfb_frequencies[:, 20]\n",
    "\n",
    "print(f\"Average forward frequency in test trials in MCFB condition, {np.mean(mcfb_forward[10:])}\")\n",
    "print(f\"Average forward frequency in test trials in No FB condition, {np.mean(nofb_forward[10:])}\")\n",
    "print(f\"Average forward frequency in test trials in Action FB condition, {np.mean(actionfb_forward[10:])}\")"
   ]
  },
  {
   "cell_type": "markdown",
   "metadata": {},
   "source": [
    "### Chi2 tests"
   ]
  },
  {
   "cell_type": "code",
   "execution_count": null,
   "metadata": {},
   "outputs": [],
   "source": [
    "# Perform chi2 test for difference in frequency of forward planning strategies\n",
    "print(\"\\nMCFB vs NoFB\")\n",
    "count = [np.sum(mcfb_counts[10:, forward_strategies]), np.sum(nofb_counts[10:, forward_strategies])]\n",
    "res = proportions_chisquare(count = count, nobs = [mcfb_sequences.shape[0]*30, nofb_sequences.shape[0]*30])\n",
    "print(\"chi2 =\",'{:.2f}'.format(res[0]), \", p =\", '{:.4f}'.format(res[1]))\n",
    "\n",
    "print(\"MCFB vs ActionFB\")\n",
    "count = [np.sum(mcfb_counts[10:, forward_strategies]), np.sum(nofb_counts[10:, forward_strategies])]\n",
    "res = proportions_chisquare(count=count, nobs = [mcfb_sequences.shape[0]*30, actionfb_sequences.shape[0]*30]) #MCFB vs ActionFB\n",
    "print(\"chi2 =\",'{:.2f}'.format(res[0]), \", p =\", '{:.4f}'.format(res[1]))"
   ]
  },
  {
   "cell_type": "markdown",
   "metadata": {},
   "source": [
    "### Transitions to optimal strategy"
   ]
  },
  {
   "cell_type": "code",
   "execution_count": null,
   "metadata": {},
   "outputs": [],
   "source": [
    "# Statistics on transition to optimal strategy\n",
    "optimal_strategy = 20\n",
    "def get_frequency_transition(S):\n",
    "    count = 0\n",
    "    for i in range(S.shape[0]):\n",
    "        if optimal_strategy in S[i][1:]:\n",
    "            count += 1\n",
    "    return count\n",
    "\n",
    "optimal_f = np.array([get_frequency_transition(S) for S in [mcfb_sequences, nofb_sequences, actionfb_sequences]])\n",
    "n_participants = np.array([S.shape[0] for S in [mcfb_sequences, nofb_sequences, actionfb_sequences]])\n",
    "print([\"MCFB\", \"NoFB\", \"Action FB\"])\n",
    "print(np.divide(optimal_f, n_participants))\n",
    "            \n",
    "# MCFB vs NoFB\n",
    "print(f\"\\nMCFB vs NoFB on transitions to the optimal strategy\")\n",
    "res = proportions_chisquare(count = optimal_f[:2], nobs = n_participants[:2])\n",
    "print(\"chi2 =\",'{:.2f}'.format(res[0]), \", p =\", '{:.4f}'.format(res[1]))\n",
    "# MCFB vs ActionFB\n",
    "print(f\"MCFB vs ActionFB on transitions to the optimal strategy\")\n",
    "res = proportions_chisquare(count = optimal_f[[0,2]], nobs = n_participants[[0, 2]])\n",
    "print(\"chi2 =\",'{:.2f}'.format(res[0]), \", p =\", '{:.4f}'.format(res[1]))"
   ]
  },
  {
   "cell_type": "markdown",
   "metadata": {},
   "source": [
    "### Getting strategy transitions across conditions"
   ]
  },
  {
   "cell_type": "code",
   "execution_count": null,
   "metadata": {},
   "outputs": [],
   "source": [
    "def get_transitions(S):\n",
    "    num_participants = S.shape[0]\n",
    "    num_trials = S.shape[1]\n",
    "    transitions = []\n",
    "    for i in range(num_participants):\n",
    "        for j in range(num_trials - 1):\n",
    "            transitions.append((S[i][j], S[i][j+1]))\n",
    "    return transitions\n",
    "\n",
    "from collections import Counter\n",
    "sequences = [mcfb_sequences, nofb_sequences, actionfb_sequences]\n",
    "condition_transitions = [get_transitions(S) for S in sequences]\n",
    "condition_transition_counts = [Counter(T) for T in condition_transitions]\n",
    "total_transitions = [29*S.shape[0] for S in sequences]"
   ]
  },
  {
   "cell_type": "markdown",
   "metadata": {},
   "source": [
    "### Getting significantly different transitions between MCFB and NoFB conditions"
   ]
  },
  {
   "cell_type": "code",
   "execution_count": null,
   "metadata": {},
   "outputs": [],
   "source": [
    "mcfb_transitions = condition_transition_counts[0]\n",
    "nofb_transitions = condition_transition_counts[1]\n",
    "all_transitions_set = set(mcfb_transitions.keys()).union(set(nofb_transitions.keys()))\n",
    "mcfb_total_transitions = total_transitions[0]\n",
    "nofb_total_transitions = total_transitions[1]\n",
    "p_sidak = 1-(0.95)**(1/(len(all_transitions_set)))\n",
    "print(r\"alpha_sidak is \", p_sidak)\n",
    "significant_transitions = []\n",
    "for transition in all_transitions_set:\n",
    "    mcfb_count = mcfb_transitions[transition]\n",
    "    nofb_count = nofb_transitions[transition]\n",
    "    res = proportions_chisquare([mcfb_count, nofb_count], nobs = [mcfb_total_transitions, nofb_total_transitions])\n",
    "    if res[1] < p_sidak:\n",
    "        significant_transitions.append((transition, res[0], res[1]))\n",
    "# In the transitions, strategies are indexed at 0\n",
    "print(\"Number of significant transitions:\", len(significant_transitions))\n",
    "for transition_detail in significant_transitions:\n",
    "    transition = transition_detail[0]\n",
    "    print(\"Transition: \", transition)\n",
    "    print(mcfb_transitions[transition]/mcfb_total_transitions)\n",
    "    print(nofb_transitions[transition]/nofb_total_transitions)"
   ]
  },
  {
   "cell_type": "markdown",
   "metadata": {},
   "source": [
    "### Plotting frequencies across conditions"
   ]
  },
  {
   "cell_type": "code",
   "execution_count": null,
   "metadata": {},
   "outputs": [],
   "source": [
    "plt.close()\n",
    "plt.figure(figsize=(40,21))\n",
    "plt.xlabel(\"Trial Number\", fontsize = 80)\n",
    "plt.ylabel(\"Frequency\", fontsize = 80)\n",
    "plt.ylim(top = 1.19, bottom = -0.02)\n",
    "plt.tick_params(axis='both', which='major', labelsize=60)\n",
    "#plt.title(\"Frequency of strategies\", fontsize = 24)\n",
    "plt.plot(range(1,31), mcfb_optimal, label = 'Goal Setting (Optimal FB)', marker = '*', color = 'darkorange', markersize = 35, linewidth = 6)\n",
    "plt.plot(range(1,31), nofb_optimal, label = 'Goal Setting (No FB)', marker = '*', color = 'grey', markersize = 35, linewidth = 6)\n",
    "plt.plot(range(1,31), nofb_forward, label = 'Forward Planning (No FB)',color = 'grey', marker = 'o', markersize =25, linewidth = 6)\n",
    "plt.plot(range(1,31), mcfb_forward, label = 'Forward Planning (Optimal FB)',marker = 'o',color = 'darkorange',markersize = 25, linewidth = 6)\n",
    "plt.legend(loc='upper center',ncol = 2, fontsize = 65.2)\n",
    "plt.savefig(\"figs/1/strategy_frequency.pdf\", bbox_inches='tight')\n",
    "plt.close()"
   ]
  },
  {
   "cell_type": "markdown",
   "metadata": {},
   "source": [
    "### Verbal responses"
   ]
  },
  {
   "cell_type": "code",
   "execution_count": null,
   "metadata": {},
   "outputs": [],
   "source": [
    "exps = [1, 2, 3, 4]\n",
    "optimal_lessons = [1]\n",
    "beneficial_lessons = [1, 3, 5, 7, 8, 9]"
   ]
  },
  {
   "cell_type": "code",
   "execution_count": null,
   "metadata": {},
   "outputs": [],
   "source": [
    "def preprocess(df, exp_num):\n",
    "    df = df[['pid', 'l1', 'g1','l2','g2','l3','g3']]\n",
    "    df.dropna(thresh = 3, inplace = True)\n",
    "    df = df[df.l1 != 99]\n",
    "    df['pid'] = df['pid'].astype(int)\n",
    "    pids = exp_pids[exp_num]\n",
    "    df = df[df['pid'].isin(pids)]\n",
    "    return df\n",
    "\n",
    "def get_lesson_pairs(df):\n",
    "    pairs = []\n",
    "    temp_df = df.copy()\n",
    "    temp_df.set_index('pid', inplace = True)\n",
    "    pid_lesson_pairs = defaultdict(list)\n",
    "    for i in range(1,4):\n",
    "        t_df = temp_df[[f'l{i}', f'g{i}']]\n",
    "        t_df = t_df.dropna(thresh = 1)\n",
    "        t_df[f'l{i}'] = t_df[f'l{i}'].astype(int)\n",
    "        pairs_list = t_df.T.to_dict(orient = 'list')\n",
    "        for pid in pairs_list.keys():\n",
    "            pair = pairs_list[pid]\n",
    "            pair[1] = pair[1].lower()\n",
    "            pid_lesson_pairs[pid].append(tuple(pair))\n",
    "    return dict(pid_lesson_pairs)\n",
    "\n",
    "def get_condition_pairs(pid_lesson_pairs, pid_conditions, pid = -1, condition = -1):\n",
    "    all_pairs = []\n",
    "    if pid == -1:\n",
    "        pid_list = list(pid_lesson_pairs.keys())\n",
    "    else:\n",
    "        pid_list = [pid]\n",
    "    if condition != -1:\n",
    "        pid_list = [pid for pid in pid_list if pid_conditions[pid] == condition]\n",
    "    for p in pid_list:\n",
    "        pairs = pid_lesson_pairs[p]\n",
    "        for pair in pairs:\n",
    "            all_pairs.append(pair)\n",
    "    return all_pairs, pid_list\n",
    "\n",
    "def get_category_count(condition_pairs, lesson_category = \"all\", generality_category = \"all\"):\n",
    "    lesson_counts, generality_counts = defaultdict(int), defaultdict(int)\n",
    "    considered_pairs = []\n",
    "    if lesson_category == \"beneficial\":\n",
    "        considered_lessons = beneficial_lessons\n",
    "    elif lesson_category == \"optimal\":\n",
    "        considered_lessons = optimal_lessons\n",
    "    elif lesson_category == \"all\":\n",
    "        considered_lessons = beneficial_lessons\n",
    "    if generality_category != \"all\":\n",
    "        considered_generality = [generality_category]\n",
    "    else:\n",
    "        considered_generality = ['g','s']\n",
    "    for pair in condition_pairs:\n",
    "        if (pair[0] in considered_lessons) and (pair[1] in considered_generality):\n",
    "            considered_pairs.append(pair)\n",
    "    return len(considered_pairs)\n",
    "\n",
    "def get_participant_category_count(pid_lesson_pairs, pid_list, lesson_category = \"all\", generality_category = \"all\"):\n",
    "    if lesson_category == \"beneficial\":\n",
    "        considered_lessons = beneficial_lessons\n",
    "    elif lesson_category == \"optimal\":\n",
    "        considered_lessons = optimal_lessons\n",
    "    elif lesson_category == \"all\":\n",
    "        considered_lessons = list(range(11))\n",
    "    if generality_category != \"all\":\n",
    "        considered_generality = [generality_category]\n",
    "    else:\n",
    "        considered_generality = ['g','s']\n",
    "    count = 0\n",
    "    for pid in pid_list:\n",
    "        pairs = pid_lesson_pairs[pid]\n",
    "        for pair in pairs:\n",
    "            if pair[0] in considered_lessons and pair[1] in considered_generality:\n",
    "                count += 1\n",
    "            break\n",
    "    return count"
   ]
  },
  {
   "cell_type": "markdown",
   "metadata": {},
   "source": [
    "### Getting experimental condition by pid"
   ]
  },
  {
   "cell_type": "code",
   "execution_count": null,
   "metadata": {},
   "outputs": [],
   "source": [
    "pid_conditions = defaultdict(dict)\n",
    "conditions = {'none': 0, 'meta': 1, 'action': 2}\n",
    "def condition_column(reward, info):\n",
    "    if info and not reward:\n",
    "        res =  0\n",
    "    elif not info and not reward:\n",
    "        res =  1\n",
    "    elif info and reward:\n",
    "        res = 2\n",
    "    else:\n",
    "        res = 3\n",
    "    return res\n",
    "for exp in exps:\n",
    "    df = pd.read_csv(f\"../data/{exp}/participants.csv\")\n",
    "    if exp == 3:\n",
    "        df = df[df.stage == 1]\n",
    "    if not exp == 4:\n",
    "        df['condition'] = df['feedback'].map(conditions)\n",
    "    else:\n",
    "        df['condition'] = df.apply(lambda x: condition_column(x['with_reward'], x['with_info']), axis = 1)\n",
    "    data = df[['pid', 'condition']]\n",
    "    data.set_index('pid', inplace = True)\n",
    "    d = data.to_dict()['condition']\n",
    "    pid_conditions[exp] = d\n",
    "pid_conditions = dict(pid_conditions)"
   ]
  },
  {
   "cell_type": "markdown",
   "metadata": {},
   "source": [
    "### Getting verbal responses by experiment number"
   ]
  },
  {
   "cell_type": "code",
   "execution_count": null,
   "metadata": {},
   "outputs": [],
   "source": [
    "exp_dfs = []\n",
    "for exp in exps:\n",
    "    csv_file = f\"../data/{exp}/survey.csv\"\n",
    "    exp_dfs.append(preprocess(pd.read_csv(csv_file), exp))"
   ]
  },
  {
   "cell_type": "markdown",
   "metadata": {},
   "source": [
    "### Getting frequency and proportion of different combination of categories of lessons"
   ]
  },
  {
   "cell_type": "code",
   "execution_count": null,
   "metadata": {},
   "outputs": [],
   "source": [
    "modes = list(itertools.product([\"beneficial\", \"optimal\"], [\"g\",\"all\"]))\n",
    "print(modes)\n",
    "total_results = []\n",
    "total_sum = 0\n",
    "total_participants = 0\n",
    "for exp_num in range(1,5):\n",
    "    lp = get_lesson_pairs(exp_dfs[exp_num - 1])\n",
    "    total_sum += sum([len(p) for p in list(lp.values())])\n",
    "    total_participants += len(lp.keys())\n",
    "    ccp,_ = get_condition_pairs(lp, pid_conditions[exps[exp_num - 1]])\n",
    "    results = []\n",
    "    for i in modes:\n",
    "        results.append(get_category_count(ccp, lesson_category = i[0], generality_category = i[1]))\n",
    "    total_results.append(results)\n",
    "total_results = np.array(total_results)\n",
    "total_results_sum = np.sum(total_results, axis = 0)\n",
    "print(f\"Frequency of lessons in each category {total_results_sum}\")\n",
    "print(f\"Total lessons learnt {total_sum}\")\n",
    "print(f\"Total number of participants {total_participants}\")\n",
    "print(f\"Proportion of people who belong to the lesson category: \\n {total_results_sum/total_participants}\")"
   ]
  },
  {
   "cell_type": "markdown",
   "metadata": {},
   "source": [
    "### Plotting proportion of participants who learnt lessons belonging to a category"
   ]
  },
  {
   "cell_type": "code",
   "execution_count": null,
   "metadata": {
    "scrolled": false
   },
   "outputs": [],
   "source": [
    "modes = list(itertools.product([\"beneficial\", \"optimal\"], [\"g\",\"all\"]))\n",
    "for exp_num in range(1,5):\n",
    "    data = []\n",
    "    conds = num_conditions[exp_num - 1]\n",
    "    lp = get_lesson_pairs(exp_dfs[exp_num - 1])\n",
    "    plt.figure(figsize = (10,6))\n",
    "    if exp_num != 4:\n",
    "        plt.title(f\"Experiment {exp_num}\", fontsize = 16)\n",
    "    else:\n",
    "        plt.title(f\"Experiment 5\", fontsize = 16)\n",
    "    for i in range(conds):\n",
    "        ccp,p = get_condition_pairs(lp, pid_conditions[exps[exp_num - 1]], condition = i)\n",
    "        results = []\n",
    "        for j in modes:\n",
    "            results.append(get_participant_category_count(lp, p, lesson_category = j[0], generality_category = j[1]))\n",
    "        proportion_results = np.array(results)/len(p)\n",
    "        data += [[proportion_results[0], \"General Beneficial\", exp_condition_names[exp_num - 1][i]], [proportion_results[1], \"All Beneficial\", exp_condition_names[exp_num - 1][i]]]\n",
    "        data += [[proportion_results[2], \"General Optimal\", exp_condition_names[exp_num - 1][i]], [proportion_results[3], \"All Optimal\", exp_condition_names[exp_num - 1][i]]]\n",
    "    df = pd.DataFrame(data, columns = ['Proportion', 'Category', 'condition'])\n",
    "    sns.barplot(x='Category', y='Proportion', hue = 'condition', data=df)\n",
    "    plt.xlabel('Category', fontsize = 16)\n",
    "    plt.ylabel('Proportion', fontsize = 16)\n",
    "    plt.tick_params(axis = 'both', labelsize = 16)\n",
    "    plt.legend(title = 'condition',fontsize = 16, title_fontsize = 16)\n",
    "    plt.ylim(top = 1.0)\n",
    "    plt.savefig(f\"figs/{exp_num}/lesson_category.png\")\n",
    "    plt.close()"
   ]
  },
  {
   "cell_type": "markdown",
   "metadata": {},
   "source": [
    "### Plotting relative frequency of participants that learnt a particular lesson"
   ]
  },
  {
   "cell_type": "code",
   "execution_count": null,
   "metadata": {},
   "outputs": [],
   "source": [
    "modes = list(itertools.product([\"beneficial\", \"optimal\"], [\"g\",\"all\"]))\n",
    "for exp_num in range(1,5):\n",
    "    data = []\n",
    "    conds = num_conditions[exp_num - 1]\n",
    "    lp = get_lesson_pairs(exp_dfs[exp_num - 1])\n",
    "    plt.figure(figsize = (10,6))\n",
    "    if exp_num != 4:\n",
    "        plt.title(f\"Experiment {exp_num}\", fontsize = 16)\n",
    "    else:\n",
    "        plt.title(f\"Experiment 5\", fontsize = 16)\n",
    "    condition_wise_lesson_counts = []\n",
    "    for i in range(conds):\n",
    "        ccp,p = get_condition_pairs(lp, pid_conditions[exps[exp_num - 1]], condition = i)\n",
    "        results = []\n",
    "        total_participant_lesson_count = np.zeros(12)\n",
    "        for pid in p:\n",
    "            participant_lesson_count = np.zeros(12)\n",
    "            participant_pairs = lp[pid]\n",
    "            for pair in participant_pairs:\n",
    "                participant_lesson_count[pair[0]+1] += 1\n",
    "            total_participant_lesson_count += participant_lesson_count\n",
    "        total_participant_lesson_count = total_participant_lesson_count/ np.sum(total_participant_lesson_count)\n",
    "        condition_wise_lesson_counts.append(total_participant_lesson_count)\n",
    "    for i in range(12):\n",
    "        for j in range(conds):\n",
    "            data.append([condition_wise_lesson_counts[j][i], i-1, exp_condition_names[exp_num - 1][j]])\n",
    "    df = pd.DataFrame(data, columns = ['Proportion', 'Lesson', 'Condition'])\n",
    "    sns.barplot(x='Lesson', y='Proportion', hue = 'Condition', data=df)\n",
    "    plt.xlabel('Lesson', fontsize = 16)\n",
    "    plt.ylabel('Proportion', fontsize = 16)\n",
    "    plt.tick_params(axis = 'both', labelsize = 16)\n",
    "    plt.legend(title = 'Condition',fontsize = 16, title_fontsize = 16)\n",
    "    plt.savefig(f\"figs/{exp_num}/lesson_individual.png\")\n",
    "    plt.close()"
   ]
  },
  {
   "cell_type": "markdown",
   "metadata": {},
   "source": [
    "### Analysis for Experiment 4"
   ]
  },
  {
   "cell_type": "markdown",
   "metadata": {},
   "source": [
    "#### Test for beneficial lessons"
   ]
  },
  {
   "cell_type": "code",
   "execution_count": null,
   "metadata": {},
   "outputs": [],
   "source": [
    "modes = list(itertools.product([\"beneficial\", \"optimal\"], [\"g\",\"all\"]))\n",
    "exp_num = 4\n",
    "conds = num_conditions[exp_num - 1]\n",
    "lp = get_lesson_pairs(exp_dfs[exp_num - 1])\n",
    "total_results = []\n",
    "p_counts = []\n",
    "for i in range(conds):\n",
    "    ccp, p = get_condition_pairs(lp, pid_conditions[exps[exp_num - 1]], condition = i)\n",
    "    results = []\n",
    "    for j in modes:\n",
    "        results.append(get_participant_category_count(lp, p, lesson_category = j[0], generality_category = j[1]))\n",
    "    total_results.append(results[1]) # Corresponds to beneficial all \n",
    "    proportion_results = np.array(results)/len(p)\n",
    "    p_counts.append(len(p))\n",
    "total_results = np.array(total_results)\n",
    "\n",
    "# Reward conditions are 2,3 and info conditions are 0,2\n",
    "print(f\"Test for difference in proportion of beneficial lessons learnt between participants who got reward and who didn't\")\n",
    "counts = [total_results[2] + total_results[3], total_results[0] + total_results[1]]\n",
    "nobs = [p_counts[2] + p_counts[3], p_counts[0] + p_counts[1]]\n",
    "print(counts[0]/nobs[0], counts[1]/nobs[1])\n",
    "stat, pval = proportions_ztest(counts, nobs)\n",
    "print(\"z =\",'{:.2f}'.format(stat), \", p =\", '{:.4f}'.format(pval))\n",
    "\n",
    "print(f\"Test for difference in proportion of beneficial lessons learnt between participants who got info and who didn't\")\n",
    "counts = [total_results[0] + total_results[2], total_results[1] + total_results[3]]\n",
    "nobs = [p_counts[0] + p_counts[2], p_counts[1] + p_counts[3]]\n",
    "print(counts[0]/nobs[0], counts[1]/nobs[1])\n",
    "stat, pval = proportions_ztest(counts, nobs)\n",
    "print(\"z =\",'{:.2f}'.format(stat), \", p =\", '{:.4f}'.format(pval))"
   ]
  },
  {
   "cell_type": "markdown",
   "metadata": {},
   "source": [
    "#### Test for learning of optimal lessons"
   ]
  },
  {
   "cell_type": "code",
   "execution_count": null,
   "metadata": {},
   "outputs": [],
   "source": [
    "modes = list(itertools.product([\"beneficial\", \"optimal\"], [\"g\",\"all\"]))\n",
    "exp_num = 4\n",
    "conds = num_conditions[exp_num - 1]\n",
    "lp = get_lesson_pairs(exp_dfs[exp_num - 1])\n",
    "total_results = []\n",
    "p_counts = []\n",
    "for i in range(conds):\n",
    "    ccp, p = get_condition_pairs(lp, pid_conditions[exps[exp_num - 1]], condition = i)\n",
    "    results = []\n",
    "    for j in modes:\n",
    "        results.append(get_participant_category_count(lp, p, lesson_category = j[0], generality_category = j[1]))\n",
    "    total_results.append(results[3]) # Corresponds to optimal all\n",
    "    proportion_results = np.array(results)/len(p)\n",
    "    p_counts.append(len(p))\n",
    "total_results = np.array(total_results)\n",
    "\n",
    "# Reward conditions are 2,3 and info conditions are 0,2\n",
    "print(f\"Test for difference in proportion of optimal lessons learnt between participants who got reward and who didn't\")\n",
    "counts = [total_results[2] + total_results[3], total_results[0] + total_results[1]]\n",
    "nobs = [p_counts[2] + p_counts[3], p_counts[0] + p_counts[1]]\n",
    "print(counts[0]/nobs[0], counts[1]/nobs[1])\n",
    "stat, pval = proportions_ztest(counts, nobs)\n",
    "print(\"z =\",'{:.2f}'.format(stat), \", p =\", '{:.4f}'.format(pval))\n",
    "\n",
    "print(f\"Test for difference in proportion of optimal lessons learnt between participants who got info and who didn't\")\n",
    "counts = [total_results[0] + total_results[2], total_results[1] + total_results[3]]\n",
    "nobs = [p_counts[0] + p_counts[2], p_counts[1] + p_counts[3]]\n",
    "print(counts[0]/nobs[0], counts[1]/nobs[1])\n",
    "stat, pval = proportions_ztest(counts, nobs)\n",
    "print(\"z =\",'{:.2f}'.format(stat), \", p =\", '{:.4f}'.format(pval))"
   ]
  },
  {
   "cell_type": "markdown",
   "metadata": {},
   "source": [
    "### Proportion of participants in each lesson category across all experiments"
   ]
  },
  {
   "cell_type": "code",
   "execution_count": null,
   "metadata": {
    "scrolled": true
   },
   "outputs": [],
   "source": [
    "modes = list(itertools.product([\"beneficial\", \"optimal\"], [\"g\",\"all\"]))\n",
    "exp_fb_conditions = [[1],[1],[1],[0,2,3]]\n",
    "exp_nfb_conditions = [[0],[0],[0],[1]]\n",
    "print(modes)\n",
    "fb_pairs = []\n",
    "nfb_pairs = []\n",
    "fb_count, nfb_count = 0,0\n",
    "total_fb_results = []\n",
    "total_nfb_results = []\n",
    "for exp_num in range(1,5):\n",
    "    conds = num_conditions[exp_num - 1]\n",
    "    lp = get_lesson_pairs(exp_dfs[exp_num - 1])\n",
    "    for i in range(conds):\n",
    "        if i in exp_fb_conditions[exp_num - 1]:\n",
    "            temp, fb_p = get_condition_pairs(lp, pid_conditions[exps[exp_num - 1]], condition = i)\n",
    "            a = []\n",
    "            for j in modes:\n",
    "                a.append(get_participant_category_count(lp,fb_p,lesson_category = j[0], generality_category = j[1]))\n",
    "            total_fb_results.append(a)\n",
    "            fb_pairs += temp\n",
    "            fb_count += len(fb_p)\n",
    "        else:\n",
    "            temp, nfb_p = get_condition_pairs(lp, pid_conditions[exps[exp_num - 1]], condition = i)\n",
    "            a = []\n",
    "            for j in modes:\n",
    "                a.append(get_participant_category_count(lp,nfb_p,lesson_category = j[0], generality_category = j[1]))\n",
    "            total_nfb_results.append(a)\n",
    "            nfb_pairs += temp\n",
    "            nfb_count += len(nfb_p)\n",
    "print(total_fb_results)\n",
    "print(total_nfb_results)\n",
    "print(\"FB results:\")\n",
    "fb_results = np.sum(total_fb_results, axis = 0)\n",
    "print(fb_results)\n",
    "print(\"Total participants in MCFB:\", fb_count)\n",
    "print(\"Proportion of participants:\")\n",
    "print(np.array(fb_results)/fb_count)\n",
    "print(\"\\nNo FB results:\")\n",
    "nfb_results = np.sum(total_nfb_results, axis = 0)\n",
    "print(nfb_results)\n",
    "print(\"Total participants in No FB:\", nfb_count)\n",
    "print(\"Proportion of participants:\")\n",
    "print(np.array(nfb_results)/nfb_count)"
   ]
  },
  {
   "cell_type": "markdown",
   "metadata": {},
   "source": [
    "### Chi2 tests"
   ]
  },
  {
   "cell_type": "code",
   "execution_count": null,
   "metadata": {
    "scrolled": true
   },
   "outputs": [],
   "source": [
    "nobs = [fb_count, nfb_count]\n",
    "print(nobs)\n",
    "categories = ['Beneficial and general lessons', 'All beneficial lessons', 'Optimal and general', 'All optimal lessons']\n",
    "for i in range(4):\n",
    "    print(f\"Test for difference between FB and No FB conditions in proportions of {categories[i]}\")\n",
    "    counts = [fb_results[i], nfb_results[i]]\n",
    "    print(counts)\n",
    "    stat, pval = proportions_ztest(counts, nobs)\n",
    "    print(\"z =\",'{:.2f}'.format(stat), \", p =\", '{:.4f}'.format(pval))"
   ]
  },
  {
   "cell_type": "markdown",
   "metadata": {},
   "source": [
    "### Getting general lessons"
   ]
  },
  {
   "cell_type": "code",
   "execution_count": null,
   "metadata": {},
   "outputs": [],
   "source": [
    "modes = list(itertools.product([\"beneficial\", \"optimal\"], [\"g\",\"all\"]))\n",
    "exp_fb_conditions = [[1],[1],[1],[0,2,3]]\n",
    "exp_nfb_conditions = [[0],[0],[0],[1]]\n",
    "print(modes)\n",
    "fb_pairs = []\n",
    "nfb_pairs = []\n",
    "fb_count, nfb_count = 0,0\n",
    "total_fb_results = []\n",
    "total_nfb_results = []\n",
    "for exp_num in range(1,5):\n",
    "    conds = num_conditions[exp_num - 1]\n",
    "    lp = get_lesson_pairs(exp_dfs[exp_num - 1])\n",
    "    for i in range(conds):\n",
    "        if i in exp_fb_conditions[exp_num - 1]:\n",
    "            temp, fb_p = get_condition_pairs(lp, pid_conditions[exps[exp_num - 1]], condition = i)\n",
    "            a = []\n",
    "            a.append(get_participant_category_count(lp,fb_p,lesson_category = \"all\", generality_category = 'g'))\n",
    "            total_fb_results.append(a)\n",
    "            fb_pairs += temp\n",
    "            fb_count += len(fb_p)\n",
    "        else:\n",
    "            temp, nfb_p = get_condition_pairs(lp, pid_conditions[exps[exp_num - 1]], condition = i)\n",
    "            a = []\n",
    "            a.append(get_participant_category_count(lp,nfb_p,lesson_category = \"all\", generality_category = 'g'))\n",
    "            total_nfb_results.append(a)\n",
    "            nfb_pairs += temp\n",
    "            nfb_count += len(nfb_p)\n",
    "print(total_fb_results)\n",
    "print(total_nfb_results)\n",
    "print(\"FB results:\")\n",
    "fb_results = np.sum(total_fb_results, axis = 0)\n",
    "print(fb_results)\n",
    "print(\"Total participants in MCFB:\", fb_count)\n",
    "print(\"Proportion of participants:\")\n",
    "print(np.array(fb_results)/fb_count)\n",
    "print(\"\\nNo FB results:\")\n",
    "nfb_results = np.sum(total_nfb_results, axis = 0)\n",
    "print(nfb_results)\n",
    "print(\"Total participants in No FB:\", nfb_count)\n",
    "print(\"Proportion of participants:\")\n",
    "print(np.array(nfb_results)/nfb_count)"
   ]
  },
  {
   "cell_type": "markdown",
   "metadata": {},
   "source": [
    "### Chi2 test for general lessons"
   ]
  },
  {
   "cell_type": "code",
   "execution_count": null,
   "metadata": {},
   "outputs": [],
   "source": [
    "print(\"Test for difference in proportions of general lessons between MCFB and FB conditions\")\n",
    "counts = [fb_results[0], nfb_results[0]]\n",
    "stat, pval = proportions_ztest(counts, nobs)\n",
    "print(\"z =\",'{:.2f}'.format(stat), \", p =\", '{:.4f}'.format(pval))"
   ]
  }
 ],
 "metadata": {
  "kernelspec": {
   "display_name": "Python 3",
   "language": "python",
   "name": "python3"
  },
  "language_info": {
   "codemirror_mode": {
    "name": "ipython",
    "version": 3
   },
   "file_extension": ".py",
   "mimetype": "text/x-python",
   "name": "python",
   "nbconvert_exporter": "python",
   "pygments_lexer": "ipython3",
   "version": "3.7.3"
  }
 },
 "nbformat": 4,
 "nbformat_minor": 2
}
