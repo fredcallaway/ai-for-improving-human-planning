{
 "cells": [
  {
   "cell_type": "code",
   "execution_count": 1,
   "metadata": {},
   "outputs": [],
   "source": [
    "%matplotlib inline\n",
    "\n",
    "import matplotlib.pyplot as plt\n",
    "import numpy as np\n",
    "import pandas as pd\n",
    "import seaborn as sns\n",
    "import scipy.stats as stats\n",
    "import matplotlib as plt\n",
    "import itertools as it\n",
    "from analysis_utils import *"
   ]
  },
  {
   "cell_type": "code",
   "execution_count": 2,
   "metadata": {},
   "outputs": [],
   "source": [
    "import rpy2.robjects as ro\n",
    "from rpy2.robjects import pandas2ri\n",
    "pandas2ri.activate()\n",
    "%load_ext rpy2.ipython"
   ]
  },
  {
   "cell_type": "markdown",
   "metadata": {},
   "source": [
    "# Setup"
   ]
  },
  {
   "cell_type": "code",
   "execution_count": 3,
   "metadata": {},
   "outputs": [],
   "source": [
    "EXPERIMENT = 8\n",
    "\n",
    "os.makedirs(f'stats/{EXPERIMENT}', exist_ok=True)\n",
    "def write_tex(name, tex):\n",
    "    file = f\"stats/{EXPERIMENT}/{name}.tex\"\n",
    "    with open(file, \"w+\") as f:\n",
    "        f.write(str(tex) + r\"\\unskip\")\n",
    "    print(f'wrote \"{tex}\" to \"{file}\"')\n",
    "\n",
    "data = get_data(EXPERIMENT)\n",
    "pdf = data['participants'].set_index('pid').copy()\n",
    "pdf.query('completed', inplace=True)\n",
    "full_pdf = pdf.copy()\n",
    "mdf = data['trials'].set_index('pid').copy()\n",
    "mdf.trial_time /= 1000\n",
    "mdf['clicked'] = mdf.n_clicks > 0"
   ]
  },
  {
   "cell_type": "markdown",
   "metadata": {},
   "source": [
    "## Demographics"
   ]
  },
  {
   "cell_type": "code",
   "execution_count": 5,
   "metadata": {},
   "outputs": [
    {
     "name": "stdout",
     "output_type": "stream",
     "text": [
      "wrote \"$33.7$\" to \"stats/8/mean-age.tex\"\n",
      "wrote \"$18$\" to \"stats/8/min-age.tex\"\n",
      "wrote \"$67$\" to \"stats/8/max-age.tex\"\n",
      "wrote \"$70$\" to \"stats/8/N-female.tex\"\n",
      "wrote \"$187$\" to \"stats/8/N-total.tex\"\n",
      "wrote \"$63$\" to \"stats/8/N-1.tex\"\n",
      "wrote \"$62$\" to \"stats/8/N-3.tex\"\n",
      "wrote \"$62$\" to \"stats/8/N-2.tex\"\n",
      "wrote \"\\$1.28\" to \"stats/8/mean-bonus.tex\"\n"
     ]
    }
   ],
   "source": [
    "pids = list(pdf.index.unique())\n",
    "sdf = data['survey'].rename(columns={'wid': 'pid'}).query('pid == @pids').copy()\n",
    "if not isinstance(sdf.responses.iloc[0], dict):\n",
    "    sdf = sdf.loc[~sdf.responses.isna()]\n",
    "    sdf.responses = sdf.responses.apply(ast.literal_eval)\n",
    "\n",
    "if EXPERIMENT == 3:\n",
    "    demo = sdf.loc[sdf.responses.apply(len) == 3].set_index('pid').responses\n",
    "    age = demo.apply(get('Q1'))\n",
    "    gender = demo.apply(get('Q2'))\n",
    "else:\n",
    "    demo = sdf.loc[sdf.responses.apply(len) == 2].set_index('pid').responses\n",
    "    age = demo.apply(get('Q0'))\n",
    "    gender = demo.apply(get('Q1'))\n",
    "    \n",
    "gender = gender.str.lower()\n",
    "age = age.apply(excepts(ValueError, int, lambda _: None))\n",
    "age.loc[age < 18] = None\n",
    "\n",
    "write_tex('mean-age', f'${age.mean():.1f}$')\n",
    "write_tex('min-age', f'${age.min():.0f}$')\n",
    "write_tex('max-age', f'${age.max():.0f}$')\n",
    "\n",
    "regularize = {\n",
    "    'man': 'male',\n",
    "    'woman': 'female',\n",
    "    'f': 'female',\n",
    "    'm': 'male',\n",
    "}\n",
    "gender = gender.apply(lambda x: regularize.get(x.strip(), x))\n",
    "n_fem = gender.value_counts()['female']\n",
    "write_tex(\"N-female\", f'${n_fem}$')\n",
    "\n",
    "write_tex(\"N-total\", f\"${len(pdf)}$\")\n",
    "for fb, n in pdf.train_height.value_counts().items():\n",
    "    write_tex(f\"N-{fb}\", f\"${n}$\")\n",
    "    \n",
    "write_tex('mean-bonus', f'\\${pdf.bonus.mean():.2f}')"
   ]
  },
  {
   "cell_type": "code",
   "execution_count": 5,
   "metadata": {},
   "outputs": [],
   "source": [
    "completed = list(pdf.index)\n",
    "mdf.reset_index(inplace=True)\n",
    "mdf.query('pid == @completed', inplace=True)\n",
    "mdf.set_index('pid', inplace=True)\n",
    "mdf['train_height'] = pdf.train_height"
   ]
  },
  {
   "cell_type": "code",
   "execution_count": 6,
   "metadata": {},
   "outputs": [],
   "source": [
    "with open('mouselab_maxscores.json') as f:\n",
    "    maxscores = json.load(f)\n",
    "train_envs = {1: 'minimal', 2: 'easy', 3: 'basic'}\n",
    "each_max = mdf.apply(lambda row: \n",
    "    maxscores['big_cheap'] \n",
    "    if row.block == 'test' \n",
    "    else maxscores[train_envs[row.train_height]]\n",
    ", axis=1)\n",
    "mdf.score *= (100/each_max)"
   ]
  },
  {
   "cell_type": "code",
   "execution_count": 7,
   "metadata": {},
   "outputs": [],
   "source": [
    "# pdf.train_height = pd.Categorical(pdf.train_height, [1,2,3], ordered=True)    \n",
    "block_mean = mdf.groupby(['block', 'pid']).score.mean()\n",
    "for b in ['training', 'test']:\n",
    "    pdf[b] = block_mean[b]\n",
    "\n",
    "assert set(mdf.index.unique()) == set(pdf.index.unique())"
   ]
  },
  {
   "cell_type": "code",
   "execution_count": 8,
   "metadata": {},
   "outputs": [],
   "source": [
    "def get_leaves(train_height):\n",
    "    branch = {\n",
    "        1: \"3\",\n",
    "        2: \"3-1\",\n",
    "        3: \"3-1-2\",\n",
    "    }[train_height]\n",
    "    fn = f\"structures/{branch}.json\"\n",
    "    with open(fn) as f:\n",
    "        graph = json.load(f)['graph']\n",
    "        return set(int(k) for k, v in graph.items() if not v)\n",
    "    \n",
    "\n",
    "all_leaves = { th: get_leaves(th) for th in [1,2,3]}\n",
    "all_leaves['test'] = {5, 6, 7, 9, 10, 11, 16, 17, 18, 20, 21, 22, 27, 28, 29, 31, 32, 33}\n",
    "\n",
    "def clicked_leaf_first(row):\n",
    "    if row.block != 'test' and row.train_height == 1:\n",
    "        return np.nan\n",
    "    if not row.clicks:\n",
    "        return 0.\n",
    "    first = row.clicks[0]\n",
    "    leaves = all_leaves['test' if row.block == 'test' else row.train_height]\n",
    "    return float(first in leaves)\n",
    "\n",
    "mdf['backward'] = mdf.apply(clicked_leaf_first, axis=1)\n",
    "pdf['backward'] = mdf.query('block == \"test\"').groupby('pid').backward.mean()"
   ]
  },
  {
   "cell_type": "markdown",
   "metadata": {},
   "source": [
    "## Setup Plotting "
   ]
  },
  {
   "cell_type": "code",
   "execution_count": 9,
   "metadata": {},
   "outputs": [
    {
     "data": {
      "text/html": [
       "<div>\n",
       "<style scoped>\n",
       "    .dataframe tbody tr th:only-of-type {\n",
       "        vertical-align: middle;\n",
       "    }\n",
       "\n",
       "    .dataframe tbody tr th {\n",
       "        vertical-align: top;\n",
       "    }\n",
       "\n",
       "    .dataframe thead th {\n",
       "        text-align: right;\n",
       "    }\n",
       "</style>\n",
       "<table border=\"1\" class=\"dataframe\">\n",
       "  <thead>\n",
       "    <tr style=\"text-align: right;\">\n",
       "      <th></th>\n",
       "      <th>block</th>\n",
       "      <th>delays</th>\n",
       "      <th>score</th>\n",
       "      <th>trial_index</th>\n",
       "      <th>trial_time</th>\n",
       "      <th>clicks</th>\n",
       "      <th>n_clicks</th>\n",
       "      <th>stim_i</th>\n",
       "      <th>clicked</th>\n",
       "      <th>train_height</th>\n",
       "      <th>backward</th>\n",
       "    </tr>\n",
       "    <tr>\n",
       "      <th>pid</th>\n",
       "      <th></th>\n",
       "      <th></th>\n",
       "      <th></th>\n",
       "      <th></th>\n",
       "      <th></th>\n",
       "      <th></th>\n",
       "      <th></th>\n",
       "      <th></th>\n",
       "      <th></th>\n",
       "      <th></th>\n",
       "      <th></th>\n",
       "    </tr>\n",
       "  </thead>\n",
       "  <tbody>\n",
       "    <tr>\n",
       "      <td>17</td>\n",
       "      <td>training</td>\n",
       "      <td>[0, 0, 3, 0]</td>\n",
       "      <td>-174.358974</td>\n",
       "      <td>0</td>\n",
       "      <td>23.739</td>\n",
       "      <td>[2, 1, 3]</td>\n",
       "      <td>3</td>\n",
       "      <td>0</td>\n",
       "      <td>True</td>\n",
       "      <td>1</td>\n",
       "      <td>NaN</td>\n",
       "    </tr>\n",
       "    <tr>\n",
       "      <td>17</td>\n",
       "      <td>training</td>\n",
       "      <td>[0, 0, 0, 0]</td>\n",
       "      <td>71.794872</td>\n",
       "      <td>1</td>\n",
       "      <td>49.591</td>\n",
       "      <td>[2, 1, 3]</td>\n",
       "      <td>3</td>\n",
       "      <td>1</td>\n",
       "      <td>True</td>\n",
       "      <td>1</td>\n",
       "      <td>NaN</td>\n",
       "    </tr>\n",
       "    <tr>\n",
       "      <td>17</td>\n",
       "      <td>training</td>\n",
       "      <td>[0, 0, 0, 0]</td>\n",
       "      <td>-92.307692</td>\n",
       "      <td>2</td>\n",
       "      <td>8.664</td>\n",
       "      <td>[3, 1, 2]</td>\n",
       "      <td>3</td>\n",
       "      <td>2</td>\n",
       "      <td>True</td>\n",
       "      <td>1</td>\n",
       "      <td>NaN</td>\n",
       "    </tr>\n",
       "    <tr>\n",
       "      <td>17</td>\n",
       "      <td>training</td>\n",
       "      <td>[0, 0, 0, 0]</td>\n",
       "      <td>71.794872</td>\n",
       "      <td>3</td>\n",
       "      <td>8.068</td>\n",
       "      <td>[1, 2, 3]</td>\n",
       "      <td>3</td>\n",
       "      <td>3</td>\n",
       "      <td>True</td>\n",
       "      <td>1</td>\n",
       "      <td>NaN</td>\n",
       "    </tr>\n",
       "    <tr>\n",
       "      <td>17</td>\n",
       "      <td>training</td>\n",
       "      <td>[0, 3, 3, 0]</td>\n",
       "      <td>153.846154</td>\n",
       "      <td>4</td>\n",
       "      <td>13.279</td>\n",
       "      <td>[2, 3, 1]</td>\n",
       "      <td>3</td>\n",
       "      <td>4</td>\n",
       "      <td>True</td>\n",
       "      <td>1</td>\n",
       "      <td>NaN</td>\n",
       "    </tr>\n",
       "    <tr>\n",
       "      <td>...</td>\n",
       "      <td>...</td>\n",
       "      <td>...</td>\n",
       "      <td>...</td>\n",
       "      <td>...</td>\n",
       "      <td>...</td>\n",
       "      <td>...</td>\n",
       "      <td>...</td>\n",
       "      <td>...</td>\n",
       "      <td>...</td>\n",
       "      <td>...</td>\n",
       "      <td>...</td>\n",
       "    </tr>\n",
       "    <tr>\n",
       "      <td>178</td>\n",
       "      <td>test</td>\n",
       "      <td>[]</td>\n",
       "      <td>11.176019</td>\n",
       "      <td>25</td>\n",
       "      <td>20.965</td>\n",
       "      <td>[9, 5, 7, 10, 11, 6, 21, 20, 17, 18, 22, 16, 2...</td>\n",
       "      <td>19</td>\n",
       "      <td>143</td>\n",
       "      <td>True</td>\n",
       "      <td>3</td>\n",
       "      <td>1.0</td>\n",
       "    </tr>\n",
       "    <tr>\n",
       "      <td>178</td>\n",
       "      <td>test</td>\n",
       "      <td>[]</td>\n",
       "      <td>13.411222</td>\n",
       "      <td>26</td>\n",
       "      <td>18.252</td>\n",
       "      <td>[9, 10, 7, 5, 6, 11, 27, 29, 28, 32, 33, 31, 2...</td>\n",
       "      <td>18</td>\n",
       "      <td>157</td>\n",
       "      <td>True</td>\n",
       "      <td>3</td>\n",
       "      <td>1.0</td>\n",
       "    </tr>\n",
       "    <tr>\n",
       "      <td>178</td>\n",
       "      <td>test</td>\n",
       "      <td>[]</td>\n",
       "      <td>17.881630</td>\n",
       "      <td>27</td>\n",
       "      <td>9.326</td>\n",
       "      <td>[9, 10]</td>\n",
       "      <td>2</td>\n",
       "      <td>124</td>\n",
       "      <td>True</td>\n",
       "      <td>3</td>\n",
       "      <td>1.0</td>\n",
       "    </tr>\n",
       "    <tr>\n",
       "      <td>178</td>\n",
       "      <td>test</td>\n",
       "      <td>[]</td>\n",
       "      <td>91.643353</td>\n",
       "      <td>28</td>\n",
       "      <td>22.119</td>\n",
       "      <td>[9, 5, 7, 10, 16, 17]</td>\n",
       "      <td>6</td>\n",
       "      <td>47</td>\n",
       "      <td>True</td>\n",
       "      <td>3</td>\n",
       "      <td>1.0</td>\n",
       "    </tr>\n",
       "    <tr>\n",
       "      <td>178</td>\n",
       "      <td>test</td>\n",
       "      <td>[]</td>\n",
       "      <td>147.523447</td>\n",
       "      <td>29</td>\n",
       "      <td>14.037</td>\n",
       "      <td>[9, 5, 7, 10, 11]</td>\n",
       "      <td>5</td>\n",
       "      <td>93</td>\n",
       "      <td>True</td>\n",
       "      <td>3</td>\n",
       "      <td>1.0</td>\n",
       "    </tr>\n",
       "  </tbody>\n",
       "</table>\n",
       "<p>5610 rows × 11 columns</p>\n",
       "</div>"
      ],
      "text/plain": [
       "        block        delays       score  trial_index  trial_time  \\\n",
       "pid                                                                \n",
       "17   training  [0, 0, 3, 0] -174.358974            0      23.739   \n",
       "17   training  [0, 0, 0, 0]   71.794872            1      49.591   \n",
       "17   training  [0, 0, 0, 0]  -92.307692            2       8.664   \n",
       "17   training  [0, 0, 0, 0]   71.794872            3       8.068   \n",
       "17   training  [0, 3, 3, 0]  153.846154            4      13.279   \n",
       "..        ...           ...         ...          ...         ...   \n",
       "178      test            []   11.176019           25      20.965   \n",
       "178      test            []   13.411222           26      18.252   \n",
       "178      test            []   17.881630           27       9.326   \n",
       "178      test            []   91.643353           28      22.119   \n",
       "178      test            []  147.523447           29      14.037   \n",
       "\n",
       "                                                clicks  n_clicks  stim_i  \\\n",
       "pid                                                                        \n",
       "17                                           [2, 1, 3]         3       0   \n",
       "17                                           [2, 1, 3]         3       1   \n",
       "17                                           [3, 1, 2]         3       2   \n",
       "17                                           [1, 2, 3]         3       3   \n",
       "17                                           [2, 3, 1]         3       4   \n",
       "..                                                 ...       ...     ...   \n",
       "178  [9, 5, 7, 10, 11, 6, 21, 20, 17, 18, 22, 16, 2...        19     143   \n",
       "178  [9, 10, 7, 5, 6, 11, 27, 29, 28, 32, 33, 31, 2...        18     157   \n",
       "178                                            [9, 10]         2     124   \n",
       "178                              [9, 5, 7, 10, 16, 17]         6      47   \n",
       "178                                  [9, 5, 7, 10, 11]         5      93   \n",
       "\n",
       "     clicked  train_height  backward  \n",
       "pid                                   \n",
       "17      True             1       NaN  \n",
       "17      True             1       NaN  \n",
       "17      True             1       NaN  \n",
       "17      True             1       NaN  \n",
       "17      True             1       NaN  \n",
       "..       ...           ...       ...  \n",
       "178     True             3       1.0  \n",
       "178     True             3       1.0  \n",
       "178     True             3       1.0  \n",
       "178     True             3       1.0  \n",
       "178     True             3       1.0  \n",
       "\n",
       "[5610 rows x 11 columns]"
      ]
     },
     "execution_count": 9,
     "metadata": {},
     "output_type": "execute_result"
    }
   ],
   "source": [
    "mdf"
   ]
  },
  {
   "cell_type": "code",
   "execution_count": 10,
   "metadata": {},
   "outputs": [],
   "source": [
    "figure = Figures(path=f'figs/{EXPERIMENT}', formats=['pdf', 'png']).plot\n",
    "\n",
    "sns.set_style('whitegrid')\n",
    "blue, orange, green, _, purple = sns.color_palette('tab10')[:5]\n",
    "gray = (0.5,)*3\n",
    "red = (1, 0.3, 0.4)\n",
    "yellow = (1, 0.9, 0.4)\n",
    "palette = {\n",
    "    'none': gray,\n",
    "    'action': blue,\n",
    "    'meta': orange,\n",
    "    'info_only': red,\n",
    "    'reward_only': yellow,\n",
    "    'both': orange,\n",
    "}\n",
    "\n",
    "palette = {\n",
    "    'none': gray,\n",
    "    'action': blue,\n",
    "    'meta': orange,\n",
    "    'info_only': red,\n",
    "    'reward_only': yellow,\n",
    "    'both': orange,\n",
    "    1: purple,\n",
    "    2: green,\n",
    "    3: orange\n",
    "}\n",
    "\n",
    "nice_names = {\n",
    "    'meta': 'Metacognitive',\n",
    "    'action': 'Action',\n",
    "    'none': 'None',\n",
    "    'feedback': 'Feedback',\n",
    "    'info_only': 'Information\\nOnly',\n",
    "    'reward_only': 'Reward\\nOnly',\n",
    "    'both': 'Information &\\nReinforcement',\n",
    "    'score': 'Relative Score',\n",
    "    'test': 'Relative Test Score',\n",
    "    'backward': 'Proportion Planning Backward',\n",
    "    '1': 'Minimal',\n",
    "    '2': 'Easy',\n",
    "    '3': 'Difficult',\n",
    "    'train_height': 'Training Complexity',\n",
    "}\n",
    "\n",
    "def reformat_labels(ax=None):\n",
    "    ax = ax or plt.gca()\n",
    "    labels = [t.get_text() for t in ax.get_xticklabels()]\n",
    "    new_labels = [nice_names.get(lab, lab) for lab in labels]\n",
    "    ax.set_xticklabels(new_labels)\n",
    "    \n",
    "def reformat_legend(ax=None, drop_title=False):\n",
    "    if ax is None:\n",
    "        ax = plt.gca()\n",
    "    handles, labels = ax.get_legend_handles_labels()\n",
    "    if drop_title:\n",
    "        handles = handles[1:]\n",
    "        labels = labels[1:]\n",
    "    ax.legend(handles=handles, labels=[nice_names.get(l, l).replace('\\n', ' ') \n",
    "                                       for l in labels])\n",
    "    \n",
    "def plot_block_changes():\n",
    "    block_changes = mdf.loc[1].block.apply(Labeler()).diff().reset_index().query('block == 1').index\n",
    "    for t in block_changes:\n",
    "        plt.axvline(t-0.5, c='k', ls='--')\n",
    "\n",
    "from datetime import datetime\n",
    "# os.makedirs(f'stats/{EXPERIMENT}/', exist_ok=True)\n",
    "def result_file(name, ext='tex'):\n",
    "    file = f'stats/{EXPERIMENT}-{name}.{ext}'\n",
    "#     with open(file, 'w+') as f:\n",
    "#         timestamp = datetime.now().strftime('Created on %m/%d/%y at %H:%M:%S\\n\\n')\n",
    "#         f.write(timestamp)\n",
    "    return file"
   ]
  },
  {
   "cell_type": "markdown",
   "metadata": {},
   "source": [
    "# Bootstrap utils"
   ]
  },
  {
   "cell_type": "code",
   "execution_count": 11,
   "metadata": {},
   "outputs": [],
   "source": [
    "def ci(x, interval=95):\n",
    "    a = (1 - (interval / 100)) / 2\n",
    "    return np.quantile(x, [a, 1-a])\n",
    "\n",
    "def boot_mean_ci(x, interval=95, n=10000):\n",
    "    x = pd.Series(x)\n",
    "    means = [x.sample(frac=1, replace=True).mean() for _ in range(n)]\n",
    "    return ci(means, interval)\n",
    "\n",
    "def report_means_ci(g, name, units='',  **kws):\n",
    "    if name is None:\n",
    "        name = values.name\n",
    "    for k, d in g:\n",
    "        x = d.mean()\n",
    "        a, b = boot_mean_ci(d, **kws)\n",
    "        tex = rf'${x:.2f}$ {units}; 95\\% CI: [${a:.2f}$, ${b:.2f}$]'\n",
    "        write_tex(f'{name}-mean-{k}', tex)"
   ]
  },
  {
   "cell_type": "markdown",
   "metadata": {},
   "source": [
    "# Test score"
   ]
  },
  {
   "cell_type": "code",
   "execution_count": 12,
   "metadata": {},
   "outputs": [],
   "source": [
    "pdf['test_early'] = mdf\\\n",
    ".query('10 <= trial_index < 15')\\\n",
    ".groupby('pid').score.mean()\n",
    "pdf['backward_early'] = mdf\\\n",
    ".query('10 <= trial_index < 15')\\\n",
    ".groupby('pid').backward.mean()"
   ]
  },
  {
   "cell_type": "code",
   "execution_count": 13,
   "metadata": {},
   "outputs": [
    {
     "name": "stderr",
     "output_type": "stream",
     "text": [
      "/usr/local/lib/miniconda3/lib/python3.7/site-packages/pandas/core/generic.py:5208: SettingWithCopyWarning: \n",
      "A value is trying to be set on a copy of a slice from a DataFrame.\n",
      "Try using .loc[row_indexer,col_indexer] = value instead\n",
      "\n",
      "See the caveats in the documentation: http://pandas.pydata.org/pandas-docs/stable/user_guide/indexing.html#returning-a-view-versus-a-copy\n",
      "  self[name] = value\n"
     ]
    }
   ],
   "source": [
    "def write_kruskal(name):\n",
    "    out = %R kruskal.test($name ~ train_height, data=rdf)\n",
    "    out = dict(out.items())\n",
    "    df = out[\"parameter\"][0]\n",
    "    p = pval(out[\"p.value\"][0])\n",
    "    stat = out[\"statistic\"][0]\n",
    "    write_tex(f'{name}-kruskal', rf'$H = {stat:.3f}, {p}$')\n",
    "\n",
    "def cohen_d(x,y):\n",
    "    nx = len(x)\n",
    "    ny = len(y)\n",
    "    dof = nx + ny - 2\n",
    "    pooled_std =  np.sqrt(((nx-1)*np.std(x, ddof=1) ** 2 + (ny-1)*np.std(y, ddof=1) ** 2) / dof)\n",
    "    return (np.mean(x) - np.mean(y)) / pooled_std\n",
    "\n",
    "import re\n",
    "def write_independence_test(y, a, b, alternative='two.sided'):\n",
    "    # oddly, train_height == b tests a > b\n",
    "    out = %R independence_test($y ~ train_height == \"$b\",\\\n",
    "                               data=filter(rdf, train_height %in% c(\"$a\", \"$b\")),\\\n",
    "                               alternative=\"$alternative\")\n",
    "    out = str(out)\n",
    "    match = re.search('Z = (.*), p-value = (.*)', out)\n",
    "    try:\n",
    "        z, p = map(float, match.groups())\n",
    "    except:\n",
    "        print('Cannot parse independence test')\n",
    "        print(out)\n",
    "        raise Exception()\n",
    "    \n",
    "    x = rdf.set_index('train_height')[y]\n",
    "    d = cohen_d(x.loc[a], x.loc[b])\n",
    "    write_tex(f'independence-{y}-{a}-{b}', f'$d = {d:.2f}, Z = {z:.2f}, {pval(p)}$')\n",
    "\n",
    "rdf = pdf[['test', 'train_height', 'test_early', 'backward', 'backward_early']]\n",
    "rdf.train_height = 'T' + rdf.train_height.astype(str)"
   ]
  },
  {
   "cell_type": "code",
   "execution_count": 14,
   "metadata": {},
   "outputs": [
    {
     "name": "stderr",
     "output_type": "stream",
     "text": [
      "R[write to console]: \n",
      "Attaching package: ‘dplyr’\n",
      "\n",
      "\n",
      "R[write to console]: The following objects are masked from ‘package:stats’:\n",
      "\n",
      "    filter, lag\n",
      "\n",
      "\n",
      "R[write to console]: The following objects are masked from ‘package:base’:\n",
      "\n",
      "    intersect, setdiff, setequal, union\n",
      "\n",
      "\n",
      "R[write to console]: Loading required package: survival\n",
      "\n"
     ]
    }
   ],
   "source": [
    "%%R -i rdf\n",
    "library(dplyr)\n",
    "library(coin)"
   ]
  },
  {
   "cell_type": "code",
   "execution_count": 15,
   "metadata": {},
   "outputs": [
    {
     "name": "stdout",
     "output_type": "stream",
     "text": [
      "figs/8/test.pdf\n",
      "figs/8/test.png\n"
     ]
    },
    {
     "data": {
      "image/png": "[encoded data removed]",
      "text/plain": [
       "<Figure size 432x288 with 1 Axes>"
      ]
     },
     "metadata": {},
     "output_type": "display_data"
    }
   ],
   "source": [
    "@figure()\n",
    "def plot_test():\n",
    "    if EXPERIMENT == 4:\n",
    "        plt.figure(figsize=(12,4))\n",
    "\n",
    "    sns.swarmplot('train_height', 'test', data=pdf, palette=palette, alpha=0.5)\n",
    "    sns.pointplot('train_height', 'test', data=pdf, palette=palette, \n",
    "                  scale=1, capsize=0.1, markers='o')\n",
    "    plt.xlabel('Training Complexity')\n",
    "    plt.ylabel(nice_names['test'])\n",
    "    test = 'Test' if EXPERIMENT == 1 else 'Transfer'\n",
    "    reformat_labels()\n",
    "    "
   ]
  },
  {
   "cell_type": "code",
   "execution_count": 16,
   "metadata": {},
   "outputs": [
    {
     "name": "stdout",
     "output_type": "stream",
     "text": [
      "wrote \"$H = 14.807, p < .001$\" to \"stats/8/test-kruskal.tex\"\n"
     ]
    }
   ],
   "source": [
    "write_kruskal('test')"
   ]
  },
  {
   "cell_type": "code",
   "execution_count": 17,
   "metadata": {},
   "outputs": [
    {
     "name": "stdout",
     "output_type": "stream",
     "text": [
      "wrote \"$49.10$ points; 95\\% CI: [$39.77$, $58.28$]\" to \"stats/8/test-mean-1.tex\"\n",
      "wrote \"$63.69$ points; 95\\% CI: [$54.32$, $72.59$]\" to \"stats/8/test-mean-2.tex\"\n",
      "wrote \"$67.08$ points; 95\\% CI: [$56.51$, $76.94$]\" to \"stats/8/test-mean-3.tex\"\n"
     ]
    }
   ],
   "source": [
    "report_means_ci(pdf.groupby('train_height').test, 'test', 'points')"
   ]
  },
  {
   "cell_type": "code",
   "execution_count": 18,
   "metadata": {},
   "outputs": [
    {
     "name": "stdout",
     "output_type": "stream",
     "text": [
      "wrote \"$d = 0.40, Z = 2.18, p = .029$\" to \"stats/8/independence-test-T2-T1.tex\"\n",
      "wrote \"$d = 0.45, Z = 2.49, p = .013$\" to \"stats/8/independence-test-T3-T1.tex\"\n",
      "wrote \"$d = 0.09, Z = 0.48, p = .628$\" to \"stats/8/independence-test-T3-T2.tex\"\n"
     ]
    }
   ],
   "source": [
    "write_independence_test('test', 'T2', 'T1')\n",
    "write_independence_test('test', 'T3', 'T1')\n",
    "write_independence_test('test', 'T3', 'T2')"
   ]
  },
  {
   "cell_type": "markdown",
   "metadata": {},
   "source": [
    "## Early test trials"
   ]
  },
  {
   "cell_type": "code",
   "execution_count": 19,
   "metadata": {},
   "outputs": [
    {
     "name": "stdout",
     "output_type": "stream",
     "text": [
      "wrote \"$H = 28.772, p < .001$\" to \"stats/8/test_early-kruskal.tex\"\n"
     ]
    }
   ],
   "source": [
    "write_kruskal('test_early')"
   ]
  },
  {
   "cell_type": "code",
   "execution_count": 20,
   "metadata": {},
   "outputs": [
    {
     "name": "stdout",
     "output_type": "stream",
     "text": [
      "wrote \"$49.10$ points; 95\\% CI: [$39.88$, $57.93$]\" to \"stats/8/test_early-mean-1.tex\"\n",
      "wrote \"$63.69$ points; 95\\% CI: [$54.76$, $72.21$]\" to \"stats/8/test_early-mean-2.tex\"\n",
      "wrote \"$67.08$ points; 95\\% CI: [$56.11$, $76.97$]\" to \"stats/8/test_early-mean-3.tex\"\n"
     ]
    }
   ],
   "source": [
    "report_means_ci(pdf.groupby('train_height').test, 'test_early', 'points')"
   ]
  },
  {
   "cell_type": "code",
   "execution_count": 21,
   "metadata": {},
   "outputs": [
    {
     "name": "stdout",
     "output_type": "stream",
     "text": [
      "wrote \"$d = 0.83, Z = 4.29, p < .001$\" to \"stats/8/independence-test_early-T2-T1.tex\"\n",
      "wrote \"$d = 0.78, Z = 4.08, p < .001$\" to \"stats/8/independence-test_early-T3-T1.tex\"\n",
      "wrote \"$d = 0.04, Z = 0.21, p = .831$\" to \"stats/8/independence-test_early-T3-T2.tex\"\n"
     ]
    }
   ],
   "source": [
    "write_independence_test('test_early', 'T2', 'T1')\n",
    "write_independence_test('test_early', 'T3', 'T1')\n",
    "write_independence_test('test_early', 'T3', 'T2')"
   ]
  },
  {
   "cell_type": "code",
   "execution_count": 22,
   "metadata": {},
   "outputs": [
    {
     "name": "stdout",
     "output_type": "stream",
     "text": [
      "wrote \"$p = .024$\" to \"stats/8/test_early-contrast-permutation.tex\"\n",
      "wrote \"$p = .359$\" to \"stats/8/test-contrast-permutation.tex\"\n"
     ]
    }
   ],
   "source": [
    "def improvement_contrast(x):\n",
    "    m = x.groupby('train_height').mean()\n",
    "    return (m[2] - m[1]) - (m[3] - m[2])\n",
    "\n",
    "def permutation_test(f, x, n=10000):\n",
    "    empirical = f(x)\n",
    "    x = x.copy()\n",
    "    boot = np.zeros(n)\n",
    "    for i in range(n):\n",
    "        np.random.shuffle(x.values)\n",
    "        boot[i] = f(x)\n",
    "    return np.mean(abs(boot) >= abs(empirical))\n",
    "    \n",
    "d = mdf.query('10 <= trial_index < 15')\\\n",
    "    .groupby('pid')[['score', 'train_height']].mean()\\\n",
    "    .set_index('train_height').score\n",
    "\n",
    "p = permutation_test(improvement_contrast, d)\n",
    "write_tex('test_early-contrast-permutation', f'${pval(p)}$')\n",
    "\n",
    "p = permutation_test(improvement_contrast, pdf.set_index('train_height').test)\n",
    "write_tex('test-contrast-permutation', f'${pval(p)}$')"
   ]
  },
  {
   "cell_type": "markdown",
   "metadata": {},
   "source": [
    "# Learning curves"
   ]
  },
  {
   "cell_type": "code",
   "execution_count": 23,
   "metadata": {},
   "outputs": [],
   "source": [
    "def learning_curve(var):\n",
    "    df = mdf.copy()\n",
    "    df.trial_index += 1\n",
    "    sns.lineplot('trial_index', var, hue='train_height', \n",
    "                 data=df, palette=palette)\n",
    "    plt.ylabel(nice_names[var])\n",
    "    plt.xlabel('Trial Number')\n",
    "    plt.gca().grid(axis='x')\n",
    "    split = mdf.query('block == \"training\"').trial_index.max()\n",
    "    plt.axvline(split+1.5, c='k', ls='--', alpha=0.3)\n",
    "    plt.xticks([1, *range(5, 31, 5)])\n",
    "    plt.xlim(df.trial_index.min()-0.5, df.trial_index.max()+0.5)\n",
    "    if var == 'backward':\n",
    "        plt.ylim(0,1)\n",
    "    reformat_legend(drop_title=var=='backward')\n",
    "    "
   ]
  },
  {
   "cell_type": "code",
   "execution_count": 24,
   "metadata": {},
   "outputs": [
    {
     "name": "stdout",
     "output_type": "stream",
     "text": [
      "figs/8/learning_curve_score.pdf\n",
      "figs/8/learning_curve_score.png\n"
     ]
    },
    {
     "data": {
      "text/plain": [
       "<function analysis_utils.Figures.plot.<locals>.decorator.<locals>.wrapped(*args, **kwargs)>"
      ]
     },
     "execution_count": 24,
     "metadata": {},
     "output_type": "execute_result"
    },
    {
     "data": {
      "image/png": "[encoded data removed]",
      "text/plain": [
       "<Figure size 432x288 with 1 Axes>"
      ]
     },
     "metadata": {},
     "output_type": "display_data"
    }
   ],
   "source": [
    "figure(var='score')(learning_curve)"
   ]
  },
  {
   "cell_type": "code",
   "execution_count": 25,
   "metadata": {},
   "outputs": [
    {
     "name": "stdout",
     "output_type": "stream",
     "text": [
      "figs/8/learning_curve_backward.pdf\n",
      "figs/8/learning_curve_backward.png\n"
     ]
    },
    {
     "data": {
      "text/plain": [
       "<function analysis_utils.Figures.plot.<locals>.decorator.<locals>.wrapped(*args, **kwargs)>"
      ]
     },
     "execution_count": 25,
     "metadata": {},
     "output_type": "execute_result"
    },
    {
     "data": {
      "image/png": "[encoded data removed]",
      "text/plain": [
       "<Figure size 432x288 with 1 Axes>"
      ]
     },
     "metadata": {},
     "output_type": "display_data"
    }
   ],
   "source": [
    "figure(var='backward')(learning_curve)"
   ]
  },
  {
   "cell_type": "markdown",
   "metadata": {},
   "source": [
    "# Process"
   ]
  },
  {
   "cell_type": "markdown",
   "metadata": {},
   "source": [
    "## Summary in test block"
   ]
  },
  {
   "cell_type": "code",
   "execution_count": 26,
   "metadata": {},
   "outputs": [
    {
     "name": "stdout",
     "output_type": "stream",
     "text": [
      "wrote \"$37.1$\\%\" to \"stats/8/backward-1-percent.tex\"\n",
      "wrote \"$63.0$\\%\" to \"stats/8/backward-2-percent.tex\"\n",
      "wrote \"$74.4$\\%\" to \"stats/8/backward-3-percent.tex\"\n",
      "wrote \"$23.8$\\%\" to \"stats/8/backward-early-1-percent.tex\"\n",
      "wrote \"$54.2$\\%\" to \"stats/8/backward-early-2-percent.tex\"\n",
      "wrote \"$72.3$\\%\" to \"stats/8/backward-early-3-percent.tex\"\n"
     ]
    }
   ],
   "source": [
    "def report_ratio(df, key, name=None):\n",
    "    if name is None:\n",
    "        name = key.replace('_', '-')\n",
    "    X = df.groupby(['train_height', key]).apply(len)\n",
    "    rate = 100 * df.groupby('train_height')[key].mean()\n",
    "\n",
    "    for c in [1,2,3]:\n",
    "        r = rate[c]\n",
    "        write_tex(f'{name}-{c}-percent', f\"${r:.1f}$\\%\")\n",
    "\n",
    "\n",
    "report_ratio(mdf.query('block == \"test\"').copy(), 'backward')\n",
    "\n",
    "early_test = mdf.query('10 <= trial_index < 15')\\\n",
    "    .groupby('pid')[['backward', 'train_height']].mean()\\\n",
    "    .set_index('train_height')\n",
    "\n",
    "report_ratio(early_test, 'backward', name='backward-early')"
   ]
  },
  {
   "cell_type": "code",
   "execution_count": 27,
   "metadata": {},
   "outputs": [
    {
     "name": "stdout",
     "output_type": "stream",
     "text": [
      "wrote \"$H = 34.609, p < .001$\" to \"stats/8/backward-kruskal.tex\"\n",
      "wrote \"$H = 39.741, p < .001$\" to \"stats/8/backward_early-kruskal.tex\"\n"
     ]
    }
   ],
   "source": [
    "write_kruskal('backward')\n",
    "write_kruskal('backward_early')"
   ]
  },
  {
   "cell_type": "code",
   "execution_count": 28,
   "metadata": {},
   "outputs": [
    {
     "name": "stdout",
     "output_type": "stream",
     "text": [
      "wrote \"$d = 0.62, Z = 3.33, p < .001$\" to \"stats/8/independence-backward-T2-T1.tex\"\n",
      "wrote \"$d = 0.91, Z = 4.64, p < .001$\" to \"stats/8/independence-backward-T3-T1.tex\"\n",
      "wrote \"$d = 0.27, Z = 1.50, p = .133$\" to \"stats/8/independence-backward-T3-T2.tex\"\n",
      "wrote \"$d = 0.81, Z = 4.19, p < .001$\" to \"stats/8/independence-backward_early-T2-T1.tex\"\n",
      "wrote \"$d = 1.27, Z = 6.01, p < .001$\" to \"stats/8/independence-backward_early-T3-T1.tex\"\n",
      "wrote \"$d = 0.43, Z = 2.34, p = .019$\" to \"stats/8/independence-backward_early-T3-T2.tex\"\n"
     ]
    }
   ],
   "source": [
    "write_independence_test('backward', 'T2', 'T1')\n",
    "write_independence_test('backward', 'T3', 'T1')\n",
    "write_independence_test('backward', 'T3', 'T2')\n",
    "\n",
    "write_independence_test('backward_early', 'T2', 'T1')\n",
    "write_independence_test('backward_early', 'T3', 'T1')\n",
    "write_independence_test('backward_early', 'T3', 'T2')"
   ]
  },
  {
   "cell_type": "code",
   "execution_count": 29,
   "metadata": {},
   "outputs": [
    {
     "data": {
      "text/plain": [
       "63"
      ]
     },
     "execution_count": 29,
     "metadata": {},
     "output_type": "execute_result"
    }
   ],
   "source": [
    "x = pdf.set_index('train_height').backward_early\n",
    "d1 = x.loc[1]\n",
    "len(d1)"
   ]
  },
  {
   "cell_type": "code",
   "execution_count": 30,
   "metadata": {},
   "outputs": [
    {
     "name": "stdout",
     "output_type": "stream",
     "text": [
      "Success!\n"
     ]
    }
   ],
   "source": [
    "print(\"Success!\")"
   ]
  }
 ],
 "metadata": {
  "@webio": {
   "lastCommId": null,
   "lastKernelId": null
  },
  "anaconda-cloud": {},
  "kernelspec": {
   "display_name": "Python 3",
   "language": "python",
   "name": "python3"
  },
  "language_info": {
   "codemirror_mode": {
    "name": "ipython",
    "version": 3
   },
   "file_extension": ".py",
   "mimetype": "text/x-python",
   "name": "python",
   "nbconvert_exporter": "python",
   "pygments_lexer": "ipython3",
   "version": "3.7.3"
  },
  "nav_menu": {},
  "toc": {
   "navigate_menu": true,
   "number_sections": true,
   "sideBar": true,
   "threshold": 6,
   "toc_cell": false,
   "toc_section_display": "block",
   "toc_window_display": false
  }
 },
 "nbformat": 4,
 "nbformat_minor": 1
}
