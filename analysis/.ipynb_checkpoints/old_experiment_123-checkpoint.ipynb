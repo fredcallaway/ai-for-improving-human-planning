{
 "cells": [
  {
   "cell_type": "code",
   "execution_count": 1,
   "metadata": {},
   "outputs": [
    {
     "name": "stderr",
     "output_type": "stream",
     "text": [
      "/usr/local/lib/miniconda3/lib/python3.6/site-packages/h5py/__init__.py:36: FutureWarning: Conversion of the second argument of issubdtype from `float` to `np.floating` is deprecated. In future, it will be treated as `np.float64 == np.dtype(float).type`.\n",
      "  from ._conv import register_converters as _register_converters\n"
     ]
    }
   ],
   "source": [
    "%matplotlib inline\n",
    "\n",
    "import matplotlib.pyplot as plt\n",
    "import numpy as np\n",
    "import pandas as pd\n",
    "import seaborn as sns\n",
    "import scipy.stats as stats\n",
    "import matplotlib as plt\n",
    "import itertools as it\n",
    "from analysis_utils import *\n",
    "import pymc3 as pm\n",
    "import theano.tensor as tt"
   ]
  },
  {
   "cell_type": "code",
   "execution_count": 2,
   "metadata": {},
   "outputs": [],
   "source": [
    "import rpy2.robjects as ro\n",
    "from rpy2.robjects import pandas2ri\n",
    "pandas2ri.activate()\n",
    "%load_ext rpy2.ipython"
   ]
  },
  {
   "cell_type": "markdown",
   "metadata": {},
   "source": [
    "# Setup"
   ]
  },
  {
   "cell_type": "code",
   "execution_count": 3,
   "metadata": {},
   "outputs": [
    {
     "name": "stdout",
     "output_type": "stream",
     "text": [
      "164 / 180 participants completed the study.\n"
     ]
    }
   ],
   "source": [
    "EXPERIMENT = 1\n",
    "figure = Figures(path=f'figs/{EXPERIMENT}', formats=['pdf', 'png']).plot\n",
    "# results = Results(f'stats/{EXPERIMENT}')\n",
    "\n",
    "def write_tex(name, tex):\n",
    "    file = f\"stats/{EXPERIMENT}-{name}.tex\"\n",
    "    with open(file, \"w+\") as f:\n",
    "        f.write(tex + r\"\\unskip\")\n",
    "    print(f'wrote \"{tex}\" to \"{file}\"')\n",
    "\n",
    "data = get_data(EXPERIMENT)\n",
    "pdf = data['participants'].set_index('pid').copy()\n",
    "full_pdf = pdf.copy()\n",
    "mdf = data['trials'].set_index('pid').copy()\n",
    "mdf.trial_time /= 1000\n",
    "mdf['clicked'] = mdf.n_clicks > 0\n",
    "# pdf['total_time'] = data['survey'].groupby('pid').time_elapsed.max() / 1000 / 60\n",
    "\n",
    "# pdf['completed'] = (mdf.groupby('pid').apply(len) == 30).reindex(pdf.index).fillna(False)\n",
    "print(f'{sum(pdf.completed)} / {len(pdf)} participants completed the study.')\n",
    "pdf.query('completed', inplace=True)\n",
    "completed = list(pdf.index)\n",
    "mdf.reset_index(inplace=True)\n",
    "mdf.query('pid == @completed', inplace=True)\n",
    "mdf.set_index('pid', inplace=True)"
   ]
  },
  {
   "cell_type": "code",
   "execution_count": 4,
   "metadata": {},
   "outputs": [
    {
     "name": "stdout",
     "output_type": "stream",
     "text": [
      "wrote \"$164$\" to \"stats/1-N-total.tex\"\n",
      "wrote \"$55$\" to \"stats/1-N-action.tex\"\n",
      "wrote \"$55$\" to \"stats/1-N-meta.tex\"\n",
      "wrote \"$54$\" to \"stats/1-N-none.tex\"\n"
     ]
    }
   ],
   "source": [
    "write_tex(\"N-total\", f\"${len(pdf)}$\")\n",
    "for fb, n in pdf.feedback.value_counts().items():\n",
    "    write_tex(f\"N-{fb}\", f\"${n}$\")"
   ]
  },
  {
   "cell_type": "code",
   "execution_count": 7,
   "metadata": {},
   "outputs": [],
   "source": [
    "pdf['original_pid'] = pdf.index\n",
    "pid_labeler = Labeler()\n",
    "for d in (pdf, mdf):\n",
    "    d.reset_index(inplace=True)\n",
    "    d.pid = d.pid.apply(pid_labeler)\n",
    "    d.set_index('pid', inplace=True)\n",
    "\n",
    "DELAY = EXPERIMENT in (3, 4, 5)\n",
    "if DELAY:\n",
    "    completed = set(pdf.query('completed').index)\n",
    "    pdf = pdf.query('completed')\n",
    "    mdf = mdf.iloc[mdf.index.isin(completed)]\n",
    "    \n",
    "\n",
    "fb_order = [fb for fb in ['none', 'action', 'meta'] if fb in set(pdf.feedback)]\n",
    "pdf.feedback = pd.Categorical(pdf.feedback, fb_order, ordered=True)    \n",
    "mdf['feedback'] = pdf.feedback\n",
    "block_mean = mdf.groupby(['block', 'pid']).score.mean()\n",
    "for b in ['training', 'test']:\n",
    "    pdf[b] = block_mean[b]"
   ]
  },
  {
   "cell_type": "code",
   "execution_count": 8,
   "metadata": {},
   "outputs": [],
   "source": [
    "sns.set_style('white')\n",
    "POSTER = False\n",
    "blue, orange = sns.color_palette('tab10')[:2]\n",
    "gray = (0.7,)*3\n",
    "if POSTER:\n",
    "    palette = {\n",
    "        'none': 'silver',\n",
    "        'action': orange,\n",
    "        'meta': '#327C32'\n",
    "    }\n",
    "else:\n",
    "    palette = {\n",
    "        'none': gray,\n",
    "        'action': blue,\n",
    "        'meta': orange\n",
    "    }\n",
    "\n",
    "nice_names = {\n",
    "    'meta': 'Metacognitive FB',\n",
    "    'action': 'Action FB',\n",
    "    'none': 'No FB',\n",
    "#     'score': 'Avg. Score (points/trial)',\n",
    "    'score': 'Average Score',\n",
    "}\n",
    "def reformat_labels(ax=None):\n",
    "    ax = ax or plt.gca()\n",
    "    labels = [t.get_text() for t in ax.get_xticklabels()]\n",
    "    new_labels = [nice_names.get(lab, lab) for lab in labels]\n",
    "    ax.set_xticklabels(new_labels)\n",
    "    \n",
    "def reformat_legend(legend):\n",
    "    ax = plt.gca()\n",
    "    handles, labels = ax.get_legend_handles_labels()\n",
    "    ax.legend(handles=handles[1:], labels=[nice_names.get(l, l) for l in labels[1:]])\n",
    "    legend.set_title('')\n",
    "    \n",
    "def plot_block_changes():\n",
    "    block_changes = mdf.loc[1].block.apply(Labeler()).diff().reset_index().query('block == 1').index\n",
    "    for t in block_changes:\n",
    "        plt.axvline(t-0.5, c='k', ls='--')\n",
    "\n",
    "from datetime import datetime\n",
    "# os.makedirs(f'stats/{EXPERIMENT}/', exist_ok=True)\n",
    "def result_file(name, ext='tex'):\n",
    "    file = f'stats/{EXPERIMENT}-{name}.{ext}'\n",
    "#     with open(file, 'w+') as f:\n",
    "#         timestamp = datetime.now().strftime('Created on %m/%d/%y at %H:%M:%S\\n\\n')\n",
    "#         f.write(timestamp)\n",
    "    return file"
   ]
  },
  {
   "cell_type": "markdown",
   "metadata": {
    "heading_collapsed": true
   },
   "source": [
    "## Payment"
   ]
  },
  {
   "cell_type": "code",
   "execution_count": 8,
   "metadata": {
    "hidden": true
   },
   "outputs": [
    {
     "data": {
      "text/plain": [
       "feedback\n",
       "none       0.00\n",
       "action     0.00\n",
       "meta      10.42\n",
       "Name: total_delay, dtype: float64"
      ]
     },
     "execution_count": 8,
     "metadata": {},
     "output_type": "execute_result"
    }
   ],
   "source": [
    "mdf['total_delay'] = mdf.delays.apply(sum)\n",
    "mdf.query('block == \"training\"').groupby('feedback').total_delay.mean()"
   ]
  },
  {
   "cell_type": "code",
   "execution_count": 8,
   "metadata": {
    "hidden": true
   },
   "outputs": [
    {
     "name": "stderr",
     "output_type": "stream",
     "text": [
      "/usr/local/lib/miniconda3/lib/python3.6/site-packages/scipy/stats/stats.py:1713: FutureWarning: Using a non-tuple sequence for multidimensional indexing is deprecated; use `arr[tuple(seq)]` instead of `arr[seq]`. In the future this will be interpreted as an array index, `arr[np.array(seq)]`, which will result either in an error or a different result.\n",
      "  return np.add.reduce(sorted[indexer] * weights, axis=axis) / sumval\n"
     ]
    },
    {
     "name": "stdout",
     "output_type": "stream",
     "text": [
      "The average duration of the experiment was 19.77 min +/- 7.53 min.\n",
      "The average bonus was $1.42 +/- $0.52.\n",
      "The average wage was $6.66/hr +/- $2.84.\n"
     ]
    },
    {
     "data": {
      "image/png": "[encoded data removed]",
      "text/plain": [
       "<Figure size 432x288 with 1 Axes>"
      ]
     },
     "metadata": {},
     "output_type": "display_data"
    }
   ],
   "source": [
    "pdf['pay'] = (0.50 + pdf.bonus)\n",
    "pdf['wage'] = pdf.pay / (pdf.total_time / 60)\n",
    "\n",
    "sns.distplot(pdf.wage)\n",
    "plt.axvline(pdf.wage.mean(), c='r', ls='--')\n",
    "\n",
    "print(f'The average duration of the experiment was {pdf.total_time.mean():.2f} min +/- {pdf.total_time.std():.2f} min.')\n",
    "print(f'The average bonus was ${pdf.bonus.mean():.2f} +/- ${pdf.bonus.std():.2f}.')\n",
    "print(f'The average wage was ${pdf.wage.mean():.2f}/hr +/- ${pdf.wage.std():.2f}.')"
   ]
  },
  {
   "cell_type": "markdown",
   "metadata": {},
   "source": [
    "# Test trials"
   ]
  },
  {
   "cell_type": "code",
   "execution_count": 9,
   "metadata": {},
   "outputs": [
    {
     "data": {
      "text/plain": [
       "<matplotlib.axes._subplots.AxesSubplot at 0x1276585f8>"
      ]
     },
     "execution_count": 9,
     "metadata": {},
     "output_type": "execute_result"
    },
    {
     "data": {
      "image/png": "[encoded data removed]",
      "text/plain": [
       "<Figure size 432x288 with 1 Axes>"
      ]
     },
     "metadata": {},
     "output_type": "display_data"
    }
   ],
   "source": [
    "sns.boxplot('feedback', 'test', data=pdf, palette=palette, order=fb_order)"
   ]
  },
  {
   "cell_type": "code",
   "execution_count": 10,
   "metadata": {},
   "outputs": [
    {
     "name": "stderr",
     "output_type": "stream",
     "text": [
      "/usr/local/lib/miniconda3/lib/python3.6/site-packages/scipy/stats/stats.py:1713: FutureWarning: Using a non-tuple sequence for multidimensional indexing is deprecated; use `arr[tuple(seq)]` instead of `arr[seq]`. In the future this will be interpreted as an array index, `arr[np.array(seq)]`, which will result either in an error or a different result.\n",
      "  return np.add.reduce(sorted[indexer] * weights, axis=axis) / sumval\n"
     ]
    },
    {
     "data": {
      "text/plain": [
       "<matplotlib.axes._subplots.AxesSubplot at 0x127774ba8>"
      ]
     },
     "execution_count": 10,
     "metadata": {},
     "output_type": "execute_result"
    },
    {
     "data": {
      "image/png": "[encoded data removed]",
      "text/plain": [
       "<Figure size 432x288 with 1 Axes>"
      ]
     },
     "metadata": {},
     "output_type": "display_data"
    }
   ],
   "source": [
    "sns.swarmplot('feedback', 'test', data=pdf, palette=palette, alpha=0.3, order=fb_order)\n",
    "sns.pointplot('feedback', 'test', data=pdf, palette=palette, order=fb_order, scale=1.5, markers='_')"
   ]
  },
  {
   "cell_type": "code",
   "execution_count": 11,
   "metadata": {},
   "outputs": [
    {
     "name": "stderr",
     "output_type": "stream",
     "text": [
      "/usr/local/lib/miniconda3/lib/python3.6/site-packages/scipy/stats/stats.py:1713: FutureWarning: Using a non-tuple sequence for multidimensional indexing is deprecated; use `arr[tuple(seq)]` instead of `arr[seq]`. In the future this will be interpreted as an array index, `arr[np.array(seq)]`, which will result either in an error or a different result.\n",
      "  return np.add.reduce(sorted[indexer] * weights, axis=axis) / sumval\n"
     ]
    },
    {
     "name": "stdout",
     "output_type": "stream",
     "text": [
      "figs/1/test.pdf\n",
      "figs/1/test.png\n"
     ]
    },
    {
     "data": {
      "image/png": "[encoded data removed]",
      "text/plain": [
       "<Figure size 432x288 with 1 Axes>"
      ]
     },
     "metadata": {},
     "output_type": "display_data"
    }
   ],
   "source": [
    "@figure()\n",
    "def plot_test():\n",
    "#     keep = mdf.query('block == \"test\"').groupby('pid').clicked.mean() > 0.5\n",
    "#     print(keep.mean())\n",
    "#     data = pdf.copy().loc[keep]\n",
    "#     data['test'] = mdf.query('clicked').groupby('pid').score.mean()\n",
    "    data = pdf\n",
    "\n",
    "    if POSTER:\n",
    "        sns.barplot('feedback', 'test', data=data, palette=palette, order=fb_order)\n",
    "    else:\n",
    "        sns.barplot('feedback', 'test', data=data,\n",
    "                    palette=palette, order=fb_order)\n",
    "    plt.xlabel('')\n",
    "    plt.ylabel(nice_names['score'])\n",
    "    test = 'Test' if EXPERIMENT == 1 else 'Transfer'\n",
    "    title = f'{test} Performance'\n",
    "    if EXPERIMENT == 3:\n",
    "        title += ' After 24 Hours'\n",
    "    plt.title(title)\n",
    "    reformat_labels()"
   ]
  },
  {
   "cell_type": "markdown",
   "metadata": {
    "heading_collapsed": true
   },
   "source": [
    "## Bootstrapping"
   ]
  },
  {
   "cell_type": "code",
   "execution_count": 104,
   "metadata": {
    "hidden": true
   },
   "outputs": [
    {
     "name": "stdout",
     "output_type": "stream",
     "text": [
      "wrote \"$31.26$ points/trial; 95\\% CI: [$27.12$, $35.03$]\" to \"stats/1-mean-none.tex\"\n",
      "wrote \"$30.21$ points/trial; 95\\% CI: [$25.98$, $34.06$]\" to \"stats/1-mean-action.tex\"\n",
      "wrote \"$36.88$ points/trial; 95\\% CI: [$34.15$, $39.00$]\" to \"stats/1-mean-meta.tex\"\n"
     ]
    }
   ],
   "source": [
    "N_BOOT = 10000\n",
    "test_score = pdf.set_index('feedback').test\n",
    "\n",
    "def ci(xs):\n",
    "    return np.quantile(xs, [0.025, 0.975])\n",
    "\n",
    "def boot_means(n=N_BOOT):\n",
    "    r = {}\n",
    "    for fb in fb_order:\n",
    "        x = test_score[fb]\n",
    "        means = [x.sample(frac=1, replace=True).mean() for _ in range(n)]\n",
    "        r[fb] = np.array(means)\n",
    "    return r\n",
    "\n",
    "bm = boot_means()\n",
    "for fb in fb_order:\n",
    "    x = test_score[fb].mean()\n",
    "    a, b = ci(bm[fb])\n",
    "    tex = (rf'${x:.2f}$ points/trial; 95\\% CI: [${a:.2f}$, ${b:.2f}$]')\n",
    "    write_tex(f'mean-{fb}', tex)"
   ]
  },
  {
   "cell_type": "code",
   "execution_count": 105,
   "metadata": {
    "hidden": true
   },
   "outputs": [
    {
     "name": "stdout",
     "output_type": "stream",
     "text": [
      "wrote \"$p = .033$\" to \"stats/1-meta-none.tex\"\n",
      "wrote \"$p = .012$\" to \"stats/1-meta-action.tex\"\n",
      "wrote \"$p = .696$\" to \"stats/1-action-none.tex\"\n"
     ]
    }
   ],
   "source": [
    "n_fb = test_score.groupby('feedback').apply(len)\n",
    "\n",
    "def null_mean_diff_samples(c1, c2, n=N_BOOT):\n",
    "    r = []\n",
    "    for i in range(n):\n",
    "        x = test_score.sample(n=n_fb[c1], replace=True)\n",
    "        y = test_score.sample(n=n_fb[c2], replace=True)\n",
    "        r.append(x.mean() - y.mean())\n",
    "    return np.array(r)\n",
    "\n",
    "def report(c1, c2, n=N_BOOT):\n",
    "    actual_diff = test_score[c1].mean() - test_score[c2].mean()\n",
    "    null_diff = null_mean_diff_samples(c1, c2, n=n)\n",
    "    p = (1 + np.sum(abs(null_diff) >= abs(actual_diff))) / (n+1)\n",
    "    write_tex(f'{c1}-{c2}', f'${pval(p)}$')\n",
    "\n",
    "report('meta', 'none')\n",
    "if 'action' in fb_order:\n",
    "    report('meta', 'action')\n",
    "    report('action', 'none')"
   ]
  },
  {
   "cell_type": "markdown",
   "metadata": {
    "heading_collapsed": true
   },
   "source": [
    "## Kruskal-Wallis"
   ]
  },
  {
   "cell_type": "code",
   "execution_count": 307,
   "metadata": {
    "hidden": true
   },
   "outputs": [
    {
     "name": "stderr",
     "output_type": "stream",
     "text": [
      "/usr/local/lib/miniconda3/lib/python3.6/site-packages/scipy/stats/stats.py:1713: FutureWarning: Using a non-tuple sequence for multidimensional indexing is deprecated; use `arr[tuple(seq)]` instead of `arr[seq]`. In the future this will be interpreted as an array index, `arr[np.array(seq)]`, which will result either in an error or a different result.\n",
      "  return np.add.reduce(sorted[indexer] * weights, axis=axis) / sumval\n"
     ]
    },
    {
     "data": {
      "text/plain": [
       "<matplotlib.legend.Legend at 0x120f12320>"
      ]
     },
     "execution_count": 307,
     "metadata": {},
     "output_type": "execute_result"
    },
    {
     "data": {
      "image/png": "[encoded data removed]",
      "text/plain": [
       "<Figure size 432x288 with 1 Axes>"
      ]
     },
     "metadata": {},
     "output_type": "display_data"
    }
   ],
   "source": [
    "pdf['clicked'] = mdf.groupby('pid').clicked.mean()\n",
    "for fb, d in pdf.groupby('feedback'):\n",
    "    sns.distplot(d.clicked, label=fb, kde=False)\n",
    "plt.legend()"
   ]
  },
  {
   "cell_type": "code",
   "execution_count": 12,
   "metadata": {
    "hidden": true
   },
   "outputs": [
    {
     "name": "stdout",
     "output_type": "stream",
     "text": [
      "wrote \"$\\chi^2(2)=7.493, p=0.024$\" to \"stats/1-kruskal.tex\"\n"
     ]
    }
   ],
   "source": [
    "from scipy.stats import kruskal\n",
    "test_score = pdf.set_index('feedback').test\n",
    "s, p = kruskal(*[test_score[fb] for fb in fb_order])\n",
    "write_tex('kruskal', rf\"$\\chi^2(2)={s:.3f}, p={p:.3f}$\")"
   ]
  },
  {
   "cell_type": "markdown",
   "metadata": {
    "heading_collapsed": true
   },
   "source": [
    "## Mann-Whitney U"
   ]
  },
  {
   "cell_type": "code",
   "execution_count": 58,
   "metadata": {
    "hidden": true
   },
   "outputs": [
    {
     "name": "stdout",
     "output_type": "stream",
     "text": [
      "wrote \"$38.6$ points/trial vs. $37.1$ points/trial, $U = 1797.0$, $p < 0.05$\" to \"stats/1-meta-none.tex\"\n",
      "wrote \"$38.6$ points/trial vs. $37.1$ points/trial, $U = 1962.0$, $p < 0.01$\" to \"stats/1-meta-action.tex\"\n",
      "wrote \"$37.1$ points/trial vs. $37.1$ points/trial, $U = 1382.5$, $p = 0.73$\" to \"stats/1-action-none.tex\"\n"
     ]
    }
   ],
   "source": [
    "from scipy.stats import mannwhitneyu\n",
    "\n",
    "def report(c1, c2):\n",
    "    x = test_score[c1]\n",
    "    y = test_score[c2]\n",
    "    u, p = mannwhitneyu(x, y, alternative='greater')\n",
    "    tex = rf'${x.median():0.1f}$ points/trial vs. ${y.median():0.1f}$ points/trial, $U = {u:.1f}$, ${pval(p)}$'\n",
    "    write_tex(f'{c1}-{c2}', tex)\n",
    "\n",
    "\n",
    "report('meta', 'none')\n",
    "if 'action' in fb_order:\n",
    "    report('meta', 'action')\n",
    "    report('action', 'none')"
   ]
  },
  {
   "cell_type": "markdown",
   "metadata": {
    "heading_collapsed": true
   },
   "source": [
    "## Mixture model\n",
    "As the plot below shows, the data appears to be bimodal with one peak around 0 and another peak around 40."
   ]
  },
  {
   "cell_type": "code",
   "execution_count": 23,
   "metadata": {
    "hidden": true
   },
   "outputs": [
    {
     "name": "stderr",
     "output_type": "stream",
     "text": [
      "/usr/local/lib/miniconda3/lib/python3.6/site-packages/scipy/stats/stats.py:1713: FutureWarning: Using a non-tuple sequence for multidimensional indexing is deprecated; use `arr[tuple(seq)]` instead of `arr[seq]`. In the future this will be interpreted as an array index, `arr[np.array(seq)]`, which will result either in an error or a different result.\n",
      "  return np.add.reduce(sorted[indexer] * weights, axis=axis) / sumval\n"
     ]
    },
    {
     "data": {
      "image/png": "[encoded data removed]",
      "text/plain": [
       "<Figure size 432x288 with 1 Axes>"
      ]
     },
     "metadata": {},
     "output_type": "display_data"
    }
   ],
   "source": [
    "for fb, x in test_score.groupby(level=0):\n",
    "    sns.distplot(x, label=fb, hist=False, color=palette[fb])\n",
    "plt.legend();"
   ]
  },
  {
   "cell_type": "markdown",
   "metadata": {
    "hidden": true
   },
   "source": [
    "### Fit µ and σ jointly"
   ]
  },
  {
   "cell_type": "code",
   "execution_count": 64,
   "metadata": {
    "hidden": true
   },
   "outputs": [
    {
     "name": "stderr",
     "output_type": "stream",
     "text": [
      "Auto-assigning NUTS sampler...\n",
      "Initializing NUTS using jitter+adapt_diag...\n",
      "Multiprocess sampling (2 chains in 2 jobs)\n",
      "NUTS: [meta_w, action_w, none_w, σ, µ]\n",
      "Sampling 2 chains: 100%|██████████| 3000/3000 [00:08<00:00, 352.57draws/s]\n",
      "The acceptance probability does not match the target. It is 0.8807628730424143, but should be close to 0.8. Try to increase the number of tuning steps.\n"
     ]
    }
   ],
   "source": [
    "with pm.Model() as model:\n",
    "    μ = pm.Normal('µ', test_score.mean(), test_score.std()*3, shape=2)\n",
    "    pm.Potential(f'order_means_potential', tt.switch(µ[0] < µ[1], 0, -1000))\n",
    "    σ = pm.Uniform('σ', 1, test_score.std(), shape=2)\n",
    "    for fb, score in test_score.groupby(level=0):\n",
    "        w = pm.Dirichlet(f'{fb}_w', np.ones(2))\n",
    "        pm.NormalMixture(f'{fb}_score', w, mu=μ, sigma=σ, observed=score)\n",
    "#     pm.Potential('order_means', tt.switch(μ[1]-μ[0] < 0, -10000, 0))\n",
    "    trace = pm.sample(1000)"
   ]
  },
  {
   "cell_type": "code",
   "execution_count": 92,
   "metadata": {
    "hidden": true
   },
   "outputs": [
    {
     "data": {
      "text/plain": [
       "array([0.04854327, 0.31427004])"
      ]
     },
     "execution_count": 92,
     "metadata": {},
     "output_type": "execute_result"
    }
   ],
   "source": [
    "w1 = pd.Series({fb: trace[f'{fb}_w'][:, 1] for fb in fb_order})\n",
    "pm.hpd(w1.meta - w1.none)"
   ]
  },
  {
   "cell_type": "code",
   "execution_count": 146,
   "metadata": {
    "hidden": true
   },
   "outputs": [
    {
     "name": "stderr",
     "output_type": "stream",
     "text": [
      "100%|██████████| 1/1 [00:00<00:00, 82.66it/s]\n"
     ]
    },
    {
     "name": "stdout",
     "output_type": "stream",
     "text": [
      "WAIC_r(WAIC=970.4680738458663, WAIC_se=31.876349387744096, p_WAIC=6.817774887388523, var_warn=1)\n"
     ]
    },
    {
     "name": "stderr",
     "output_type": "stream",
     "text": [
      "/Users/fred/Projects/open-sauce/pymc3/pymc3/stats.py:218: UserWarning: For one or more samples the posterior variance of the\n",
      "        log predictive densities exceeds 0.4. This could be indication of\n",
      "        WAIC starting to fail see http://arxiv.org/abs/1507.04544 for details\n",
      "        \n",
      "  \"\"\")\n"
     ]
    }
   ],
   "source": [
    "with model:\n",
    "    ppc = pm.sample_posterior_predictive(trace, samples=1)\n",
    "    waic = pm.waic(trace)\n",
    "    print(waic)"
   ]
  },
  {
   "cell_type": "code",
   "execution_count": 72,
   "metadata": {
    "hidden": true
   },
   "outputs": [
    {
     "name": "stderr",
     "output_type": "stream",
     "text": [
      "/usr/local/lib/miniconda3/lib/python3.6/site-packages/scipy/stats/stats.py:1713: FutureWarning: Using a non-tuple sequence for multidimensional indexing is deprecated; use `arr[tuple(seq)]` instead of `arr[seq]`. In the future this will be interpreted as an array index, `arr[np.array(seq)]`, which will result either in an error or a different result.\n",
      "  return np.add.reduce(sorted[indexer] * weights, axis=axis) / sumval\n"
     ]
    },
    {
     "data": {
      "image/png": "[encoded data removed]",
      "text/plain": [
       "<Figure size 432x288 with 1 Axes>"
      ]
     },
     "metadata": {},
     "output_type": "display_data"
    }
   ],
   "source": [
    "for fb in fb_order:\n",
    "    sns.distplot(ppc[f'{fb}_score'][0], label=fb, hist=False, color=palette[fb])\n",
    "plt.legend();"
   ]
  },
  {
   "cell_type": "code",
   "execution_count": 56,
   "metadata": {
    "hidden": true
   },
   "outputs": [
    {
     "data": {
      "text/plain": [
       "<matplotlib.axes._subplots.AxesSubplot at 0x1269bdbe0>"
      ]
     },
     "execution_count": 56,
     "metadata": {},
     "output_type": "execute_result"
    },
    {
     "data": {
      "image/png": "[encoded data removed]",
      "text/plain": [
       "<Figure size 432x288 with 1 Axes>"
      ]
     },
     "metadata": {},
     "output_type": "display_data"
    }
   ],
   "source": [
    "ppc_test_score = pd.concat([pd.DataFrame({'feedback': fb, 'test': ppc[f'{fb}_score'][0]}) for fb in fb_order])\n",
    "sns.boxplot('feedback', 'test', data=ppc_test_score, palette=palette, order=fb_order)"
   ]
  },
  {
   "cell_type": "markdown",
   "metadata": {
    "hidden": true
   },
   "source": [
    "### Fit μ and σ separately"
   ]
  },
  {
   "cell_type": "code",
   "execution_count": 135,
   "metadata": {
    "hidden": true
   },
   "outputs": [
    {
     "name": "stderr",
     "output_type": "stream",
     "text": [
      "Auto-assigning NUTS sampler...\n",
      "Initializing NUTS using jitter+adapt_diag...\n",
      "Multiprocess sampling (2 chains in 2 jobs)\n",
      "NUTS: [meta_w, meta_σ, meta_µ, action_w, action_σ, action_µ, none_w, none_σ, none_µ]\n",
      "Sampling 2 chains: 100%|██████████| 6000/6000 [00:28<00:00, 109.86draws/s]\n",
      "There were 53 divergences after tuning. Increase `target_accept` or reparameterize.\n",
      "There were 55 divergences after tuning. Increase `target_accept` or reparameterize.\n"
     ]
    }
   ],
   "source": [
    "with pm.Model() as separate_model:\n",
    "    for fb, score in test_score.groupby(level=0):\n",
    "        μ = pm.Normal(f'{fb}_µ', test_score.mean(), test_score.std()*3, shape=2, testval=[0,40])\n",
    "        pm.Potential(f'{fb}_order_means_potential', tt.switch(µ[0] < µ[1], 0, -10000))\n",
    "        σ = pm.Uniform(f'{fb}_σ', 1, test_score.std(), shape=2)\n",
    "        w = pm.Dirichlet(f'{fb}_w', np.ones(2))\n",
    "        pm.NormalMixture(f'{fb}_score', w, mu=μ, sigma=σ, observed=score)\n",
    "    trace_separate = pm.sample(1000, tune=2000)"
   ]
  },
  {
   "cell_type": "code",
   "execution_count": 147,
   "metadata": {
    "hidden": true
   },
   "outputs": [
    {
     "name": "stderr",
     "output_type": "stream",
     "text": [
      "100%|██████████| 1/1 [00:00<00:00, 64.72it/s]\n"
     ]
    },
    {
     "name": "stdout",
     "output_type": "stream",
     "text": [
      "WAIC_r(WAIC=977.9188325070413, WAIC_se=32.74653211919345, p_WAIC=15.664069405472132, var_warn=1)\n"
     ]
    },
    {
     "name": "stderr",
     "output_type": "stream",
     "text": [
      "/Users/fred/Projects/open-sauce/pymc3/pymc3/stats.py:218: UserWarning: For one or more samples the posterior variance of the\n",
      "        log predictive densities exceeds 0.4. This could be indication of\n",
      "        WAIC starting to fail see http://arxiv.org/abs/1507.04544 for details\n",
      "        \n",
      "  \"\"\")\n"
     ]
    }
   ],
   "source": [
    "with separate_model:\n",
    "    ppc = pm.sample_posterior_predictive(trace_separate, samples=1)\n",
    "    separate_waic = pm.waic(trace_separate)\n",
    "    print(separate_waic)"
   ]
  },
  {
   "cell_type": "code",
   "execution_count": 153,
   "metadata": {
    "hidden": true
   },
   "outputs": [
    {
     "name": "stderr",
     "output_type": "stream",
     "text": [
      "/Users/fred/Projects/open-sauce/pymc3/pymc3/stats.py:299: UserWarning: Estimated shape parameter of Pareto distribution is\n",
      "        greater than 0.7 for one or more samples.\n",
      "        You should consider using a more robust model, this is because\n",
      "        importance sampling is less likely to work well if the marginal\n",
      "        posterior and LOO posterior are very different. This is more likely to\n",
      "        happen with a non-robust model and highly influential observations.\n",
      "  happen with a non-robust model and highly influential observations.\"\"\")\n"
     ]
    },
    {
     "data": {
      "text/html": [
       "<div>\n",
       "<style scoped>\n",
       "    .dataframe tbody tr th:only-of-type {\n",
       "        vertical-align: middle;\n",
       "    }\n",
       "\n",
       "    .dataframe tbody tr th {\n",
       "        vertical-align: top;\n",
       "    }\n",
       "\n",
       "    .dataframe thead th {\n",
       "        text-align: right;\n",
       "    }\n",
       "</style>\n",
       "<table border=\"1\" class=\"dataframe\">\n",
       "  <thead>\n",
       "    <tr style=\"text-align: right;\">\n",
       "      <th></th>\n",
       "      <th>LOO</th>\n",
       "      <th>pLOO</th>\n",
       "      <th>dLOO</th>\n",
       "      <th>weight</th>\n",
       "      <th>SE</th>\n",
       "      <th>dSE</th>\n",
       "      <th>shape_warn</th>\n",
       "    </tr>\n",
       "  </thead>\n",
       "  <tbody>\n",
       "    <tr>\n",
       "      <th>joint</th>\n",
       "      <td>970.55</td>\n",
       "      <td>6.86</td>\n",
       "      <td>0</td>\n",
       "      <td>0.85</td>\n",
       "      <td>31.89</td>\n",
       "      <td>0</td>\n",
       "      <td>0</td>\n",
       "    </tr>\n",
       "    <tr>\n",
       "      <th>separate</th>\n",
       "      <td>980.47</td>\n",
       "      <td>16.94</td>\n",
       "      <td>9.92</td>\n",
       "      <td>0.15</td>\n",
       "      <td>33.38</td>\n",
       "      <td>8.27</td>\n",
       "      <td>1</td>\n",
       "    </tr>\n",
       "  </tbody>\n",
       "</table>\n",
       "</div>"
      ],
      "text/plain": [
       "             LOO   pLOO  dLOO weight     SE   dSE shape_warn\n",
       "joint     970.55   6.86     0   0.85  31.89     0          0\n",
       "separate  980.47  16.94  9.92   0.15  33.38  8.27          1"
      ]
     },
     "execution_count": 153,
     "metadata": {},
     "output_type": "execute_result"
    }
   ],
   "source": [
    "separate_model.name = 'separate'\n",
    "model.name = 'joint'\n",
    "pm.compare({separate_model : trace_separate, model: trace}, ic='LOO')"
   ]
  },
  {
   "cell_type": "code",
   "execution_count": 142,
   "metadata": {
    "hidden": true
   },
   "outputs": [
    {
     "name": "stderr",
     "output_type": "stream",
     "text": [
      "/Users/fred/Projects/open-sauce/pymc3/pymc3/plots/__init__.py:40: UserWarning: Keyword argument `varnames` renamed to `var_names`, and will be removed in pymc3 3.8\n",
      "  warnings.warn('Keyword argument `{old}` renamed to `{new}`, and will be removed in pymc3 3.8'.format(old=old, new=new))\n"
     ]
    },
    {
     "data": {
      "text/plain": [
       "(<Figure size 432x518.4 with 1 Axes>,\n",
       " array([<matplotlib.axes._subplots.AxesSubplot object at 0x126e9f390>],\n",
       "       dtype=object))"
      ]
     },
     "execution_count": 142,
     "metadata": {},
     "output_type": "execute_result"
    },
    {
     "data": {
      "image/png": "[encoded data removed]",
      "text/plain": [
       "<Figure size 432x518.4 with 1 Axes>"
      ]
     },
     "metadata": {},
     "output_type": "display_data"
    }
   ],
   "source": [
    "pm.forestplot(trace_separate, varnames=[f'{fb}_µ' for fb in fb_order])"
   ]
  },
  {
   "cell_type": "code",
   "execution_count": 126,
   "metadata": {
    "hidden": true
   },
   "outputs": [
    {
     "name": "stderr",
     "output_type": "stream",
     "text": [
      "/usr/local/lib/miniconda3/lib/python3.6/site-packages/scipy/stats/stats.py:1713: FutureWarning: Using a non-tuple sequence for multidimensional indexing is deprecated; use `arr[tuple(seq)]` instead of `arr[seq]`. In the future this will be interpreted as an array index, `arr[np.array(seq)]`, which will result either in an error or a different result.\n",
      "  return np.add.reduce(sorted[indexer] * weights, axis=axis) / sumval\n"
     ]
    },
    {
     "data": {
      "image/png": "[encoded data removed]",
      "text/plain": [
       "<Figure size 432x288 with 1 Axes>"
      ]
     },
     "metadata": {},
     "output_type": "display_data"
    }
   ],
   "source": [
    "for fb in fb_order:\n",
    "    sns.distplot(ppc[f'{fb}_score'][0], label=fb, hist=False, color=palette[fb])\n",
    "plt.legend();"
   ]
  },
  {
   "cell_type": "code",
   "execution_count": 149,
   "metadata": {
    "hidden": true
   },
   "outputs": [
    {
     "name": "stderr",
     "output_type": "stream",
     "text": [
      "100%|██████████| 100/100 [00:01<00:00, 63.55it/s]\n"
     ]
    }
   ],
   "source": [
    "with separate_model:\n",
    "    ppc_separate = pm.sample_posterior_predictive(trace_separate, samples=100)"
   ]
  },
  {
   "cell_type": "code",
   "execution_count": 159,
   "metadata": {
    "hidden": true
   },
   "outputs": [
    {
     "name": "stderr",
     "output_type": "stream",
     "text": [
      "/usr/local/lib/miniconda3/lib/python3.6/site-packages/scipy/stats/stats.py:1713: FutureWarning: Using a non-tuple sequence for multidimensional indexing is deprecated; use `arr[tuple(seq)]` instead of `arr[seq]`. In the future this will be interpreted as an array index, `arr[np.array(seq)]`, which will result either in an error or a different result.\n",
      "  return np.add.reduce(sorted[indexer] * weights, axis=axis) / sumval\n"
     ]
    },
    {
     "data": {
      "image/png": "[encoded data removed]",
      "text/plain": [
       "<Figure size 432x288 with 1 Axes>"
      ]
     },
     "metadata": {},
     "output_type": "display_data"
    }
   ],
   "source": [
    "for fb in fb_order:\n",
    "    sns.distplot(ppc_separate[f'{fb}_score'][5], label=fb, hist=False, color=palette[fb])\n",
    "plt.legend();"
   ]
  },
  {
   "cell_type": "code",
   "execution_count": 160,
   "metadata": {
    "hidden": true
   },
   "outputs": [
    {
     "name": "stderr",
     "output_type": "stream",
     "text": [
      "/usr/local/lib/miniconda3/lib/python3.6/site-packages/scipy/stats/stats.py:1713: FutureWarning: Using a non-tuple sequence for multidimensional indexing is deprecated; use `arr[tuple(seq)]` instead of `arr[seq]`. In the future this will be interpreted as an array index, `arr[np.array(seq)]`, which will result either in an error or a different result.\n",
      "  return np.add.reduce(sorted[indexer] * weights, axis=axis) / sumval\n"
     ]
    },
    {
     "data": {
      "text/plain": [
       "<matplotlib.axes._subplots.AxesSubplot at 0x135a73dd8>"
      ]
     },
     "execution_count": 160,
     "metadata": {},
     "output_type": "execute_result"
    },
    {
     "data": {
      "image/png": "[encoded data removed]",
      "text/plain": [
       "<Figure size 432x288 with 1 Axes>"
      ]
     },
     "metadata": {},
     "output_type": "display_data"
    }
   ],
   "source": [
    "ppc_test_score = pd.concat([pd.DataFrame({'feedback': fb, 'test': ppc_separate[f'{fb}_score'][0]}) for fb in fb_order])\n",
    "sns.barplot('feedback', 'test', data=ppc_test_score, palette=palette, order=fb_order)"
   ]
  },
  {
   "cell_type": "code",
   "execution_count": 171,
   "metadata": {
    "hidden": true
   },
   "outputs": [
    {
     "name": "stdout",
     "output_type": "stream",
     "text": [
      " 0.183, HPD: [0.028, 0.311]\n"
     ]
    }
   ],
   "source": [
    "w1 = pd.DataFrame({fb: trace[f'{fb}_w'][:, 1] for fb in fb_order})\n",
    "x = w1.meta - w1.none\n",
    "c1, c2 = pm.hpd(x)\n",
    "print(f' {x.mean():.3f}, HPD: [{c1:.3f}, {c2:.3f}]')"
   ]
  },
  {
   "cell_type": "markdown",
   "metadata": {
    "heading_collapsed": true
   },
   "source": [
    "# Learning"
   ]
  },
  {
   "cell_type": "code",
   "execution_count": 38,
   "metadata": {
    "hidden": true
   },
   "outputs": [
    {
     "name": "stderr",
     "output_type": "stream",
     "text": [
      "/usr/local/lib/miniconda3/lib/python3.6/site-packages/scipy/stats/stats.py:1713: FutureWarning: Using a non-tuple sequence for multidimensional indexing is deprecated; use `arr[tuple(seq)]` instead of `arr[seq]`. In the future this will be interpreted as an array index, `arr[np.array(seq)]`, which will result either in an error or a different result.\n",
      "  return np.add.reduce(sorted[indexer] * weights, axis=axis) / sumval\n"
     ]
    },
    {
     "name": "stdout",
     "output_type": "stream",
     "text": [
      "figs/1/learning.pdf\n",
      "figs/1/learning.png\n"
     ]
    },
    {
     "data": {
      "image/png": "[encoded data removed]",
      "text/plain": [
       "<Figure size 432x216 with 1 Axes>"
      ]
     },
     "metadata": {},
     "output_type": "display_data"
    }
   ],
   "source": [
    "@figure()\n",
    "def plot_learning():\n",
    "    plt.figure(figsize=(6,3))\n",
    "    g = sns.lineplot(x='trial_index', y='score', hue='feedback',  data=mdf,\n",
    "                     palette=palette, hue_order=fb_order[::-1], \n",
    "    #                  markers='.', dodge=0.3, legend_out=False, aspect=2, \n",
    "                    )\n",
    "    plot_block_changes()\n",
    "\n",
    "    plt.xlabel('Trial Number')\n",
    "    plt.ylabel('Score')\n",
    "    legend = plt.gca().legend()\n",
    "    reformat_legend(legend)\n",
    "    plt.xlim(0, 30)\n",
    "    plt.gcf().subplots_adjust(bottom=0.2)"
   ]
  },
  {
   "cell_type": "markdown",
   "metadata": {
    "hidden": true
   },
   "source": [
    "## Bayesian learning curves"
   ]
  },
  {
   "cell_type": "code",
   "execution_count": 186,
   "metadata": {
    "hidden": true
   },
   "outputs": [],
   "source": [
    "np.all(np.unique(mdf.reset_index().pid.values) == np.arange(151))"
   ]
  },
  {
   "cell_type": "code",
   "execution_count": 188,
   "metadata": {
    "hidden": true
   },
   "outputs": [
    {
     "name": "stderr",
     "output_type": "stream",
     "text": [
      "/usr/local/lib/miniconda3/lib/python3.6/site-packages/theano/tensor/subtensor.py:2197: FutureWarning: Using a non-tuple sequence for multidimensional indexing is deprecated; use `arr[tuple(seq)]` instead of `arr[seq]`. In the future this will be interpreted as an array index, `arr[np.array(seq)]`, which will result either in an error or a different result.\n",
      "  rval = inputs[0].__getitem__(inputs[1:])\n",
      "/usr/local/lib/miniconda3/lib/python3.6/site-packages/pymc3/tuning/starting.py:61: UserWarning: find_MAP should not be used to initialize the NUTS sampler, simply call pymc3.sample() and it will automatically initialize NUTS in a better way.\n",
      "  0%|          | 0/5000 [00:00<?, ?it/s]/usr/local/lib/miniconda3/lib/python3.6/site-packages/theano/tensor/subtensor.py:2197: FutureWarning: Using a non-tuple sequence for multidimensional indexing is deprecated; use `arr[tuple(seq)]` instead of `arr[seq]`. In the future this will be interpreted as an array index, `arr[np.array(seq)]`, which will result either in an error or a different result.\n",
      "  rval = inputs[0].__getitem__(inputs[1:])\n",
      "logp = -20,518, ||grad|| = 1.6381: 100%|██████████| 110/110 [00:00<00:00, 333.40it/s] \n",
      "/usr/local/lib/miniconda3/lib/python3.6/site-packages/theano/tensor/subtensor.py:2197: FutureWarning: Using a non-tuple sequence for multidimensional indexing is deprecated; use `arr[tuple(seq)]` instead of `arr[seq]`. In the future this will be interpreted as an array index, `arr[np.array(seq)]`, which will result either in an error or a different result.\n",
      "  rval = inputs[0].__getitem__(inputs[1:])\n",
      "Auto-assigning NUTS sampler...\n",
      "Initializing NUTS using jitter+adapt_diag...\n",
      "/usr/local/lib/miniconda3/lib/python3.6/site-packages/theano/tensor/subtensor.py:2197: FutureWarning: Using a non-tuple sequence for multidimensional indexing is deprecated; use `arr[tuple(seq)]` instead of `arr[seq]`. In the future this will be interpreted as an array index, `arr[np.array(seq)]`, which will result either in an error or a different result.\n",
      "  rval = inputs[0].__getitem__(inputs[1:])\n",
      "Multiprocess sampling (2 chains in 2 jobs)\n",
      "NUTS: [baseline, sigma, pid_baseline, rate, asymptote, rate_lam, asymptote_lam]\n",
      "Sampling 2 chains: 100%|██████████| 4000/4000 [01:48<00:00, 36.87draws/s] \n",
      "The number of effective samples is smaller than 25% for some parameters.\n"
     ]
    }
   ],
   "source": [
    "import pymc3 as pm\n",
    "import theano.tensor as tt\n",
    "\n",
    "def bounded_exponential_growth(t, rate, asymptote):\n",
    "    return asymptote * (1 - tt.exp(-(rate / asymptote) * t))\n",
    "\n",
    "def define_model(df, ignore_pr=False):\n",
    "    # Indices and dimensions.\n",
    "    pid = df.pid.values  # participant id\n",
    "    n_pid = pid.max() + 1\n",
    "    assert np.all(np.unique(pid) == np.arange(n_pid))\n",
    "    stim = df.stim_i.values\n",
    "    n_stim = stim.max() + 1\n",
    "    if ignore_pr:\n",
    "        FB_type = np.zeros(len(df), dtype=int)\n",
    "        n_group = 1\n",
    "    else:\n",
    "        FB_type = df.feedback.apply(fb_order.index).values\n",
    "        n_group = len(fb_order)\n",
    "    trial = df.trial_index.values\n",
    "    n_trial = trial.max() + 1\n",
    "    \n",
    "    with pm.Model() as model:\n",
    "        # Group level parameters.\n",
    "        asymptote_lam = pm.HalfCauchy('asymptote_lam', 10)\n",
    "        rate_lam = pm.HalfCauchy('rate_lam', 10)\n",
    "        asymptote = pm.Exponential('asymptote', asymptote_lam, shape=n_group)\n",
    "        rate = pm.Exponential('rate', rate_lam, shape=n_group)\n",
    "        \n",
    "        # Individual parameters.\n",
    "        pid_baseline = pm.Normal('pid_baseline', 0, 1, shape=n_pid)\n",
    "        \n",
    "        # Stimuli parameters.\n",
    "        sigma = pm.HalfCauchy('sigma', 10., shape=n_stim)\n",
    "        stim_baseline = pm.Normal('baseline', 0, 1, shape=n_stim)\n",
    "        \n",
    "        # Generative model.\n",
    "        t = np.arange(n_trial).reshape(-1, 1)  # broadcasting\n",
    "        improvement = bounded_exponential_growth(t, rate, asymptote)\n",
    "        skill = pid_baseline[pid] + improvement[trial, FB_type]\n",
    "        pred_score = stim_baseline[stim] + skill * sigma[stim]\n",
    "        pm.Normal('score', pred_score, sigma[stim], observed=df.score.values) \n",
    "        \n",
    "        pm.Deterministic('improvement', improvement)\n",
    "        pm.Deterministic('pred_score', pred_score)\n",
    "        return model\n",
    "\n",
    "model = define_model(mdf.reset_index())\n",
    "with model:\n",
    "    MAP = pm.find_MAP()\n",
    "    trace = pm.sample(1000, tune=1000)"
   ]
  },
  {
   "cell_type": "markdown",
   "metadata": {
    "hidden": true
   },
   "source": [
    "### Parameters"
   ]
  },
  {
   "cell_type": "code",
   "execution_count": null,
   "metadata": {
    "hidden": true
   },
   "outputs": [],
   "source": [
    "from analysis_utils import Results\n",
    "results = Results(f'stats/{EXPERIMENT}')\n",
    "f = results.file('foobar')\n",
    "f.write('hello')\n",
    "f.write('goodbye');"
   ]
  },
  {
   "cell_type": "code",
   "execution_count": 45,
   "metadata": {
    "hidden": true
   },
   "outputs": [
    {
     "data": {
      "text/plain": [
       "7"
      ]
     },
     "execution_count": 45,
     "metadata": {},
     "output_type": "execute_result"
    }
   ],
   "source": [
    "x = open('foobar.txt', 'w+')\n",
    "x.write('heello!')"
   ]
  },
  {
   "cell_type": "code",
   "execution_count": 37,
   "metadata": {
    "hidden": true
   },
   "outputs": [
    {
     "name": "stdout",
     "output_type": "stream",
     "text": [
      "stats/file.txt\n"
     ]
    }
   ],
   "source": [
    "with open('stats/file.txt', 'w+') as x:\n",
    "    print(x.name)\n",
    "    \n"
   ]
  },
  {
   "cell_type": "code",
   "execution_count": 189,
   "metadata": {
    "hidden": true
   },
   "outputs": [
    {
     "name": "stderr",
     "output_type": "stream",
     "text": [
      "/usr/local/lib/miniconda3/lib/python3.6/site-packages/pymc3/plots/__init__.py:40: UserWarning: Keyword argument `varnames` renamed to `var_names`, and will be removed in pymc3 3.8\n",
      "  warnings.warn('Keyword argument `{old}` renamed to `{new}`, and will be removed in pymc3 3.8'.format(old=old, new=new))\n",
      "/usr/local/lib/miniconda3/lib/python3.6/site-packages/theano/tensor/subtensor.py:2197: FutureWarning: Using a non-tuple sequence for multidimensional indexing is deprecated; use `arr[tuple(seq)]` instead of `arr[seq]`. In the future this will be interpreted as an array index, `arr[np.array(seq)]`, which will result either in an error or a different result.\n",
      "  rval = inputs[0].__getitem__(inputs[1:])\n"
     ]
    },
    {
     "data": {
      "text/plain": [
       "(<Figure size 432x446.4 with 1 Axes>,\n",
       " array([<matplotlib.axes._subplots.AxesSubplot object at 0x135576668>],\n",
       "       dtype=object))"
      ]
     },
     "execution_count": 189,
     "metadata": {},
     "output_type": "execute_result"
    },
    {
     "data": {
      "image/png": "[encoded data removed]",
      "text/plain": [
       "<Figure size 432x446.4 with 1 Axes>"
      ]
     },
     "metadata": {},
     "output_type": "display_data"
    }
   ],
   "source": [
    "varnames = ['asymptote', 'rate']\n",
    "pm.forestplot(trace, varnames=varnames)"
   ]
  },
  {
   "cell_type": "code",
   "execution_count": 190,
   "metadata": {
    "hidden": true
   },
   "outputs": [
    {
     "name": "stdout",
     "output_type": "stream",
     "text": [
      "var            asymptote    rate\n",
      "comp                            \n",
      "action > none     0.5825  0.9900\n",
      "meta > action     0.9090  0.9635\n",
      "meta > none       0.9440  1.0000\n"
     ]
    }
   ],
   "source": [
    "from toolz import get\n",
    "comps = list(it.combinations(fb_order[::-1], 2))\n",
    "\n",
    "def compare_params():\n",
    "    for v in varnames:\n",
    "        df = pd.DataFrame(trace[v], columns=fb_order)\n",
    "        for a, b in comps:\n",
    "            diff = df[a] - df[b]\n",
    "            yield {'var': v, 'comp': f'{a} > {b}',  'p_greater': (diff > 0).mean()}\n",
    "            \n",
    "print(pd.DataFrame(compare_params()).set_index(['comp', 'var']).p_greater.unstack())"
   ]
  },
  {
   "cell_type": "code",
   "execution_count": 191,
   "metadata": {
    "hidden": true
   },
   "outputs": [
    {
     "name": "stderr",
     "output_type": "stream",
     "text": [
      "/usr/local/lib/miniconda3/lib/python3.6/site-packages/scipy/stats/stats.py:1713: FutureWarning: Using a non-tuple sequence for multidimensional indexing is deprecated; use `arr[tuple(seq)]` instead of `arr[seq]`. In the future this will be interpreted as an array index, `arr[np.array(seq)]`, which will result either in an error or a different result.\n",
      "  return np.add.reduce(sorted[indexer] * weights, axis=axis) / sumval\n"
     ]
    },
    {
     "data": {
      "text/plain": [
       "<matplotlib.axes._subplots.AxesSubplot at 0x1344cdd68>"
      ]
     },
     "execution_count": 191,
     "metadata": {},
     "output_type": "execute_result"
    },
    {
     "data": {
      "image/png": "[encoded data removed]",
      "text/plain": [
       "<Figure size 432x288 with 1 Axes>"
      ]
     },
     "metadata": {},
     "output_type": "display_data"
    }
   ],
   "source": [
    "pdf['baseline'] = trace['pid_baseline'].mean(0)\n",
    "sns.pointplot('feedback', 'baseline', data=pdf, color='k')\n",
    "sns.swarmplot('feedback', 'baseline', data=pdf)\n"
   ]
  },
  {
   "cell_type": "markdown",
   "metadata": {
    "hidden": true
   },
   "source": [
    "### Skill improvement"
   ]
  },
  {
   "cell_type": "code",
   "execution_count": 192,
   "metadata": {
    "hidden": true
   },
   "outputs": [
    {
     "name": "stderr",
     "output_type": "stream",
     "text": [
      "/usr/local/lib/miniconda3/lib/python3.6/site-packages/seaborn/axisgrid.py:230: UserWarning: The `size` paramter has been renamed to `height`; please update your code.\n",
      "  warnings.warn(msg, UserWarning)\n"
     ]
    },
    {
     "data": {
      "text/plain": [
       "Text(0.5, 6.79999999999999, 'Trial')"
      ]
     },
     "execution_count": 192,
     "metadata": {},
     "output_type": "execute_result"
    },
    {
     "data": {
      "image/png": "[encoded data removed]",
      "text/plain": [
       "<Figure size 672.44x288 with 1 Axes>"
      ]
     },
     "metadata": {},
     "output_type": "display_data"
    }
   ],
   "source": [
    "improvement_est = trace['improvement'].mean(0)\n",
    "trials = range(improvement_est.shape[0])\n",
    "improvement_low, improvement_high = np.rollaxis(pm.hpd(trace['improvement']), -1)\n",
    "\n",
    "idx = pd.MultiIndex.from_product([trials, fb_order],\n",
    "                                 names=['trial_index', 'FB_type'])\n",
    "\n",
    "hdf = pd.DataFrame({\n",
    "    'lower': pd.Series(improvement_low.ravel(), index=idx),\n",
    "    'upper': pd.Series(improvement_high.ravel(), index=idx),\n",
    "    'est': pd.Series(improvement_est.ravel(), index=idx),\n",
    "}).reset_index()\n",
    "\n",
    "g = sns.FacetGrid(hdf, hue='FB_type', aspect=2, size=4)\n",
    "\n",
    "def plot(data, color, label):\n",
    "    offset = (np.arange(3) * 0.1)[fb_order.index(label)]\n",
    "    idx = data.trial_index + offset\n",
    "#     plt.errorbar(idx, data.est, [data.lower, data.upper], c=color, label=label,  elinewidth=1, linewidth=2)\n",
    "    plt.plot(data.trial_index, data.est, c=color, label=label)\n",
    "    plt.fill_between(data.trial_index, data.lower, data.upper, color=color, alpha=0.2)\n",
    "\n",
    "g.map_dataframe(plot)\n",
    "g.add_legend();\n",
    "plt.ylabel('Improvement')\n",
    "# plt.xticks(range(0, 11, 2))\n",
    "plt.xlabel('Trial')\n"
   ]
  },
  {
   "cell_type": "code",
   "execution_count": 193,
   "metadata": {
    "hidden": true
   },
   "outputs": [
    {
     "data": {
      "text/plain": [
       "<matplotlib.axes._subplots.AxesSubplot at 0x135d34a90>"
      ]
     },
     "execution_count": 193,
     "metadata": {},
     "output_type": "execute_result"
    },
    {
     "data": {
      "image/png": "[encoded data removed]",
      "text/plain": [
       "<Figure size 432x288 with 1 Axes>"
      ]
     },
     "metadata": {},
     "output_type": "display_data"
    }
   ],
   "source": [
    "n_sample, n_trial, n_fb = trace['improvement'].shape\n",
    "idx = pd.MultiIndex.from_product([range(n_sample), range(n_trial), fb_order],\n",
    "                                 names=['sample', 'trial_index', 'FB_type'])\n",
    "sk = pd.DataFrame({'improvement': trace['improvement'].flatten()}, index=idx).improvement.reorder_levels([2,1,0])\n",
    "\n",
    "p_diff = pd.DataFrame({\n",
    "    'Pr(Action FB > No FB)': (sk['action'] > sk['none']).mean(level=[0]),\n",
    "    'Pr(Tutor > No FB)': (sk['meta'] > sk['none']).mean(level=[0]),\n",
    "    'Pr(Tutor > Action FB)': (sk['meta'] > sk['none']).mean(level=[0]),\n",
    "})\n",
    "p_diff.plot()"
   ]
  },
  {
   "cell_type": "code",
   "execution_count": 194,
   "metadata": {
    "hidden": true
   },
   "outputs": [
    {
     "name": "stdout",
     "output_type": "stream",
     "text": [
      "First trial with significant difference in improvement (1 indexed)\n",
      "Pr(Action FB > No FB)    2\n",
      "Pr(Tutor > No FB)        2\n",
      "Pr(Tutor > Action FB)    2\n",
      "dtype: int64\n"
     ]
    }
   ],
   "source": [
    "sig_diff = (p_diff > 0.95)\n",
    "sig_diff_trial = sig_diff.idxmax().apply(lambda x: x if x > 0 else None)  # never becomes significant\n",
    "print('First trial with significant difference in improvement (1 indexed)')\n",
    "print(sig_diff_trial + 1)  # for indexing by 1"
   ]
  },
  {
   "cell_type": "markdown",
   "metadata": {},
   "source": [
    "# Effect on strategy"
   ]
  },
  {
   "cell_type": "code",
   "execution_count": 175,
   "metadata": {},
   "outputs": [],
   "source": [
    "from scipy.stats import chisquare\n",
    "df = mdf.query('block == \"test\"').copy()\n",
    "df['no_click'] = df.n_clicks == 0\n",
    "X = df.groupby(['feedback', 'no_click']).apply(len)\n",
    "stat, p = chisquare(X['none'], X['meta'])"
   ]
  },
  {
   "cell_type": "markdown",
   "metadata": {
    "heading_collapsed": true
   },
   "source": [
    "## Non clicking"
   ]
  },
  {
   "cell_type": "code",
   "execution_count": 184,
   "metadata": {
    "hidden": true
   },
   "outputs": [
    {
     "name": "stdout",
     "output_type": "stream",
     "text": [
      "wrote \"$\\chi^2(1) = 447, p < .001$\" to \"stats/1-no-click.tex\"\n"
     ]
    }
   ],
   "source": [
    "write_tex('no-click', rf'$\\chi^2(1) = {int(stat)}, {pval(p)}$')"
   ]
  },
  {
   "cell_type": "code",
   "execution_count": 168,
   "metadata": {
    "hidden": true
   },
   "outputs": [],
   "source": [
    "x, y = X['none'], X['meta']\n",
    "xx = np.stack([x, y]).T"
   ]
  },
  {
   "cell_type": "code",
   "execution_count": 173,
   "metadata": {
    "hidden": true
   },
   "outputs": [
    {
     "data": {
      "text/plain": [
       "array([2008,  212])"
      ]
     },
     "execution_count": 173,
     "metadata": {},
     "output_type": "execute_result"
    }
   ],
   "source": [
    "xx.sum(1)"
   ]
  },
  {
   "cell_type": "code",
   "execution_count": 169,
   "metadata": {
    "hidden": true
   },
   "outputs": [
    {
     "data": {
      "text/plain": [
       "\n",
       "\tPearson's Chi-squared test with Yates' continuity correction\n",
       "\n",
       "data:  xx\n",
       "X-squared = 86.911, df = 1, p-value < 2.2e-16\n",
       "\n"
      ]
     },
     "metadata": {},
     "output_type": "display_data"
    }
   ],
   "source": [
    "%%R -i x -i y -i xx\n",
    "chisq.test(xx)"
   ]
  },
  {
   "cell_type": "code",
   "execution_count": 134,
   "metadata": {
    "hidden": true
   },
   "outputs": [
    {
     "data": {
      "text/plain": [
       "(-9.583021621234371, 9.424649159385161e-22)"
      ]
     },
     "execution_count": 134,
     "metadata": {},
     "output_type": "execute_result"
    }
   ],
   "source": [
    "from statsmodels.stats.weightstats import ztest\n",
    "\n",
    "X = df.set_index('feedback').no_click\n",
    "ztest(X['meta'], X['none'])"
   ]
  },
  {
   "cell_type": "markdown",
   "metadata": {
    "heading_collapsed": true
   },
   "source": [
    "## Miscroscope"
   ]
  },
  {
   "cell_type": "code",
   "execution_count": 45,
   "metadata": {
    "hidden": true
   },
   "outputs": [
    {
     "data": {
      "text/plain": [
       "'forward'"
      ]
     },
     "execution_count": 45,
     "metadata": {},
     "output_type": "execute_result"
    }
   ],
   "source": [
    "classification = {\n",
    "    'backward': {0, 1, 7, 8, 12, 13, 14, 15, 16, 17, 18, 19, 23, 25, 26, 28, 34, 37},\n",
    "    'goal_setting': {20},\n",
    "    'forward': {21,22,27},\n",
    "    'no_plan': {29},\n",
    "}\n",
    "C = {c: s for s, cs in classification.items() for c in cs}\n",
    "def classify_strategy(s):\n",
    "    return C.get(s, 'other')\n",
    "classify_strategy(21)"
   ]
  },
  {
   "cell_type": "code",
   "execution_count": 46,
   "metadata": {
    "hidden": true
   },
   "outputs": [],
   "source": [
    "v = {\n",
    "    1: '1.0',\n",
    "    2: '2.0',\n",
    "    3: '3.1',\n",
    "    4: '4.0'\n",
    "}[EXPERIMENT]\n",
    "s = pd.read_pickle(f'strategies/v{v}_training.pkl')"
   ]
  },
  {
   "cell_type": "code",
   "execution_count": 47,
   "metadata": {
    "hidden": true
   },
   "outputs": [],
   "source": [
    "keep = set(pdf.original_pid)\n",
    "strategies = pd.melt(pd.DataFrame({k: v for k, v in s.items() if k in keep}),\n",
    "                     value_name='strategy', var_name='original_pid')\n",
    "original_to_new = pdf['original_pid'].reset_index().set_index('original_pid').pid\n",
    "strategies['pid'] = strategies.pop('original_pid').apply(pid_labeler)\n",
    "strategies = strategies.set_index('pid')\n",
    "strategies['trial_index'] = np.tile(range(0,10), len(pdf))\n",
    "# strategies.set_index(['pid', 'trial'])\n",
    "strategies = strategies.reset_index()\n",
    "strategies['type'] = strategies.strategy.apply(classify_strategy)"
   ]
  },
  {
   "cell_type": "code",
   "execution_count": 49,
   "metadata": {
    "hidden": true
   },
   "outputs": [
    {
     "name": "stdout",
     "output_type": "stream",
     "text": [
      "backward        455\n",
      "forward         346\n",
      "goal_setting    307\n",
      "other           300\n",
      "no_plan         232\n",
      "Name: type, dtype: int64\n"
     ]
    },
    {
     "data": {
      "text/plain": [
       "backward        108\n",
       "goal_setting     94\n",
       "other            45\n",
       "forward          45\n",
       "no_plan          36\n",
       "Name: type, dtype: int64"
      ]
     },
     "execution_count": 49,
     "metadata": {},
     "output_type": "execute_result"
    }
   ],
   "source": [
    "print(strategies.type.value_counts())\n",
    "strategies.query('trial_index > 7').type.value_counts()"
   ]
  },
  {
   "cell_type": "code",
   "execution_count": 94,
   "metadata": {
    "hidden": true
   },
   "outputs": [
    {
     "name": "stdout",
     "output_type": "stream",
     "text": [
      "stats/1/mediation.txt\n",
      "1.0\n"
     ]
    },
    {
     "data": {
      "text/html": [
       "<div>\n",
       "<style scoped>\n",
       "    .dataframe tbody tr th:only-of-type {\n",
       "        vertical-align: middle;\n",
       "    }\n",
       "\n",
       "    .dataframe tbody tr th {\n",
       "        vertical-align: top;\n",
       "    }\n",
       "\n",
       "    .dataframe thead th {\n",
       "        text-align: right;\n",
       "    }\n",
       "</style>\n",
       "<table border=\"1\" class=\"dataframe\">\n",
       "  <thead>\n",
       "    <tr style=\"text-align: right;\">\n",
       "      <th></th>\n",
       "      <th>pid</th>\n",
       "      <th>test</th>\n",
       "      <th>none</th>\n",
       "      <th>action</th>\n",
       "      <th>meta</th>\n",
       "      <th>backward</th>\n",
       "      <th>goal_setting</th>\n",
       "      <th>forward</th>\n",
       "      <th>no_plan</th>\n",
       "      <th>clicked</th>\n",
       "      <th>n_clicks</th>\n",
       "    </tr>\n",
       "  </thead>\n",
       "  <tbody>\n",
       "    <tr>\n",
       "      <th>0</th>\n",
       "      <td>0</td>\n",
       "      <td>36.60</td>\n",
       "      <td>0</td>\n",
       "      <td>1</td>\n",
       "      <td>0</td>\n",
       "      <td>1.0</td>\n",
       "      <td>0.0</td>\n",
       "      <td>0.0</td>\n",
       "      <td>0.0</td>\n",
       "      <td>1.0</td>\n",
       "      <td>7.333333</td>\n",
       "    </tr>\n",
       "    <tr>\n",
       "      <th>1</th>\n",
       "      <td>1</td>\n",
       "      <td>41.85</td>\n",
       "      <td>1</td>\n",
       "      <td>0</td>\n",
       "      <td>0</td>\n",
       "      <td>0.0</td>\n",
       "      <td>0.0</td>\n",
       "      <td>0.0</td>\n",
       "      <td>0.0</td>\n",
       "      <td>1.0</td>\n",
       "      <td>5.666667</td>\n",
       "    </tr>\n",
       "    <tr>\n",
       "      <th>2</th>\n",
       "      <td>2</td>\n",
       "      <td>3.95</td>\n",
       "      <td>1</td>\n",
       "      <td>0</td>\n",
       "      <td>0</td>\n",
       "      <td>0.0</td>\n",
       "      <td>0.0</td>\n",
       "      <td>1.0</td>\n",
       "      <td>0.0</td>\n",
       "      <td>1.0</td>\n",
       "      <td>2.000000</td>\n",
       "    </tr>\n",
       "    <tr>\n",
       "      <th>3</th>\n",
       "      <td>3</td>\n",
       "      <td>23.75</td>\n",
       "      <td>0</td>\n",
       "      <td>1</td>\n",
       "      <td>0</td>\n",
       "      <td>0.0</td>\n",
       "      <td>0.0</td>\n",
       "      <td>1.0</td>\n",
       "      <td>0.0</td>\n",
       "      <td>1.0</td>\n",
       "      <td>3.000000</td>\n",
       "    </tr>\n",
       "    <tr>\n",
       "      <th>4</th>\n",
       "      <td>4</td>\n",
       "      <td>42.90</td>\n",
       "      <td>0</td>\n",
       "      <td>0</td>\n",
       "      <td>1</td>\n",
       "      <td>1.0</td>\n",
       "      <td>0.0</td>\n",
       "      <td>0.0</td>\n",
       "      <td>0.0</td>\n",
       "      <td>1.0</td>\n",
       "      <td>3.666667</td>\n",
       "    </tr>\n",
       "  </tbody>\n",
       "</table>\n",
       "</div>"
      ],
      "text/plain": [
       "   pid   test  none  action  meta  backward  goal_setting  forward  no_plan  \\\n",
       "0    0  36.60     0       1     0       1.0           0.0      0.0      0.0   \n",
       "1    1  41.85     1       0     0       0.0           0.0      0.0      0.0   \n",
       "2    2   3.95     1       0     0       0.0           0.0      1.0      0.0   \n",
       "3    3  23.75     0       1     0       0.0           0.0      1.0      0.0   \n",
       "4    4  42.90     0       0     1       1.0           0.0      0.0      0.0   \n",
       "\n",
       "   clicked  n_clicks  \n",
       "0      1.0  7.333333  \n",
       "1      1.0  5.666667  \n",
       "2      1.0  2.000000  \n",
       "3      1.0  3.000000  \n",
       "4      1.0  3.666667  "
      ]
     },
     "execution_count": 94,
     "metadata": {},
     "output_type": "execute_result"
    }
   ],
   "source": [
    "rdf = pdf[['test']].reset_index()\n",
    "for fb in fb_order:\n",
    "    rdf[fb] = (pdf.feedback == fb).astype(int)\n",
    "\n",
    "strat_type = strategies.query('trial_index > 6').set_index('pid').type\n",
    "for s in classification:\n",
    "    rdf[s] = (strat_type == s).groupby('pid').mean()\n",
    "#     rdf[s] = np.ceil((strat_type == s).groupby('pid').mean()).astype(int)\n",
    "\n",
    "q = 'block == \"training\" and trial_index > 6'\n",
    "mdf['clicked'] = mdf.n_clicks > 0\n",
    "rdf['clicked'] = mdf.query(q).groupby('pid').clicked.mean()\n",
    "rdf['n_clicks'] = mdf.query(q).groupby('pid').n_clicks.mean()\n",
    "file = result_file('mediation')\n",
    "print(file)\n",
    "\n",
    "keep = rdf.clicked >= 0\n",
    "print(keep.mean())\n",
    "rdf = rdf.loc[keep]\n",
    "rdf.backward += rdf.goal_setting\n",
    "rdf.head()"
   ]
  },
  {
   "cell_type": "code",
   "execution_count": 118,
   "metadata": {
    "hidden": true
   },
   "outputs": [],
   "source": [
    "file = result_file('mediation', 'tex')"
   ]
  },
  {
   "cell_type": "code",
   "execution_count": 127,
   "metadata": {
    "hidden": true
   },
   "outputs": [
    {
     "data": {
      "text/plain": [
       "\n",
       "Call:\n",
       "lm(formula = test ~ meta, data = rdf)\n",
       "\n",
       "Coefficients:\n",
       "(Intercept)         meta  \n",
       "     30.734        6.143  \n",
       "\n"
      ]
     },
     "metadata": {},
     "output_type": "display_data"
    }
   ],
   "source": [
    "%%R\n",
    "lm(test ~ meta, data=rdf)"
   ]
  },
  {
   "cell_type": "code",
   "execution_count": 121,
   "metadata": {
    "hidden": true
   },
   "outputs": [
    {
     "data": {
      "text/plain": [
       "\\begin{tabular}{@{}r*{4}{S[\n",
       "                         input-symbols = ( ) +,\n",
       "                         group-digits = false,\n",
       "                         table-number-alignment = center,\n",
       "                         %table-space-text-pre = (,\n",
       "                         table-align-text-pre = false,\n",
       "                         table-align-text-post = false,\n",
       "                         table-space-text-post = {***},\n",
       "                         parse-units = false]}@{}}\n",
       "& \\multicolumn{4}{c}{Model}\\tabularnewline \\hline\n",
       "& \\multicolumn{1}{c}{Estimate}& \\multicolumn{1}{c}{Std. Err.}& \\multicolumn{1}{c}{z}& \\multicolumn{1}{c}{p}\\tabularnewline\\hline\n",
       "& \\multicolumn{4}{c}{\\underline{Regression Slopes}}\\tabularnewline \\multicolumn{1}{l}{\\underline{test}}\\tabularnewline\n",
       "meta& -0.97& 1.70& -0.57& .566\\tabularnewline\n",
       "action& -5.48& 1.57& -3.49& .000\\tabularnewline\n",
       "clicked& 25.03& 2.08& 12.03& .000\\tabularnewline\n",
       "n.clicks& 1.20& 0.23& 5.21& .000\\tabularnewline\n",
       "backward& 7.01& 1.45& 4.84& .000\\tabularnewline\n",
       "goal.setting& 0.23& 1.53& 0.15& .881\\tabularnewline\n",
       " \\multicolumn{1}{l}{\\underline{clicked}}\\tabularnewline\n",
       "meta& 0.14& 0.06& 2.57& .010\\tabularnewline\n",
       "action& 0.04& 0.06& 0.71& .476\\tabularnewline\n",
       " \\multicolumn{1}{l}{\\underline{n_clicks}}\\tabularnewline\n",
       "meta& -0.15& 0.50& -0.30& .760\\tabularnewline\n",
       "action& 1.90& 0.50& 3.78& .000\\tabularnewline\n",
       " \\multicolumn{1}{l}{\\underline{backward}}\\tabularnewline\n",
       "meta& 0.45& 0.08& 5.61& .000\\tabularnewline\n",
       "action& 0.17& 0.08& 2.11& .035\\tabularnewline\n",
       " \\multicolumn{1}{l}{\\underline{goal_setting}}\\tabularnewline\n",
       "meta& 0.27& 0.08& 3.64& .000\\tabularnewline\n",
       "action& -0.10& 0.08& -1.26& .207\\tabularnewline\n",
       "& \\multicolumn{4}{c}{\\underline{Residual Variances}}\\tabularnewline\n",
       "test& 59.69& 6.59& 9.06& .000\\tabularnewline\n",
       "clicked& 0.08& 0.01& 9.06& .000\\tabularnewline\n",
       "n.clicks& 6.85& 0.76& 9.06& .000\\tabularnewline\n",
       "backward& 0.17& 0.02& 9.06& .000\\tabularnewline\n",
       "goal.setting& 0.15& 0.02& 9.06& .000\\tabularnewline\n",
       "meta& 0.22$^+$& & & \\tabularnewline\n",
       "action& 0.22$^+$& & & \\tabularnewline\n",
       "& \\multicolumn{4}{c}{\\underline{Residual Covariances}}\\tabularnewline\n",
       "meta w/action& -0.11$^+$& & & \\tabularnewline\n",
       "& \\multicolumn{4}{c}{\\underline{Constructed}}\\tabularnewline\n",
       "tcm& 3.57& 1.42& 2.51& .012\\tabularnewline\n",
       "tnm& -0.18& 0.60& -0.30& .761\\tabularnewline\n",
       "tbm& 3.14& 0.86& 3.66& .000\\tabularnewline\n",
       "tgm& 0.06& 0.42& 0.15& .881\\tabularnewline\n",
       "tca& 0.99& 1.39& 0.71& .477\\tabularnewline\n",
       "tna& 2.27& 0.74& 3.06& .002\\tabularnewline\n",
       "tba& 1.18& 0.61& 1.94& .053\\tabularnewline\n",
       "tga& -0.02& 0.15& -0.15& .882\\tabularnewline\n",
       "& \\multicolumn{4}{c}{\\underline{Fit Indices}}\\tabularnewline\n",
       "$\\chi^{2}(\\mathrm{df})$& 164.19(6)& & & .000\\tabularnewline\n",
       "CFI& 0.62& & & \\tabularnewline\n",
       "TLI& -0.27& & & \\tabularnewline\n",
       "RMSEA& 0.40& & & \\tabularnewline\n",
       "\\hline\\multicolumn{5}{l}{$^+$Fixed parameter}\\tabularnewline\n",
       "\\end{tabular}\n",
       "\n",
       " \n",
       "lavaan 0.6-3 ended normally after 83 iterations\n",
       "\n",
       "  Optimization method                           NLMINB\n",
       "  Number of free parameters                         19\n",
       "\n",
       "  Number of observations                           164\n",
       "\n",
       "  Estimator                                         ML\n",
       "  Model Fit Test Statistic                     164.190\n",
       "  Degrees of freedom                                 6\n",
       "  P-value (Chi-square)                           0.000\n",
       "\n",
       "Parameter Estimates:\n",
       "\n",
       "  Information                                 Expected\n",
       "  Information saturated (h1) model          Structured\n",
       "  Standard Errors                             Standard\n",
       "\n",
       "Regressions:\n",
       "                   Estimate  Std.Err  z-value  P(>|z|)\n",
       "  test ~                                              \n",
       "    meta             -0.973    1.696   -0.574    0.566\n",
       "    action           -5.477    1.571   -3.485    0.000\n",
       "    clicked   (tc)   25.025    2.080   12.031    0.000\n",
       "    n_clicks  (tn)    1.200    0.230    5.206    0.000\n",
       "    backward  (tb)    7.013    1.449    4.839    0.000\n",
       "    gol_sttng (tg)    0.230    1.534    0.150    0.881\n",
       "  clicked ~                                           \n",
       "    meta      (cm)    0.143    0.056    2.567    0.010\n",
       "    action    (ca)    0.040    0.056    0.713    0.476\n",
       "  n_clicks ~                                          \n",
       "    meta      (nm)   -0.153    0.501   -0.305    0.760\n",
       "    action    (na)    1.896    0.501    3.780    0.000\n",
       "  backward ~                                          \n",
       "    meta      (bm)    0.447    0.080    5.609    0.000\n",
       "    action    (ba)    0.168    0.080    2.113    0.035\n",
       "  goal_setting ~                                      \n",
       "    meta      (gm)    0.275    0.075    3.643    0.000\n",
       "    action    (ga)   -0.095    0.075   -1.263    0.207\n",
       "\n",
       "Variances:\n",
       "                   Estimate  Std.Err  z-value  P(>|z|)\n",
       "   .test             59.686    6.591    9.055    0.000\n",
       "   .clicked           0.084    0.009    9.055    0.000\n",
       "   .n_clicks          6.851    0.757    9.055    0.000\n",
       "   .backward          0.173    0.019    9.055    0.000\n",
       "   .goal_setting      0.155    0.017    9.055    0.000\n",
       "\n",
       "Defined Parameters:\n",
       "                   Estimate  Std.Err  z-value  P(>|z|)\n",
       "    tcm               3.570    1.422    2.511    0.012\n",
       "    tnm              -0.183    0.603   -0.304    0.761\n",
       "    tbm               3.136    0.856    3.664    0.000\n",
       "    tgm               0.063    0.421    0.150    0.881\n",
       "    tca               0.991    1.393    0.712    0.477\n",
       "    tna               2.275    0.744    3.059    0.002\n",
       "    tba               1.181    0.610    1.936    0.053\n",
       "    tga              -0.022    0.147   -0.149    0.882\n",
       "\n"
      ]
     },
     "metadata": {},
     "output_type": "display_data"
    }
   ],
   "source": [
    "%%R -i rdf -i file\n",
    "library(lavaan)\n",
    "library(kutils)\n",
    "\n",
    "rdf$pid = factor(rdf$pid)\n",
    "model <- ' \n",
    "\n",
    "# direct effects\n",
    "test ~ meta\n",
    "test ~ action\n",
    "\n",
    "# indirect effects\n",
    "test ~ tc * clicked\n",
    "test ~ tn * n_clicks\n",
    "test ~ tb * backward\n",
    "test ~ tg * goal_setting\n",
    "\n",
    "# mediating effects\n",
    "clicked ~ cm * meta\n",
    "clicked ~ ca * action\n",
    "\n",
    "n_clicks ~ nm * meta\n",
    "n_clicks ~ na * action\n",
    "\n",
    "backward ~ bm * meta\n",
    "backward ~ ba * action\n",
    "\n",
    "goal_setting ~ gm * meta\n",
    "goal_setting ~ ga * action\n",
    "\n",
    "tcm := tc * cm\n",
    "tnm := tn * nm\n",
    "tbm := tb * bm\n",
    "tgm := tg * gm\n",
    "\n",
    "tca := tc * ca\n",
    "tna := tn * na\n",
    "tba := tb * ba\n",
    "tga := tg * ga\n",
    "'\n",
    "fit <- sem(model, data=rdf)\n",
    "# sink(file=file, append=TRUE)\n",
    "# summary(fit)\n",
    "# sink()\n",
    "semTable(fit, file=file)\n",
    "summary(fit)"
   ]
  },
  {
   "cell_type": "markdown",
   "metadata": {
    "heading_collapsed": true
   },
   "source": [
    "## On training"
   ]
  },
  {
   "cell_type": "code",
   "execution_count": 257,
   "metadata": {
    "hidden": true
   },
   "outputs": [],
   "source": [
    "training = mdf.query('block == \"training\"').copy()\n",
    "\n",
    "rdf = training[['score', 'n_clicks']].reset_index()\n",
    "for fb in fb_order:\n",
    "    rdf[fb] = list((training.feedback == fb).astype(int))\n",
    "\n",
    "strat = strategies.type\n",
    "for s in classification:\n",
    "    rdf[s] = (strat == s).astype(int)\n",
    "    \n",
    "rdf['clicked'] = (rdf.n_clicks > 0).astype(int)"
   ]
  },
  {
   "cell_type": "code",
   "execution_count": 269,
   "metadata": {
    "hidden": true
   },
   "outputs": [
    {
     "data": {
      "text/plain": [
       "lavaan 0.6-3 ended normally after 114 iterations\n",
       "\n",
       "  Optimization method                           NLMINB\n",
       "  Number of free parameters                         23\n",
       "\n",
       "  Number of observations                          1640\n",
       "\n",
       "  Estimator                                         ML\n",
       "  Model Fit Test Statistic                    2252.419\n",
       "  Degrees of freedom                                10\n",
       "  P-value (Chi-square)                           0.000\n",
       "\n",
       "Parameter Estimates:\n",
       "\n",
       "  Information                                 Expected\n",
       "  Information saturated (h1) model          Structured\n",
       "  Standard Errors                             Standard\n",
       "\n",
       "Regressions:\n",
       "                   Estimate  Std.Err  z-value  P(>|z|)\n",
       "  score ~                                             \n",
       "    meta              2.107    1.687    1.249    0.211\n",
       "    action           -1.971    1.667   -1.182    0.237\n",
       "    gol_sttng (g1)    6.087    1.738    3.502    0.000\n",
       "    backward         -1.882    1.464   -1.285    0.199\n",
       "    forward         -21.300    1.579  -13.488    0.000\n",
       "    n_clicks         -0.252    0.187   -1.350    0.177\n",
       "    clicked   (c1)   37.295    1.783   20.916    0.000\n",
       "  goal_setting ~                                      \n",
       "    meta      (g2)    0.240    0.022   10.708    0.000\n",
       "    action           -0.046    0.022   -2.050    0.040\n",
       "  backward ~                                          \n",
       "    meta              0.205    0.027    7.703    0.000\n",
       "    action            0.181    0.027    6.813    0.000\n",
       "  forward ~                                           \n",
       "    meta             -0.037    0.025   -1.515    0.130\n",
       "    action           -0.085    0.025   -3.434    0.001\n",
       "  n_clicks ~                                          \n",
       "    meta             -0.193    0.208   -0.927    0.354\n",
       "    action            2.256    0.208   10.836    0.000\n",
       "  clicked ~                                           \n",
       "    meta      (c2)    0.174    0.022    7.961    0.000\n",
       "    action            0.094    0.022    4.293    0.000\n",
       "\n",
       "Variances:\n",
       "                   Estimate  Std.Err  z-value  P(>|z|)\n",
       "   .score           675.917   23.604   28.636    0.000\n",
       "   .goal_setting      0.136    0.005   28.636    0.000\n",
       "   .backward          0.192    0.007   28.636    0.000\n",
       "   .forward           0.165    0.006   28.636    0.000\n",
       "   .n_clicks         11.812    0.412   28.636    0.000\n",
       "   .clicked           0.130    0.005   28.636    0.000\n",
       "\n",
       "Defined Parameters:\n",
       "                   Estimate  Std.Err  z-value  P(>|z|)\n",
       "    g                 1.458    0.438    3.329    0.001\n",
       "    c                 6.476    0.870    7.440    0.000\n",
       "\n"
      ]
     },
     "metadata": {},
     "output_type": "display_data"
    }
   ],
   "source": [
    "%%R -i rdf -i file\n",
    "library(lavaan)\n",
    "rdf$pid = factor(rdf$pid)\n",
    "model <- ' \n",
    "# direct effects\n",
    "score ~ meta\n",
    "score ~ action\n",
    "\n",
    "# indirect effects\n",
    "score ~ g1 * goal_setting\n",
    "score ~ backward\n",
    "score ~ forward\n",
    "score ~ n_clicks\n",
    "score ~ c1 * clicked\n",
    "\n",
    "# mediating effects\n",
    "goal_setting ~ g2 * meta\n",
    "goal_setting ~ action\n",
    "\n",
    "backward ~ meta\n",
    "backward ~ action\n",
    "\n",
    "forward ~ meta\n",
    "forward ~ action\n",
    "\n",
    "n_clicks ~ meta\n",
    "n_clicks ~ action\n",
    "\n",
    "clicked ~ c2 * meta\n",
    "clicked ~ action\n",
    "\n",
    "g := g1 * g2\n",
    "c := c1 * c2\n",
    "'\n",
    "fit <- sem(model, data=rdf)\n",
    "sink(file=file, append=TRUE)\n",
    "summary(fit)\n",
    "sink()\n",
    "summary(fit)"
   ]
  },
  {
   "cell_type": "markdown",
   "metadata": {
    "heading_collapsed": true
   },
   "source": [
    "## Bayesian"
   ]
  },
  {
   "cell_type": "code",
   "execution_count": 167,
   "metadata": {
    "hidden": true
   },
   "outputs": [],
   "source": [
    "strat_order = ['other', 'no_plan', 'forward', 'goal_setting']"
   ]
  },
  {
   "cell_type": "code",
   "execution_count": 149,
   "metadata": {
    "hidden": true
   },
   "outputs": [
    {
     "name": "stderr",
     "output_type": "stream",
     "text": [
      "/usr/local/lib/miniconda3/lib/python3.6/site-packages/theano/tensor/subtensor.py:2197: FutureWarning: Using a non-tuple sequence for multidimensional indexing is deprecated; use `arr[tuple(seq)]` instead of `arr[seq]`. In the future this will be interpreted as an array index, `arr[np.array(seq)]`, which will result either in an error or a different result.\n",
      "  rval = inputs[0].__getitem__(inputs[1:])\n",
      "Auto-assigning NUTS sampler...\n",
      "Initializing NUTS using jitter+adapt_diag...\n",
      "/usr/local/lib/miniconda3/lib/python3.6/site-packages/theano/tensor/subtensor.py:2197: FutureWarning: Using a non-tuple sequence for multidimensional indexing is deprecated; use `arr[tuple(seq)]` instead of `arr[seq]`. In the future this will be interpreted as an array index, `arr[np.array(seq)]`, which will result either in an error or a different result.\n",
      "  rval = inputs[0].__getitem__(inputs[1:])\n",
      "Multiprocess sampling (2 chains in 2 jobs)\n",
      "NUTS: [fb_bonus, σ, μ, θ, θ_std, θ_mean]\n",
      "Sampling 2 chains: 100%|██████████| 4000/4000 [01:33<00:00, 42.99draws/s]\n",
      "There were 926 divergences after tuning. Increase `target_accept` or reparameterize.\n",
      "There were 906 divergences after tuning. Increase `target_accept` or reparameterize.\n",
      "The gelman-rubin statistic is larger than 1.05 for some parameters. This indicates slight problems during sampling.\n",
      "The estimated number of effective samples is smaller than 200 for some parameters.\n"
     ]
    }
   ],
   "source": [
    "df = rdf\n",
    "with pm.Model() as model:\n",
    "    fb_type = pdf.feedback.apply(fb_order.index).values\n",
    "    strat = df.apply(strat_order.index).values\n",
    "    n_group = len(fb_order)\n",
    "    n_strat = len(strat_order)\n",
    "    n_pid = df.pid.max() + 1\n",
    "    \n",
    "    θ_mean = pm.Uniform('θ_mean', 0, 1, shape=n_group)\n",
    "#     θ_sd = pm.Uniform('θ_std', 0, (θ_mean * (1 - θ_mean)) ** 0.5, shape=n_group)\n",
    "    θ_sd = pm.Uniform('θ_sd', 0, 0.5, shape=n_group)\n",
    "    θ = pm.Beta('θ', mu=θ_mean[fb_type], sd=θ_sd[fb_type], shape=n_pid)\n",
    "    strat = pm.Bernoulli('goal_setting', θ[df.pid], observed=df.goal_setting)\n",
    "    μ = pm.Normal('μ', 0, 2 * rdf.score.std(), shape=n_strat)\n",
    "    σ = pm.Uniform('σ', 0, 2 * rdf.score.std(), shape=n_strat)\n",
    "    \n",
    "    fb_bonus = tt.concatenate([[0.], pm.Normal('fb_bonus', 0, 2 * rdf.score.std(), shape=n_group-1)])\n",
    "    pm.Normal('score', μ[strat] + fb_bonus[fb_type[df.pid]], σ[strat], observed=df.score)\n",
    "    trace = pm.sample(1000, tune=1000)"
   ]
  },
  {
   "cell_type": "code",
   "execution_count": 218,
   "metadata": {
    "hidden": true
   },
   "outputs": [
    {
     "name": "stderr",
     "output_type": "stream",
     "text": [
      "/usr/local/lib/miniconda3/lib/python3.6/site-packages/theano/tensor/subtensor.py:2197: FutureWarning: Using a non-tuple sequence for multidimensional indexing is deprecated; use `arr[tuple(seq)]` instead of `arr[seq]`. In the future this will be interpreted as an array index, `arr[np.array(seq)]`, which will result either in an error or a different result.\n",
      "  rval = inputs[0].__getitem__(inputs[1:])\n",
      "Auto-assigning NUTS sampler...\n",
      "Initializing NUTS using jitter+adapt_diag...\n",
      "Multiprocess sampling (2 chains in 2 jobs)\n",
      "NUTS: [fb_bonus, σ, μ, θ, λ, β]\n",
      "Sampling 2 chains:  12%|█▏        | 248/2000 [35:31<98:33:24, 202.51s/draws]\n"
     ]
    },
    {
     "ename": "ValueError",
     "evalue": "Not enough samples to build a trace.",
     "output_type": "error",
     "traceback": [
      "\u001b[0;31m---------------------------------------------------------------------------\u001b[0m",
      "\u001b[0;31mKeyboardInterrupt\u001b[0m                         Traceback (most recent call last)",
      "\u001b[0;32m~/Projects/open-sauce/pymc3/pymc3/sampling.py\u001b[0m in \u001b[0;36m_mp_sample\u001b[0;34m(draws, tune, step, chains, cores, chain, random_seed, start, progressbar, trace, model, **kwargs)\u001b[0m\n\u001b[1;32m    981\u001b[0m             \u001b[0;32mwith\u001b[0m \u001b[0msampler\u001b[0m\u001b[0;34m:\u001b[0m\u001b[0;34m\u001b[0m\u001b[0m\n\u001b[0;32m--> 982\u001b[0;31m                 \u001b[0;32mfor\u001b[0m \u001b[0mdraw\u001b[0m \u001b[0;32min\u001b[0m \u001b[0msampler\u001b[0m\u001b[0;34m:\u001b[0m\u001b[0;34m\u001b[0m\u001b[0m\n\u001b[0m\u001b[1;32m    983\u001b[0m                     \u001b[0mtrace\u001b[0m \u001b[0;34m=\u001b[0m \u001b[0mtraces\u001b[0m\u001b[0;34m[\u001b[0m\u001b[0mdraw\u001b[0m\u001b[0;34m.\u001b[0m\u001b[0mchain\u001b[0m \u001b[0;34m-\u001b[0m \u001b[0mchain\u001b[0m\u001b[0;34m]\u001b[0m\u001b[0;34m\u001b[0m\u001b[0m\n",
      "\u001b[0;32m~/Projects/open-sauce/pymc3/pymc3/parallel_sampling.py\u001b[0m in \u001b[0;36m__iter__\u001b[0;34m(self)\u001b[0m\n\u001b[1;32m    392\u001b[0m         \u001b[0;32mwhile\u001b[0m \u001b[0mself\u001b[0m\u001b[0;34m.\u001b[0m\u001b[0m_active\u001b[0m\u001b[0;34m:\u001b[0m\u001b[0;34m\u001b[0m\u001b[0m\n\u001b[0;32m--> 393\u001b[0;31m             \u001b[0mdraw\u001b[0m \u001b[0;34m=\u001b[0m \u001b[0mProcessAdapter\u001b[0m\u001b[0;34m.\u001b[0m\u001b[0mrecv_draw\u001b[0m\u001b[0;34m(\u001b[0m\u001b[0mself\u001b[0m\u001b[0;34m.\u001b[0m\u001b[0m_active\u001b[0m\u001b[0;34m)\u001b[0m\u001b[0;34m\u001b[0m\u001b[0m\n\u001b[0m\u001b[1;32m    394\u001b[0m             \u001b[0mproc\u001b[0m\u001b[0;34m,\u001b[0m \u001b[0mis_last\u001b[0m\u001b[0;34m,\u001b[0m \u001b[0mdraw\u001b[0m\u001b[0;34m,\u001b[0m \u001b[0mtuning\u001b[0m\u001b[0;34m,\u001b[0m \u001b[0mstats\u001b[0m\u001b[0;34m,\u001b[0m \u001b[0mwarns\u001b[0m \u001b[0;34m=\u001b[0m \u001b[0mdraw\u001b[0m\u001b[0;34m\u001b[0m\u001b[0m\n",
      "\u001b[0;32m~/Projects/open-sauce/pymc3/pymc3/parallel_sampling.py\u001b[0m in \u001b[0;36mrecv_draw\u001b[0;34m(processes, timeout)\u001b[0m\n\u001b[1;32m    283\u001b[0m         \u001b[0mpipes\u001b[0m \u001b[0;34m=\u001b[0m \u001b[0;34m[\u001b[0m\u001b[0mproc\u001b[0m\u001b[0;34m.\u001b[0m\u001b[0m_msg_pipe\u001b[0m \u001b[0;32mfor\u001b[0m \u001b[0mproc\u001b[0m \u001b[0;32min\u001b[0m \u001b[0mprocesses\u001b[0m\u001b[0;34m]\u001b[0m\u001b[0;34m\u001b[0m\u001b[0m\n\u001b[0;32m--> 284\u001b[0;31m         \u001b[0mready\u001b[0m \u001b[0;34m=\u001b[0m \u001b[0mmultiprocessing\u001b[0m\u001b[0;34m.\u001b[0m\u001b[0mconnection\u001b[0m\u001b[0;34m.\u001b[0m\u001b[0mwait\u001b[0m\u001b[0;34m(\u001b[0m\u001b[0mpipes\u001b[0m\u001b[0;34m)\u001b[0m\u001b[0;34m\u001b[0m\u001b[0m\n\u001b[0m\u001b[1;32m    285\u001b[0m         \u001b[0;32mif\u001b[0m \u001b[0;32mnot\u001b[0m \u001b[0mready\u001b[0m\u001b[0;34m:\u001b[0m\u001b[0;34m\u001b[0m\u001b[0m\n",
      "\u001b[0;32m/usr/local/lib/miniconda3/lib/python3.6/multiprocessing/connection.py\u001b[0m in \u001b[0;36mwait\u001b[0;34m(object_list, timeout)\u001b[0m\n\u001b[1;32m    910\u001b[0m             \u001b[0;32mwhile\u001b[0m \u001b[0;32mTrue\u001b[0m\u001b[0;34m:\u001b[0m\u001b[0;34m\u001b[0m\u001b[0m\n\u001b[0;32m--> 911\u001b[0;31m                 \u001b[0mready\u001b[0m \u001b[0;34m=\u001b[0m \u001b[0mselector\u001b[0m\u001b[0;34m.\u001b[0m\u001b[0mselect\u001b[0m\u001b[0;34m(\u001b[0m\u001b[0mtimeout\u001b[0m\u001b[0;34m)\u001b[0m\u001b[0;34m\u001b[0m\u001b[0m\n\u001b[0m\u001b[1;32m    912\u001b[0m                 \u001b[0;32mif\u001b[0m \u001b[0mready\u001b[0m\u001b[0;34m:\u001b[0m\u001b[0;34m\u001b[0m\u001b[0m\n",
      "\u001b[0;32m/usr/local/lib/miniconda3/lib/python3.6/selectors.py\u001b[0m in \u001b[0;36mselect\u001b[0;34m(self, timeout)\u001b[0m\n\u001b[1;32m    375\u001b[0m             \u001b[0;32mtry\u001b[0m\u001b[0;34m:\u001b[0m\u001b[0;34m\u001b[0m\u001b[0m\n\u001b[0;32m--> 376\u001b[0;31m                 \u001b[0mfd_event_list\u001b[0m \u001b[0;34m=\u001b[0m \u001b[0mself\u001b[0m\u001b[0;34m.\u001b[0m\u001b[0m_poll\u001b[0m\u001b[0;34m.\u001b[0m\u001b[0mpoll\u001b[0m\u001b[0;34m(\u001b[0m\u001b[0mtimeout\u001b[0m\u001b[0;34m)\u001b[0m\u001b[0;34m\u001b[0m\u001b[0m\n\u001b[0m\u001b[1;32m    377\u001b[0m             \u001b[0;32mexcept\u001b[0m \u001b[0mInterruptedError\u001b[0m\u001b[0;34m:\u001b[0m\u001b[0;34m\u001b[0m\u001b[0m\n",
      "\u001b[0;31mKeyboardInterrupt\u001b[0m: ",
      "\nDuring handling of the above exception, another exception occurred:\n",
      "\u001b[0;31mValueError\u001b[0m                                Traceback (most recent call last)",
      "\u001b[0;32m<ipython-input-218-dffc4d064602>\u001b[0m in \u001b[0;36m<module>\u001b[0;34m()\u001b[0m\n\u001b[1;32m     17\u001b[0m     \u001b[0mfb_bonus\u001b[0m \u001b[0;34m=\u001b[0m \u001b[0mtt\u001b[0m\u001b[0;34m.\u001b[0m\u001b[0mconcatenate\u001b[0m\u001b[0;34m(\u001b[0m\u001b[0;34m[\u001b[0m\u001b[0;34m[\u001b[0m\u001b[0;36m0.\u001b[0m\u001b[0;34m]\u001b[0m\u001b[0;34m,\u001b[0m \u001b[0mpm\u001b[0m\u001b[0;34m.\u001b[0m\u001b[0mNormal\u001b[0m\u001b[0;34m(\u001b[0m\u001b[0;34m'fb_bonus'\u001b[0m\u001b[0;34m,\u001b[0m \u001b[0;36m0\u001b[0m\u001b[0;34m,\u001b[0m \u001b[0;36m2\u001b[0m \u001b[0;34m*\u001b[0m \u001b[0mrdf\u001b[0m\u001b[0;34m.\u001b[0m\u001b[0mscore\u001b[0m\u001b[0;34m.\u001b[0m\u001b[0mstd\u001b[0m\u001b[0;34m(\u001b[0m\u001b[0;34m)\u001b[0m\u001b[0;34m,\u001b[0m \u001b[0mshape\u001b[0m\u001b[0;34m=\u001b[0m\u001b[0mn_group\u001b[0m\u001b[0;34m-\u001b[0m\u001b[0;36m1\u001b[0m\u001b[0;34m)\u001b[0m\u001b[0;34m]\u001b[0m\u001b[0;34m)\u001b[0m\u001b[0;34m\u001b[0m\u001b[0m\n\u001b[1;32m     18\u001b[0m     \u001b[0mpm\u001b[0m\u001b[0;34m.\u001b[0m\u001b[0mNormal\u001b[0m\u001b[0;34m(\u001b[0m\u001b[0;34m'score'\u001b[0m\u001b[0;34m,\u001b[0m \u001b[0mμ\u001b[0m\u001b[0;34m[\u001b[0m\u001b[0mstrat\u001b[0m\u001b[0;34m]\u001b[0m \u001b[0;34m+\u001b[0m \u001b[0mfb_bonus\u001b[0m\u001b[0;34m[\u001b[0m\u001b[0mfb_type\u001b[0m\u001b[0;34m[\u001b[0m\u001b[0mdf\u001b[0m\u001b[0;34m.\u001b[0m\u001b[0mpid\u001b[0m\u001b[0;34m]\u001b[0m\u001b[0;34m]\u001b[0m\u001b[0;34m,\u001b[0m \u001b[0mσ\u001b[0m\u001b[0;34m[\u001b[0m\u001b[0mstrat\u001b[0m\u001b[0;34m]\u001b[0m\u001b[0;34m,\u001b[0m \u001b[0mobserved\u001b[0m\u001b[0;34m=\u001b[0m\u001b[0mdf\u001b[0m\u001b[0;34m.\u001b[0m\u001b[0mscore\u001b[0m\u001b[0;34m)\u001b[0m\u001b[0;34m\u001b[0m\u001b[0m\n\u001b[0;32m---> 19\u001b[0;31m     \u001b[0mtrace\u001b[0m \u001b[0;34m=\u001b[0m \u001b[0mpm\u001b[0m\u001b[0;34m.\u001b[0m\u001b[0msample\u001b[0m\u001b[0;34m(\u001b[0m\u001b[0;34m)\u001b[0m\u001b[0;34m\u001b[0m\u001b[0m\n\u001b[0m",
      "\u001b[0;32m~/Projects/open-sauce/pymc3/pymc3/sampling.py\u001b[0m in \u001b[0;36msample\u001b[0;34m(draws, step, init, n_init, start, trace, chain_idx, chains, cores, tune, progressbar, model, random_seed, live_plot, discard_tuned_samples, live_plot_kwargs, compute_convergence_checks, **kwargs)\u001b[0m\n\u001b[1;32m    438\u001b[0m             \u001b[0m_print_step_hierarchy\u001b[0m\u001b[0;34m(\u001b[0m\u001b[0mstep\u001b[0m\u001b[0;34m)\u001b[0m\u001b[0;34m\u001b[0m\u001b[0m\n\u001b[1;32m    439\u001b[0m             \u001b[0;32mtry\u001b[0m\u001b[0;34m:\u001b[0m\u001b[0;34m\u001b[0m\u001b[0m\n\u001b[0;32m--> 440\u001b[0;31m                 \u001b[0mtrace\u001b[0m \u001b[0;34m=\u001b[0m \u001b[0m_mp_sample\u001b[0m\u001b[0;34m(\u001b[0m\u001b[0;34m**\u001b[0m\u001b[0msample_args\u001b[0m\u001b[0;34m)\u001b[0m\u001b[0;34m\u001b[0m\u001b[0m\n\u001b[0m\u001b[1;32m    441\u001b[0m             \u001b[0;32mexcept\u001b[0m \u001b[0mpickle\u001b[0m\u001b[0;34m.\u001b[0m\u001b[0mPickleError\u001b[0m\u001b[0;34m:\u001b[0m\u001b[0;34m\u001b[0m\u001b[0m\n\u001b[1;32m    442\u001b[0m                 \u001b[0m_log\u001b[0m\u001b[0;34m.\u001b[0m\u001b[0mwarning\u001b[0m\u001b[0;34m(\u001b[0m\u001b[0;34m\"Could not pickle model, sampling singlethreaded.\"\u001b[0m\u001b[0;34m)\u001b[0m\u001b[0;34m\u001b[0m\u001b[0m\n",
      "\u001b[0;32m~/Projects/open-sauce/pymc3/pymc3/sampling.py\u001b[0m in \u001b[0;36m_mp_sample\u001b[0;34m(draws, tune, step, chains, cores, chain, random_seed, start, progressbar, trace, model, **kwargs)\u001b[0m\n\u001b[1;32m   1002\u001b[0m         \u001b[0;32mreturn\u001b[0m \u001b[0mMultiTrace\u001b[0m\u001b[0;34m(\u001b[0m\u001b[0mtraces\u001b[0m\u001b[0;34m)\u001b[0m\u001b[0;34m\u001b[0m\u001b[0m\n\u001b[1;32m   1003\u001b[0m     \u001b[0;32mexcept\u001b[0m \u001b[0mKeyboardInterrupt\u001b[0m\u001b[0;34m:\u001b[0m\u001b[0;34m\u001b[0m\u001b[0m\n\u001b[0;32m-> 1004\u001b[0;31m         \u001b[0mtraces\u001b[0m\u001b[0;34m,\u001b[0m \u001b[0mlength\u001b[0m \u001b[0;34m=\u001b[0m \u001b[0m_choose_chains\u001b[0m\u001b[0;34m(\u001b[0m\u001b[0mtraces\u001b[0m\u001b[0;34m,\u001b[0m \u001b[0mtune\u001b[0m\u001b[0;34m)\u001b[0m\u001b[0;34m\u001b[0m\u001b[0m\n\u001b[0m\u001b[1;32m   1005\u001b[0m         \u001b[0;32mreturn\u001b[0m \u001b[0mMultiTrace\u001b[0m\u001b[0;34m(\u001b[0m\u001b[0mtraces\u001b[0m\u001b[0;34m)\u001b[0m\u001b[0;34m[\u001b[0m\u001b[0;34m:\u001b[0m\u001b[0mlength\u001b[0m\u001b[0;34m]\u001b[0m\u001b[0;34m\u001b[0m\u001b[0m\n\u001b[1;32m   1006\u001b[0m     \u001b[0;32mfinally\u001b[0m\u001b[0;34m:\u001b[0m\u001b[0;34m\u001b[0m\u001b[0m\n",
      "\u001b[0;32m~/Projects/open-sauce/pymc3/pymc3/sampling.py\u001b[0m in \u001b[0;36m_choose_chains\u001b[0;34m(traces, tune)\u001b[0m\n\u001b[1;32m   1018\u001b[0m     \u001b[0mlengths\u001b[0m \u001b[0;34m=\u001b[0m \u001b[0;34m[\u001b[0m\u001b[0mmax\u001b[0m\u001b[0;34m(\u001b[0m\u001b[0;36m0\u001b[0m\u001b[0;34m,\u001b[0m \u001b[0mlen\u001b[0m\u001b[0;34m(\u001b[0m\u001b[0mtrace\u001b[0m\u001b[0;34m)\u001b[0m \u001b[0;34m-\u001b[0m \u001b[0mtune\u001b[0m\u001b[0;34m)\u001b[0m \u001b[0;32mfor\u001b[0m \u001b[0mtrace\u001b[0m \u001b[0;32min\u001b[0m \u001b[0mtraces\u001b[0m\u001b[0;34m]\u001b[0m\u001b[0;34m\u001b[0m\u001b[0m\n\u001b[1;32m   1019\u001b[0m     \u001b[0;32mif\u001b[0m \u001b[0;32mnot\u001b[0m \u001b[0msum\u001b[0m\u001b[0;34m(\u001b[0m\u001b[0mlengths\u001b[0m\u001b[0;34m)\u001b[0m\u001b[0;34m:\u001b[0m\u001b[0;34m\u001b[0m\u001b[0m\n\u001b[0;32m-> 1020\u001b[0;31m         \u001b[0;32mraise\u001b[0m \u001b[0mValueError\u001b[0m\u001b[0;34m(\u001b[0m\u001b[0;34m'Not enough samples to build a trace.'\u001b[0m\u001b[0;34m)\u001b[0m\u001b[0;34m\u001b[0m\u001b[0m\n\u001b[0m\u001b[1;32m   1021\u001b[0m \u001b[0;34m\u001b[0m\u001b[0m\n\u001b[1;32m   1022\u001b[0m     \u001b[0midxs\u001b[0m \u001b[0;34m=\u001b[0m \u001b[0mnp\u001b[0m\u001b[0;34m.\u001b[0m\u001b[0margsort\u001b[0m\u001b[0;34m(\u001b[0m\u001b[0mlengths\u001b[0m\u001b[0;34m)\u001b[0m\u001b[0;34m[\u001b[0m\u001b[0;34m:\u001b[0m\u001b[0;34m:\u001b[0m\u001b[0;34m-\u001b[0m\u001b[0;36m1\u001b[0m\u001b[0;34m]\u001b[0m\u001b[0;34m\u001b[0m\u001b[0m\n",
      "\u001b[0;31mValueError\u001b[0m: Not enough samples to build a trace."
     ]
    }
   ],
   "source": [
    "df = rdf\n",
    "with pm.Model() as model:\n",
    "    fb_type = pdf.feedback.apply(fb_order.index).values\n",
    "    strat = df.strat.apply(strat_order.index).values\n",
    "    n_group = len(fb_order)\n",
    "    n_strat = len(strat_order)\n",
    "    n_pid = df.pid.max() + 1\n",
    "\n",
    "    β = pm.Dirichlet('β', np.ones((n_group, n_strat)), shape=(n_group, n_strat))\n",
    "    λ = pm.Exponential('λ', 10, shape=n_group)\n",
    "    α = λ[:, None] * β\n",
    "    θ = pm.Dirichlet('θ', α[fb_type], shape=(n_pid, n_strat))\n",
    "    pm.Categorical('strat', θ[df.pid], observed=strat)\n",
    "    μ = pm.Normal('μ', 0, 2 * rdf.score.std(), shape=n_strat)\n",
    "    σ = pm.Uniform('σ', 0, 2 * rdf.score.std(), shape=n_strat)\n",
    "    \n",
    "    fb_bonus = tt.concatenate([[0.], pm.Normal('fb_bonus', 0, 2 * rdf.score.std(), shape=n_group-1)])\n",
    "    pm.Normal('score', μ[strat] + fb_bonus[fb_type[df.pid]], σ[strat], observed=df.score)\n",
    "    trace = pm.sample()"
   ]
  },
  {
   "cell_type": "code",
   "execution_count": 151,
   "metadata": {
    "collapsed": true,
    "hidden": true
   },
   "outputs": [
    {
     "data": {
      "text/plain": [
       "(<Figure size 432x446.4 with 1 Axes>,\n",
       " array([<matplotlib.axes._subplots.AxesSubplot object at 0x136352780>],\n",
       "       dtype=object))"
      ]
     },
     "execution_count": 151,
     "metadata": {},
     "output_type": "execute_result"
    },
    {
     "data": {
      "image/png": "[encoded data removed]",
      "text/plain": [
       "<Figure size 432x446.4 with 1 Axes>"
      ]
     },
     "metadata": {},
     "output_type": "display_data"
    }
   ],
   "source": [
    "pm.forestplot(trace, var_names=['θ_mean', 'θ_std'])"
   ]
  },
  {
   "cell_type": "code",
   "execution_count": 150,
   "metadata": {
    "hidden": true
   },
   "outputs": [
    {
     "data": {
      "text/plain": [
       "(<Figure size 432x316.8 with 1 Axes>,\n",
       " array([<matplotlib.axes._subplots.AxesSubplot object at 0x13549e048>],\n",
       "       dtype=object))"
      ]
     },
     "execution_count": 150,
     "metadata": {},
     "output_type": "execute_result"
    },
    {
     "data": {
      "image/png": "[encoded data removed]",
      "text/plain": [
       "<Figure size 432x316.8 with 1 Axes>"
      ]
     },
     "metadata": {},
     "output_type": "display_data"
    }
   ],
   "source": [
    "pm.forestplot(trace, var_names=['fb_bonus'])"
   ]
  },
  {
   "cell_type": "markdown",
   "metadata": {
    "heading_collapsed": true
   },
   "source": [
    "## Frequentist"
   ]
  },
  {
   "cell_type": "code",
   "execution_count": 18,
   "metadata": {
    "hidden": true
   },
   "outputs": [
    {
     "name": "stderr",
     "output_type": "stream",
     "text": [
      "R[write to console]: Loading required package: carData\n",
      "\n"
     ]
    }
   ],
   "source": [
    "%%R\n",
    "library(lme4)\n",
    "library(mediation)\n",
    "library(lavaan)\n",
    "library(car)"
   ]
  },
  {
   "cell_type": "code",
   "execution_count": null,
   "metadata": {
    "hidden": true
   },
   "outputs": [],
   "source": [
    "R> med.fit <- glmer(attachment ~ catholic + gender + income + pared +\n",
    "+ (1 | SCH_ID), family = binomial(link = \"logit\"), data = student)\n",
    "R> out.fit <- glmer(fight ~ catholic * attachment + gender + income +\n",
    "+ pared + (1 + attac"
   ]
  },
  {
   "cell_type": "code",
   "execution_count": 36,
   "metadata": {
    "collapsed": true,
    "hidden": true
   },
   "outputs": [
    {
     "data": {
      "text/plain": [
       "\n",
       "Causal Mediation Analysis \n",
       "\n",
       "Quasi-Bayesian Confidence Intervals\n",
       "\n",
       "Mediator Groups: pid \n",
       "\n",
       "Outcome Groups: pid \n",
       "\n",
       "Output Based on Overall Averages Across Groups \n",
       "\n",
       "                         Estimate 95% CI Lower 95% CI Upper p-value    \n",
       "ACME (control)              6.542        3.815         9.27  <2e-16 ***\n",
       "ACME (treated)              7.556        3.923        11.45  <2e-16 ***\n",
       "ADE (control)               2.496       -2.347         7.22    0.29    \n",
       "ADE (treated)               3.510       -0.836         7.72    0.12    \n",
       "Total Effect               10.052        5.011        14.73  <2e-16 ***\n",
       "Prop. Mediated (control)    0.651        0.393         1.14  <2e-16 ***\n",
       "Prop. Mediated (treated)    0.747        0.421         1.35  <2e-16 ***\n",
       "ACME (average)              7.049        4.151        10.11  <2e-16 ***\n",
       "ADE (average)               3.003       -1.296         7.29    0.19    \n",
       "Prop. Mediated (average)    0.699        0.432         1.20  <2e-16 ***\n",
       "---\n",
       "Signif. codes:  0 ‘***’ 0.001 ‘**’ 0.01 ‘*’ 0.05 ‘.’ 0.1 ‘ ’ 1\n",
       "\n",
       "Sample Size Used: 3060 \n",
       "\n",
       "\n",
       "Simulations: 1000 \n",
       "\n"
      ]
     },
     "metadata": {},
     "output_type": "display_data"
    }
   ],
   "source": [
    "%%R -i rdf\n",
    "m1 = glmer(goal_setting ~ meta + (1|pid), family=binomial, data=rdf)\n",
    "m2 = lmer(score ~ meta*goal_setting + (1|pid), data=rdf)\n",
    "med = mediate(m1, m2, mediator=\"goal_setting\", treat=\"meta\")\n",
    "summary(med)\n",
    "# m2 = lmer()"
   ]
  },
  {
   "cell_type": "code",
   "execution_count": 240,
   "metadata": {
    "hidden": true
   },
   "outputs": [
    {
     "data": {
      "text/plain": [
       "lavaan 0.6-3 ended normally after 63 iterations\n",
       "\n",
       "  Optimization method                           NLMINB\n",
       "  Number of free parameters                         11\n",
       "\n",
       "  Number of observations                           153\n",
       "\n",
       "  Estimator                                         ML\n",
       "  Model Fit Test Statistic                       7.142\n",
       "  Degrees of freedom                                 1\n",
       "  P-value (Chi-square)                           0.008\n",
       "\n",
       "Parameter Estimates:\n",
       "\n",
       "  Information                                 Expected\n",
       "  Information saturated (h1) model          Structured\n",
       "  Standard Errors                             Standard\n",
       "\n",
       "Regressions:\n",
       "                   Estimate  Std.Err  z-value  P(>|z|)\n",
       "  score ~                                             \n",
       "    meta      (sm)    0.372    2.300    0.162    0.872\n",
       "    action    (sa)    1.250    2.149    0.582    0.561\n",
       "  goal_setting ~                                      \n",
       "    meta      (gm)    0.343    0.076    4.520    0.000\n",
       "    action    (ga)   -0.124    0.076   -1.636    0.102\n",
       "  score ~                                             \n",
       "    gol_sttng (sg)   16.807    2.264    7.422    0.000\n",
       "  forward ~                                           \n",
       "    meta      (fm)   -0.078    0.032   -2.434    0.015\n",
       "    action    (fa)   -0.029    0.032   -0.906    0.365\n",
       "  score ~                                             \n",
       "    forward   (sf)  -28.385    5.354   -5.301    0.000\n",
       "\n",
       "Variances:\n",
       "                   Estimate  Std.Err  z-value  P(>|z|)\n",
       "   .score           116.151   13.280    8.746    0.000\n",
       "   .goal_setting      0.148    0.017    8.746    0.000\n",
       "   .forward           0.026    0.003    8.746    0.000\n",
       "\n"
      ]
     },
     "metadata": {},
     "output_type": "display_data"
    }
   ],
   "source": [
    "%%R -i rdf -i file\n",
    "library(lavaan)\n",
    "rdf$pid = factor(rdf$pid)\n",
    "model <- ' \n",
    "level\n",
    "# direct effects\n",
    "score ~ sm * meta\n",
    "score ~ sa * action\n",
    "\n",
    "# indirect effects\n",
    "goal_setting ~ gm * meta\n",
    "goal_setting ~ ga * action\n",
    "score ~ sg * goal_setting\n",
    "\n",
    "forward ~ fm * meta\n",
    "forward ~ fa * action\n",
    "score ~ sf * forward\n",
    "'\n",
    "fit <- sem(model, data=rdf)\n",
    "sink(file=file, append=TRUE)\n",
    "summary(fit)\n",
    "sink()\n",
    "summary(fit)"
   ]
  },
  {
   "cell_type": "markdown",
   "metadata": {},
   "source": [
    "## Old"
   ]
  },
  {
   "cell_type": "code",
   "execution_count": 54,
   "metadata": {},
   "outputs": [],
   "source": [
    "from toolz.curried import get\n",
    "test_block = mdf.query('block == \"test\"').copy()\n",
    "first_click = test_block.clicks.apply(get(0, default=None))\n",
    "no_click = first_click.isna()\n",
    "\n",
    "if EXPERIMENT == 1:\n",
    "    leaves = {3,4,7,8,11,12}\n",
    "else:  # transfer\n",
    "    leaves = {5, 6, 7, 9, 10, 11, 16, 17, 18, 20, 21, 22, 27, 28, 29, 31, 32, 33}\n",
    "\n",
    "# Sanity check that we have the correct set of leaf nodes.\n",
    "# empirical_final_states = set(map(int,her set(test_block.query('block == \"test\"').path.apply(lambda x: x[-1]))))\n",
    "# assert leaves == empirical_final_states\n",
    "\n",
    "in_leaves = first_click.isin(leaves)\n",
    "in_leaves[no_click] = np.nan\n",
    "# in_leaves[test_block.block == 'training'] == np.nan\n",
    "test_block['backward'] = in_leaves\n",
    "test_block['clicked'] = ~no_click\n",
    "\n",
    "rdf = test_block.copy()\n",
    "# rdf['feedback'] = (rdf.feedback != 'none').astype(int)\n",
    "fb = rdf.pop('feedback')\n",
    "for c in ['action', 'meta']:\n",
    "    rdf[c] = (fb == c).astype(int)\n",
    "\n",
    "rdf['clicked'] = rdf.clicked.astype(int)\n",
    "rdf.backward.fillna(0, inplace=True)\n",
    "rdf = rdf[['action', 'meta', 'backward', 'clicked', 'n_clicks', 'score']].reset_index()\n",
    "# rdf = rdf.groupby('pid').mean().reset_index()\n",
    "for k in 'action meta backward clicked'.split():\n",
    "    rdf[k] = rdf[k].astype(int)\n",
    "file = result_file('mediation')"
   ]
  },
  {
   "cell_type": "code",
   "execution_count": 44,
   "metadata": {},
   "outputs": [
    {
     "data": {
      "text/plain": [
       "feedback\n",
       "none      31.264815\n",
       "action    30.213636\n",
       "meta      36.877273\n",
       "Name: score, dtype: float64"
      ]
     },
     "execution_count": 44,
     "metadata": {},
     "output_type": "execute_result"
    }
   ],
   "source": [
    "test_block.groupby('feedback').score.mean()"
   ]
  },
  {
   "cell_type": "code",
   "execution_count": 57,
   "metadata": {},
   "outputs": [
    {
     "data": {
      "text/plain": [
       "\n",
       "Call:\n",
       "lm(formula = clicked ~ action + meta, data = rdf)\n",
       "\n",
       "Coefficients:\n",
       "(Intercept)       action         meta  \n",
       "    0.86759     -0.03668      0.09604  \n",
       "\n"
      ]
     },
     "metadata": {},
     "output_type": "display_data"
    }
   ],
   "source": [
    "%%R -i rdf\n",
    "lm(clicked ~ action + meta, data=rdf)"
   ]
  },
  {
   "cell_type": "code",
   "execution_count": 58,
   "metadata": {},
   "outputs": [
    {
     "data": {
      "text/plain": [
       "\n",
       "Call:  glm(formula = clicked ~ action + meta, family = \"binomial\", data = rdf)\n",
       "\n",
       "Coefficients:\n",
       "(Intercept)       action         meta  \n",
       "     1.8798      -0.2878       1.3973  \n",
       "\n",
       "Degrees of Freedom: 3279 Total (i.e. Null);  3277 Residual\n",
       "Null Deviance:\t    2307 \n",
       "Residual Deviance: 2188 \tAIC: 2194\n"
      ]
     },
     "metadata": {},
     "output_type": "display_data"
    }
   ],
   "source": [
    "%%R -i rdf\n",
    "glm(clicked ~ action + meta, data=rdf, family='binomial')"
   ]
  },
  {
   "cell_type": "code",
   "execution_count": 60,
   "metadata": {},
   "outputs": [
    {
     "data": {
      "text/plain": [
       "lavaan 0.6-3 ended normally after 84 iterations\n",
       "\n",
       "  Optimization method                           NLMINB\n",
       "  Number of free parameters                         15\n",
       "\n",
       "  Number of observations                          3280\n",
       "\n",
       "  Estimator                                         ML\n",
       "  Model Fit Test Statistic                    2756.422\n",
       "  Degrees of freedom                                 3\n",
       "  P-value (Chi-square)                           0.000\n",
       "\n",
       "Parameter Estimates:\n",
       "\n",
       "  Information                                 Expected\n",
       "  Information saturated (h1) model          Structured\n",
       "  Standard Errors                             Standard\n",
       "\n",
       "Regressions:\n",
       "                   Estimate  Std.Err  z-value  P(>|z|)\n",
       "  score ~                                             \n",
       "    meta             -0.715    0.873   -0.819    0.413\n",
       "    action            1.395    0.838    1.663    0.096\n",
       "    backward  (sb)   10.166    0.854   11.902    0.000\n",
       "    clicked   (sc)   35.369    1.091   32.413    0.000\n",
       "    n_clicks  (sn)   -1.417    0.113  -12.492    0.000\n",
       "  clicked ~                                           \n",
       "    meta      (cm)    0.096    0.013    7.210    0.000\n",
       "    action    (ca)   -0.037    0.013   -2.754    0.006\n",
       "  backward ~                                          \n",
       "    meta      (bm)    0.283    0.017   16.638    0.000\n",
       "    action    (ba)   -0.001    0.017   -0.030    0.976\n",
       "  n_clicks ~                                          \n",
       "    meta      (nm)   -0.037    0.128   -0.287    0.774\n",
       "    action    (na)    0.807    0.128    6.296    0.000\n",
       "\n",
       "Variances:\n",
       "                   Estimate  Std.Err  z-value  P(>|z|)\n",
       "   .score           377.638    9.325   40.497    0.000\n",
       "   .clicked           0.097    0.002   40.497    0.000\n",
       "   .backward          0.158    0.004   40.497    0.000\n",
       "   .n_clicks          8.949    0.221   40.497    0.000\n",
       "\n",
       "Defined Parameters:\n",
       "                   Estimate  Std.Err  z-value  P(>|z|)\n",
       "    sbm               2.878    0.297    9.680    0.000\n",
       "    scm               3.397    0.483    7.038    0.000\n",
       "    snm               0.052    0.182    0.287    0.774\n",
       "    sba              -0.005    0.173   -0.030    0.976\n",
       "    sca              -1.297    0.473   -2.744    0.006\n",
       "    sna              -1.143    0.203   -5.623    0.000\n",
       "\n"
      ]
     },
     "metadata": {},
     "output_type": "display_data"
    }
   ],
   "source": [
    "%%R -i rdf -i file\n",
    "library(lavaan)\n",
    "rdf$pid = factor(rdf$pid)\n",
    "model <- ' \n",
    "# direct effects\n",
    "score ~ meta\n",
    "score ~ action\n",
    "\n",
    "score ~ sb * backward\n",
    "score ~ sc * clicked\n",
    "score ~ sn * n_clicks\n",
    "\n",
    "clicked ~ cm * meta\n",
    "clicked ~ ca * action\n",
    "\n",
    "backward ~ bm * meta\n",
    "backward ~ ba * action\n",
    "\n",
    "n_clicks ~ nm * meta\n",
    "n_clicks ~ na * action\n",
    "\n",
    "sbm := sb * bm\n",
    "scm := sc * cm\n",
    "snm := sn * nm\n",
    "sba := sb * ba\n",
    "sca := sc * ca\n",
    "sna := sn * na\n",
    "'\n",
    "fit <- sem(model, data=rdf)\n",
    "sink(file=file, append=TRUE)\n",
    "summary(fit)\n",
    "sink()\n",
    "summary(fit)"
   ]
  },
  {
   "cell_type": "markdown",
   "metadata": {
    "heading_collapsed": true
   },
   "source": [
    "### Double Old"
   ]
  },
  {
   "cell_type": "code",
   "execution_count": 8,
   "metadata": {
    "hidden": true
   },
   "outputs": [],
   "source": [
    "rdf = test_block.query('feedback != \"action\"').copy()\n",
    "rdf['feedback'] = (rdf.feedback != 'none').astype(int)\n",
    "rdf['clicked'] = rdf.clicked.astype(int)\n",
    "rdf.first_click_leaf.fillna(0, inplace=True)\n",
    "rdf = rdf[['feedback', 'first_click_leaf', 'clicked', 'n_clicks', 'score']].reset_index()\n",
    "rdf = rdf.groupby('pid').mean().reset_index()\n",
    "file = result_file('mediation')"
   ]
  },
  {
   "cell_type": "code",
   "execution_count": 14,
   "metadata": {
    "hidden": true
   },
   "outputs": [
    {
     "data": {
      "text/plain": [
       "lavaan 0.6-3 ended normally after 60 iterations\n",
       "\n",
       "  Optimization method                           NLMINB\n",
       "  Number of free parameters                         11\n",
       "\n",
       "  Number of observations                           109\n",
       "\n",
       "  Estimator                                         ML\n",
       "  Model Fit Test Statistic                     139.298\n",
       "  Degrees of freedom                                 3\n",
       "  P-value (Chi-square)                           0.000\n",
       "\n",
       "Parameter Estimates:\n",
       "\n",
       "  Information                                 Expected\n",
       "  Information saturated (h1) model          Structured\n",
       "  Standard Errors                             Standard\n",
       "\n",
       "Regressions:\n",
       "                     Estimate  Std.Err  z-value  P(>|z|)\n",
       "  score ~                                               \n",
       "    feedback   (a)     -0.610    1.110   -0.550    0.582\n",
       "  first_click_leaf ~                                    \n",
       "    feedback   (b)      0.283    0.061    4.609    0.000\n",
       "  score ~                                               \n",
       "    frst_clck_ (c)     14.712    1.561    9.427    0.000\n",
       "  clicked ~                                             \n",
       "    feedback   (d)      0.096    0.050    1.938    0.053\n",
       "  score ~                                               \n",
       "    clicked    (e)     22.003    1.934   11.378    0.000\n",
       "  n_clicks ~                                            \n",
       "    feedback   (f)     -0.037    0.333   -0.110    0.912\n",
       "  score ~                                               \n",
       "    n_clicks   (g)      1.516    0.288    5.264    0.000\n",
       "\n",
       "Variances:\n",
       "                   Estimate  Std.Err  z-value  P(>|z|)\n",
       "   .score            27.293    3.697    7.382    0.000\n",
       "   .first_click_lf    0.103    0.014    7.382    0.000\n",
       "   .clicked           0.067    0.009    7.382    0.000\n",
       "   .n_clicks          3.017    0.409    7.382    0.000\n",
       "\n",
       "Defined Parameters:\n",
       "                   Estimate  Std.Err  z-value  P(>|z|)\n",
       "    be                4.165    1.006    4.141    0.000\n",
       "    ce                2.113    1.106    1.910    0.056\n",
       "\n"
      ]
     },
     "metadata": {},
     "output_type": "display_data"
    }
   ],
   "source": [
    "%%R -i rdf -i file\n",
    "library(lavaan)\n",
    "rdf$pid = factor(rdf$pid)\n",
    "model <- ' \n",
    "# direct effects\n",
    "score ~ a * feedback\n",
    "\n",
    "# indirect effects\n",
    "first_click_leaf ~ b * feedback\n",
    "score ~ c * first_click_leaf\n",
    "\n",
    "clicked ~ d * feedback\n",
    "score ~ e * clicked\n",
    "\n",
    "n_clicks ~ f * feedback\n",
    "score ~ g * n_clicks\n",
    "\n",
    "be := b * c\n",
    "ce := d * e\n",
    "'\n",
    "fit <- sem(model, data=rdf)\n",
    "sink(file=file, append=TRUE)\n",
    "summary(fit)\n",
    "sink()\n",
    "summary(fit)"
   ]
  },
  {
   "cell_type": "markdown",
   "metadata": {
    "heading_collapsed": true
   },
   "source": [
    "# Quiz"
   ]
  },
  {
   "cell_type": "code",
   "execution_count": 125,
   "metadata": {
    "hidden": true
   },
   "outputs": [
    {
     "ename": "KeyError",
     "evalue": "'survey-multi-choice'",
     "output_type": "error",
     "traceback": [
      "\u001b[0;31m---------------------------------------------------------------------------\u001b[0m",
      "\u001b[0;31mKeyError\u001b[0m                                  Traceback (most recent call last)",
      "\u001b[0;32m<ipython-input-125-c137fd3a49a1>\u001b[0m in \u001b[0;36m<module>\u001b[0;34m()\u001b[0m\n\u001b[1;32m      7\u001b[0m     \u001b[0;32mexcept\u001b[0m \u001b[0mValueError\u001b[0m\u001b[0;34m:\u001b[0m\u001b[0;34m\u001b[0m\u001b[0m\n\u001b[1;32m      8\u001b[0m         \u001b[0;32mreturn\u001b[0m \u001b[0;34m[\u001b[0m\u001b[0;34m]\u001b[0m  \u001b[0;31m# something is wrong with this row\u001b[0m\u001b[0;34m\u001b[0m\u001b[0m\n\u001b[0;32m----> 9\u001b[0;31m \u001b[0msdf\u001b[0m \u001b[0;34m=\u001b[0m \u001b[0mdata\u001b[0m\u001b[0;34m[\u001b[0m\u001b[0;34m'survey-multi-choice'\u001b[0m\u001b[0;34m]\u001b[0m\u001b[0;34m.\u001b[0m\u001b[0mset_index\u001b[0m\u001b[0;34m(\u001b[0m\u001b[0;34m'pid'\u001b[0m\u001b[0;34m)\u001b[0m\u001b[0;34m\u001b[0m\u001b[0m\n\u001b[0m\u001b[1;32m     10\u001b[0m \u001b[0mresponses\u001b[0m \u001b[0;34m=\u001b[0m \u001b[0mpd\u001b[0m\u001b[0;34m.\u001b[0m\u001b[0mDataFrame\u001b[0m\u001b[0;34m(\u001b[0m\u001b[0mlist\u001b[0m\u001b[0;34m(\u001b[0m\u001b[0msdf\u001b[0m\u001b[0;34m.\u001b[0m\u001b[0mresponses\u001b[0m\u001b[0;34m.\u001b[0m\u001b[0mapply\u001b[0m\u001b[0;34m(\u001b[0m\u001b[0mtry_eval\u001b[0m\u001b[0;34m)\u001b[0m\u001b[0;34m)\u001b[0m\u001b[0;34m,\u001b[0m \u001b[0mindex\u001b[0m\u001b[0;34m=\u001b[0m\u001b[0msdf\u001b[0m\u001b[0;34m.\u001b[0m\u001b[0mindex\u001b[0m\u001b[0;34m,\u001b[0m \u001b[0mcolumns\u001b[0m\u001b[0;34m=\u001b[0m\u001b[0msdf\u001b[0m\u001b[0;34m.\u001b[0m\u001b[0mquestions\u001b[0m\u001b[0;34m[\u001b[0m\u001b[0;36m0\u001b[0m\u001b[0;34m]\u001b[0m\u001b[0;34m)\u001b[0m\u001b[0;34m\u001b[0m\u001b[0m\n\u001b[1;32m     11\u001b[0m \u001b[0mcorrect\u001b[0m \u001b[0;34m=\u001b[0m \u001b[0mresponses\u001b[0m\u001b[0;34m.\u001b[0m\u001b[0mapply\u001b[0m\u001b[0;34m(\u001b[0m\u001b[0;32mlambda\u001b[0m \u001b[0mx\u001b[0m\u001b[0;34m:\u001b[0m \u001b[0mx\u001b[0m\u001b[0;34m.\u001b[0m\u001b[0mmode\u001b[0m\u001b[0;34m(\u001b[0m\u001b[0;34m)\u001b[0m\u001b[0;34m.\u001b[0m\u001b[0miloc\u001b[0m\u001b[0;34m[\u001b[0m\u001b[0;36m0\u001b[0m\u001b[0;34m]\u001b[0m\u001b[0;34m)\u001b[0m  \u001b[0;31m# assume the most common answer is correct\u001b[0m\u001b[0;34m\u001b[0m\u001b[0m\n",
      "\u001b[0;31mKeyError\u001b[0m: 'survey-multi-choice'"
     ]
    }
   ],
   "source": [
    "from ast import literal_eval\n",
    "def try_eval(x):\n",
    "    if not isinstance(x, str):\n",
    "        return x  # already evaled\n",
    "    try:\n",
    "        return literal_eval(x)\n",
    "    except ValueError:\n",
    "        return []  # something is wrong with this row\n",
    "sdf = data['survey-multi-choice'].set_index('pid')\n",
    "responses = pd.DataFrame(list(sdf.responses.apply(try_eval)), index=sdf.index, columns=sdf.questions[0])\n",
    "correct = responses.apply(lambda x: x.mode().iloc[0])  # assume the most common answer is correct\n",
    "errors = responses != correct\n",
    "errors.mean()"
   ]
  },
  {
   "cell_type": "code",
   "execution_count": 17,
   "metadata": {
    "hidden": true
   },
   "outputs": [
    {
     "name": "stderr",
     "output_type": "stream",
     "text": [
      "/usr/local/lib/miniconda3/lib/python3.6/site-packages/scipy/stats/stats.py:1713: FutureWarning: Using a non-tuple sequence for multidimensional indexing is deprecated; use `arr[tuple(seq)]` instead of `arr[seq]`. In the future this will be interpreted as an array index, `arr[np.array(seq)]`, which will result either in an error or a different result.\n",
      "  return np.add.reduce(sorted[indexer] * weights, axis=axis) / sumval\n"
     ]
    },
    {
     "name": "stdout",
     "output_type": "stream",
     "text": [
      "figs/3/training.pdf\n",
      "figs/3/training.png\n"
     ]
    },
    {
     "data": {
      "image/png": "[encoded data removed]",
      "text/plain": [
       "<Figure size 432x216 with 1 Axes>"
      ]
     },
     "metadata": {},
     "output_type": "display_data"
    }
   ],
   "source": [
    "@figure()\n",
    "def plot_training():\n",
    "    plt.figure(figsize=(6,3))\n",
    "    g = sns.lineplot(x='trial_index', y='score', hue='feedback',  data=mdf.query('block != \"test\"'),\n",
    "                     palette=palette, hue_order=fb_order[::-1], legend=False,\n",
    "    #                  markers='.', dodge=0.3, legend_out=False, aspect=2, \n",
    "                    )\n",
    "#     plot_block_changes()\n",
    "\n",
    "    plt.xlabel('Trial Number')\n",
    "    plt.ylabel('Score')\n",
    "#     legend = plt.gca().legend()\n",
    "#     reformat_legend(legend)\n",
    "    plt.xlim(0, 10)\n",
    "    plt.gcf().subplots_adjust(bottom=0.2)"
   ]
  },
  {
   "cell_type": "code",
   "execution_count": 236,
   "metadata": {
    "hidden": true
   },
   "outputs": [
    {
     "name": "stderr",
     "output_type": "stream",
     "text": [
      "/usr/local/lib/miniconda3/lib/python3.6/site-packages/scipy/stats/stats.py:1713: FutureWarning: Using a non-tuple sequence for multidimensional indexing is deprecated; use `arr[tuple(seq)]` instead of `arr[seq]`. In the future this will be interpreted as an array index, `arr[np.array(seq)]`, which will result either in an error or a different result.\n",
      "  return np.add.reduce(sorted[indexer] * weights, axis=axis) / sumval\n"
     ]
    },
    {
     "data": {
      "image/png": "[encoded data removed]",
      "text/plain": [
       "<Figure size 432x288 with 1 Axes>"
      ]
     },
     "metadata": {},
     "output_type": "display_data"
    }
   ],
   "source": [
    "rdf['strat'] = strat\n",
    "for g, d in rdf.groupby('strat'):\n",
    "    sns.distplot(d.score, label=g, hist=False)\n",
    "plt.legend();"
   ]
  },
  {
   "cell_type": "code",
   "execution_count": 212,
   "metadata": {
    "hidden": true
   },
   "outputs": [
    {
     "data": {
      "text/plain": [
       "0.798"
      ]
     },
     "execution_count": 212,
     "metadata": {},
     "output_type": "execute_result"
    }
   ],
   "source": [
    "from scipy.stats import mannwhitneyu, ttest_ind\n",
    "g = rdf.set_index('feedback').score.loc\n",
    "base = g['none']\n",
    "def test(n, effect, p=0.05):\n",
    "    x = base.sample(frac=n/len(base), replace=True)\n",
    "    y = base.sample(frac=n/len(base), replace=True) + effect\n",
    "    return mannwhitneyu(x, y, alternative='less').pvalue < p\n",
    "    \n",
    "np.mean([test(100, 2) for _ in range(1000)])"
   ]
  },
  {
   "cell_type": "code",
   "execution_count": 200,
   "metadata": {
    "hidden": true
   },
   "outputs": [
    {
     "name": "stderr",
     "output_type": "stream",
     "text": [
      "/usr/local/lib/miniconda3/lib/python3.6/site-packages/ipykernel_launcher.py:3: PerformanceWarning: indexing past lexsort depth may impact performance.\n",
      "  This is separate from the ipykernel package so we can avoid doing imports until\n",
      "/usr/local/lib/miniconda3/lib/python3.6/site-packages/ipykernel_launcher.py:4: PerformanceWarning: indexing past lexsort depth may impact performance.\n",
      "  after removing the cwd from sys.path.\n"
     ]
    },
    {
     "data": {
      "text/plain": [
       "0.766"
      ]
     },
     "execution_count": 200,
     "metadata": {},
     "output_type": "execute_result"
    }
   ],
   "source": [
    "from scipy.stats import mannwhitneyu\n",
    "g = pdf.set_index(['reward', 'information']).test_mean.loc\n",
    "g1 = g[False, False]\n",
    "g2 = g[False, True]\n",
    "def test(n):\n",
    "    x = g1.sample(frac=n/len(g1), replace=True)\n",
    "    y = g2.sample(frac=n/len(g2), replace=True)\n",
    "#     return ttest_ind(x, y, equal_var=False).pvalue\n",
    "#     return y.mean() > x.mean()\n",
    "    return mannwhitneyu(x, y, alternative='less').pvalue < 0.05\n",
    "    \n",
    "np.mean([test(300) for _ in range(1000)])"
   ]
  }
 ],
 "metadata": {
  "@webio": {
   "lastCommId": null,
   "lastKernelId": null
  },
  "anaconda-cloud": {},
  "kernelspec": {
   "display_name": "Python 3",
   "language": "python",
   "name": "python3"
  },
  "language_info": {
   "codemirror_mode": {
    "name": "ipython",
    "version": 3
   },
   "file_extension": ".py",
   "mimetype": "text/x-python",
   "name": "python",
   "nbconvert_exporter": "python",
   "pygments_lexer": "ipython3",
   "version": "3.6.3"
  },
  "nav_menu": {},
  "toc": {
   "navigate_menu": true,
   "number_sections": true,
   "sideBar": true,
   "threshold": 6,
   "toc_cell": false,
   "toc_section_display": "block",
   "toc_window_display": false
  }
 },
 "nbformat": 4,
 "nbformat_minor": 1
}
