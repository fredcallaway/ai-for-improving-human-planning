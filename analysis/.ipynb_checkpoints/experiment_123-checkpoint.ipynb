{
 "cells": [
  {
   "cell_type": "code",
   "execution_count": 1,
   "metadata": {},
   "outputs": [],
   "source": [
    "%matplotlib inline\n",
    "\n",
    "import matplotlib.pyplot as plt\n",
    "import numpy as np\n",
    "import pandas as pd\n",
    "import seaborn as sns\n",
    "import scipy.stats as stats\n",
    "import matplotlib as plt\n",
    "import itertools as it\n",
    "from analysis_utils import *"
   ]
  },
  {
   "cell_type": "code",
   "execution_count": 2,
   "metadata": {},
   "outputs": [],
   "source": [
    "import rpy2.robjects as ro\n",
    "from rpy2.robjects import pandas2ri\n",
    "pandas2ri.activate()\n",
    "%load_ext rpy2.ipython"
   ]
  },
  {
   "cell_type": "markdown",
   "metadata": {},
   "source": [
    "# Setup"
   ]
  },
  {
   "cell_type": "code",
   "execution_count": 190,
   "metadata": {},
   "outputs": [],
   "source": [
    "EXPERIMENT = 3\n",
    "# results = Results(f'stats/{EXPERIMENT}')\n",
    "\n",
    "def write_tex(name, tex):\n",
    "    file = f\"stats/{EXPERIMENT}-{name}.tex\"\n",
    "    with open(file, \"w+\") as f:\n",
    "        f.write(str(tex) + r\"\\unskip\")\n",
    "    print(f'wrote \"{tex}\" to \"{file}\"')\n",
    "\n",
    "data = get_data(EXPERIMENT)\n",
    "pdf = data['participants'].set_index('pid').copy()\n",
    "full_pdf = pdf.copy()\n",
    "mdf = data['trials'].set_index('pid').copy()\n",
    "mdf.trial_time /= 1000\n",
    "mdf['clicked'] = mdf.n_clicks > 0\n",
    "\n",
    "if EXPERIMENT == 3:\n",
    "    pdf.query('completed_1', inplace=True)\n",
    "else:\n",
    "    pdf.query('completed', inplace=True)"
   ]
  },
  {
   "cell_type": "markdown",
   "metadata": {},
   "source": [
    "## Demographics"
   ]
  },
  {
   "cell_type": "code",
   "execution_count": 191,
   "metadata": {},
   "outputs": [
    {
     "name": "stdout",
     "output_type": "stream",
     "text": [
      "wrote \"36.30\" to \"stats/3-mean-age.tex\"\n",
      "wrote \"20\" to \"stats/3-min-age.tex\"\n",
      "wrote \"64\" to \"stats/3-max-age.tex\"\n",
      "wrote \"33\" to \"stats/3-N-female.tex\"\n",
      "wrote \"$103$\" to \"stats/3-N-total.tex\"\n",
      "wrote \"$53$\" to \"stats/3-N-none.tex\"\n",
      "wrote \"$50$\" to \"stats/3-N-meta.tex\"\n"
     ]
    }
   ],
   "source": [
    "pids = list(pdf.index.unique())\n",
    "sdf = data['survey'].query('pid == @pids').copy()\n",
    "if not isinstance(sdf.responses.iloc[0], dict):\n",
    "    sdf = sdf.loc[~sdf.responses.isna()]\n",
    "    sdf.responses = sdf.responses.apply(ast.literal_eval)\n",
    "\n",
    "\n",
    "if EXPERIMENT == 3:\n",
    "    demo = sdf.loc[sdf.responses.apply(len) == 3].set_index('pid').responses\n",
    "    age = demo.apply(get('Q1'))\n",
    "    gender = demo.apply(get('Q2'))\n",
    "else:\n",
    "    demo = sdf.loc[sdf.responses.apply(len) == 2].set_index('pid').responses\n",
    "    age = demo.apply(get('Q0'))\n",
    "    gender = demo.apply(get('Q1'))\n",
    "    \n",
    "gender = gender.str.lower()\n",
    "age = age.apply(excepts(ValueError, int, lambda _: None))\n",
    "\n",
    "write_tex('mean-age', f'{age.mean():.2f}')\n",
    "write_tex('min-age', str(age.min()))\n",
    "write_tex('max-age', str(age.max()))\n",
    "\n",
    "regularize = {\n",
    "    'man': 'male',\n",
    "    'woman': 'female',\n",
    "    'f': 'female',\n",
    "    'm': 'male',\n",
    "}\n",
    "gender = gender.apply(lambda x: regularize.get(x.strip(), x))\n",
    "write_tex(\"N-female\", str(gender.value_counts()['female']))\n",
    "\n",
    "write_tex(\"N-total\", f\"${len(pdf)}$\")\n",
    "for fb, n in pdf.feedback.value_counts().items():\n",
    "    write_tex(f\"N-{fb}\", f\"${n}$\")"
   ]
  },
  {
   "cell_type": "code",
   "execution_count": 192,
   "metadata": {},
   "outputs": [
    {
     "name": "stdout",
     "output_type": "stream",
     "text": [
      "wrote \"8\" to \"stats/3-N-drop-none.tex\"\n",
      "wrote \"$15.1\\%$\" to \"stats/3-drop-rate-none.tex\"\n",
      "wrote \"4\" to \"stats/3-N-drop-meta.tex\"\n",
      "wrote \"$8.0\\%$\" to \"stats/3-drop-rate-meta.tex\"\n",
      "wrote \"$88.3\\%$\" to \"stats/3-return-rate.tex\"\n",
      "wrote \"$91$\" to \"stats/3-return-N.tex\"\n"
     ]
    }
   ],
   "source": [
    "if EXPERIMENT == 3:\n",
    "    dropped = pdf.query('not completed').feedback.value_counts()\n",
    "    rate = dropped / pdf.feedback.value_counts()\n",
    "    for fb in fb_order:\n",
    "        write_tex(f'N-drop-{fb}', dropped[fb])\n",
    "        write_tex(f'drop-rate-{fb}', f'${rate[fb]*100:.1f}\\%$')\n",
    "    write_tex('return-rate', f'${pdf.completed.mean()*100:.1f}\\%$')\n",
    "    write_tex('return-N', f'${pdf.completed.sum()}$')\n",
    "    pdf.query('completed', inplace=True)"
   ]
  },
  {
   "cell_type": "code",
   "execution_count": 125,
   "metadata": {},
   "outputs": [
    {
     "name": "stdout",
     "output_type": "stream",
     "text": [
      "wrote \"53\" to \"stats/3-N-stage-1-none.tex\"\n",
      "wrote \"50\" to \"stats/3-N-stage-1-meta.tex\"\n",
      "wrote \"103\" to \"stats/3-N-stage-1.tex\"\n",
      "wrote \"91\" to \"stats/3-N-stage-2.tex\"\n",
      "wrote \"8\" to \"stats/3-N-drop-none.tex\"\n",
      "wrote \"4\" to \"stats/3-N-drop-meta.tex\"\n",
      "91 / 110 participants completed the study.\n"
     ]
    }
   ],
   "source": [
    "completed = list(pdf.index)\n",
    "mdf.reset_index(inplace=True)\n",
    "mdf.query('pid == @completed', inplace=True)\n",
    "mdf.set_index('pid', inplace=True)\n",
    "\n",
    "if EXPERIMENT == 4:\n",
    "    fb_namer = {\n",
    "        (0, 0): 'none',\n",
    "        (1, 0): 'info_only',\n",
    "        (0, 1): 'reward_only',\n",
    "        (1, 1): 'both'\n",
    "    }\n",
    "    pdf['feedback'] = pdf.apply(lambda row: fb_namer[row.information, row.reward], axis=1)\n",
    "    mdf['information'] = pdf.information\n",
    "    mdf['reward'] = pdf.reward\n",
    "    fb_order = list(fb_namer.values())\n",
    "else:\n",
    "    fb_order = [fb for fb in ['none', 'action', 'meta'] if fb in set(pdf.feedback)]\n",
    "\n",
    "pdf['original_pid'] = pdf.index\n",
    "pid_labeler = Labeler()\n",
    "for d in (pdf, mdf):\n",
    "    d.reset_index(inplace=True)\n",
    "    d.pid = d.pid.apply(pid_labeler)\n",
    "    d.set_index('pid', inplace=True)\n",
    "\n",
    "pdf.feedback = pd.Categorical(pdf.feedback, fb_order, ordered=True)    \n",
    "mdf['feedback'] = pdf.feedback\n",
    "block_mean = mdf.groupby(['block', 'pid']).score.mean()\n",
    "for b in ['training', 'test']:\n",
    "    pdf[b] = block_mean[b]"
   ]
  },
  {
   "cell_type": "code",
   "execution_count": 107,
   "metadata": {},
   "outputs": [],
   "source": [
    "# mdf['total_delay'] = mdf.delays.apply(sum)\n",
    "# mdf.query('block == \"training\"').groupby('feedback').total_delay.mean()"
   ]
  },
  {
   "cell_type": "code",
   "execution_count": 108,
   "metadata": {},
   "outputs": [],
   "source": [
    "# pdf['pay'] = (0.50 + pdf.bonus)\n",
    "# pdf['wage'] = pdf.pay / (pdf.total_time / 60)\n",
    "\n",
    "# sns.distplot(pdf.wage)\n",
    "# plt.axvline(pdf.wage.mean(), c='r', ls='--')\n",
    "\n",
    "# print(f'The average duration of the experiment was {pdf.total_time.mean():.2f} min +/- {pdf.total_time.std():.2f} min.')\n",
    "# print(f'The average bonus was ${pdf.bonus.mean():.2f} +/- ${pdf.bonus.std():.2f}.')\n",
    "# print(f'The average wage was ${pdf.wage.mean():.2f}/hr +/- ${pdf.wage.std():.2f}.')"
   ]
  },
  {
   "cell_type": "markdown",
   "metadata": {
    "heading_collapsed": true
   },
   "source": [
    "## Setup Plotting "
   ]
  },
  {
   "cell_type": "code",
   "execution_count": 109,
   "metadata": {
    "hidden": true
   },
   "outputs": [],
   "source": [
    "figure = Figures(path=f'figs/{EXPERIMENT}', formats=['pdf', 'png']).plot\n",
    "\n",
    "sns.set_style('white')\n",
    "blue, orange = sns.color_palette('tab10')[:2]\n",
    "gray = (0.5,)*3\n",
    "red = (1, 0.3, 0.4)\n",
    "yellow = (1, 0.9, 0.4)\n",
    "palette = {\n",
    "    'none': gray,\n",
    "    'action': blue,\n",
    "    'meta': orange,\n",
    "    'info_only': red,\n",
    "    'reward_only': yellow,\n",
    "    'both': orange,\n",
    "}\n",
    "# sns.palplot([gray, red, yellow, orange])\n",
    "# sns.swarmplot('feedback', 'test', data=pdf, palette=palette, alpha=0.5, order=fb_order)\n",
    "\n",
    "palette = {\n",
    "    'none': gray,\n",
    "    'action': blue,\n",
    "    'meta': orange,\n",
    "    'info_only': red,\n",
    "    'reward_only': yellow,\n",
    "    'both': orange,\n",
    "}\n",
    "\n",
    "nice_names = {\n",
    "    'meta': 'Metacognitive',\n",
    "    'action': 'Action',\n",
    "    'none': 'None',\n",
    "    'feedback': 'Feedback',\n",
    "#     'meta': 'Metacognitive FB',\n",
    "#     'action': 'Action FB',\n",
    "#     'none': 'No FB',\n",
    "    'info_only': 'Information\\nOnly',\n",
    "    'reward_only': 'Reward\\nOnly',\n",
    "    'both': 'Information &\\nReinforcement',\n",
    "    'score': 'Average Score',\n",
    "}\n",
    "\n",
    "def reformat_labels(ax=None):\n",
    "    ax = ax or plt.gca()\n",
    "    labels = [t.get_text() for t in ax.get_xticklabels()]\n",
    "    new_labels = [nice_names.get(lab, lab) for lab in labels]\n",
    "    ax.set_xticklabels(new_labels)\n",
    "    \n",
    "def reformat_legend(ax=None):\n",
    "    if ax is None:\n",
    "        ax = plt.gca()\n",
    "    handles, labels = ax.get_legend_handles_labels()\n",
    "    print([nice_names.get(l, l).replace('\\n', ' ') for l in labels])\n",
    "    ax.legend(handles=handles, labels=[nice_names.get(l, l).replace('\\n', ' ') \n",
    "                                       for l in labels])\n",
    "#     legend.set_title('')\n",
    "    \n",
    "def plot_block_changes():\n",
    "    block_changes = mdf.loc[1].block.apply(Labeler()).diff().reset_index().query('block == 1').index\n",
    "    for t in block_changes:\n",
    "        plt.axvline(t-0.5, c='k', ls='--')\n",
    "\n",
    "from datetime import datetime\n",
    "# os.makedirs(f'stats/{EXPERIMENT}/', exist_ok=True)\n",
    "def result_file(name, ext='tex'):\n",
    "    file = f'stats/{EXPERIMENT}-{name}.{ext}'\n",
    "#     with open(file, 'w+') as f:\n",
    "#         timestamp = datetime.now().strftime('Created on %m/%d/%y at %H:%M:%S\\n\\n')\n",
    "#         f.write(timestamp)\n",
    "    return file"
   ]
  },
  {
   "cell_type": "markdown",
   "metadata": {
    "heading_collapsed": true
   },
   "source": [
    "# Test score"
   ]
  },
  {
   "cell_type": "code",
   "execution_count": 110,
   "metadata": {
    "hidden": true
   },
   "outputs": [
    {
     "name": "stdout",
     "output_type": "stream",
     "text": [
      "figs/4/test.pdf\n",
      "figs/4/test.png\n"
     ]
    },
    {
     "data": {
      "image/png": "[encoded data removed]",
      "text/plain": [
       "<Figure size 864x288 with 1 Axes>"
      ]
     },
     "metadata": {},
     "output_type": "display_data"
    }
   ],
   "source": [
    "@figure()\n",
    "def plot_test():\n",
    "    if EXPERIMENT == 4:\n",
    "        plt.figure(figsize=(12,4))\n",
    "    sns.set_style('whitegrid')\n",
    "    sns.swarmplot('feedback', 'test', data=pdf, palette=palette, alpha=0.5, order=fb_order)\n",
    "    sns.pointplot('feedback', 'test', data=pdf, palette=palette, order=fb_order, \n",
    "                  scale=1, capsize=0.1, markers='o')\n",
    "    plt.xlabel('Feedback')\n",
    "    plt.ylabel(nice_names['score'])\n",
    "    test = 'Test' if EXPERIMENT == 1 else 'Transfer'\n",
    "#     title = f'{test} Performance'\n",
    "#     if EXPERIMENT == 3:\n",
    "#         title += ' After 24 Hours'\n",
    "#     plt.title(title'\n",
    "\n",
    "#     plt.gca().set_xticklabels(['No\\nFeedback',\n",
    "#                         'Information\\nOnly', \n",
    "#                         'Reward\\nOnly', \n",
    "#                         'Information &\\nReinforcement'])\n",
    "#     plt.xlabel('')\n",
    "    reformat_labels()\n",
    "    "
   ]
  },
  {
   "cell_type": "markdown",
   "metadata": {
    "heading_collapsed": true,
    "hidden": true
   },
   "source": [
    "## Kruskal"
   ]
  },
  {
   "cell_type": "code",
   "execution_count": 10,
   "metadata": {
    "hidden": true
   },
   "outputs": [],
   "source": [
    "rdf = pdf[['test', 'feedback', 'information', 'reward']].copy()"
   ]
  },
  {
   "cell_type": "code",
   "execution_count": 17,
   "metadata": {
    "hidden": true
   },
   "outputs": [
    {
     "data": {
      "text/plain": [
       "                    Df Sum Sq Mean Sq F value  Pr(>F)   \n",
       "information          1      8     7.6   0.032 0.85901   \n",
       "reward               1   1914  1913.9   7.970 0.00499 **\n",
       "information:reward   1    204   204.2   0.850 0.35704   \n",
       "Residuals          397  95330   240.1                   \n",
       "---\n",
       "Signif. codes:  0 ‘***’ 0.001 ‘**’ 0.01 ‘*’ 0.05 ‘.’ 0.1 ‘ ’ 1\n"
      ]
     },
     "metadata": {},
     "output_type": "display_data"
    }
   ],
   "source": [
    "%%R -i rdf -o out"
   ]
  },
  {
   "cell_type": "code",
   "execution_count": 55,
   "metadata": {
    "hidden": true
   },
   "outputs": [
    {
     "name": "stdout",
     "output_type": "stream",
     "text": [
      "wrote \"$\\Chi^2(1) = 7.349, p = .007$\" to \"stats/3-score-kruskal.tex\"\n"
     ]
    }
   ],
   "source": [
    "out = dict(out.items())\n",
    "df = out[\"parameter\"][0]\n",
    "p = pval(out[\"p.value\"][0])\n",
    "stat = out[\"statistic\"][0]\n",
    "write_tex('score-kruskal', rf'$\\Chi^2({df}) = {stat:.3f}, {p}$')\n",
    "# p = pvalue(out"
   ]
  },
  {
   "cell_type": "markdown",
   "metadata": {
    "heading_collapsed": true,
    "hidden": true
   },
   "source": [
    "## Bootstrapping"
   ]
  },
  {
   "cell_type": "markdown",
   "metadata": {
    "hidden": true
   },
   "source": [
    "### Means"
   ]
  },
  {
   "cell_type": "code",
   "execution_count": 9,
   "metadata": {
    "hidden": true
   },
   "outputs": [],
   "source": [
    "N_BOOT = 10000\n",
    "test_score = pdf.set_index('feedback').test\n",
    "\n",
    "def ci(xs):\n",
    "    return np.quantile(xs, [0.025, 0.975])\n",
    "\n",
    "def boot_means(n=N_BOOT):\n",
    "    r = {}\n",
    "    for fb in fb_order:\n",
    "        x = test_score[fb]\n",
    "        means = [x.sample(frac=1, replace=True).mean() for _ in range(n)]\n",
    "        r[fb] = np.array(means)\n",
    "    return r"
   ]
  },
  {
   "cell_type": "code",
   "execution_count": 10,
   "metadata": {
    "hidden": true
   },
   "outputs": [
    {
     "name": "stdout",
     "output_type": "stream",
     "text": [
      "wrote \"$30.41$ points/trial (95\\% CI: [$27.08$, $33.52$])\" to \"stats/4-mean-none.tex\"\n",
      "wrote \"$29.26$ points/trial; 95\\% CI: [$25.62$, $32.61$]\" to \"stats/4-mean-info_only.tex\"\n",
      "wrote \"$33.35$ points/trial; 95\\% CI: [$30.52$, $35.89$]\" to \"stats/4-mean-reward_only.tex\"\n",
      "wrote \"$35.06$ points/trial; 95\\% CI: [$32.28$, $37.47$]\" to \"stats/4-mean-both.tex\"\n"
     ]
    }
   ],
   "source": [
    "bm = boot_means()\n",
    "for fb in fb_order:\n",
    "    x = test_score[fb].mean()\n",
    "    a, b = ci(bm[fb])\n",
    "    if fb == 'none':\n",
    "        tex = (rf'${x:.2f}$ points/trial (95\\% CI: [${a:.2f}$, ${b:.2f}$])')\n",
    "    else:\n",
    "        tex = (rf'${x:.2f}$ points/trial; 95\\% CI: [${a:.2f}$, ${b:.2f}$]')\n",
    "    write_tex(f'mean-{fb}', tex)"
   ]
  },
  {
   "cell_type": "markdown",
   "metadata": {
    "hidden": true
   },
   "source": [
    "### Differences by permutation test"
   ]
  },
  {
   "cell_type": "code",
   "execution_count": 11,
   "metadata": {
    "hidden": true
   },
   "outputs": [
    {
     "name": "stdout",
     "output_type": "stream",
     "text": [
      "wrote \"$p = .038$\" to \"stats/4-permutation-both-none.tex\"\n",
      "wrote \"$p = .614$\" to \"stats/4-permutation-info_only-none.tex\"\n",
      "wrote \"$p = .183$\" to \"stats/4-permutation-reward_only-none.tex\"\n",
      "wrote \"$p = .448$\" to \"stats/4-permutation-both-reward_only.tex\"\n",
      "wrote \"$p = .008$\" to \"stats/4-permutation-both-info_only.tex\"\n"
     ]
    }
   ],
   "source": [
    "def null_mean_diff_samples(c1, c2, n=N_BOOT):\n",
    "    r = []\n",
    "    x = test_score.copy()\n",
    "    for i in range(n):\n",
    "        np.random.shuffle(x.values)\n",
    "        r.append(x[c1].mean() - x[c2].mean())\n",
    "    return np.array(r)\n",
    "\n",
    "#         x = test_score.sample(n=n_fb[c1], replace=True)\n",
    "#         y = test_score.sample(n=n_fb[c2], replace=True)\n",
    "#         r.append(x.mean() - y.mean())\n",
    "\n",
    "def report(c1, c2, n=N_BOOT):\n",
    "    actual_diff = test_score[c1].mean() - test_score[c2].mean()\n",
    "    null_diff = null_mean_diff_samples(c1, c2, n=n)\n",
    "#     p = (1 + np.sum(abs(null_diff) >= abs(actual_diff))) / (n+1)\n",
    "    p = np.mean(abs(null_diff) >= abs(actual_diff))\n",
    "    write_tex(f'permutation-{c1}-{c2}', f'${pval(p)}$')\n",
    "\n",
    "if EXPERIMENT == 4:\n",
    "    report('both', 'none')\n",
    "    report('info_only', 'none')\n",
    "    report('reward_only', 'none')\n",
    "    report('both', 'reward_only')\n",
    "    report('both', 'info_only')\n",
    "else:\n",
    "    report('meta', 'none')\n",
    "    if 'action' in fb_order:\n",
    "        report('meta', 'action')\n",
    "        report('action', 'none')"
   ]
  },
  {
   "cell_type": "markdown",
   "metadata": {},
   "source": [
    "# Process"
   ]
  },
  {
   "cell_type": "markdown",
   "metadata": {
    "heading_collapsed": true
   },
   "source": [
    "## Summary in test block"
   ]
  },
  {
   "cell_type": "code",
   "execution_count": 86,
   "metadata": {
    "hidden": true
   },
   "outputs": [],
   "source": [
    "test_block = mdf.query('block == \"test\"').copy()\n",
    "first_click = test_block.clicks.apply(get(0, default=None))\n",
    "test_block['no_click'] = first_click.isna()\n",
    "test_block['clicked'] = ~test_block.no_click\n",
    "\n",
    "if EXPERIMENT == 1:\n",
    "    leaves = {3,4,7,8,11,12}\n",
    "else:  # transfer\n",
    "    leaves = {5, 6, 7, 9, 10, 11, 16, 17, 18, 20, 21, 22, 27, 28, 29, 31, 32, 33}\n",
    "    \n",
    "x = first_click.isin(leaves)\n",
    "x[test_block.no_click] = np.nan\n",
    "test_block['backward'] = x\n",
    "\n",
    "test_block.backward.fillna(0, inplace=True)"
   ]
  },
  {
   "cell_type": "code",
   "execution_count": 21,
   "metadata": {
    "hidden": true
   },
   "outputs": [
    {
     "name": "stdout",
     "output_type": "stream",
     "text": [
      "wrote \"$67.8$\\%\" to \"stats/1-backward-none-percent.tex\"\n",
      "wrote \"$67.7$\\%\" to \"stats/1-backward-action-percent.tex\"\n",
      "wrote \"$96.1$\\%\" to \"stats/1-backward-meta-percent.tex\"\n",
      "wrote \"$\\chi^2(1) = 404, p < .001$\" to \"stats/1-backward-meta-action.tex\"\n",
      "wrote \"$\\chi^2(1) = 411, p < .001$\" to \"stats/1-backward-meta-none.tex\"\n"
     ]
    }
   ],
   "source": [
    "from scipy.stats import chisquare\n",
    "rate = test_block.groupby('feedback').n_clicks.mean()\n",
    "\n",
    "def report_ratio(df, key):\n",
    "    name = key.replace('_', '-')\n",
    "    X = df.groupby(['feedback', key]).apply(len)\n",
    "    rate = 100 * df.groupby('feedback')[key].mean()\n",
    "\n",
    "    for c in fb_order:\n",
    "        r = rate[c]\n",
    "        write_tex(f'{name}-{c}-percent', f\"${r:.1f}$\\%\")\n",
    "\n",
    "    for c in 'action', 'none':\n",
    "        if c not in fb_order:\n",
    "            continue\n",
    "        stat, p = chisquare(X['meta'], X[c])\n",
    "        tex = rf'$\\chi^2(1) = {int(stat)}, {pval(p)}$'\n",
    "        write_tex(f'{name}-meta-{c}', tex)\n",
    "\n",
    "# for c in fb_order:\n",
    "#     r = rate[c]\n",
    "#     write_tex(f'clicks-{c}', f\"${r:.2f}$\")\n",
    "# report_ratio(test_block, 'no_click')\n",
    "report_ratio(test_block, 'backward')"
   ]
  },
  {
   "cell_type": "markdown",
   "metadata": {
    "heading_collapsed": true
   },
   "source": [
    "## Training"
   ]
  },
  {
   "cell_type": "code",
   "execution_count": 111,
   "metadata": {
    "hidden": true
   },
   "outputs": [],
   "source": [
    "small_leaves = {3,4,7,8,11,12}\n",
    "transfer_leaves = {5, 6, 7, 9, 10, 11, 16, 17, 18, 20, 21, 22, 27, 28, 29, 31, 32, 33}\n",
    "\n",
    "def clicked_leaf_first(row):\n",
    "    if not row.clicks:\n",
    "        return False\n",
    "    first = row.clicks[0]\n",
    "    transfer =  EXPERIMENT in (2, 3) and row.block == \"test\"\n",
    "    leaves = transfer_leaves if transfer else small_leaves\n",
    "    return first in leaves\n",
    "\n",
    "mdf['backward'] = mdf.apply(clicked_leaf_first, axis=1)"
   ]
  },
  {
   "cell_type": "code",
   "execution_count": 112,
   "metadata": {
    "hidden": true
   },
   "outputs": [
    {
     "name": "stdout",
     "output_type": "stream",
     "text": [
      "['Feedback', 'None', 'Information Only', 'Reward Only', 'Information & Reinforcement']\n",
      "figs/4/backward_training.pdf\n",
      "figs/4/backward_training.png\n"
     ]
    },
    {
     "data": {
      "image/png": "[encoded data removed]",
      "text/plain": [
       "<Figure size 432x288 with 1 Axes>"
      ]
     },
     "metadata": {},
     "output_type": "display_data"
    }
   ],
   "source": [
    "from toolz.curried import get\n",
    "sns.set_style('whitegrid')\n",
    "@figure()\n",
    "def plot_backward_training():\n",
    "#     df = mdf.query('block == \"training\"').copy()\n",
    "    df = mdf.copy()\n",
    "    df.trial_index += 1\n",
    "    sns.lineplot('trial_index', 'backward', hue='feedback', \n",
    "                 data=df, hue_order=fb_order, palette=palette)\n",
    "    plt.ylabel('Proportion Planning Backward')\n",
    "    plt.xlabel('Trial Number')\n",
    "    plt.gca().grid(axis='x')\n",
    "    split = mdf.query('block == \"training\"').trial_index.max()\n",
    "    plt.axvline(split+1.5, c='k', ls='--', alpha=0.3)\n",
    "#     plt.ylim(0, 1)\n",
    "    plt.xlim(df.trial_index.min(), df.trial_index.max())\n",
    "    reformat_legend()"
   ]
  },
  {
   "cell_type": "markdown",
   "metadata": {
    "heading_collapsed": true
   },
   "source": [
    "## Mediation"
   ]
  },
  {
   "cell_type": "code",
   "execution_count": 123,
   "metadata": {
    "hidden": true
   },
   "outputs": [],
   "source": [
    "rdf = test_block.copy().rename(columns={'information': 'info'})\n",
    "# rdf['feedback'] = (rdf.feedback != 'none').astype(int)\n",
    "\n",
    "if EXPERIMENT == 4:\n",
    "    factors = ['info', 'reward']\n",
    "    for c in factors:\n",
    "        rdf[c] = rdf[c].astype(float)\n",
    "else:\n",
    "    factors = ['action', 'meta']\n",
    "    fb = rdf.pop('feedback')\n",
    "    for c in factors:\n",
    "        rdf[c] = (fb == c).astype(int)\n",
    "\n",
    "rdf['clicked'] = rdf.clicked.astype(int)\n",
    "rdf = rdf[[*factors, 'backward', 'clicked', 'n_clicks', 'score', 'trial_index', 'stim_i']].reset_index()\n",
    "rdf.backward.fillna(0, inplace=True)\n",
    "# rdf.trial_index = rdf.trial_index.astype(float)\n",
    "# rdf.query('action == 0', inplace=True)\n",
    "rdf = rdf.groupby('pid').mean()\n",
    "rdf.trial_index -= rdf.trial_index.min()"
   ]
  },
  {
   "cell_type": "code",
   "execution_count": 124,
   "metadata": {
    "hidden": true
   },
   "outputs": [
    {
     "data": {
      "text/plain": [
       "\n",
       "Call:\n",
       "lm(formula = score ~ backward, data = rdf)\n",
       "\n",
       "Residuals:\n",
       "     Min       1Q   Median       3Q      Max \n",
       "-22.8588  -4.3303   0.2072   4.4659  22.2251 \n",
       "\n",
       "Coefficients:\n",
       "            Estimate Std. Error t value Pr(>|t|)    \n",
       "(Intercept)    7.858      1.695   4.637 9.65e-06 ***\n",
       "backward      32.335      2.002  16.154  < 2e-16 ***\n",
       "---\n",
       "Signif. codes:  0 ‘***’ 0.001 ‘**’ 0.01 ‘*’ 0.05 ‘.’ 0.1 ‘ ’ 1\n",
       "\n",
       "Residual standard error: 8.16 on 112 degrees of freedom\n",
       "Multiple R-squared:  0.6997,\tAdjusted R-squared:  0.697 \n",
       "F-statistic:   261 on 1 and 112 DF,  p-value: < 2.2e-16\n",
       "\n"
      ]
     },
     "metadata": {},
     "output_type": "display_data"
    }
   ],
   "source": [
    "%%R -o score\n",
    "fit = lm(score ~ backward, data=rdf)\n",
    "score = summary(fit)\n",
    "score"
   ]
  },
  {
   "cell_type": "code",
   "execution_count": 125,
   "metadata": {
    "hidden": true
   },
   "outputs": [
    {
     "name": "stdout",
     "output_type": "stream",
     "text": [
      "wrote \"$32.335$\" to \"stats/3-score-backward.tex\"\n",
      "wrote \"$t(112) = 16.154$, $p < .001$\" to \"stats/3-score-backward-test.tex\"\n"
     ]
    }
   ],
   "source": [
    "score = dict(score.items())\n",
    "df = score['df'][1]\n",
    "est, std, t, p = score['coefficients'][1]\n",
    "write_tex(f'score-backward', f'${est:.3f}$')\n",
    "write_tex(f'score-backward-test', f'$t({df}) = {t:.3f}$, ${pval(p)}$')"
   ]
  },
  {
   "cell_type": "code",
   "execution_count": 126,
   "metadata": {
    "hidden": true
   },
   "outputs": [
    {
     "data": {
      "text/plain": [
       "\n",
       "Causal Mediation Analysis \n",
       "\n",
       "Quasi-Bayesian Confidence Intervals\n",
       "\n",
       "               Estimate 95% CI Lower 95% CI Upper p-value    \n",
       "ACME              8.380        3.845        13.15  <2e-16 ***\n",
       "ADE              -1.975       -5.740         1.85   0.332    \n",
       "Total Effect      6.404        0.830        12.05   0.036 *  \n",
       "Prop. Mediated    1.282        0.693         3.81   0.036 *  \n",
       "---\n",
       "Signif. codes:  0 ‘***’ 0.001 ‘**’ 0.01 ‘*’ 0.05 ‘.’ 0.1 ‘ ’ 1\n",
       "\n",
       "Sample Size Used: 91 \n",
       "\n",
       "\n",
       "Simulations: 1000 \n",
       "\n"
      ]
     },
     "metadata": {},
     "output_type": "display_data"
    }
   ],
   "source": [
    "%%R -i rdf -i EXPERIMENT -o back -o med_out\n",
    "library(mediation)\n",
    "\n",
    "if (EXPERIMENT == 1) {\n",
    "    back_fit = lm(backward ~ action + meta, data=rdf)\n",
    "    score_fit = lm(score ~ backward + action + meta, data=rdf)\n",
    "} else {\n",
    "    back_fit = lm(backward ~ meta, data=rdf)\n",
    "    score_fit = lm(score ~ backward + meta, data=rdf)\n",
    "}\n",
    "med_out = mediate(back_fit, score_fit, treat=\"meta\", mediator=\"backward\")\n",
    "back = summary(back_fit)\n",
    "summary(med_out)"
   ]
  },
  {
   "cell_type": "code",
   "execution_count": 127,
   "metadata": {
    "hidden": true
   },
   "outputs": [
    {
     "name": "stdout",
     "output_type": "stream",
     "text": [
      "wrote \"$t(89) = 3.736$, $p < .001$\" to \"stats/3-backward-lm-meta.tex\"\n"
     ]
    }
   ],
   "source": [
    "back = dict(back.items())\n",
    "df = back['df'][1]\n",
    "for i, name in enumerate(fb_order[1:], start=1):\n",
    "    est, std, t, p = back['coefficients'][i]\n",
    "    write_tex(f'backward-lm-{name}', f'$t({df}) = {t:.3f}$, ${pval(p)}$')"
   ]
  },
  {
   "cell_type": "code",
   "execution_count": 128,
   "metadata": {
    "hidden": true
   },
   "outputs": [
    {
     "name": "stdout",
     "output_type": "stream",
     "text": [
      "wrote \"8.380\" to \"stats/3-mediation-acme.tex\"\n",
      "wrote \"95\\% CI: [3.845, 13.147], $p < .001$\" to \"stats/3-mediation-acme-ci.tex\"\n",
      "wrote \"-1.975\" to \"stats/3-mediation-ade.tex\"\n",
      "wrote \"95\\% CI: [-5.740, 1.849], $p = .332$\" to \"stats/3-mediation-ade-ci.tex\"\n",
      "wrote \"6.404\" to \"stats/3-mediation-total.tex\"\n",
      "wrote \"95\\% CI: [0.830, 12.053], $p = .036$\" to \"stats/3-mediation-total-ci.tex\"\n",
      "wrote \"1.282\" to \"stats/3-mediation-prop.tex\"\n",
      "wrote \"95\\% CI: [0.693, 3.808], $p = .036$\" to \"stats/3-mediation-prop-ci.tex\"\n"
     ]
    }
   ],
   "source": [
    "names = {\n",
    "    'acme': 'd0',\n",
    "    'ade': 'z0',\n",
    "    'total': 'tau',\n",
    "    'prop': 'n0',\n",
    "}\n",
    "med = dict(med_out.items())\n",
    "\n",
    "for k, v in names.items():\n",
    "    est = med[v + ('.coef' if v == 'tau' else '')][0]\n",
    "    lo, hi = med[v+'.ci']\n",
    "    p = med[v+'.p'][0]\n",
    "    write_tex(f'mediation-{k}', f'{est:.3f}')\n",
    "    write_tex(f'mediation-{k}-ci', f'95\\% CI: [{lo:.3f}, {hi:.3f}], ${pval(p)}$')"
   ]
  }
 ],
 "metadata": {
  "@webio": {
   "lastCommId": null,
   "lastKernelId": null
  },
  "anaconda-cloud": {},
  "kernelspec": {
   "display_name": "Python 3",
   "language": "python",
   "name": "python3"
  },
  "language_info": {
   "codemirror_mode": {
    "name": "ipython",
    "version": 3
   },
   "file_extension": ".py",
   "mimetype": "text/x-python",
   "name": "python",
   "nbconvert_exporter": "python",
   "pygments_lexer": "ipython3",
   "version": "3.7.3"
  },
  "nav_menu": {},
  "toc": {
   "navigate_menu": true,
   "number_sections": true,
   "sideBar": true,
   "threshold": 6,
   "toc_cell": false,
   "toc_section_display": "block",
   "toc_window_display": false
  }
 },
 "nbformat": 4,
 "nbformat_minor": 1
}
