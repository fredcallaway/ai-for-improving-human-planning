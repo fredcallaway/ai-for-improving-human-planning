{
 "cells": [
  {
   "cell_type": "code",
   "execution_count": 1,
   "metadata": {},
   "outputs": [],
   "source": [
    "%matplotlib inline\n",
    "\n",
    "import matplotlib.pyplot as plt\n",
    "import numpy as np\n",
    "import pandas as pd\n",
    "import seaborn as sns\n",
    "import scipy.stats as stats\n",
    "import matplotlib as plt\n",
    "import itertools as it\n",
    "from analysis_utils import *"
   ]
  },
  {
   "cell_type": "code",
   "execution_count": 2,
   "metadata": {},
   "outputs": [],
   "source": [
    "import rpy2.robjects as ro\n",
    "from rpy2.robjects import pandas2ri\n",
    "pandas2ri.activate()\n",
    "%load_ext rpy2.ipython"
   ]
  },
  {
   "cell_type": "markdown",
   "metadata": {},
   "source": [
    "# Setup"
   ]
  },
  {
   "cell_type": "code",
   "execution_count": 3,
   "metadata": {},
   "outputs": [],
   "source": [
    "EXPERIMENT = 7\n",
    "\n",
    "os.makedirs(f'stats/{EXPERIMENT}', exist_ok=True)\n",
    "def write_tex(name, tex):\n",
    "    file = f\"stats/{EXPERIMENT}/{name}.tex\"\n",
    "    with open(file, \"w+\") as f:\n",
    "        f.write(str(tex) + r\"\\unskip\")\n",
    "    print(f'wrote \"{tex}\" to \"{file}\"')\n",
    "\n",
    "data = get_data(EXPERIMENT)\n",
    "pdf = data['participants'].set_index('pid').copy()\n",
    "full_pdf = pdf.copy()\n",
    "mdf = data['trials'].set_index('pid').copy()\n",
    "mdf.trial_time /= 1000\n",
    "mdf['clicked'] = mdf.n_clicks > 0\n",
    "\n",
    "pdf.query('completed', inplace=True)\n",
    "\n",
    "pdf['test_env'] = pdf.pop('constantTest').apply(lambda x: 'constant' if x else 'increasing')\n",
    "mdf['test_env'] = pdf.test_env\n",
    "pdf['feedback'] = 'meta'\n",
    "mdf['feedback'] = 'meta'\n",
    "\n",
    "with open('mouselab_maxscores.json') as f:\n",
    "    maxscores = json.load(f)\n",
    "\n",
    "each_max = mdf.apply(lambda row: \n",
    "    maxscores['basic'] \n",
    "    if (row.block == 'training' or row.test_env == 'increasing') \n",
    "    else maxscores['unstructured']\n",
    ", axis=1)\n",
    "# mdf.score *= (100/each_max)"
   ]
  },
  {
   "cell_type": "markdown",
   "metadata": {},
   "source": [
    "## Demographics"
   ]
  },
  {
   "cell_type": "code",
   "execution_count": 4,
   "metadata": {},
   "outputs": [
    {
     "name": "stdout",
     "output_type": "stream",
     "text": [
      "wrote \"$34.8$\" to \"stats/7/mean-age.tex\"\n",
      "wrote \"$18$\" to \"stats/7/min-age.tex\"\n",
      "wrote \"$71$\" to \"stats/7/max-age.tex\"\n",
      "wrote \"$43$\" to \"stats/7/N-female.tex\"\n",
      "wrote \"$102$\" to \"stats/7/N-total.tex\"\n",
      "wrote \"$102$\" to \"stats/7/N-meta.tex\"\n",
      "wrote \"\\$1.43\" to \"stats/7/mean-bonus.tex\"\n"
     ]
    }
   ],
   "source": [
    "pids = list(pdf.index.unique())\n",
    "sdf = data['survey'].rename(columns={'wid': 'pid'}).query('pid == @pids').copy()\n",
    "if not isinstance(sdf.responses.iloc[0], dict):\n",
    "    sdf = sdf.loc[~sdf.responses.isna()]\n",
    "    sdf.responses = sdf.responses.apply(ast.literal_eval)\n",
    "\n",
    "if EXPERIMENT == 3:\n",
    "    demo = sdf.loc[sdf.responses.apply(len) == 3].set_index('pid').responses\n",
    "    age = demo.apply(get('Q1'))\n",
    "    gender = demo.apply(get('Q2'))\n",
    "else:\n",
    "    demo = sdf.loc[sdf.responses.apply(len) == 2].set_index('pid').responses\n",
    "    age = demo.apply(get('Q0'))\n",
    "    gender = demo.apply(get('Q1'))\n",
    "    \n",
    "gender = gender.str.lower()\n",
    "age = age.apply(excepts(ValueError, int, lambda _: None))\n",
    "age.loc[age < 18] = None\n",
    "\n",
    "write_tex('mean-age', f'${age.mean():.1f}$')\n",
    "write_tex('min-age', f'${age.min():.0f}$')\n",
    "write_tex('max-age', f'${age.max():.0f}$')\n",
    "\n",
    "regularize = {\n",
    "    'man': 'male',\n",
    "    'woman': 'female',\n",
    "    'f': 'female',\n",
    "    'm': 'male',\n",
    "}\n",
    "gender = gender.apply(lambda x: regularize.get(x.strip(), x))\n",
    "n_fem = gender.value_counts()['female']\n",
    "write_tex(\"N-female\", f'${n_fem}$')\n",
    "\n",
    "write_tex(\"N-total\", f\"${len(pdf)}$\")\n",
    "for fb, n in pdf.feedback.value_counts().items():\n",
    "    write_tex(f\"N-{fb}\", f\"${n}$\")\n",
    "    \n",
    "write_tex('mean-bonus', f'\\${pdf.bonus.mean():.2f}')"
   ]
  },
  {
   "cell_type": "code",
   "execution_count": 5,
   "metadata": {},
   "outputs": [],
   "source": [
    "if EXPERIMENT == 3:\n",
    "    dropped = pdf.query('not completed').feedback.value_counts()\n",
    "    rate = dropped / pdf.feedback.value_counts()\n",
    "    for fb in fb_order:\n",
    "        write_tex(f'N-drop-{fb}', dropped[fb])\n",
    "        write_tex(f'drop-rate-{fb}', f'${rate[fb]*100:.1f}\\%$')\n",
    "    write_tex('return-rate', f'${pdf.completed.mean()*100:.1f}\\%$')\n",
    "    write_tex('return-N', f'${pdf.completed.sum()}$')\n",
    "    pdf.query('completed', inplace=True)\n",
    "    \n",
    "# pd.Series(pdf.index).to_csv(f'pids/{EXPERIMENT}.csv', index=False, header=False)"
   ]
  },
  {
   "cell_type": "code",
   "execution_count": 6,
   "metadata": {},
   "outputs": [],
   "source": [
    "completed = list(pdf.index)\n",
    "mdf.reset_index(inplace=True)\n",
    "mdf.query('pid == @completed', inplace=True)\n",
    "mdf.set_index('pid', inplace=True)\n",
    "\n",
    "# pdf.feedback = pd.Categorical(pdf.feedback, fb_order, ordered=True)    \n",
    "# mdf['feedback'] = pdf.feedback\n",
    "block_mean = mdf.groupby(['block', 'pid']).score.mean()\n",
    "for b in ['training', 'test']:\n",
    "    pdf[b] = block_mean[b]"
   ]
  },
  {
   "cell_type": "code",
   "execution_count": 7,
   "metadata": {},
   "outputs": [],
   "source": [
    "small_leaves = {3,4,7,8,11,12}\n",
    "transfer_leaves = {5, 6, 7, 9, 10, 11, 16, 17, 18, 20, 21, 22, 27, 28, 29, 31, 32, 33}\n",
    "\n",
    "def clicked_leaf_first(row):\n",
    "    if not row.clicks:\n",
    "        return False\n",
    "    first = row.clicks[0]\n",
    "    transfer =  EXPERIMENT in (2, 3) and row.block == \"test\"\n",
    "    leaves = transfer_leaves if transfer else small_leaves\n",
    "    return first in leaves\n",
    "\n",
    "mdf['backward'] = mdf.apply(clicked_leaf_first, axis=1)"
   ]
  },
  {
   "cell_type": "markdown",
   "metadata": {},
   "source": [
    "## Setup Plotting "
   ]
  },
  {
   "cell_type": "code",
   "execution_count": 8,
   "metadata": {},
   "outputs": [],
   "source": [
    "figure = Figures(path=f'figs/{EXPERIMENT}', formats=['pdf', 'png']).plot\n",
    "\n",
    "sns.set_style('whitegrid')\n",
    "blue, orange, green, _, purple = sns.color_palette('tab10')[:5]\n",
    "gray = (0.5,)*3\n",
    "red = (1, 0.3, 0.4)\n",
    "yellow = (1, 0.9, 0.4)\n",
    "\n",
    "palette = {\n",
    "    'none': gray,\n",
    "    'action': blue,\n",
    "    'meta': orange,\n",
    "    'info_only': red,\n",
    "    'reward_only': yellow,\n",
    "    'both': orange,\n",
    "    'increasing': orange,\n",
    "    'constant': green,\n",
    "}\n",
    "\n",
    "nice_names = {\n",
    "    'meta': 'Metacognitive',\n",
    "    'action': 'Action',\n",
    "    'none': 'None',\n",
    "    'feedback': 'Feedback',\n",
    "    'info_only': 'Information\\nOnly',\n",
    "    'reward_only': 'Reward\\nOnly',\n",
    "    'both': 'Information &\\nReinforcement',\n",
    "    'score': 'Relative Score',\n",
    "    'test': 'Relative Test Score',\n",
    "    'backward': 'Proportion Planning Backward',\n",
    "    'constant': 'Constant',\n",
    "    'increasing': 'Increasing',\n",
    "    'test_env': 'Test Environment',\n",
    "}\n",
    "\n",
    "def reformat_labels(ax=None):\n",
    "    ax = ax or plt.gca()\n",
    "    labels = [t.get_text() for t in ax.get_xticklabels()]\n",
    "    new_labels = [nice_names.get(lab, lab) for lab in labels]\n",
    "    ax.set_xticklabels(new_labels)\n",
    "    \n",
    "def reformat_legend(ax=None):\n",
    "    if ax is None:\n",
    "        ax = plt.gca()\n",
    "    handles, labels = ax.get_legend_handles_labels()\n",
    "    print([nice_names.get(l, l).replace('\\n', ' ') for l in labels])\n",
    "    ax.legend(handles=handles, labels=[nice_names.get(l, l).replace('\\n', ' ') \n",
    "                                       for l in labels])\n",
    "    \n",
    "def plot_block_changes():\n",
    "    block_changes = mdf.loc[1].block.apply(Labeler()).diff().reset_index().query('block == 1').index\n",
    "    for t in block_changes:\n",
    "        plt.axvline(t-0.5, c='k', ls='--')\n",
    "\n",
    "from datetime import datetime\n",
    "# os.makedirs(f'stats/{EXPERIMENT}/', exist_ok=True)\n",
    "def result_file(name, ext='tex'):\n",
    "    file = f'stats/{EXPERIMENT}-{name}.{ext}'\n",
    "#     with open(file, 'w+') as f:\n",
    "#         timestamp = datetime.now().strftime('Created on %m/%d/%y at %H:%M:%S\\n\\n')\n",
    "#         f.write(timestamp)\n",
    "    return file"
   ]
  },
  {
   "cell_type": "markdown",
   "metadata": {},
   "source": [
    "# Learning curves"
   ]
  },
  {
   "cell_type": "code",
   "execution_count": 9,
   "metadata": {},
   "outputs": [
    {
     "name": "stdout",
     "output_type": "stream",
     "text": [
      "['Test Environment', 'Increasing', 'Constant']\n",
      "figs/7/learning_curve_score.pdf\n",
      "figs/7/learning_curve_score.png\n"
     ]
    },
    {
     "data": {
      "text/plain": [
       "<function analysis_utils.Figures.plot.<locals>.decorator.<locals>.wrapped(*args, **kwargs)>"
      ]
     },
     "execution_count": 9,
     "metadata": {},
     "output_type": "execute_result"
    },
    {
     "data": {
      "image/png": "[encoded data removed]",
      "text/plain": [
       "<Figure size 432x288 with 1 Axes>"
      ]
     },
     "metadata": {},
     "output_type": "display_data"
    }
   ],
   "source": [
    "def learning_curve(var, drop_noclick=False):\n",
    "    df = mdf.copy()\n",
    "    if drop_noclick:\n",
    "        df = df.query('clicked')\n",
    "    df.trial_index += 1\n",
    "    sns.lineplot('trial_index', var, hue='test_env', \n",
    "                 data=df, palette=palette)\n",
    "    plt.ylabel(nice_names[var])\n",
    "    plt.xlabel('Trial Number')\n",
    "    plt.gca().grid(axis='x')\n",
    "    split = mdf.query('block == \"training\"').trial_index.max()\n",
    "    plt.axvline(split+1.5, c='k', ls='--', alpha=0.3)\n",
    "    plt.xticks([1, *range(5, 31, 5)])\n",
    "    plt.xlim(df.trial_index.min()-0.5, df.trial_index.max()+0.5)\n",
    "    reformat_legend()\n",
    "    \n",
    "figure(var='score')(learning_curve)"
   ]
  },
  {
   "cell_type": "code",
   "execution_count": 10,
   "metadata": {},
   "outputs": [
    {
     "name": "stdout",
     "output_type": "stream",
     "text": [
      "['Test Environment', 'Increasing', 'Constant']\n",
      "figs/7/learning_curve_backward.pdf\n",
      "figs/7/learning_curve_backward.png\n"
     ]
    },
    {
     "data": {
      "text/plain": [
       "<function analysis_utils.Figures.plot.<locals>.decorator.<locals>.wrapped(*args, **kwargs)>"
      ]
     },
     "execution_count": 10,
     "metadata": {},
     "output_type": "execute_result"
    },
    {
     "data": {
      "image/png": "[encoded data removed]",
      "text/plain": [
       "<Figure size 432x288 with 1 Axes>"
      ]
     },
     "metadata": {},
     "output_type": "display_data"
    }
   ],
   "source": [
    "figure(var='backward')(learning_curve)"
   ]
  },
  {
   "cell_type": "markdown",
   "metadata": {},
   "source": [
    "# Stats"
   ]
  },
  {
   "cell_type": "markdown",
   "metadata": {},
   "source": [
    "## Score "
   ]
  },
  {
   "cell_type": "code",
   "execution_count": 11,
   "metadata": {},
   "outputs": [],
   "source": [
    "x = mdf.query('block == \"test\" and test_env == \"constant\"').groupby('backward').score.mean()"
   ]
  },
  {
   "cell_type": "code",
   "execution_count": 12,
   "metadata": {},
   "outputs": [],
   "source": [
    "rdf = mdf.query('block == \"test\" and test_env == \"constant\"').copy()\n",
    "rdf = rdf[['score', 'backward', 'n_clicks']]\n",
    "rdf.backward = rdf.backward.astype(int)"
   ]
  },
  {
   "cell_type": "code",
   "execution_count": 13,
   "metadata": {},
   "outputs": [
    {
     "name": "stdout",
     "output_type": "stream",
     "text": [
      "\n",
      "Call:\n",
      "lm(formula = score ~ backward, data = rdf)\n",
      "\n",
      "Residuals:\n",
      "    Min      1Q  Median      3Q     Max \n",
      "-374.82  -82.00   19.36   75.83  301.08 \n",
      "\n",
      "Coefficients:\n",
      "            Estimate Std. Error t value Pr(>|t|)    \n",
      "(Intercept)   36.790      7.905   4.654 3.68e-06 ***\n",
      "backward      22.684      9.040   2.509   0.0123 *  \n",
      "---\n",
      "Signif. codes:  0 ‘***’ 0.001 ‘**’ 0.01 ‘*’ 0.05 ‘.’ 0.1 ‘ ’ 1\n",
      "\n",
      "Residual standard error: 122.5 on 1018 degrees of freedom\n",
      "Multiple R-squared:  0.006147,\tAdjusted R-squared:  0.005171 \n",
      "F-statistic: 6.297 on 1 and 1018 DF,  p-value: 0.01225\n",
      "\n"
     ]
    }
   ],
   "source": [
    "%%R -i rdf\n",
    "summary(lm(score ~ backward, data=rdf))"
   ]
  },
  {
   "cell_type": "code",
   "execution_count": 14,
   "metadata": {},
   "outputs": [
    {
     "name": "stdout",
     "output_type": "stream",
     "text": [
      "\n",
      "Call:\n",
      "lm(formula = score ~ backward * n_clicks, data = rdf)\n",
      "\n",
      "Residuals:\n",
      "    Min      1Q  Median      3Q     Max \n",
      "-388.48  -65.34    5.71   67.91  309.72 \n",
      "\n",
      "Coefficients:\n",
      "                  Estimate Std. Error t value Pr(>|t|)    \n",
      "(Intercept)         28.148     10.126   2.780  0.00554 ** \n",
      "backward            69.926     13.269   5.270 1.67e-07 ***\n",
      "n_clicks             2.938      2.194   1.339  0.18086    \n",
      "backward:n_clicks  -11.253      2.712  -4.149 3.62e-05 ***\n",
      "---\n",
      "Signif. codes:  0 ‘***’ 0.001 ‘**’ 0.01 ‘*’ 0.05 ‘.’ 0.1 ‘ ’ 1\n",
      "\n",
      "Residual standard error: 120.9 on 1016 degrees of freedom\n",
      "Multiple R-squared:  0.03371,\tAdjusted R-squared:  0.03086 \n",
      "F-statistic: 11.81 on 3 and 1016 DF,  p-value: 1.306e-07\n",
      "\n"
     ]
    }
   ],
   "source": [
    "%%R -i rdf\n",
    "summary(lm(score ~ backward * n_clicks, data=rdf))"
   ]
  },
  {
   "cell_type": "markdown",
   "metadata": {},
   "source": [
    "## Backward chisquare"
   ]
  },
  {
   "cell_type": "code",
   "execution_count": 15,
   "metadata": {},
   "outputs": [
    {
     "name": "stdout",
     "output_type": "stream",
     "text": [
      "wrote \"$\\chi^2(1) = 11, p < .001$\" to \"stats/7/backward-final.tex\"\n",
      "wrote \"$\\chi^2(1) = 243, p < .001$\" to \"stats/7/backward-final-clicked.tex\"\n"
     ]
    }
   ],
   "source": [
    "# df = mdf.query('block == \"test\"')\n",
    "from scipy.stats import chisquare\n",
    "assert mdf.trial_index.max() == 29\n",
    "def write_backward_prop(drop_noclick):\n",
    "    df = mdf.query('trial_index == 29')\n",
    "    if drop_noclick:\n",
    "        df = df.query('clicked')\n",
    "    counts = df.groupby(['test_env', 'backward']).apply(len)\n",
    "    stat, p = chisquare(counts['increasing'], counts['constant'])\n",
    "    tex = rf'$\\chi^2(1) = {int(stat)}, {pval(p)}$'\n",
    "    name = 'backward-final-clicked' if drop_noclick else 'backward-final'\n",
    "    write_tex(name, tex)\n",
    "\n",
    "for x in False, True:\n",
    "    write_backward_prop(x)"
   ]
  },
  {
   "cell_type": "code",
   "execution_count": 16,
   "metadata": {},
   "outputs": [
    {
     "name": "stdout",
     "output_type": "stream",
     "text": [
      "wrote \"$27.5$\\%\" to \"stats/7/proportion_strategy_change_trial30_constant.tex\"\n",
      "wrote \"$5.9$\\%\" to \"stats/7/proportion_strategy_change_trial30_increasing.tex\"\n"
     ]
    }
   ],
   "source": [
    "x = mdf.query('trial_index == 29').groupby('test_env').backward.mean()\n",
    "for cond, prop in x.items():\n",
    "    write_tex(f'proportion_strategy_change_trial30_{cond}', f\"${(1-prop)*100:.1f}$\\%\")"
   ]
  },
  {
   "cell_type": "markdown",
   "metadata": {},
   "source": [
    "## Backward regression "
   ]
  },
  {
   "cell_type": "code",
   "execution_count": 17,
   "metadata": {},
   "outputs": [],
   "source": [
    "rdf = mdf.query('block == \"test\"').copy().reset_index()\n",
    "# rdf = mdf.query('block == \"test\" and clicked').copy().reset_index()\n",
    "rdf = rdf[['backward', 'trial_index', 'test_env', 'pid']]\n",
    "rdf.backward = rdf.backward.astype(int)\n",
    "rdf['switch'] = (rdf.pop('test_env') == 'constant').astype(int)\n",
    "# rdf = rdf.groupby('pid').mean()\n",
    "rdf.trial_index -= rdf.trial_index.min()"
   ]
  },
  {
   "cell_type": "code",
   "execution_count": 18,
   "metadata": {},
   "outputs": [
    {
     "name": "stderr",
     "output_type": "stream",
     "text": [
      "R[write to console]: Loading required package: ggplot2\n",
      "\n"
     ]
    },
    {
     "name": "stdout",
     "output_type": "stream",
     "text": [
      "\n",
      "Call:\n",
      "glm(formula = backward ~ trial_index * switch, family = binomial, \n",
      "    data = rdf)\n",
      "\n",
      "Deviance Residuals: \n",
      "    Min       1Q   Median       3Q      Max  \n",
      "-2.3437   0.3660   0.3707   0.7012   0.8145  \n",
      "\n",
      "Coefficients:\n",
      "                    Estimate Std. Error z value Pr(>|z|)    \n",
      "(Intercept)         2.680127   0.245030  10.938  < 2e-16 ***\n",
      "trial_index        -0.002643   0.021920  -0.121    0.904    \n",
      "switch             -1.243710   0.286304  -4.344  1.4e-05 ***\n",
      "trial_index:switch -0.023841   0.025422  -0.938    0.348    \n",
      "---\n",
      "Signif. codes:  0 ‘***’ 0.001 ‘**’ 0.01 ‘*’ 0.05 ‘.’ 0.1 ‘ ’ 1\n",
      "\n",
      "(Dispersion parameter for binomial family taken to be 1)\n",
      "\n",
      "    Null deviance: 1728.1  on 2039  degrees of freedom\n",
      "Residual deviance: 1603.1  on 2036  degrees of freedom\n",
      "AIC: 1611.1\n",
      "\n",
      "Number of Fisher Scoring iterations: 5\n",
      "\n"
     ]
    }
   ],
   "source": [
    "%%R -i rdf\n",
    "require(ggplot2)\n",
    "m = glm(backward ~ trial_index * switch, family=binomial, data=rdf)\n",
    "# m = lm(backward ~ trial_index * switch, data=rdf)\n",
    "summary(m)"
   ]
  },
  {
   "cell_type": "code",
   "execution_count": 19,
   "metadata": {},
   "outputs": [
    {
     "data": {
      "text/html": [
       "<table class=\"simpletable\">\n",
       "<caption>Generalized Linear Model Regression Results</caption>\n",
       "<tr>\n",
       "  <th>Dep. Variable:</th>       <td>backward</td>     <th>  No. Observations:  </th>  <td>  2040</td> \n",
       "</tr>\n",
       "<tr>\n",
       "  <th>Model:</th>                  <td>GLM</td>       <th>  Df Residuals:      </th>  <td>  2036</td> \n",
       "</tr>\n",
       "<tr>\n",
       "  <th>Model Family:</th>        <td>Binomial</td>     <th>  Df Model:          </th>  <td>     3</td> \n",
       "</tr>\n",
       "<tr>\n",
       "  <th>Link Function:</th>         <td>logit</td>      <th>  Scale:             </th> <td>  1.0000</td>\n",
       "</tr>\n",
       "<tr>\n",
       "  <th>Method:</th>                <td>IRLS</td>       <th>  Log-Likelihood:    </th> <td> -801.55</td>\n",
       "</tr>\n",
       "<tr>\n",
       "  <th>Date:</th>            <td>Tue, 30 Nov 2021</td> <th>  Deviance:          </th> <td>  1603.1</td>\n",
       "</tr>\n",
       "<tr>\n",
       "  <th>Time:</th>                <td>17:47:17</td>     <th>  Pearson chi2:      </th> <td>2.04e+03</td>\n",
       "</tr>\n",
       "<tr>\n",
       "  <th>No. Iterations:</th>          <td>5</td>        <th>                     </th>     <td> </td>   \n",
       "</tr>\n",
       "<tr>\n",
       "  <th>Covariance Type:</th>     <td>nonrobust</td>    <th>                     </th>     <td> </td>   \n",
       "</tr>\n",
       "</table>\n",
       "<table class=\"simpletable\">\n",
       "<tr>\n",
       "           <td></td>             <th>coef</th>     <th>std err</th>      <th>z</th>      <th>P>|z|</th>  <th>[0.025</th>    <th>0.975]</th>  \n",
       "</tr>\n",
       "<tr>\n",
       "  <th>Intercept</th>          <td>    2.6801</td> <td>    0.245</td> <td>   10.938</td> <td> 0.000</td> <td>    2.200</td> <td>    3.160</td>\n",
       "</tr>\n",
       "<tr>\n",
       "  <th>trial_index</th>        <td>   -0.0026</td> <td>    0.022</td> <td>   -0.121</td> <td> 0.904</td> <td>   -0.046</td> <td>    0.040</td>\n",
       "</tr>\n",
       "<tr>\n",
       "  <th>switch</th>             <td>   -1.2437</td> <td>    0.286</td> <td>   -4.344</td> <td> 0.000</td> <td>   -1.805</td> <td>   -0.683</td>\n",
       "</tr>\n",
       "<tr>\n",
       "  <th>trial_index:switch</th> <td>   -0.0238</td> <td>    0.025</td> <td>   -0.938</td> <td> 0.348</td> <td>   -0.074</td> <td>    0.026</td>\n",
       "</tr>\n",
       "</table>"
      ],
      "text/plain": [
       "<class 'statsmodels.iolib.summary.Summary'>\n",
       "\"\"\"\n",
       "                 Generalized Linear Model Regression Results                  \n",
       "==============================================================================\n",
       "Dep. Variable:               backward   No. Observations:                 2040\n",
       "Model:                            GLM   Df Residuals:                     2036\n",
       "Model Family:                Binomial   Df Model:                            3\n",
       "Link Function:                  logit   Scale:                          1.0000\n",
       "Method:                          IRLS   Log-Likelihood:                -801.55\n",
       "Date:                Tue, 30 Nov 2021   Deviance:                       1603.1\n",
       "Time:                        17:47:17   Pearson chi2:                 2.04e+03\n",
       "No. Iterations:                     5                                         \n",
       "Covariance Type:            nonrobust                                         \n",
       "======================================================================================\n",
       "                         coef    std err          z      P>|z|      [0.025      0.975]\n",
       "--------------------------------------------------------------------------------------\n",
       "Intercept              2.6801      0.245     10.938      0.000       2.200       3.160\n",
       "trial_index           -0.0026      0.022     -0.121      0.904      -0.046       0.040\n",
       "switch                -1.2437      0.286     -4.344      0.000      -1.805      -0.683\n",
       "trial_index:switch    -0.0238      0.025     -0.938      0.348      -0.074       0.026\n",
       "======================================================================================\n",
       "\"\"\""
      ]
     },
     "execution_count": 19,
     "metadata": {},
     "output_type": "execute_result"
    }
   ],
   "source": [
    "from statsmodels.formula.api import glm\n",
    "import statsmodels.api as sm\n",
    "glm('backward ~ trial_index * switch', rdf, family=sm.families.Binomial()).fit().summary()"
   ]
  },
  {
   "cell_type": "code",
   "execution_count": 20,
   "metadata": {},
   "outputs": [
    {
     "name": "stderr",
     "output_type": "stream",
     "text": [
      "R[write to console]: Loading required package: lme4\n",
      "\n",
      "R[write to console]: Loading required package: Matrix\n",
      "\n"
     ]
    },
    {
     "name": "stdout",
     "output_type": "stream",
     "text": [
      "Generalized linear mixed model fit by maximum likelihood (Laplace\n",
      "  Approximation) [glmerMod]\n",
      " Family: binomial  ( logit )\n",
      "Formula: backward ~ trial_index * switch + (1 | pid)\n",
      "   Data: rdf\n",
      "\n",
      "     AIC      BIC   logLik deviance df.resid \n",
      "   433.7    461.8   -211.8    423.7     2035 \n",
      "\n",
      "Scaled residuals: \n",
      "    Min      1Q  Median      3Q     Max \n",
      "-8.1651  0.0024  0.0027  0.0049  2.8439 \n",
      "\n",
      "Random effects:\n",
      " Groups Name        Variance Std.Dev.\n",
      " pid    (Intercept) 202.8    14.24   \n",
      "Number of obs: 2040, groups:  pid, 102\n",
      "\n",
      "Fixed effects:\n",
      "                   Estimate Std. Error z value Pr(>|z|)    \n",
      "(Intercept)        12.15068    1.69299   7.177 7.12e-13 ***\n",
      "trial_index        -0.02467    0.06720  -0.367    0.714    \n",
      "switch             -0.06423    1.85199  -0.035    0.972    \n",
      "trial_index:switch -0.11796    0.07478  -1.577    0.115    \n",
      "---\n",
      "Signif. codes:  0 ‘***’ 0.001 ‘**’ 0.01 ‘*’ 0.05 ‘.’ 0.1 ‘ ’ 1\n",
      "\n",
      "Correlation of Fixed Effects:\n",
      "            (Intr) trl_nd switch\n",
      "trial_index -0.412              \n",
      "switch      -0.712  0.372       \n",
      "trl_ndx:swt  0.354 -0.898 -0.439\n"
     ]
    }
   ],
   "source": [
    "%%R -i rdf\n",
    "require(lme4)\n",
    "summary(glmer(backward ~ trial_index * switch + (1|pid), family=binomial, data=rdf))"
   ]
  },
  {
   "cell_type": "code",
   "execution_count": 21,
   "metadata": {},
   "outputs": [],
   "source": [
    "rdf = rdf.groupby('pid').mean()"
   ]
  },
  {
   "cell_type": "code",
   "execution_count": 22,
   "metadata": {},
   "outputs": [
    {
     "name": "stdout",
     "output_type": "stream",
     "text": [
      "\n",
      "Call:\n",
      "lm(formula = backward ~ switch, data = rdf)\n",
      "\n",
      "Residuals:\n",
      "     Min       1Q   Median       3Q      Max \n",
      "-0.93431  0.06569  0.06569  0.23529  0.23529 \n",
      "\n",
      "Coefficients:\n",
      "            Estimate Std. Error t value Pr(>|t|)    \n",
      "(Intercept)  0.93431    0.04457  20.965  < 2e-16 ***\n",
      "switch      -0.16961    0.06302  -2.691  0.00835 ** \n",
      "---\n",
      "Signif. codes:  0 ‘***’ 0.001 ‘**’ 0.01 ‘*’ 0.05 ‘.’ 0.1 ‘ ’ 1\n",
      "\n",
      "Residual standard error: 0.3183 on 100 degrees of freedom\n",
      "Multiple R-squared:  0.06753,\tAdjusted R-squared:  0.05821 \n",
      "F-statistic: 7.242 on 1 and 100 DF,  p-value: 0.008348\n",
      "\n"
     ]
    }
   ],
   "source": [
    "%%R -i rdf\n",
    "summary(lm(backward ~ switch, data=rdf))"
   ]
  },
  {
   "cell_type": "markdown",
   "metadata": {},
   "source": [
    "# Process"
   ]
  },
  {
   "cell_type": "markdown",
   "metadata": {},
   "source": [
    "## Summary in test block"
   ]
  },
  {
   "cell_type": "code",
   "execution_count": 23,
   "metadata": {},
   "outputs": [
    {
     "ename": "NameError",
     "evalue": "name 'fb_order' is not defined",
     "output_type": "error",
     "traceback": [
      "\u001b[0;31m---------------------------------------------------------------------------\u001b[0m",
      "\u001b[0;31mNameError\u001b[0m                                 Traceback (most recent call last)",
      "\u001b[0;32m<ipython-input-23-9b876b6dba33>\u001b[0m in \u001b[0;36m<module>\u001b[0;34m\u001b[0m\n\u001b[1;32m      9\u001b[0m \u001b[0;34m\u001b[0m\u001b[0m\n\u001b[1;32m     10\u001b[0m \u001b[0;34m\u001b[0m\u001b[0m\n\u001b[0;32m---> 11\u001b[0;31m \u001b[0mreport_ratio\u001b[0m\u001b[0;34m(\u001b[0m\u001b[0mmdf\u001b[0m\u001b[0;34m.\u001b[0m\u001b[0mquery\u001b[0m\u001b[0;34m(\u001b[0m\u001b[0;34m'block == \"test\"'\u001b[0m\u001b[0;34m)\u001b[0m\u001b[0;34m.\u001b[0m\u001b[0mcopy\u001b[0m\u001b[0;34m(\u001b[0m\u001b[0;34m)\u001b[0m\u001b[0;34m,\u001b[0m \u001b[0;34m'backward'\u001b[0m\u001b[0;34m)\u001b[0m\u001b[0;34m\u001b[0m\u001b[0;34m\u001b[0m\u001b[0m\n\u001b[0m",
      "\u001b[0;32m<ipython-input-23-9b876b6dba33>\u001b[0m in \u001b[0;36mreport_ratio\u001b[0;34m(df, key)\u001b[0m\n\u001b[1;32m      4\u001b[0m     \u001b[0mrate\u001b[0m \u001b[0;34m=\u001b[0m \u001b[0;36m100\u001b[0m \u001b[0;34m*\u001b[0m \u001b[0mdf\u001b[0m\u001b[0;34m.\u001b[0m\u001b[0mgroupby\u001b[0m\u001b[0;34m(\u001b[0m\u001b[0;34m'feedback'\u001b[0m\u001b[0;34m)\u001b[0m\u001b[0;34m[\u001b[0m\u001b[0mkey\u001b[0m\u001b[0;34m]\u001b[0m\u001b[0;34m.\u001b[0m\u001b[0mmean\u001b[0m\u001b[0;34m(\u001b[0m\u001b[0;34m)\u001b[0m\u001b[0;34m\u001b[0m\u001b[0;34m\u001b[0m\u001b[0m\n\u001b[1;32m      5\u001b[0m \u001b[0;34m\u001b[0m\u001b[0m\n\u001b[0;32m----> 6\u001b[0;31m     \u001b[0;32mfor\u001b[0m \u001b[0mc\u001b[0m \u001b[0;32min\u001b[0m \u001b[0mfb_order\u001b[0m\u001b[0;34m:\u001b[0m\u001b[0;34m\u001b[0m\u001b[0;34m\u001b[0m\u001b[0m\n\u001b[0m\u001b[1;32m      7\u001b[0m         \u001b[0mr\u001b[0m \u001b[0;34m=\u001b[0m \u001b[0mrate\u001b[0m\u001b[0;34m[\u001b[0m\u001b[0mc\u001b[0m\u001b[0;34m]\u001b[0m\u001b[0;34m\u001b[0m\u001b[0;34m\u001b[0m\u001b[0m\n\u001b[1;32m      8\u001b[0m         \u001b[0mwrite_tex\u001b[0m\u001b[0;34m(\u001b[0m\u001b[0;34mf'{name}-{c}-percent'\u001b[0m\u001b[0;34m,\u001b[0m \u001b[0;34mf\"${r:.1f}$\\%\"\u001b[0m\u001b[0;34m)\u001b[0m\u001b[0;34m\u001b[0m\u001b[0;34m\u001b[0m\u001b[0m\n",
      "\u001b[0;31mNameError\u001b[0m: name 'fb_order' is not defined"
     ]
    }
   ],
   "source": [
    "def report_ratio(df, key):\n",
    "    name = key.replace('_', '-')\n",
    "    X = df.groupby(['feedback', key]).apply(len)\n",
    "    rate = 100 * df.groupby('feedback')[key].mean()\n",
    "\n",
    "    for c in fb_order:\n",
    "        r = rate[c]\n",
    "        write_tex(f'{name}-{c}-percent', f\"${r:.1f}$\\%\")\n",
    "\n",
    "\n",
    "report_ratio(mdf.query('block == \"test\"').copy(), 'backward')"
   ]
  },
  {
   "cell_type": "markdown",
   "metadata": {},
   "source": [
    "## Mediation"
   ]
  },
  {
   "cell_type": "code",
   "execution_count": null,
   "metadata": {},
   "outputs": [],
   "source": [
    "rdf = mdf.query('block == \"test\"').copy().rename(columns={'information': 'info'})\n",
    "# rdf['feedback'] = (rdf.feedback != 'none').astype(int)\n",
    "\n",
    "if EXPERIMENT == 4:\n",
    "    factors = ['info', 'reward']\n",
    "    for c in factors:\n",
    "        rdf[c] = rdf[c].astype(float)\n",
    "else:\n",
    "    factors = ['action', 'meta']\n",
    "    fb = rdf.pop('feedback')\n",
    "    for c in factors:\n",
    "        rdf[c] = (fb == c).astype(int)\n",
    "\n",
    "rdf['clicked'] = rdf.clicked.astype(int)\n",
    "rdf = rdf[[*factors, 'backward', 'clicked', 'n_clicks', 'score', 'trial_index', 'stim_i']].reset_index()\n",
    "rdf.backward.fillna(0, inplace=True)\n",
    "# rdf.trial_index = rdf.trial_index.astype(float)\n",
    "# rdf.query('action == 0', inplace=True)\n",
    "rdf = rdf.groupby('pid').mean()\n",
    "rdf.trial_index -= rdf.trial_index.min()"
   ]
  },
  {
   "cell_type": "code",
   "execution_count": null,
   "metadata": {},
   "outputs": [],
   "source": [
    "%%R -i rdf -o score\n",
    "fit = lm(score ~ backward, data=rdf)\n",
    "score = summary(fit)\n",
    "score"
   ]
  },
  {
   "cell_type": "code",
   "execution_count": null,
   "metadata": {},
   "outputs": [],
   "source": [
    "score = dict(score.items())\n",
    "df = score['df'][1]\n",
    "est, std, t, p = score['coefficients'][1]\n",
    "write_tex(f'score-backward', f'${est:.3f}$')\n",
    "write_tex(f'score-backward-test', f'$t({df}) = {t:.3f}$, ${pval(p)}$')"
   ]
  },
  {
   "cell_type": "code",
   "execution_count": null,
   "metadata": {},
   "outputs": [],
   "source": [
    "%%R -i rdf -i EXPERIMENT -o back -o med_out\n",
    "library(mediation)\n",
    "\n",
    "if (EXPERIMENT == 1) {\n",
    "    back_fit = lm(backward ~ action + meta, data=rdf)\n",
    "    score_fit = lm(score ~ backward + action + meta, data=rdf)\n",
    "} else {\n",
    "    back_fit = lm(backward ~ meta, data=rdf)\n",
    "    score_fit = lm(score ~ backward + meta, data=rdf)\n",
    "}\n",
    "med_out = mediate(back_fit, score_fit, treat=\"meta\", mediator=\"backward\")\n",
    "back = summary(back_fit)\n",
    "summary(med_out)"
   ]
  },
  {
   "cell_type": "code",
   "execution_count": null,
   "metadata": {},
   "outputs": [],
   "source": [
    "back = dict(back.items())\n",
    "df = back['df'][1]\n",
    "for i, name in enumerate(fb_order[1:], start=1):\n",
    "    est, std, t, p = back['coefficients'][i]\n",
    "    write_tex(f'backward-lm-{name}', f'$t({df}) = {t:.3f}$, ${pval(p)}$')"
   ]
  },
  {
   "cell_type": "code",
   "execution_count": null,
   "metadata": {},
   "outputs": [],
   "source": [
    "names = {\n",
    "    'acme': 'd0',\n",
    "    'ade': 'z0',\n",
    "    'total': 'tau',\n",
    "    'prop': 'n0',\n",
    "}\n",
    "med = dict(med_out.items())\n",
    "\n",
    "for k, v in names.items():\n",
    "    est = med[v + ('.coef' if v == 'tau' else '')][0]\n",
    "    lo, hi = med[v+'.ci']\n",
    "    p = med[v+'.p'][0]\n",
    "    write_tex(f'mediation-{k}', f'{est:.3f}')\n",
    "    write_tex(f'mediation-{k}-ci', f'95\\% CI: [{lo:.3f}, {hi:.3f}], ${pval(p)}$')"
   ]
  },
  {
   "cell_type": "code",
   "execution_count": null,
   "metadata": {},
   "outputs": [],
   "source": [
    "print(\"Success!\")"
   ]
  }
 ],
 "metadata": {
  "@webio": {
   "lastCommId": null,
   "lastKernelId": null
  },
  "anaconda-cloud": {},
  "kernelspec": {
   "display_name": "Python 3",
   "language": "python",
   "name": "python3"
  },
  "language_info": {
   "codemirror_mode": {
    "name": "ipython",
    "version": 3
   },
   "file_extension": ".py",
   "mimetype": "text/x-python",
   "name": "python",
   "nbconvert_exporter": "python",
   "pygments_lexer": "ipython3",
   "version": "3.7.3"
  },
  "nav_menu": {},
  "toc": {
   "navigate_menu": true,
   "number_sections": true,
   "sideBar": true,
   "threshold": 6,
   "toc_cell": false,
   "toc_section_display": "block",
   "toc_window_display": false
  }
 },
 "nbformat": 4,
 "nbformat_minor": 1
}
