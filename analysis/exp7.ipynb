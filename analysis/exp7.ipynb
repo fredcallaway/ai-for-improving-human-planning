{
 "cells": [
  {
   "cell_type": "code",
   "execution_count": 1,
   "metadata": {},
   "outputs": [],
   "source": [
    "%matplotlib inline\n",
    "\n",
    "import matplotlib.pyplot as plt\n",
    "import numpy as np\n",
    "import pandas as pd\n",
    "import seaborn as sns\n",
    "import scipy.stats as stats\n",
    "import matplotlib as plt\n",
    "import itertools as it\n",
    "from analysis_utils import *"
   ]
  },
  {
   "cell_type": "code",
   "execution_count": 2,
   "metadata": {},
   "outputs": [],
   "source": [
    "import rpy2.robjects as ro\n",
    "from rpy2.robjects import pandas2ri\n",
    "pandas2ri.activate()\n",
    "%load_ext rpy2.ipython"
   ]
  },
  {
   "cell_type": "markdown",
   "metadata": {},
   "source": [
    "# Setup"
   ]
  },
  {
   "cell_type": "code",
   "execution_count": 3,
   "metadata": {},
   "outputs": [
    {
     "data": {
      "text/plain": [
       "1    63\n",
       "3    62\n",
       "2    62\n",
       "Name: train_height, dtype: int64"
      ]
     },
     "execution_count": 3,
     "metadata": {},
     "output_type": "execute_result"
    }
   ],
   "source": [
    "EXPERIMENT = 7\n",
    "\n",
    "os.makedirs(f'stats/{EXPERIMENT}', exist_ok=True)\n",
    "def write_tex(name, tex):\n",
    "    file = f\"stats/{EXPERIMENT}/{name}.tex\"\n",
    "    with open(file, \"w+\") as f:\n",
    "        f.write(str(tex) + r\"\\unskip\")\n",
    "    print(f'wrote \"{tex}\" to \"{file}\"')\n",
    "\n",
    "data = get_data(EXPERIMENT)\n",
    "pdf = data['participants'].set_index('pid').copy()\n",
    "pdf.query('completed', inplace=True)\n",
    "full_pdf = pdf.copy()\n",
    "mdf = data['trials'].set_index('pid').copy()\n",
    "mdf.trial_time /= 1000\n",
    "mdf['clicked'] = mdf.n_clicks > 0\n",
    "\n",
    "pdf.train_height.value_counts()"
   ]
  },
  {
   "cell_type": "markdown",
   "metadata": {},
   "source": [
    "## Demographics"
   ]
  },
  {
   "cell_type": "code",
   "execution_count": 4,
   "metadata": {},
   "outputs": [
    {
     "name": "stdout",
     "output_type": "stream",
     "text": [
      "wrote \"33.67\" to \"stats/7/mean-age.tex\"\n",
      "wrote \"18\" to \"stats/7/min-age.tex\"\n",
      "wrote \"67\" to \"stats/7/max-age.tex\"\n",
      "wrote \"70\" to \"stats/7/N-female.tex\"\n",
      "wrote \"$187$\" to \"stats/7/N-total.tex\"\n",
      "wrote \"$63$\" to \"stats/7/N-1.tex\"\n",
      "wrote \"$62$\" to \"stats/7/N-3.tex\"\n",
      "wrote \"$62$\" to \"stats/7/N-2.tex\"\n",
      "wrote \"\\$1.28\" to \"stats/7/mean-bonus.tex\"\n"
     ]
    }
   ],
   "source": [
    "pids = list(pdf.index.unique())\n",
    "sdf = data['survey'].query('pid == @pids').copy()\n",
    "if not isinstance(sdf.responses.iloc[0], dict):\n",
    "    sdf = sdf.loc[~sdf.responses.isna()]\n",
    "    sdf.responses = sdf.responses.apply(ast.literal_eval)\n",
    "\n",
    "if EXPERIMENT == 3:\n",
    "    demo = sdf.loc[sdf.responses.apply(len) == 3].set_index('pid').responses\n",
    "    age = demo.apply(get('Q1'))\n",
    "    gender = demo.apply(get('Q2'))\n",
    "else:\n",
    "    demo = sdf.loc[sdf.responses.apply(len) == 2].set_index('pid').responses\n",
    "    age = demo.apply(get('Q0'))\n",
    "    gender = demo.apply(get('Q1'))\n",
    "    \n",
    "gender = gender.str.lower()\n",
    "age = age.apply(excepts(ValueError, int, lambda _: None))\n",
    "\n",
    "write_tex('mean-age', f'{age.mean():.2f}')\n",
    "write_tex('min-age', str(age.min()))\n",
    "write_tex('max-age', str(age.max()))\n",
    "\n",
    "regularize = {\n",
    "    'man': 'male',\n",
    "    'woman': 'female',\n",
    "    'f': 'female',\n",
    "    'm': 'male',\n",
    "}\n",
    "gender = gender.apply(lambda x: regularize.get(x.strip(), x))\n",
    "write_tex(\"N-female\", str(gender.value_counts()['female']))\n",
    "\n",
    "write_tex(\"N-total\", f\"${len(pdf)}$\")\n",
    "for fb, n in pdf.train_height.value_counts().items():\n",
    "    write_tex(f\"N-{fb}\", f\"${n}$\")\n",
    "write_tex('mean-bonus', f'\\${pdf.bonus.mean():.2f}')"
   ]
  },
  {
   "cell_type": "code",
   "execution_count": 5,
   "metadata": {},
   "outputs": [],
   "source": [
    "if EXPERIMENT == 3:\n",
    "    dropped = pdf.query('not completed').feedback.value_counts()\n",
    "    rate = dropped / pdf.feedback.value_counts()\n",
    "    for fb in fb_order:\n",
    "        write_tex(f'N-drop-{fb}', dropped[fb])\n",
    "        write_tex(f'drop-rate-{fb}', f'${rate[fb]*100:.1f}\\%$')\n",
    "    write_tex('return-rate', f'${pdf.completed.mean()*100:.1f}\\%$')\n",
    "    write_tex('return-N', f'${pdf.completed.sum()}$')\n",
    "    pdf.query('completed', inplace=True)\n",
    "    \n",
    "pd.Series(pdf.index).to_csv(f'pids/{EXPERIMENT}.csv', index=False, header=False)"
   ]
  },
  {
   "cell_type": "code",
   "execution_count": 6,
   "metadata": {},
   "outputs": [],
   "source": [
    "completed = list(pdf.index)\n",
    "mdf.reset_index(inplace=True)\n",
    "mdf.query('pid == @completed', inplace=True)\n",
    "mdf.set_index('pid', inplace=True)\n",
    "\n",
    "# pdf.train_height = pd.Categorical(pdf.train_height, [1,2,3], ordered=True)    \n",
    "mdf['train_height'] = pdf.train_height\n",
    "block_mean = mdf.groupby(['block', 'pid']).score.mean()\n",
    "for b in ['training', 'test']:\n",
    "    pdf[b] = block_mean[b]\n",
    "\n",
    "    \n",
    "assert set(mdf.index.unique()) == set(pdf.index.unique())"
   ]
  },
  {
   "cell_type": "code",
   "execution_count": 7,
   "metadata": {},
   "outputs": [],
   "source": [
    "\n",
    "def get_leaves(train_height):\n",
    "    branch = {\n",
    "        1: \"3\",\n",
    "        2: \"3-1\",\n",
    "        3: \"3-1-2\",\n",
    "    }[train_height]\n",
    "    fn = f\"structures/{branch}.json\"\n",
    "    with open(fn) as f:\n",
    "        graph = json.load(f)['graph']\n",
    "        return set(int(k) for k, v in graph.items() if not v)\n",
    "    \n",
    "\n",
    "all_leaves = { th: get_leaves(th) for th in [1,2,3]}\n",
    "all_leaves['test'] = {5, 6, 7, 9, 10, 11, 16, 17, 18, 20, 21, 22, 27, 28, 29, 31, 32, 33}\n",
    "\n",
    "def clicked_leaf_first(row):\n",
    "    if row.block != 'test' and row.train_height == 1:\n",
    "        return np.nan\n",
    "    if not row.clicks:\n",
    "        return 0.\n",
    "    first = row.clicks[0]\n",
    "    leaves = all_leaves['test' if row.block == 'test' else row.train_height]\n",
    "    return float(first in leaves)\n",
    "\n",
    "mdf['backward'] = mdf.apply(clicked_leaf_first, axis=1)\n",
    "# pdf['backward'] = mdf.query('block == \"test\"').groupby('pid').backward.mean()"
   ]
  },
  {
   "cell_type": "markdown",
   "metadata": {},
   "source": [
    "## Setup Plotting "
   ]
  },
  {
   "cell_type": "code",
   "execution_count": 30,
   "metadata": {},
   "outputs": [],
   "source": [
    "figure = Figures(path=f'figs/{EXPERIMENT}', formats=['pdf', 'png']).plot\n",
    "\n",
    "sns.set_style('whitegrid')\n",
    "blue, orange, green, _, purple = sns.color_palette('tab10')[:5]\n",
    "gray = (0.5,)*3\n",
    "red = (1, 0.3, 0.4)\n",
    "yellow = (1, 0.9, 0.4)\n",
    "palette = {\n",
    "    'none': gray,\n",
    "    'action': blue,\n",
    "    'meta': orange,\n",
    "    'info_only': red,\n",
    "    'reward_only': yellow,\n",
    "    'both': orange,\n",
    "}\n",
    "\n",
    "palette = {\n",
    "    'none': gray,\n",
    "    'action': blue,\n",
    "    'meta': orange,\n",
    "    'info_only': red,\n",
    "    'reward_only': yellow,\n",
    "    'both': orange,\n",
    "    1: purple,\n",
    "    2: green,\n",
    "    3: orange\n",
    "}\n",
    "\n",
    "nice_names = {\n",
    "    'meta': 'Metacognitive',\n",
    "    'action': 'Action',\n",
    "    'none': 'None',\n",
    "    'feedback': 'Feedback',\n",
    "    'info_only': 'Information\\nOnly',\n",
    "    'reward_only': 'Reward\\nOnly',\n",
    "    'both': 'Information &\\nReinforcement',\n",
    "    'score': 'Average Score',\n",
    "    'backward': 'Proportion Planning Backward',\n",
    "    '1': 'Minimal',\n",
    "    '2': 'Easy',\n",
    "    '3': 'Difficult',\n",
    "    'train_height': 'Training Complexity',\n",
    "}\n",
    "\n",
    "def reformat_labels(ax=None):\n",
    "    ax = ax or plt.gca()\n",
    "    labels = [t.get_text() for t in ax.get_xticklabels()]\n",
    "    new_labels = [nice_names.get(lab, lab) for lab in labels]\n",
    "    ax.set_xticklabels(new_labels)\n",
    "    \n",
    "def reformat_legend(ax=None, drop_title=False):\n",
    "    if ax is None:\n",
    "        ax = plt.gca()\n",
    "    handles, labels = ax.get_legend_handles_labels()\n",
    "    if drop_title:\n",
    "        handles = handles[1:]\n",
    "        labels = labels[1:]\n",
    "    ax.legend(handles=handles, labels=[nice_names.get(l, l).replace('\\n', ' ') \n",
    "                                       for l in labels])\n",
    "    \n",
    "def plot_block_changes():\n",
    "    block_changes = mdf.loc[1].block.apply(Labeler()).diff().reset_index().query('block == 1').index\n",
    "    for t in block_changes:\n",
    "        plt.axvline(t-0.5, c='k', ls='--')\n",
    "\n",
    "from datetime import datetime\n",
    "# os.makedirs(f'stats/{EXPERIMENT}/', exist_ok=True)\n",
    "def result_file(name, ext='tex'):\n",
    "    file = f'stats/{EXPERIMENT}-{name}.{ext}'\n",
    "#     with open(file, 'w+') as f:\n",
    "#         timestamp = datetime.now().strftime('Created on %m/%d/%y at %H:%M:%S\\n\\n')\n",
    "#         f.write(timestamp)\n",
    "    return file"
   ]
  },
  {
   "cell_type": "markdown",
   "metadata": {
    "heading_collapsed": true
   },
   "source": [
    "# Bootstrap utils"
   ]
  },
  {
   "cell_type": "code",
   "execution_count": 9,
   "metadata": {
    "hidden": true
   },
   "outputs": [],
   "source": [
    "def ci(x, interval=95):\n",
    "    a = (1 - (interval / 100)) / 2\n",
    "    return np.quantile(x, [a, 1-a])\n",
    "\n",
    "\n",
    "def boot_mean_ci(x, interval=95, n=10000):\n",
    "    x = pd.Series(x)\n",
    "    means = [x.sample(frac=1, replace=True).mean() for _ in range(n)]\n",
    "    return ci(means, interval)\n",
    "\n",
    "def make_permutation_test(values, name=None, n=10000):\n",
    "    if name is None:\n",
    "        name = values.name\n",
    "\n",
    "    def null_mean_diff_samples(c1, c2):\n",
    "        r = []\n",
    "        x = values.copy()\n",
    "        for i in range(n):\n",
    "            np.random.shuffle(x.values)\n",
    "            r.append(x.loc[c1].mean() - x.loc[c2].mean())\n",
    "        return np.array(r)\n",
    "\n",
    "    #         x = values.sample(n=n_fb[c1], replace=True)\n",
    "    #         y = values.sample(n=n_fb[c2], replace=True)\n",
    "    #         r.append(x.mean() - y.mean())\n",
    "\n",
    "    def report(c1, c2):\n",
    "        actual_diff = values.loc[c1].mean() - values.loc[c2].mean()\n",
    "        null_diff = null_mean_diff_samples(c1, c2)\n",
    "    #     p = (1 + np.sum(abs(null_diff) >= abs(actual_diff))) / (n+1)\n",
    "        p = np.mean(abs(null_diff) >= abs(actual_diff))\n",
    "        write_tex(f'{name}-permutation-{c1}-{c2}', f'${pval(p)}$')\n",
    "\n",
    "    return report\n",
    "\n",
    "def report_means_ci(g, name, units='',  **kws):\n",
    "    if name is None:\n",
    "        name = values.name\n",
    "    for k, d in g:\n",
    "        x = d.mean()\n",
    "        a, b = boot_mean_ci(d, **kws)\n",
    "        tex = rf'${x:.2f}$ {units}; 95\\% CI: [${a:.2f}$, ${b:.2f}$]'\n",
    "        write_tex(f'{name}-mean-{k}', tex)"
   ]
  },
  {
   "cell_type": "markdown",
   "metadata": {
    "heading_collapsed": true
   },
   "source": [
    "# Test score"
   ]
  },
  {
   "cell_type": "code",
   "execution_count": 51,
   "metadata": {
    "hidden": true
   },
   "outputs": [
    {
     "name": "stdout",
     "output_type": "stream",
     "text": [
      "figs/7/test.pdf\n",
      "figs/7/test.png\n"
     ]
    },
    {
     "data": {
      "image/png": "[encoded data removed]",
      "text/plain": [
       "<Figure size 432x288 with 1 Axes>"
      ]
     },
     "metadata": {},
     "output_type": "display_data"
    }
   ],
   "source": [
    "@figure()\n",
    "def plot_test():\n",
    "    if EXPERIMENT == 4:\n",
    "        plt.figure(figsize=(12,4))\n",
    "\n",
    "    sns.swarmplot('train_height', 'test', data=pdf, palette=palette, alpha=0.5)\n",
    "    sns.pointplot('train_height', 'test', data=pdf, palette=palette, \n",
    "                  scale=1, capsize=0.1, markers='o')\n",
    "    plt.xlabel('Training Complexity')\n",
    "    plt.ylabel(nice_names['score'])\n",
    "    test = 'Test' if EXPERIMENT == 1 else 'Transfer'\n",
    "    reformat_labels()\n",
    "    "
   ]
  },
  {
   "cell_type": "markdown",
   "metadata": {
    "heading_collapsed": true,
    "hidden": true
   },
   "source": [
    "## Kruskal"
   ]
  },
  {
   "cell_type": "code",
   "execution_count": 11,
   "metadata": {
    "hidden": true
   },
   "outputs": [],
   "source": [
    "rdf = pdf[['test', 'train_height']].copy()\n",
    "rdf.train_height = 'T' + rdf.train_height.astype(str)\n",
    "rdf.train_height = rdf.train_height.astype(str)"
   ]
  },
  {
   "cell_type": "code",
   "execution_count": 12,
   "metadata": {
    "hidden": true
   },
   "outputs": [],
   "source": [
    "%%R -i rdf -o out\n",
    "out = kruskal.test(test ~ factor(train_height), data=rdf)"
   ]
  },
  {
   "cell_type": "code",
   "execution_count": 13,
   "metadata": {
    "hidden": true
   },
   "outputs": [
    {
     "name": "stdout",
     "output_type": "stream",
     "text": [
      "wrote \"$\\chi^2(2) = 14.836, p < .001$\" to \"stats/7/score-kruskal.tex\"\n"
     ]
    }
   ],
   "source": [
    "out = dict(out.items())\n",
    "df = out[\"parameter\"][0]\n",
    "p = pval(out[\"p.value\"][0])\n",
    "stat = out[\"statistic\"][0]\n",
    "write_tex('score-kruskal', rf'$\\chi^2({df}) = {stat:.3f}, {p}$')\n",
    "# p = pvalue(out"
   ]
  },
  {
   "cell_type": "markdown",
   "metadata": {
    "hidden": true
   },
   "source": [
    "## Bootstrapping"
   ]
  },
  {
   "cell_type": "code",
   "execution_count": 14,
   "metadata": {
    "hidden": true
   },
   "outputs": [
    {
     "name": "stdout",
     "output_type": "stream",
     "text": [
      "wrote \"$21.97$ points/trial; 95\\% CI: [$17.83$, $26.03$]\" to \"stats/7/test-mean-1.tex\"\n",
      "wrote \"$28.50$ points/trial; 95\\% CI: [$24.41$, $32.29$]\" to \"stats/7/test-mean-2.tex\"\n",
      "wrote \"$30.01$ points/trial; 95\\% CI: [$25.39$, $34.50$]\" to \"stats/7/test-mean-3.tex\"\n"
     ]
    }
   ],
   "source": [
    "report_means_ci(pdf.groupby('train_height').test, 'test', 'points/trial')"
   ]
  },
  {
   "cell_type": "code",
   "execution_count": 15,
   "metadata": {
    "hidden": true
   },
   "outputs": [
    {
     "name": "stdout",
     "output_type": "stream",
     "text": [
      "wrote \"$p = .037$\" to \"stats/7/test-permutation-2-1.tex\"\n",
      "wrote \"$p = .009$\" to \"stats/7/test-permutation-3-1.tex\"\n",
      "wrote \"$p = .631$\" to \"stats/7/test-permutation-3-2.tex\"\n"
     ]
    }
   ],
   "source": [
    "report = make_permutation_test(pdf.set_index('train_height').test)\n",
    "report(2, 1)\n",
    "report(3, 1)\n",
    "report(3, 2)"
   ]
  },
  {
   "cell_type": "code",
   "execution_count": 16,
   "metadata": {
    "hidden": true
   },
   "outputs": [
    {
     "name": "stdout",
     "output_type": "stream",
     "text": [
      "wrote \"$14.12$ points/trial; 95\\% CI: [$9.18$, $18.88$]\" to \"stats/7/test-early-mean-1.tex\"\n",
      "wrote \"$29.26$ points/trial; 95\\% CI: [$25.06$, $33.32$]\" to \"stats/7/test-early-mean-2.tex\"\n",
      "wrote \"$29.98$ points/trial; 95\\% CI: [$24.70$, $35.06$]\" to \"stats/7/test-early-mean-3.tex\"\n",
      "wrote \"$p < .001$\" to \"stats/7/test-early-permutation-2-1.tex\"\n",
      "wrote \"$p < .001$\" to \"stats/7/test-early-permutation-3-1.tex\"\n",
      "wrote \"$p = .847$\" to \"stats/7/test-early-permutation-3-2.tex\"\n"
     ]
    }
   ],
   "source": [
    "d = mdf.query('10 <= trial_index < 15')\\\n",
    "    .groupby('pid')[['score', 'train_height']].mean()\\\n",
    "    .set_index('train_height').score\n",
    "\n",
    "report_means_ci(d.groupby('train_height'), 'test-early', 'points/trial')\n",
    "report = make_permutation_test(d, name='test-early')\n",
    "report(2, 1)\n",
    "report(3, 1)\n",
    "report(3, 2)"
   ]
  },
  {
   "cell_type": "code",
   "execution_count": 17,
   "metadata": {
    "hidden": true
   },
   "outputs": [],
   "source": [
    "def make_permutation_test(values, name=None, n=10000):\n",
    "    if name is None:\n",
    "        name = values.name\n",
    "\n",
    "    def null_mean_diff_samples(c1, c2):\n",
    "        r = []\n",
    "        x = values.copy()\n",
    "        for i in range(n):\n",
    "            np.random.shuffle(x.values)\n",
    "            r.append(x.loc[c1].mean() - x.loc[c2].mean())\n",
    "        return np.array(r)\n",
    "\n",
    "    #         x = values.sample(n=n_fb[c1], replace=True)\n",
    "    #         y = values.sample(n=n_fb[c2], replace=True)\n",
    "    #         r.append(x.mean() - y.mean())\n",
    "\n",
    "    def report(c1, c2):\n",
    "        actual_diff = values.loc[c1].mean() - values.loc[c2].mean()\n",
    "        null_diff = null_mean_diff_samples(c1, c2)\n",
    "    #     p = (1 + np.sum(abs(null_diff) >= abs(actual_diff))) / (n+1)\n",
    "        p = np.mean(abs(null_diff) >= abs(actual_diff))\n",
    "        write_tex(f'{name}-permutation-{c1}-{c2}', f'${pval(p)}$')\n",
    "\n",
    "    return report"
   ]
  },
  {
   "cell_type": "code",
   "execution_count": 18,
   "metadata": {
    "hidden": true
   },
   "outputs": [
    {
     "name": "stdout",
     "output_type": "stream",
     "text": [
      "wrote \"$p = .020$\" to \"stats/7/test-early-contrast-permutation.tex\"\n",
      "wrote \"$p = .364$\" to \"stats/7/test-contrast-permutation.tex\"\n"
     ]
    }
   ],
   "source": [
    "def improvement_contrast(x):\n",
    "    m = x.groupby('train_height').mean()\n",
    "    return (m[2] - m[1]) - (m[3] - m[2])\n",
    "\n",
    "def permutation_test(f, x, n=10000):\n",
    "    empirical = f(x)\n",
    "    x = x.copy()\n",
    "    boot = np.zeros(n)\n",
    "    for i in range(n):\n",
    "        np.random.shuffle(x.values)\n",
    "        boot[i] = f(x)\n",
    "    return np.mean(abs(boot) >= abs(empirical))\n",
    "    \n",
    "# np.random.shuffle(x.values)\n",
    "d = mdf.query('10 <= trial_index < 15')\\\n",
    "    .groupby('pid')[['score', 'train_height']].mean()\\\n",
    "    .set_index('train_height').score\n",
    "\n",
    "p = permutation_test(improvement_contrast, d)\n",
    "write_tex('test-early-contrast-permutation', f'${pval(p)}$')\n",
    "\n",
    "p = permutation_test(improvement_contrast, pdf.set_index('train_height').test)\n",
    "write_tex('test-contrast-permutation', f'${pval(p)}$')"
   ]
  },
  {
   "cell_type": "code",
   "execution_count": 19,
   "metadata": {
    "hidden": true
   },
   "outputs": [
    {
     "data": {
      "text/plain": [
       "0.0"
      ]
     },
     "execution_count": 19,
     "metadata": {},
     "output_type": "execute_result"
    }
   ],
   "source": [
    "def test(x):\n",
    "    m = x.groupby('train_height').mean()\n",
    "    return m[2] - m[1]\n",
    "\n",
    "x = mdf.query('10 <= trial_index < 15')\\\n",
    "    .groupby('pid')[['score', 'train_height']].mean()\\\n",
    "    .set_index('train_height').score\n",
    "\n",
    "permutation_test(test, x)"
   ]
  },
  {
   "cell_type": "markdown",
   "metadata": {},
   "source": [
    "# Learning curves"
   ]
  },
  {
   "cell_type": "code",
   "execution_count": 31,
   "metadata": {},
   "outputs": [],
   "source": [
    "def learning_curve(var):\n",
    "    df = mdf.copy()\n",
    "    df.trial_index += 1\n",
    "    sns.lineplot('trial_index', var, hue='train_height', \n",
    "                 data=df, palette=palette)\n",
    "    plt.ylabel(nice_names[var])\n",
    "    plt.xlabel('Trial Number')\n",
    "    plt.gca().grid(axis='x')\n",
    "    split = mdf.query('block == \"training\"').trial_index.max()\n",
    "    plt.axvline(split+1.5, c='k', ls='--', alpha=0.3)\n",
    "    plt.xticks([1, *range(5, 31, 5)])\n",
    "    plt.xlim(df.trial_index.min()-0.5, df.trial_index.max()+0.5)\n",
    "    if var == 'backward':\n",
    "        plt.ylim(0,1)\n",
    "    reformat_legend(drop_title=var=='backward')\n",
    "    "
   ]
  },
  {
   "cell_type": "code",
   "execution_count": 25,
   "metadata": {},
   "outputs": [
    {
     "name": "stdout",
     "output_type": "stream",
     "text": [
      "['Training Complexity', 'Minimal', 'Easy', 'Difficult']\n",
      "figs/7/learning_curve_score.pdf\n",
      "figs/7/learning_curve_score.png\n"
     ]
    },
    {
     "data": {
      "text/plain": [
       "<function analysis_utils.Figures.plot.<locals>.decorator.<locals>.wrapped(*args, **kwargs)>"
      ]
     },
     "execution_count": 25,
     "metadata": {},
     "output_type": "execute_result"
    },
    {
     "data": {
      "image/png": "[encoded data removed]",
      "text/plain": [
       "<Figure size 432x288 with 1 Axes>"
      ]
     },
     "metadata": {},
     "output_type": "display_data"
    }
   ],
   "source": [
    "figure(var='score')(learning_curve)"
   ]
  },
  {
   "cell_type": "code",
   "execution_count": 32,
   "metadata": {},
   "outputs": [
    {
     "name": "stdout",
     "output_type": "stream",
     "text": [
      "figs/7/learning_curve_backward.pdf\n",
      "figs/7/learning_curve_backward.png\n"
     ]
    },
    {
     "data": {
      "text/plain": [
       "<function analysis_utils.Figures.plot.<locals>.decorator.<locals>.wrapped(*args, **kwargs)>"
      ]
     },
     "execution_count": 32,
     "metadata": {},
     "output_type": "execute_result"
    },
    {
     "data": {
      "image/png": "[encoded data removed]",
      "text/plain": [
       "<Figure size 432x288 with 1 Axes>"
      ]
     },
     "metadata": {},
     "output_type": "display_data"
    }
   ],
   "source": [
    "figure(var='backward')(learning_curve)"
   ]
  },
  {
   "cell_type": "markdown",
   "metadata": {},
   "source": [
    "# Process"
   ]
  },
  {
   "cell_type": "markdown",
   "metadata": {
    "heading_collapsed": true
   },
   "source": [
    "## Summary in test block"
   ]
  },
  {
   "cell_type": "code",
   "execution_count": 22,
   "metadata": {
    "hidden": true
   },
   "outputs": [
    {
     "name": "stdout",
     "output_type": "stream",
     "text": [
      "wrote \"$37.1$\\%\" to \"stats/7/backward-1-percent.tex\"\n",
      "wrote \"$63.0$\\%\" to \"stats/7/backward-2-percent.tex\"\n",
      "wrote \"$74.4$\\%\" to \"stats/7/backward-3-percent.tex\"\n",
      "wrote \"$23.8$\\%\" to \"stats/7/backward-early-1-percent.tex\"\n",
      "wrote \"$54.2$\\%\" to \"stats/7/backward-early-2-percent.tex\"\n",
      "wrote \"$72.3$\\%\" to \"stats/7/backward-early-3-percent.tex\"\n"
     ]
    }
   ],
   "source": [
    "def report_ratio(df, key, name=None):\n",
    "    if name is None:\n",
    "        name = key.replace('_', '-')\n",
    "    X = df.groupby(['train_height', key]).apply(len)\n",
    "    rate = 100 * df.groupby('train_height')[key].mean()\n",
    "\n",
    "    for c in [1,2,3]:\n",
    "        r = rate[c]\n",
    "        write_tex(f'{name}-{c}-percent', f\"${r:.1f}$\\%\")\n",
    "\n",
    "\n",
    "report_ratio(mdf.query('block == \"test\"').copy(), 'backward')\n",
    "\n",
    "early_test = mdf.query('10 <= trial_index < 15')\\\n",
    "    .groupby('pid')[['backward', 'train_height']].mean()\\\n",
    "    .set_index('train_height')\n",
    "\n",
    "report_ratio(early_test, 'backward', name='backward-early')"
   ]
  },
  {
   "cell_type": "markdown",
   "metadata": {
    "heading_collapsed": true
   },
   "source": [
    "## Kruskal"
   ]
  },
  {
   "cell_type": "code",
   "execution_count": 23,
   "metadata": {
    "hidden": true
   },
   "outputs": [],
   "source": [
    "rdf = pdf[['backward', 'train_height']].copy()\n",
    "rdf.train_height = 'T' + rdf.train_height.astype(str)"
   ]
  },
  {
   "cell_type": "code",
   "execution_count": 24,
   "metadata": {
    "hidden": true
   },
   "outputs": [],
   "source": [
    "%%R -i rdf -o out\n",
    "out = pairwise.t.test(rdf$backward, rdf$train_height)"
   ]
  },
  {
   "cell_type": "code",
   "execution_count": 25,
   "metadata": {
    "hidden": true
   },
   "outputs": [],
   "source": [
    "%%R -i rdf -o out\n",
    "out = kruskal.test(backward ~ factor(train_height), data=rdf)"
   ]
  },
  {
   "cell_type": "code",
   "execution_count": 26,
   "metadata": {
    "hidden": true
   },
   "outputs": [
    {
     "name": "stdout",
     "output_type": "stream",
     "text": [
      "wrote \"$\\chi^2(2) = 34.609, p < .001$\" to \"stats/7/backward-kruskal.tex\"\n"
     ]
    }
   ],
   "source": [
    "out = dict(out.items())\n",
    "df = out[\"parameter\"][0]\n",
    "p = pval(out[\"p.value\"][0])\n",
    "stat = out[\"statistic\"][0]\n",
    "write_tex('backward-kruskal', rf'$\\chi^2({df}) = {stat:.3f}, {p}$')\n",
    "# p = pvalue(out"
   ]
  },
  {
   "cell_type": "markdown",
   "metadata": {
    "heading_collapsed": true
   },
   "source": [
    "## t-tests"
   ]
  },
  {
   "cell_type": "code",
   "execution_count": 27,
   "metadata": {
    "hidden": true
   },
   "outputs": [],
   "source": [
    "from scipy.stats import ttest_ind\n",
    "# d = pdf.set_index('train_height').backward\n",
    "d = mdf.query('10 <= trial_index < 15')\\\n",
    "    .groupby('pid')[['backward', 'train_height']].mean()\\\n",
    "    .set_index('train_height').backward"
   ]
  },
  {
   "cell_type": "code",
   "execution_count": 28,
   "metadata": {
    "hidden": true
   },
   "outputs": [
    {
     "name": "stdout",
     "output_type": "stream",
     "text": [
      "wrote \"$t(116.0) = 4.500 p < .001$\" to \"stats/7/backward-ttest-2v1.tex\"\n",
      "wrote \"$t(115.0) = 7.094 p < .001$\" to \"stats/7/backward-ttest-3v1.tex\"\n",
      "wrote \"$t(122.0) = 2.383 p = .019$\" to \"stats/7/backward-ttest-3v2.tex\"\n"
     ]
    }
   ],
   "source": [
    "def ttest(c1, c2):\n",
    "    x, y = d[c1], d[c2]\n",
    "    out = %R -i x -i y t.test(x, y)\n",
    "    out = dict(out.items())\n",
    "    df = out['parameter'][0]\n",
    "    p = out['p.value'][0]\n",
    "    stat = out['statistic'][0]\n",
    "    write_tex(f'backward-ttest-{c1}v{c2}', rf'$t({df:.1f}) = {stat:.3f} {pval(p)}$')\n",
    "    \n",
    "ttest(2, 1)\n",
    "ttest(3, 1)\n",
    "ttest(3, 2)"
   ]
  },
  {
   "cell_type": "markdown",
   "metadata": {},
   "source": [
    "## Bootstrapping"
   ]
  },
  {
   "cell_type": "code",
   "execution_count": 29,
   "metadata": {},
   "outputs": [
    {
     "name": "stdout",
     "output_type": "stream",
     "text": [
      "wrote \"$p < .001$\" to \"stats/7/backward-permutation-2-1.tex\"\n",
      "wrote \"$p < .001$\" to \"stats/7/backward-permutation-3-1.tex\"\n",
      "wrote \"$p = .152$\" to \"stats/7/backward-permutation-3-2.tex\"\n"
     ]
    }
   ],
   "source": [
    "report = make_permutation_test(pdf.set_index('train_height').backward)\n",
    "report(2, 1)\n",
    "report(3, 1)\n",
    "report(3, 2)"
   ]
  },
  {
   "cell_type": "code",
   "execution_count": 30,
   "metadata": {},
   "outputs": [
    {
     "name": "stdout",
     "output_type": "stream",
     "text": [
      "wrote \"$p < .001$\" to \"stats/7/backward-early-permutation-2-1.tex\"\n",
      "wrote \"$p < .001$\" to \"stats/7/backward-early-permutation-3-1.tex\"\n",
      "wrote \"$p = .024$\" to \"stats/7/backward-early-permutation-3-2.tex\"\n"
     ]
    }
   ],
   "source": [
    "d = mdf.query('10 <= trial_index < 15')\\\n",
    "    .groupby('pid')[['backward', 'train_height']].mean()\\\n",
    "    .set_index('train_height').backward\n",
    "\n",
    "report = make_permutation_test(d, name='backward-early')\n",
    "report(2, 1)\n",
    "report(3, 1)\n",
    "report(3, 2)"
   ]
  },
  {
   "cell_type": "markdown",
   "metadata": {},
   "source": [
    "## Mediation"
   ]
  },
  {
   "cell_type": "code",
   "execution_count": 31,
   "metadata": {},
   "outputs": [],
   "source": [
    "rdf = mdf.query('block == \"test\"').copy().rename(columns={'information': 'info'})\n",
    "# rdf['feedback'] = (rdf.feedback != 'none').astype(int)\n",
    "\n",
    "\n",
    "factors = [f'T{c}' for c in (1,2,3)]\n",
    "fb = rdf.pop('train_height')\n",
    "for c in (1,2,3):\n",
    "    rdf[f'T{c}'] = (fb == c).astype(int)\n",
    "\n",
    "rdf['clicked'] = rdf.clicked.astype(int)\n",
    "rdf = rdf[[*factors, 'backward', 'clicked', 'n_clicks', 'score', 'trial_index', 'stim_i']].reset_index()\n",
    "rdf.backward.fillna(0, inplace=True)\n",
    "# rdf.trial_index = rdf.trial_index.astype(float)\n",
    "# rdf.query('action == 0', inplace=True)\n",
    "rdf = rdf.groupby('pid').mean()\n",
    "rdf.trial_index -= rdf.trial_index.min()"
   ]
  },
  {
   "cell_type": "code",
   "execution_count": 32,
   "metadata": {},
   "outputs": [
    {
     "name": "stdout",
     "output_type": "stream",
     "text": [
      "\n",
      "Call:\n",
      "lm(formula = score ~ backward, data = rdf)\n",
      "\n",
      "Residuals:\n",
      "    Min      1Q  Median      3Q     Max \n",
      "-34.023  -5.896  -0.025   4.099  33.485 \n",
      "\n",
      "Coefficients:\n",
      "            Estimate Std. Error t value Pr(>|t|)    \n",
      "(Intercept)    8.215      1.250   6.571 4.93e-10 ***\n",
      "backward      32.011      1.717  18.646  < 2e-16 ***\n",
      "---\n",
      "Signif. codes:  0 ‘***’ 0.001 ‘**’ 0.01 ‘*’ 0.05 ‘.’ 0.1 ‘ ’ 1\n",
      "\n",
      "Residual standard error: 10.32 on 185 degrees of freedom\n",
      "Multiple R-squared:  0.6527,\tAdjusted R-squared:  0.6508 \n",
      "F-statistic: 347.7 on 1 and 185 DF,  p-value: < 2.2e-16\n",
      "\n"
     ]
    }
   ],
   "source": [
    "%%R -i rdf -o score\n",
    "fit = lm(score ~ backward, data=rdf)\n",
    "score = summary(fit)\n",
    "score"
   ]
  },
  {
   "cell_type": "code",
   "execution_count": 33,
   "metadata": {},
   "outputs": [
    {
     "name": "stdout",
     "output_type": "stream",
     "text": [
      "wrote \"$32.011$\" to \"stats/7/score-backward.tex\"\n",
      "wrote \"$t(185) = 18.646$, $p < .001$\" to \"stats/7/score-backward-test.tex\"\n"
     ]
    }
   ],
   "source": [
    "score = dict(score.items())\n",
    "df = score['df'][1]\n",
    "est, std, t, p = score['coefficients'][1]\n",
    "write_tex(f'score-backward', f'${est:.3f}$')\n",
    "write_tex(f'score-backward-test', f'$t({df}) = {t:.3f}$, ${pval(p)}$')"
   ]
  },
  {
   "cell_type": "code",
   "execution_count": 34,
   "metadata": {},
   "outputs": [
    {
     "name": "stdout",
     "output_type": "stream",
     "text": [
      "\n",
      "Call:\n",
      "lm(formula = backward ~ T2 + T3, data = rdf)\n",
      "\n",
      "Residuals:\n",
      "    Min      1Q  Median      3Q     Max \n",
      "-0.7436 -0.3714  0.2202  0.3202  0.6286 \n",
      "\n",
      "Coefficients:\n",
      "            Estimate Std. Error t value Pr(>|t|)    \n",
      "(Intercept)  0.37143    0.05222   7.113 2.44e-11 ***\n",
      "T2           0.25841    0.07414   3.485 0.000615 ***\n",
      "T3           0.37212    0.07414   5.019 1.22e-06 ***\n",
      "---\n",
      "Signif. codes:  0 ‘***’ 0.001 ‘**’ 0.01 ‘*’ 0.05 ‘.’ 0.1 ‘ ’ 1\n",
      "\n",
      "Residual standard error: 0.4145 on 184 degrees of freedom\n",
      "Multiple R-squared:  0.1259,\tAdjusted R-squared:  0.1164 \n",
      "F-statistic: 13.25 on 2 and 184 DF,  p-value: 4.2e-06\n",
      "\n"
     ]
    }
   ],
   "source": [
    "%%R -i rdf -o back\n",
    "back_fit = lm(backward ~ T2 + T3, data=rdf)\n",
    "back = summary(back_fit)\n",
    "back"
   ]
  },
  {
   "cell_type": "code",
   "execution_count": 35,
   "metadata": {},
   "outputs": [
    {
     "ename": "NameError",
     "evalue": "name 'fb_order' is not defined",
     "output_type": "error",
     "traceback": [
      "\u001b[0;31m---------------------------------------------------------------------------\u001b[0m",
      "\u001b[0;31mNameError\u001b[0m                                 Traceback (most recent call last)",
      "\u001b[0;32m<ipython-input-35-b2b78c80c839>\u001b[0m in \u001b[0;36m<module>\u001b[0;34m\u001b[0m\n\u001b[1;32m      1\u001b[0m \u001b[0mback\u001b[0m \u001b[0;34m=\u001b[0m \u001b[0mdict\u001b[0m\u001b[0;34m(\u001b[0m\u001b[0mback\u001b[0m\u001b[0;34m.\u001b[0m\u001b[0mitems\u001b[0m\u001b[0;34m(\u001b[0m\u001b[0;34m)\u001b[0m\u001b[0;34m)\u001b[0m\u001b[0;34m\u001b[0m\u001b[0;34m\u001b[0m\u001b[0m\n\u001b[1;32m      2\u001b[0m \u001b[0mdf\u001b[0m \u001b[0;34m=\u001b[0m \u001b[0mback\u001b[0m\u001b[0;34m[\u001b[0m\u001b[0;34m'df'\u001b[0m\u001b[0;34m]\u001b[0m\u001b[0;34m[\u001b[0m\u001b[0;36m1\u001b[0m\u001b[0;34m]\u001b[0m\u001b[0;34m\u001b[0m\u001b[0;34m\u001b[0m\u001b[0m\n\u001b[0;32m----> 3\u001b[0;31m \u001b[0;32mfor\u001b[0m \u001b[0mi\u001b[0m\u001b[0;34m,\u001b[0m \u001b[0mname\u001b[0m \u001b[0;32min\u001b[0m \u001b[0menumerate\u001b[0m\u001b[0;34m(\u001b[0m\u001b[0mfb_order\u001b[0m\u001b[0;34m[\u001b[0m\u001b[0;36m1\u001b[0m\u001b[0;34m:\u001b[0m\u001b[0;34m]\u001b[0m\u001b[0;34m,\u001b[0m \u001b[0mstart\u001b[0m\u001b[0;34m=\u001b[0m\u001b[0;36m1\u001b[0m\u001b[0;34m)\u001b[0m\u001b[0;34m:\u001b[0m\u001b[0;34m\u001b[0m\u001b[0;34m\u001b[0m\u001b[0m\n\u001b[0m\u001b[1;32m      4\u001b[0m     \u001b[0mest\u001b[0m\u001b[0;34m,\u001b[0m \u001b[0mstd\u001b[0m\u001b[0;34m,\u001b[0m \u001b[0mt\u001b[0m\u001b[0;34m,\u001b[0m \u001b[0mp\u001b[0m \u001b[0;34m=\u001b[0m \u001b[0mback\u001b[0m\u001b[0;34m[\u001b[0m\u001b[0;34m'coefficients'\u001b[0m\u001b[0;34m]\u001b[0m\u001b[0;34m[\u001b[0m\u001b[0mi\u001b[0m\u001b[0;34m]\u001b[0m\u001b[0;34m\u001b[0m\u001b[0;34m\u001b[0m\u001b[0m\n\u001b[1;32m      5\u001b[0m     \u001b[0mwrite_tex\u001b[0m\u001b[0;34m(\u001b[0m\u001b[0;34mf'backward-lm-{name}'\u001b[0m\u001b[0;34m,\u001b[0m \u001b[0;34mf'$t({df}) = {t:.3f}$, ${pval(p)}$'\u001b[0m\u001b[0;34m)\u001b[0m\u001b[0;34m\u001b[0m\u001b[0;34m\u001b[0m\u001b[0m\n",
      "\u001b[0;31mNameError\u001b[0m: name 'fb_order' is not defined"
     ]
    }
   ],
   "source": [
    "back = dict(back.items())\n",
    "df = back['df'][1]\n",
    "for i, name in enumerate(fb_order[1:], start=1):\n",
    "    est, std, t, p = back['coefficients'][i]\n",
    "    write_tex(f'backward-lm-{name}', f'$t({df}) = {t:.3f}$, ${pval(p)}$')"
   ]
  },
  {
   "cell_type": "code",
   "execution_count": null,
   "metadata": {},
   "outputs": [],
   "source": [
    "names = {\n",
    "    'acme': 'd0',\n",
    "    'ade': 'z0',\n",
    "    'total': 'tau',\n",
    "    'prop': 'n0',\n",
    "}\n",
    "med = dict(med_out.items())\n",
    "\n",
    "for k, v in names.items():\n",
    "    est = med[v + ('.coef' if v == 'tau' else '')][0]\n",
    "    lo, hi = med[v+'.ci']\n",
    "    p = med[v+'.p'][0]\n",
    "    write_tex(f'mediation-{k}', f'{est:.3f}')\n",
    "    write_tex(f'mediation-{k}-ci', f'95\\% CI: [{lo:.3f}, {hi:.3f}], ${pval(p)}$')"
   ]
  },
  {
   "cell_type": "code",
   "execution_count": null,
   "metadata": {},
   "outputs": [],
   "source": [
    "print(\"Success!\")"
   ]
  }
 ],
 "metadata": {
  "@webio": {
   "lastCommId": null,
   "lastKernelId": null
  },
  "anaconda-cloud": {},
  "kernelspec": {
   "display_name": "Python 3",
   "language": "python",
   "name": "python3"
  },
  "language_info": {
   "codemirror_mode": {
    "name": "ipython",
    "version": 3
   },
   "file_extension": ".py",
   "mimetype": "text/x-python",
   "name": "python",
   "nbconvert_exporter": "python",
   "pygments_lexer": "ipython3",
   "version": "3.7.3"
  },
  "nav_menu": {},
  "toc": {
   "navigate_menu": true,
   "number_sections": true,
   "sideBar": true,
   "threshold": 6,
   "toc_cell": false,
   "toc_section_display": "block",
   "toc_window_display": false
  }
 },
 "nbformat": 4,
 "nbformat_minor": 1
}
