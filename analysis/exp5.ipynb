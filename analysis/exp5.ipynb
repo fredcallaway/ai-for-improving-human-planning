{
 "cells": [
  {
   "cell_type": "code",
   "execution_count": 3,
   "metadata": {},
   "outputs": [],
   "source": [
    "import matplotlib.pyplot as plt\n",
    "import numpy as np\n",
    "import pandas as pd\n",
    "import seaborn as sns\n",
    "import scipy.stats as stats\n",
    "import matplotlib as plt\n",
    "import itertools as it\n",
    "from new_analysis_utils import *\n",
    "from statannot import add_stat_annotation\n",
    "\n",
    "%load_ext rpy2.ipython\n",
    "sns.set_style('whitegrid')"
   ]
  },
  {
   "cell_type": "code",
   "execution_count": 4,
   "metadata": {},
   "outputs": [],
   "source": [
    "sns.set_style('whitegrid')  # why does this need to be run twice?!"
   ]
  },
  {
   "cell_type": "markdown",
   "metadata": {},
   "source": [
    "# Setup"
   ]
  },
  {
   "cell_type": "code",
   "execution_count": 5,
   "metadata": {},
   "outputs": [],
   "source": [
    "EXPERIMENT = 5\n",
    "figs = Figures(path=f'figs/{EXPERIMENT}')\n",
    "figure = figs.plot\n",
    "fb_order = ['none', 'action', 'meta', 'video']\n",
    "\n",
    "def write_tex(name, tex):\n",
    "    file = f\"stats/{EXPERIMENT}/{name}.tex\"\n",
    "    with open(file, \"w+\") as f:\n",
    "        f.write(str(tex) + r\"\\unskip\")\n",
    "    print(f'wrote \"{tex}\" to \"{file}\"')\n",
    "\n",
    "def write_percent(name, x):\n",
    "    write_tex(name, f'{x * 100:.1f}\\\\%')\n",
    "\n",
    "def read(stage, name):\n",
    "    loader = pd.read_csv if name.endswith('csv') else pd.read_json\n",
    "    df = loader(f'../data/{EXPERIMENT}/stage{stage}/{name}')\n",
    "    df = drop_nan_cols(df).set_index('wid')\n",
    "    parse_json(df)\n",
    "    return df\n",
    "\n",
    "participants = read(1, 'participants.csv').rename(columns={'completed': 'completed_stage1'})\n",
    "survey = read(1, 'survey.csv')\n",
    "stage1 = read(1, 'trials.csv')\n",
    "stage2 = read(2, 'trials.json')\n",
    "bonus = read(2, 'bonus.csv').bonus\n",
    "\n",
    "# Drop participants who didn't finish both sections\n",
    "# Note: they are still in the participants dataframe for computing retention rates\n",
    "participants['completed_stage2'] = (stage2.reset_index().wid.value_counts() == 8)\n",
    "participants.completed_stage2 = participants.completed_stage2.fillna(False)\n",
    "pdf = participants.query('completed_stage2').copy()\n",
    "keep = list(pdf.index)\n",
    "stage1 = stage1.query('wid == @keep').copy()\n",
    "stage2 = stage2.query('wid == @keep').copy()\n",
    "\n",
    "# stage2['planning_cost'] = stage2.planning_time / 4000\n",
    "# recomputed_bonus = (420 - (stage2.planning_cost + stage2.route_cost)).clip(0) / 2000\n",
    "\n",
    "stage2['planning_cost'] = stage2.planning_time / 4000\n",
    "# recomputed_bonus = (350 - (stage2.planning_cost + stage2.route_cost)).clip(0) / 1000\n",
    "\n",
    "# error = abs(recomputed_bonus - stage2.bonus)\n",
    "# assert error.mean() < .001\n",
    "# assert error.max() < .05 # one bad trial\n",
    "\n",
    "stage1['feedback'] = pdf.feedback\n",
    "stage2['feedback'] = pdf.feedback\n",
    "stage2['score'] = stage2.bonus * 2000\n",
    "stage2['n_click'] = stage2.reveals.apply(len)\n",
    "\n",
    "# Normalize scores\n",
    "with open('mouselab_maxscores.json') as f:\n",
    "    stage1_hi = json.load(f)[\"basic\"]\n",
    "\n",
    "stage1.score *= (100/stage1_hi)\n",
    "\n",
    "with open('roadtrip_scores.json') as f:\n",
    "    x = json.load(f)\n",
    "    lo = {k: v[0] for k, v in x.items()}\n",
    "    hi = {k: v[1] for k, v in x.items()}\n",
    "\n",
    "lo2 = stage2.map.apply(lo.get)\n",
    "hi2 = stage2.map.apply(hi.get)\n",
    "\n",
    "stage2.score = 100 * (stage2.score - lo2) / (hi2 - lo2)\n",
    "\n",
    "pdf['bonus'] = bonus\n",
    "pdf['stage1_n_click'] = stage1.groupby('wid').n_clicks.mean()\n",
    "pdf['stage2_n_click'] = stage2.groupby('wid').n_click.mean()\n",
    "pdf['route_cost'] = stage2.groupby('wid').route_cost.mean()\n",
    "pdf['planning_cost'] = stage2.groupby('wid').planning_cost.mean()\n",
    "\n",
    "pdf['score'] = stage2.groupby('wid').score.mean()\n",
    "pdf['early_score'] = stage2.query('trial_index < 4').groupby('wid').score.mean()\n",
    "\n",
    "nice_names['route_cost'] = 'Route Cost'"
   ]
  },
  {
   "cell_type": "code",
   "execution_count": 6,
   "metadata": {},
   "outputs": [
    {
     "name": "stdout",
     "output_type": "stream",
     "text": [
      "No          963\n",
      "Yes         101\n",
      "Not sure      8\n",
      "Name: previously_participated, dtype: int64\n",
      "wrote \"112\" to \"stats/5/N-drop-previous.tex\"\n"
     ]
    }
   ],
   "source": [
    "print(pdf.previously_participated.value_counts())\n",
    "write_tex('N-drop-previous', sum(pdf.previously_participated != \"No\"))\n",
    "pdf = pdf.query('previously_participated == \"No\"')\n",
    "keep = list(pdf.index)\n",
    "stage1 = stage1.query('wid == @keep')\n",
    "stage2 = stage2.query('wid == @keep')\n",
    "# assert set(stage2.index) == set(stage1.index) == set(pdf.index)"
   ]
  },
  {
   "cell_type": "code",
   "execution_count": 5,
   "metadata": {},
   "outputs": [
    {
     "data": {
      "text/plain": [
       "Intercept    3.948432\n",
       "n_click      1.975974\n",
       "dtype: float64"
      ]
     },
     "execution_count": 5,
     "metadata": {},
     "output_type": "execute_result"
    }
   ],
   "source": [
    "from statsmodels.formula.api import ols\n",
    "mod = ols('planning_cost ~ n_click', data=stage2).fit()\n",
    "mod.params\n",
    "# sns.lineplot('n_click', 'planning_cost', data=stage2)"
   ]
  },
  {
   "cell_type": "code",
   "execution_count": 6,
   "metadata": {},
   "outputs": [
    {
     "data": {
      "text/plain": [
       "feedback\n",
       "action    48.810823\n",
       "meta      52.171093\n",
       "none      43.910311\n",
       "video     42.384130\n",
       "Name: score, dtype: float64"
      ]
     },
     "execution_count": 6,
     "metadata": {},
     "output_type": "execute_result"
    }
   ],
   "source": [
    "pdf.groupby('feedback').score.mean()"
   ]
  },
  {
   "cell_type": "markdown",
   "metadata": {},
   "source": [
    "# Demographics"
   ]
  },
  {
   "cell_type": "code",
   "execution_count": 1,
   "metadata": {},
   "outputs": [
    {
     "ename": "NameError",
     "evalue": "name 'pdf' is not defined",
     "output_type": "error",
     "traceback": [
      "\u001b[0;31m---------------------------------------------------------------------------\u001b[0m",
      "\u001b[0;31mNameError\u001b[0m                                 Traceback (most recent call last)",
      "\u001b[0;32m<ipython-input-1-8cabe5102e1f>\u001b[0m in \u001b[0;36m<module>\u001b[0;34m\u001b[0m\n\u001b[1;32m      9\u001b[0m     \u001b[0;32mreturn\u001b[0m \u001b[0md\u001b[0m\u001b[0;34m.\u001b[0m\u001b[0mget\u001b[0m\u001b[0;34m(\u001b[0m\u001b[0ms\u001b[0m\u001b[0;34m,\u001b[0m \u001b[0ms\u001b[0m\u001b[0;34m)\u001b[0m\u001b[0;34m\u001b[0m\u001b[0;34m\u001b[0m\u001b[0m\n\u001b[1;32m     10\u001b[0m \u001b[0;34m\u001b[0m\u001b[0m\n\u001b[0;32m---> 11\u001b[0;31m \u001b[0mgender\u001b[0m \u001b[0;34m=\u001b[0m \u001b[0mpdf\u001b[0m\u001b[0;34m.\u001b[0m\u001b[0msex\u001b[0m\u001b[0;34m.\u001b[0m\u001b[0mstr\u001b[0m\u001b[0;34m.\u001b[0m\u001b[0mlower\u001b[0m\u001b[0;34m(\u001b[0m\u001b[0;34m)\u001b[0m  \u001b[0;31m# not very woke, but this is what Prolific gives us.\u001b[0m\u001b[0;34m\u001b[0m\u001b[0;34m\u001b[0m\u001b[0m\n\u001b[0m\u001b[1;32m     12\u001b[0m \u001b[0mage\u001b[0m \u001b[0;34m=\u001b[0m \u001b[0mpdf\u001b[0m\u001b[0;34m.\u001b[0m\u001b[0mage\u001b[0m\u001b[0;34m.\u001b[0m\u001b[0mapply\u001b[0m\u001b[0;34m(\u001b[0m\u001b[0mexcepts\u001b[0m\u001b[0;34m(\u001b[0m\u001b[0mValueError\u001b[0m\u001b[0;34m,\u001b[0m \u001b[0mint\u001b[0m\u001b[0;34m,\u001b[0m \u001b[0;32mlambda\u001b[0m \u001b[0m_\u001b[0m\u001b[0;34m:\u001b[0m \u001b[0;32mNone\u001b[0m\u001b[0;34m)\u001b[0m\u001b[0;34m)\u001b[0m\u001b[0;34m\u001b[0m\u001b[0;34m\u001b[0m\u001b[0m\n\u001b[1;32m     13\u001b[0m \u001b[0mage\u001b[0m\u001b[0;34m.\u001b[0m\u001b[0mloc\u001b[0m\u001b[0;34m[\u001b[0m\u001b[0mage\u001b[0m \u001b[0;34m<\u001b[0m \u001b[0;36m18\u001b[0m\u001b[0;34m]\u001b[0m \u001b[0;34m=\u001b[0m \u001b[0;32mNone\u001b[0m\u001b[0;34m\u001b[0m\u001b[0;34m\u001b[0m\u001b[0m\n",
      "\u001b[0;31mNameError\u001b[0m: name 'pdf' is not defined"
     ]
    }
   ],
   "source": [
    "def regularize_gender(s):\n",
    "    d = {\n",
    "        'man': 'male',\n",
    "        'woman': 'female',\n",
    "        'f': 'female',\n",
    "        'm': 'male',\n",
    "    }\n",
    "    s = s.lower().strip()\n",
    "    return d.get(s, s)\n",
    "\n",
    "gender = pdf.sex.str.lower()  # not very woke, but this is what Prolific gives us.\n",
    "age = pdf.age.apply(excepts(ValueError, int, lambda _: None))\n",
    "age.loc[age < 18] = None\n",
    "\n",
    "n_gen = gender.apply(lambda x: x in ('male', 'female')).sum()\n",
    "write_tex(\"N-gender\", f'${n_gen}$')\n",
    "n_age = (~age.isna()).sum()\n",
    "write_tex(\"N-age\", f'$n_age$')\n",
    "    \n",
    "write_tex('mean-age', f'${age.mean():.1f}$')\n",
    "write_tex('min-age', f'${age.min():.0f}$')\n",
    "write_tex('max-age', f'${age.max():.0f}$')\n",
    "\n",
    "regularize = {\n",
    "    'man': 'male',\n",
    "    'woman': 'female',\n",
    "    'f': 'female',\n",
    "    'm': 'male',\n",
    "}\n",
    "gender = gender.apply(lambda x: regularize.get(x.strip(), x))\n",
    "n_fem = gender.value_counts()['female']\n",
    "write_tex(\"N-female\", f'${n_fem}$')\n",
    "\n",
    "write_tex(\"N-total\", f\"${len(pdf)}$\")\n",
    "for fb, n in pdf.feedback.value_counts().items():\n",
    "    write_tex(f\"N-{fb}\", f\"${n}$\")\n",
    "    \n",
    "write_tex('mean-bonus', f'\\${pdf.bonus.mean():.2f}')"
   ]
  },
  {
   "cell_type": "code",
   "execution_count": 8,
   "metadata": {},
   "outputs": [
    {
     "name": "stdout",
     "output_type": "stream",
     "text": [
      "wrote \"44\" to \"stats/5/N-drop-none.tex\"\n",
      "wrote \"13.9\\%\" to \"stats/5/drop-rate-none.tex\"\n",
      "wrote \"41\" to \"stats/5/N-drop-action.tex\"\n",
      "wrote \"13.4\\%\" to \"stats/5/drop-rate-action.tex\"\n",
      "wrote \"36\" to \"stats/5/N-drop-meta.tex\"\n",
      "wrote \"11.7\\%\" to \"stats/5/drop-rate-meta.tex\"\n",
      "wrote \"42\" to \"stats/5/N-drop-video.tex\"\n",
      "wrote \"13.7\\%\" to \"stats/5/drop-rate-video.tex\"\n",
      "wrote \"13.2\\%\" to \"stats/5/drop-rate.tex\"\n",
      "wrote \"1074\" to \"stats/5/return-N.tex\"\n"
     ]
    }
   ],
   "source": [
    "N = participants.query('completed_stage1').groupby(['completed_stage2', 'feedback']).apply(len)\n",
    "\n",
    "for fb in fb_order:\n",
    "    write_tex(f'N-drop-{fb}', N[False, fb])\n",
    "    write_percent(f'drop-rate-{fb}', N[False, fb] / N[:, fb].sum())\n",
    "write_percent('drop-rate', N[False].sum() / N.sum())\n",
    "write_tex('return-N', N[True].sum())"
   ]
  },
  {
   "cell_type": "markdown",
   "metadata": {},
   "source": [
    "# Transfer performance"
   ]
  },
  {
   "cell_type": "code",
   "execution_count": 9,
   "metadata": {},
   "outputs": [],
   "source": [
    "N_BOOT = 10000\n",
    "\n",
    "def ci(xs):\n",
    "    return np.quantile(xs, [0.025, 0.975])\n",
    "\n",
    "def boot_means(X, n=N_BOOT):\n",
    "    r = {}\n",
    "    for fb in fb_order:\n",
    "        x = X.loc[fb]\n",
    "        means = [x.sample(frac=1, replace=True).mean() for _ in range(n)]\n",
    "        r[fb] = np.array(means)\n",
    "    return r\n",
    "\n",
    "def write_means(var, units='points'):\n",
    "    X = pdf.set_index('feedback')[var]\n",
    "    bm = boot_means(X)\n",
    "    for fb in fb_order:\n",
    "        x = X.loc[fb].mean()\n",
    "        a, b = ci(bm[fb])\n",
    "        write_tex(f'{var}-mean-{fb}', rf'${x:.2f}$ {units}; 95\\% CI: [${a:.2f}$, ${b:.2f}$]')\n",
    "        write_tex(f'{var}-mean-{fb}-alt', rf'${x:.2f}$ {units} (95\\% CI: [${a:.2f}$, ${b:.2f}$])')"
   ]
  },
  {
   "cell_type": "code",
   "execution_count": 10,
   "metadata": {},
   "outputs": [
    {
     "name": "stdout",
     "output_type": "stream",
     "text": [
      "Requirement already satisfied: statannot in /usr/local/lib/miniconda3/lib/python3.7/site-packages (0.2.3)\r\n"
     ]
    }
   ],
   "source": [
    "!pip install statannot"
   ]
  },
  {
   "cell_type": "code",
   "execution_count": 11,
   "metadata": {},
   "outputs": [],
   "source": [
    "def write_kruskal(name):\n",
    "    out = %R kruskal.test($name ~ feedback, data=rdf)\n",
    "    out = dict(out.items())\n",
    "    df = out[\"parameter\"][0]\n",
    "    p = pval(out[\"p.value\"][0])\n",
    "    stat = out[\"statistic\"][0]\n",
    "    write_tex(f'{name}-kruskal', rf'$H = {stat:.2f}, {p}$')\n",
    "\n",
    "def cohen_d(x,y):\n",
    "    nx = len(x)\n",
    "    ny = len(y)\n",
    "    dof = nx + ny - 2\n",
    "    pooled_std =  np.sqrt(((nx-1)*np.std(x, ddof=1) ** 2 + (ny-1)*np.std(y, ddof=1) ** 2) / dof)\n",
    "    return (np.mean(x) - np.mean(y)) / pooled_std\n",
    "\n",
    "import re\n",
    "independence_results = {}\n",
    "def write_independence_test(y, a, b, alternative='greater'):\n",
    "    # oddly, feedback == b tests a > b\n",
    "    out = %R independence_test($y ~ feedback == \"$b\",\\\n",
    "                               data=filter(rdf, feedback %in% c(\"$a\", \"$b\")),\\\n",
    "                               alternative=\"$alternative\")\n",
    "    out = str(out)\n",
    "    match = re.search('Z = (.*), p-value = (.*)', out)\n",
    "    try:\n",
    "        z, p = map(float, match.groups())\n",
    "    except:\n",
    "        print('Cannot parse independence test')\n",
    "        print(out)\n",
    "        raise Exception()\n",
    "    \n",
    "    x = pdf.set_index('feedback')[y]\n",
    "    d = cohen_d(x.loc[a], x.loc[b])\n",
    "    write_tex(f'independence-{y}-{a}-{b}', f'$d = {d:.2f}, Z = {z:.2f}, {pval(p)}$')\n",
    "    independence_results[(y, a, b)] = p\n",
    "\n",
    "def write_comparisons(y, **kws):\n",
    "    for fb in ['none', 'action', 'video']:\n",
    "        write_independence_test(y, 'meta', fb, **kws)\n",
    "    \n",
    "    for fb in ['none', 'action']:\n",
    "        write_independence_test(y, fb, 'video', **kws)\n",
    "\n",
    "rdf = pdf[['feedback', 'bonus', 'score', 'early_score', 'route_cost', 'stage2_n_click', 'planning_cost']]"
   ]
  },
  {
   "cell_type": "code",
   "execution_count": 12,
   "metadata": {},
   "outputs": [
    {
     "name": "stderr",
     "output_type": "stream",
     "text": [
      "R[write to console]: \n",
      "Attaching package: ‘dplyr’\n",
      "\n",
      "\n",
      "R[write to console]: The following objects are masked from ‘package:stats’:\n",
      "\n",
      "    filter, lag\n",
      "\n",
      "\n",
      "R[write to console]: The following objects are masked from ‘package:base’:\n",
      "\n",
      "    intersect, setdiff, setequal, union\n",
      "\n",
      "\n",
      "R[write to console]: Loading required package: survival\n",
      "\n"
     ]
    }
   ],
   "source": [
    "%%R -i rdf\n",
    "library(dplyr)\n",
    "library(coin)\n",
    "rdf$feedback = relevel(factor(rdf$feedback), ref=\"video\")"
   ]
  },
  {
   "cell_type": "markdown",
   "metadata": {},
   "source": [
    "## Total Score"
   ]
  },
  {
   "cell_type": "code",
   "execution_count": 13,
   "metadata": {},
   "outputs": [
    {
     "name": "stdout",
     "output_type": "stream",
     "text": [
      "wrote \"$H = 8.87, p = .031$\" to \"stats/5/score-kruskal.tex\"\n"
     ]
    }
   ],
   "source": [
    "write_kruskal('score')"
   ]
  },
  {
   "cell_type": "code",
   "execution_count": 14,
   "metadata": {},
   "outputs": [
    {
     "name": "stdout",
     "output_type": "stream",
     "text": [
      "wrote \"$d = 0.18, Z = 2.00, p = .023$\" to \"stats/5/independence-score-meta-none.tex\"\n",
      "wrote \"$d = 0.08, Z = 0.84, p = .202$\" to \"stats/5/independence-score-meta-action.tex\"\n",
      "wrote \"$d = 0.23, Z = 2.56, p = .005$\" to \"stats/5/independence-score-meta-video.tex\"\n",
      "wrote \"$d = 0.04, Z = 0.39, p = .348$\" to \"stats/5/independence-score-none-video.tex\"\n",
      "wrote \"$d = 0.15, Z = 1.68, p = .046$\" to \"stats/5/independence-score-action-video.tex\"\n"
     ]
    }
   ],
   "source": [
    "write_comparisons('score')"
   ]
  },
  {
   "cell_type": "code",
   "execution_count": 15,
   "metadata": {},
   "outputs": [
    {
     "name": "stdout",
     "output_type": "stream",
     "text": [
      "wrote \"$d = 0.18, Z = 1.97, p = .024$\" to \"stats/5/independence-early_score-meta-none.tex\"\n",
      "wrote \"$d = 0.08, Z = 0.87, p = .192$\" to \"stats/5/independence-early_score-meta-action.tex\"\n",
      "wrote \"$d = 0.24, Z = 2.66, p = .004$\" to \"stats/5/independence-early_score-meta-video.tex\"\n",
      "wrote \"$d = 0.05, Z = 0.55, p = .290$\" to \"stats/5/independence-early_score-none-video.tex\"\n",
      "wrote \"$d = 0.16, Z = 1.79, p = .037$\" to \"stats/5/independence-early_score-action-video.tex\"\n"
     ]
    }
   ],
   "source": [
    "write_comparisons('early_score')"
   ]
  },
  {
   "cell_type": "code",
   "execution_count": 17,
   "metadata": {},
   "outputs": [
    {
     "name": "stdout",
     "output_type": "stream",
     "text": [
      "[0.02257, 0.005284, 0.04639]\n",
      "p-value annotation legend:\n",
      "ns: 5.00e-02 < p <= 1.00e+00\n",
      "*: 1.00e-02 < p <= 5.00e-02\n",
      "**: 1.00e-03 < p <= 1.00e-02\n",
      "***: 1.00e-04 < p <= 1.00e-03\n",
      "****: p <= 1.00e-04\n",
      "\n",
      "meta v.s. video: Custom statistical test, P_val:5.284e-03\n",
      "none v.s. meta: Custom statistical test, P_val:2.257e-02\n",
      "action v.s. video: Custom statistical test, P_val:4.639e-02\n",
      "figs/5/transfer_score.pdf\n",
      "figs/5/transfer_score_dist.pdf\n"
     ]
    },
    {
     "data": {
      "text/plain": [
       "<function new_analysis_utils.Figures.plot.<locals>.decorator.<locals>.wrapped(*args, **kwargs)>"
      ]
     },
     "execution_count": 17,
     "metadata": {},
     "output_type": "execute_result"
    },
    {
     "data": {
      "image/png": "[encoded data removed]",
      "text/plain": [
       "<Figure size 432x288 with 1 Axes>"
      ]
     },
     "metadata": {},
     "output_type": "display_data"
    },
    {
     "data": {
      "image/png": "[encoded data removed]",
      "text/plain": [
       "<Figure size 432x288 with 1 Axes>"
      ]
     },
     "metadata": {},
     "output_type": "display_data"
    }
   ],
   "source": [
    "def plot_transfer(outcome, flag=''):\n",
    "    plt.figure()\n",
    "#     plt.axhline(315.956, color='k', ls='--', alpha=0.7)\n",
    "    if flag == 'dist':\n",
    "        sns.swarmplot('feedback', outcome, data=pdf, palette=palette, alpha=0.5, order=fb_order, \n",
    "                  size=3.1)\n",
    "\n",
    "    sns.pointplot('feedback', outcome, data=pdf, palette=palette, order=fb_order, \n",
    "                  scale=1, capsize=0.1, markers='o', n_boot=100)\n",
    "    plt.ylabel(nice_names[outcome])\n",
    "    plt.xlabel('')\n",
    "    # test = 'Test' if EXPERIMENT == 1 else 'Transfer'\n",
    "    reformat_labels()\n",
    "    plt.ylabel('Relative Test Score')\n",
    "    \n",
    "    if flag != 'dist':\n",
    "        all_pairs = [('meta', 'none'), ('meta', 'action'), ('meta', 'video'), \n",
    "                     ('none', 'video'), ('action', 'video'),]\n",
    "        pairs = [(f1, f2) for (f1, f2) in all_pairs if independence_results['score', f1, f2] < .05]\n",
    "        p = [independence_results[outcome, f1, f2] for (f1, f2) in pairs]\n",
    "        print(p)\n",
    "        p = [max(p, .001) for p in p] # at most 3 stars\n",
    "        add_stat_annotation(plt.gca(), data=pdf, x='feedback', y=outcome, order=fb_order,\n",
    "            box_pairs=pairs,\n",
    "            pvalues=p, text_format='star', \n",
    "            fontsize=18, loc='outside', perform_stat_test=False, \n",
    "            line_offset=.015, text_offset=-5\n",
    "        )\n",
    "\n",
    "figure(outcome='score')(plot_transfer)\n",
    "figure(outcome='score', flag='dist')(plot_transfer)"
   ]
  },
  {
   "cell_type": "code",
   "execution_count": 18,
   "metadata": {},
   "outputs": [
    {
     "name": "stdout",
     "output_type": "stream",
     "text": [
      "wrote \"$43.91$ points; 95\\% CI: [$38.08$, $49.78$]\" to \"stats/5/score-mean-none.tex\"\n",
      "wrote \"$43.91$ points (95\\% CI: [$38.08$, $49.78$])\" to \"stats/5/score-mean-none-alt.tex\"\n",
      "wrote \"$48.81$ points; 95\\% CI: [$43.26$, $54.37$]\" to \"stats/5/score-mean-action.tex\"\n",
      "wrote \"$48.81$ points (95\\% CI: [$43.26$, $54.37$])\" to \"stats/5/score-mean-action-alt.tex\"\n",
      "wrote \"$52.17$ points; 95\\% CI: [$46.58$, $57.67$]\" to \"stats/5/score-mean-meta.tex\"\n",
      "wrote \"$52.17$ points (95\\% CI: [$46.58$, $57.67$])\" to \"stats/5/score-mean-meta-alt.tex\"\n",
      "wrote \"$42.38$ points; 95\\% CI: [$37.40$, $47.43$]\" to \"stats/5/score-mean-video.tex\"\n",
      "wrote \"$42.38$ points (95\\% CI: [$37.40$, $47.43$])\" to \"stats/5/score-mean-video-alt.tex\"\n"
     ]
    }
   ],
   "source": [
    "write_means('score')"
   ]
  },
  {
   "cell_type": "markdown",
   "metadata": {},
   "source": [
    "## Bonus"
   ]
  },
  {
   "cell_type": "code",
   "execution_count": 49,
   "metadata": {},
   "outputs": [
    {
     "name": "stdout",
     "output_type": "stream",
     "text": [
      "wrote \"$H = 8.76, p = .033$\" to \"stats/5/bonus-kruskal.tex\"\n"
     ]
    }
   ],
   "source": [
    "write_kruskal('bonus')"
   ]
  },
  {
   "cell_type": "code",
   "execution_count": 50,
   "metadata": {},
   "outputs": [
    {
     "name": "stdout",
     "output_type": "stream",
     "text": [
      "wrote \"$d = 0.18, Z = 1.97, p = .024$\" to \"stats/5/independence-bonus-meta-none.tex\"\n",
      "wrote \"$d = 0.07, Z = 0.74, p = .230$\" to \"stats/5/independence-bonus-meta-action.tex\"\n",
      "wrote \"$d = 0.23, Z = 2.53, p = .006$\" to \"stats/5/independence-bonus-meta-video.tex\"\n",
      "wrote \"$d = 0.04, Z = 0.41, p = .341$\" to \"stats/5/independence-bonus-none-video.tex\"\n",
      "wrote \"$d = 0.16, Z = 1.76, p = .039$\" to \"stats/5/independence-bonus-action-video.tex\"\n"
     ]
    }
   ],
   "source": [
    "write_comparisons('bonus')"
   ]
  },
  {
   "cell_type": "code",
   "execution_count": 51,
   "metadata": {},
   "outputs": [
    {
     "name": "stdout",
     "output_type": "stream",
     "text": [
      "wrote \"$d = 0.18, Z = 2.00, p = .023$\" to \"stats/5/independence-score-meta-none.tex\"\n",
      "wrote \"$d = 0.08, Z = 0.84, p = .202$\" to \"stats/5/independence-score-meta-action.tex\"\n",
      "wrote \"$d = 0.23, Z = 2.56, p = .005$\" to \"stats/5/independence-score-meta-video.tex\"\n",
      "wrote \"$d = 0.04, Z = 0.39, p = .348$\" to \"stats/5/independence-score-none-video.tex\"\n",
      "wrote \"$d = 0.15, Z = 1.68, p = .046$\" to \"stats/5/independence-score-action-video.tex\"\n"
     ]
    }
   ],
   "source": [
    "write_comparisons('score')"
   ]
  },
  {
   "cell_type": "markdown",
   "metadata": {
    "heading_collapsed": true
   },
   "source": [
    "## Route cost"
   ]
  },
  {
   "cell_type": "code",
   "execution_count": 19,
   "metadata": {
    "hidden": true
   },
   "outputs": [
    {
     "name": "stdout",
     "output_type": "stream",
     "text": [
      "wrote \"$H = 6.81, p = .078$\" to \"stats/5/route_cost-kruskal.tex\"\n"
     ]
    }
   ],
   "source": [
    "write_kruskal('route_cost')"
   ]
  },
  {
   "cell_type": "code",
   "execution_count": 20,
   "metadata": {
    "hidden": true
   },
   "outputs": [
    {
     "name": "stdout",
     "output_type": "stream",
     "text": [
      "wrote \"$574.18$ points; 95\\% CI: [$564.00$, $584.22$]\" to \"stats/5/route_cost-mean-none.tex\"\n",
      "wrote \"$574.18$ points (95\\% CI: [$564.00$, $584.22$])\" to \"stats/5/route_cost-mean-none-alt.tex\"\n",
      "wrote \"$564.58$ points; 95\\% CI: [$555.05$, $574.49$]\" to \"stats/5/route_cost-mean-action.tex\"\n",
      "wrote \"$564.58$ points (95\\% CI: [$555.05$, $574.49$])\" to \"stats/5/route_cost-mean-action-alt.tex\"\n",
      "wrote \"$558.65$ points; 95\\% CI: [$549.14$, $568.07$]\" to \"stats/5/route_cost-mean-meta.tex\"\n",
      "wrote \"$558.65$ points (95\\% CI: [$549.14$, $568.07$])\" to \"stats/5/route_cost-mean-meta-alt.tex\"\n",
      "wrote \"$573.97$ points; 95\\% CI: [$565.14$, $583.12$]\" to \"stats/5/route_cost-mean-video.tex\"\n",
      "wrote \"$573.97$ points (95\\% CI: [$565.14$, $583.12$])\" to \"stats/5/route_cost-mean-video-alt.tex\"\n"
     ]
    }
   ],
   "source": [
    "write_means('route_cost')"
   ]
  },
  {
   "cell_type": "code",
   "execution_count": 21,
   "metadata": {
    "hidden": true
   },
   "outputs": [
    {
     "name": "stdout",
     "output_type": "stream",
     "text": [
      "wrote \"$d = -0.20, Z = -2.16, p = .015$\" to \"stats/5/independence-route_cost-meta-none.tex\"\n",
      "wrote \"$d = -0.08, Z = -0.85, p = .199$\" to \"stats/5/independence-route_cost-meta-action.tex\"\n",
      "wrote \"$d = -0.21, Z = -2.28, p = .011$\" to \"stats/5/independence-route_cost-meta-video.tex\"\n",
      "wrote \"$d = 0.00, Z = 0.03, p = .512$\" to \"stats/5/independence-route_cost-none-video.tex\"\n",
      "wrote \"$d = -0.13, Z = -1.38, p = .083$\" to \"stats/5/independence-route_cost-action-video.tex\"\n"
     ]
    }
   ],
   "source": [
    "write_comparisons('route_cost', alternative=\"less\")"
   ]
  },
  {
   "cell_type": "code",
   "execution_count": 22,
   "metadata": {
    "hidden": true
   },
   "outputs": [
    {
     "name": "stdout",
     "output_type": "stream",
     "text": [
      "[0.01542, 0.01126, 0.08345]\n",
      "p-value annotation legend:\n",
      "ns: 5.00e-02 < p <= 1.00e+00\n",
      "*: 1.00e-02 < p <= 5.00e-02\n",
      "**: 1.00e-03 < p <= 1.00e-02\n",
      "***: 1.00e-04 < p <= 1.00e-03\n",
      "****: p <= 1.00e-04\n",
      "\n",
      "meta v.s. video: Custom statistical test, P_val:1.126e-02\n",
      "none v.s. meta: Custom statistical test, P_val:1.542e-02\n",
      "action v.s. video: Custom statistical test, P_val:8.345e-02\n",
      "figs/5/transfer_route_cost.pdf\n",
      "figs/5/transfer_route_cost_dist.pdf\n"
     ]
    },
    {
     "data": {
      "text/plain": [
       "<function new_analysis_utils.Figures.plot.<locals>.decorator.<locals>.wrapped(*args, **kwargs)>"
      ]
     },
     "execution_count": 22,
     "metadata": {},
     "output_type": "execute_result"
    },
    {
     "data": {
      "image/png": "[encoded data removed]",
      "text/plain": [
       "<Figure size 432x288 with 1 Axes>"
      ]
     },
     "metadata": {},
     "output_type": "display_data"
    },
    {
     "data": {
      "image/png": "[encoded data removed]",
      "text/plain": [
       "<Figure size 432x288 with 1 Axes>"
      ]
     },
     "metadata": {},
     "output_type": "display_data"
    }
   ],
   "source": [
    "figure(outcome='route_cost')(plot_transfer)\n",
    "figure(outcome='route_cost', flag='dist')(plot_transfer)"
   ]
  },
  {
   "cell_type": "markdown",
   "metadata": {
    "heading_collapsed": true
   },
   "source": [
    "# Backward planning"
   ]
  },
  {
   "cell_type": "code",
   "execution_count": 23,
   "metadata": {
    "hidden": true
   },
   "outputs": [
    {
     "data": {
      "text/plain": [
       "feedback\n",
       "action    0.265106\n",
       "meta      0.818884\n",
       "none      0.271901\n",
       "video          NaN\n",
       "Name: stage1_backward, dtype: float64"
      ]
     },
     "execution_count": 23,
     "metadata": {},
     "output_type": "execute_result"
    }
   ],
   "source": [
    "leaves = {3,4,7,8,11,12}\n",
    "\n",
    "def stage1_backward(clicks):\n",
    "    if not clicks:\n",
    "        return False\n",
    "    first = clicks[0]\n",
    "    return first in leaves\n",
    "\n",
    "stage1['backward'] = stage1.clicks.apply(stage1_backward)\n",
    "\n",
    "pdf['stage1_backward'] = stage1.groupby('wid').backward.mean()\n",
    "pdf.groupby('feedback').stage1_backward.mean()"
   ]
  },
  {
   "cell_type": "code",
   "execution_count": 24,
   "metadata": {
    "hidden": true
   },
   "outputs": [],
   "source": [
    "import networkx as nx\n",
    "\n",
    "def make_graph(edges):\n",
    "    G = nx.DiGraph()\n",
    "    G.add_edges_from(edges)\n",
    "    return G\n",
    "\n",
    "def get_goals(G):\n",
    "    goal = [k for (k, v) in G.out_degree if v == 0]\n",
    "    return set(goal)\n",
    "\n",
    "def click_goal_first(row):\n",
    "    if not row.reveals:\n",
    "        return False\n",
    "    else:\n",
    "        goals = get_goals(row.graph)\n",
    "        return row.reveals[0][0] in goals\n",
    "\n",
    "def ever_goal(row):\n",
    "    if not row.reveals:\n",
    "        return False\n",
    "    else:\n",
    "        goals = get_goals(row.graph)\n",
    "        return any(x[0] in goals for x in row.reveals)\n",
    "\n",
    "def num_goal(row):\n",
    "    if not row.reveals:\n",
    "        return 0\n",
    "    else:\n",
    "        goals = get_goals(row.graph)\n",
    "        return sum(x[0] in goals for x in row.reveals)\n",
    "    \n",
    "def prop_backward(row):\n",
    "    if not row.reveals:\n",
    "        return 0\n",
    "    else:\n",
    "        goals = get_goals(row.graph)\n",
    "        first_clicks = row.reveals[:len(goals)]\n",
    "        return sum(x[0] in goals for x in first_clicks) / len(first_clicks)\n",
    "\n",
    "stage2['graph'] = stage2.edges.apply(make_graph)\n",
    "stage2['backward'] = stage2.apply(click_goal_first, axis=1)\n",
    "stage2['ever_goal'] = stage2.apply(ever_goal, axis=1)\n",
    "stage2['num_goal'] = stage2.apply(num_goal, axis=1)\n",
    "stage2['planned'] = stage2.n_click > 0\n",
    "stage2['prop_backward'] = stage2.apply(prop_backward, axis=1)\n",
    "\n",
    "pdf['stage2_backward'] = stage2.groupby('wid').backward.mean()\n",
    "pdf['stage2_ever_goal'] = stage2.groupby('wid').ever_goal.mean()\n",
    "pdf['stage2_num_goal'] = stage2.groupby('wid').num_goal.mean()\n",
    "pdf['stage2_planned'] = stage2.groupby('wid').planned.mean()\n",
    "pdf['prop_backward'] = stage2.groupby('wid').prop_backward.mean()\n",
    "\n",
    "pdf['stage2_first_backward'] = stage2.query('trial_index == 0').backward\n",
    "pdf['stage2_first_ever_goal'] = stage2.query('trial_index == 0').ever_goal\n",
    "pdf['stage2_first_num_goal'] = stage2.query('trial_index == 0').num_goal"
   ]
  },
  {
   "cell_type": "code",
   "execution_count": 25,
   "metadata": {
    "hidden": true
   },
   "outputs": [
    {
     "name": "stdout",
     "output_type": "stream",
     "text": [
      "figs/5/learning_curve_backward.pdf\n"
     ]
    },
    {
     "data": {
      "image/png": "[encoded data removed]",
      "text/plain": [
       "<Figure size 432x266.4 with 1 Axes>"
      ]
     },
     "metadata": {},
     "output_type": "display_data"
    }
   ],
   "source": [
    "@figure()\n",
    "def learning_curve_backward():\n",
    "    plt.figure(figsize=(6, 3.7))\n",
    "    s2 = stage2.copy()\n",
    "    s2.trial_index += stage1.trial_index.max() + 1\n",
    "    df = pd.concat([stage1, s2], sort=False)\n",
    "    df.trial_index += 1\n",
    "    sns.lineplot('trial_index', 'backward', hue='feedback', \n",
    "                 data=df, hue_order=fb_order, palette=palette)\n",
    "    plt.xlabel('Trial Number')\n",
    "    plt.gca().grid(axis='x')\n",
    "    plt.ylabel('Proportion Planning Backward')\n",
    "    plt.axvline(10.5, c='k', ls='--', alpha=0.3)\n",
    "    plt.xticks([1, *range(5, 31, 5)])\n",
    "    plt.xlim(df.trial_index.min()-0.5, df.trial_index.max()+0.5)\n",
    "    ax = plt.gca()\n",
    "#     plt.xlim(0, 19)\n",
    "    handles, labels = ax.get_legend_handles_labels()\n",
    "    ax.legend(handles=handles[1:], labels=[\n",
    "        nice_names.get(l, l).replace('\\n', ' ').replace(\"Feedback\", \"FB\") for l in labels[1:]],\n",
    "#              loc='upper left', bbox_to_anchor=(0, .95))\n",
    "              ncol=2,\n",
    "             loc='lower center', bbox_to_anchor=(0.5, 1))\n",
    "\n",
    "#     plt.legend().remove()\n",
    "# reformat_legend()\n",
    "    "
   ]
  },
  {
   "cell_type": "code",
   "execution_count": 26,
   "metadata": {
    "hidden": true
   },
   "outputs": [
    {
     "name": "stdout",
     "output_type": "stream",
     "text": [
      "wrote \"$39.4$\\%\" to \"stats/5/backward-none-percent.tex\"\n",
      "wrote \"$39.4$\\%\" to \"stats/5/backward-action-percent.tex\"\n",
      "wrote \"$46.3$\\%\" to \"stats/5/backward-meta-percent.tex\"\n",
      "wrote \"$23.5$\\%\" to \"stats/5/backward-video-percent.tex\"\n"
     ]
    }
   ],
   "source": [
    "rate = 100 * stage2.groupby('feedback').backward.mean()\n",
    "for c in fb_order:\n",
    "    r = rate[c]\n",
    "    write_tex(f'backward-{c}-percent', f\"${r:.1f}$\\%\")\n",
    "\n",
    "# report_ratio(mdf.query('block == \"test\"').copy(), 'backward')"
   ]
  },
  {
   "cell_type": "code",
   "execution_count": 27,
   "metadata": {
    "hidden": true
   },
   "outputs": [],
   "source": [
    "rdf = pdf[['feedback', 'score', 'route_cost', 'stage2_n_click', 'planning_cost', 'stage2_backward', \n",
    "           'stage2_planned', 'bonus', 'prop_backward', 'stage2_num_goal', 'stage2_ever_goal',\n",
    "           'stage2_first_backward', 'stage2_first_ever_goal', 'stage2_first_num_goal'\n",
    "          ]]"
   ]
  },
  {
   "cell_type": "code",
   "execution_count": 28,
   "metadata": {
    "hidden": true
   },
   "outputs": [],
   "source": [
    "%%R -i rdf\n",
    "rdf$feedback = relevel(factor(rdf$feedback), ref=\"video\")"
   ]
  },
  {
   "cell_type": "code",
   "execution_count": 29,
   "metadata": {
    "hidden": true
   },
   "outputs": [
    {
     "name": "stdout",
     "output_type": "stream",
     "text": [
      "wrote \"$H = 37.00, p < .001$\" to \"stats/5/stage2_backward-kruskal.tex\"\n",
      "wrote \"$d = 0.17, Z = 1.82, p = .035$\" to \"stats/5/independence-stage2_backward-meta-none.tex\"\n",
      "wrote \"$d = 0.17, Z = 1.81, p = .035$\" to \"stats/5/independence-stage2_backward-meta-action.tex\"\n",
      "wrote \"$d = 0.61, Z = 6.45, p < .001$\" to \"stats/5/independence-stage2_backward-meta-video.tex\"\n",
      "wrote \"$d = 0.44, Z = 4.75, p < .001$\" to \"stats/5/independence-stage2_backward-none-video.tex\"\n",
      "wrote \"$d = 0.44, Z = 4.76, p < .001$\" to \"stats/5/independence-stage2_backward-action-video.tex\"\n"
     ]
    }
   ],
   "source": [
    "write_kruskal('stage2_backward')\n",
    "for fb in ['none', 'action', 'video']:\n",
    "    write_independence_test('stage2_backward', 'meta', fb)\n",
    "    \n",
    "for fb in ['none', 'action']:\n",
    "    write_independence_test('stage2_backward', fb, 'video')"
   ]
  },
  {
   "cell_type": "code",
   "execution_count": 30,
   "metadata": {
    "hidden": true
   },
   "outputs": [
    {
     "name": "stdout",
     "output_type": "stream",
     "text": [
      "wrote \"$H = 4.26, p = .235$\" to \"stats/5/stage2_ever_goal-kruskal.tex\"\n",
      "wrote \"$d = 0.14, Z = 1.57, p = .059$\" to \"stats/5/independence-stage2_ever_goal-meta-none.tex\"\n",
      "wrote \"$d = 0.06, Z = 0.61, p = .271$\" to \"stats/5/independence-stage2_ever_goal-meta-action.tex\"\n",
      "wrote \"$d = 0.17, Z = 1.83, p = .033$\" to \"stats/5/independence-stage2_ever_goal-meta-video.tex\"\n",
      "wrote \"$d = 0.02, Z = 0.23, p = .410$\" to \"stats/5/independence-stage2_ever_goal-none-video.tex\"\n",
      "wrote \"$d = 0.11, Z = 1.21, p = .112$\" to \"stats/5/independence-stage2_ever_goal-action-video.tex\"\n"
     ]
    }
   ],
   "source": [
    "write_kruskal('stage2_ever_goal')\n",
    "for fb in ['none', 'action', 'video']:\n",
    "    write_independence_test('stage2_ever_goal', 'meta', fb)\n",
    "    \n",
    "for fb in ['none', 'action']:\n",
    "    write_independence_test('stage2_ever_goal', fb, 'video')"
   ]
  },
  {
   "cell_type": "code",
   "execution_count": 31,
   "metadata": {
    "hidden": true
   },
   "outputs": [
    {
     "name": "stdout",
     "output_type": "stream",
     "text": [
      "wrote \"$d = 0.17, Z = 1.82, p = .035$\" to \"stats/5/independence-stage2_backward-meta-none.tex\"\n",
      "wrote \"$d = 0.17, Z = 1.81, p = .035$\" to \"stats/5/independence-stage2_backward-meta-action.tex\"\n",
      "wrote \"$d = 0.61, Z = 6.45, p < .001$\" to \"stats/5/independence-stage2_backward-meta-video.tex\"\n",
      "\n",
      "wrote \"$d = 0.14, Z = 1.57, p = .059$\" to \"stats/5/independence-stage2_ever_goal-meta-none.tex\"\n",
      "wrote \"$d = 0.06, Z = 0.61, p = .271$\" to \"stats/5/independence-stage2_ever_goal-meta-action.tex\"\n",
      "wrote \"$d = 0.17, Z = 1.83, p = .033$\" to \"stats/5/independence-stage2_ever_goal-meta-video.tex\"\n"
     ]
    }
   ],
   "source": [
    "k = 'backward'\n",
    "for fb in ['none', 'action', 'video']:\n",
    "    write_independence_test(f'stage2_{k}', 'meta', fb)\n",
    "\n",
    "print()\n",
    "k = 'ever_goal'\n",
    "for fb in ['none', 'action', 'video']:\n",
    "    write_independence_test(f'stage2_{k}', 'meta', fb)\n",
    "    \n",
    "# for fb in ['none', 'action']:\n",
    "#     write_independence_test(f'stage2_{k}', fb, 'video')"
   ]
  },
  {
   "cell_type": "markdown",
   "metadata": {
    "hidden": true
   },
   "source": [
    "## Mediation"
   ]
  },
  {
   "cell_type": "code",
   "execution_count": 32,
   "metadata": {
    "hidden": true
   },
   "outputs": [],
   "source": [
    "rdf = stage2.copy()\n",
    "rdf['feedback'] = pdf.feedback"
   ]
  },
  {
   "cell_type": "code",
   "execution_count": 33,
   "metadata": {
    "hidden": true
   },
   "outputs": [],
   "source": [
    "factors = ['action', 'meta', 'none']\n",
    "fb = rdf.pop('feedback')\n",
    "for c in factors:\n",
    "    rdf[c] = (fb == c).astype(int)\n",
    "\n",
    "rdf = rdf[[*factors, 'backward', 'score']].reset_index()\n",
    "rdf.backward.fillna(0, inplace=True)\n",
    "rdf = rdf.groupby('wid').mean()"
   ]
  },
  {
   "cell_type": "code",
   "execution_count": 34,
   "metadata": {
    "hidden": true
   },
   "outputs": [
    {
     "name": "stdout",
     "output_type": "stream",
     "text": [
      "\n",
      "Call:\n",
      "lm(formula = score ~ backward, data = rdf)\n",
      "\n",
      "Residuals:\n",
      "    Min      1Q  Median      3Q     Max \n",
      "-76.773 -15.635  -0.574  13.379  86.360 \n",
      "\n",
      "Coefficients:\n",
      "            Estimate Std. Error t value Pr(>|t|)    \n",
      "(Intercept)   15.516      1.222   12.70   <2e-16 ***\n",
      "backward      84.604      2.257   37.48   <2e-16 ***\n",
      "---\n",
      "Signif. codes:  0 ‘***’ 0.001 ‘**’ 0.01 ‘*’ 0.05 ‘.’ 0.1 ‘ ’ 1\n",
      "\n",
      "Residual standard error: 27.78 on 961 degrees of freedom\n",
      "Multiple R-squared:  0.5938,\tAdjusted R-squared:  0.5934 \n",
      "F-statistic:  1405 on 1 and 961 DF,  p-value: < 2.2e-16\n",
      "\n"
     ]
    }
   ],
   "source": [
    "%%R -i rdf -o score\n",
    "fit = lm(score ~ backward, data=rdf)\n",
    "score = summary(fit)\n",
    "score"
   ]
  },
  {
   "cell_type": "code",
   "execution_count": 35,
   "metadata": {
    "hidden": true
   },
   "outputs": [
    {
     "name": "stdout",
     "output_type": "stream",
     "text": [
      "wrote \"$84.6$\" to \"stats/5/score-backward.tex\"\n",
      "wrote \"$t(961) = 37.48$, $p < .001$\" to \"stats/5/score-backward-test.tex\"\n"
     ]
    }
   ],
   "source": [
    "score = dict(score.items())\n",
    "df = score['df'][1]\n",
    "est, std, t, p = score['coefficients'][1]\n",
    "write_tex(f'score-backward', f'${est:.1f}$')\n",
    "write_tex(f'score-backward-test', f'$t({df}) = {t:.2f}$, ${pval(p)}$')"
   ]
  },
  {
   "cell_type": "code",
   "execution_count": 36,
   "metadata": {
    "hidden": true
   },
   "outputs": [],
   "source": [
    "# %%R\n",
    "# local({r <- getOption(\"repos\")\n",
    "#        r[\"CRAN\"] <- \"https://cloud.r-project.org\" \n",
    "#        options(repos=r)\n",
    "# })\n",
    "# install.packages('mediation')"
   ]
  },
  {
   "cell_type": "code",
   "execution_count": 37,
   "metadata": {
    "hidden": true
   },
   "outputs": [
    {
     "name": "stderr",
     "output_type": "stream",
     "text": [
      "R[write to console]: Loading required package: MASS\n",
      "\n",
      "R[write to console]: \n",
      "Attaching package: ‘MASS’\n",
      "\n",
      "\n",
      "R[write to console]: The following object is masked from ‘package:dplyr’:\n",
      "\n",
      "    select\n",
      "\n",
      "\n",
      "R[write to console]: Loading required package: Matrix\n",
      "\n",
      "R[write to console]: Loading required package: mvtnorm\n",
      "\n",
      "R[write to console]: Loading required package: sandwich\n",
      "\n",
      "R[write to console]: mediation: Causal Mediation Analysis\n",
      "Version: 4.5.0\n",
      "\n",
      "\n"
     ]
    },
    {
     "name": "stdout",
     "output_type": "stream",
     "text": [
      "\n",
      "Causal Mediation Analysis \n",
      "\n",
      "Quasi-Bayesian Confidence Intervals\n",
      "\n",
      "               Estimate 95% CI Lower 95% CI Upper p-value    \n",
      "ACME             12.873        7.551        18.10  <2e-16 ***\n",
      "ADE              -3.841       -7.979         0.37   0.082 .  \n",
      "Total Effect      9.032        2.580        15.52   0.012 *  \n",
      "Prop. Mediated    1.424        0.948         3.17   0.012 *  \n",
      "---\n",
      "Signif. codes:  0 ‘***’ 0.001 ‘**’ 0.01 ‘*’ 0.05 ‘.’ 0.1 ‘ ’ 1\n",
      "\n",
      "Sample Size Used: 963 \n",
      "\n",
      "\n",
      "Simulations: 1000 \n",
      "\n"
     ]
    }
   ],
   "source": [
    "%%R -i rdf -o back -o med_out\n",
    "library(mediation)\n",
    "\n",
    "if ('action' %in% colnames(rdf)) {\n",
    "    back_fit = lm(backward ~ action + meta, data=rdf)\n",
    "    score_fit = lm(score ~ backward + action + meta, data=rdf)\n",
    "# } else if (EXPERIMENT == 6) {\n",
    "#     back_fit = lm(backward ~ info + reward, data=rdf)\n",
    "#     score_fit = lm(score ~ backward + info + reward)\n",
    "} else {\n",
    "    back_fit = lm(backward ~ meta, data=rdf)\n",
    "    score_fit = lm(score ~ backward + meta, data=rdf)\n",
    "}\n",
    "med_out = mediate(back_fit, score_fit, treat=\"meta\", mediator=\"backward\")\n",
    "back = summary(back_fit)\n",
    "summary(med_out)"
   ]
  },
  {
   "cell_type": "code",
   "execution_count": 38,
   "metadata": {
    "hidden": true
   },
   "outputs": [],
   "source": [
    "# back = dict(back.items())\n",
    "# df = back['df'][1]\n",
    "# for i, name in enumerate(fb_order[1:], start=1):\n",
    "#     est, std, t, p = back['coefficients'][i]\n",
    "#     write_tex(f'backward-lm-{name}', f'$t({df}) = {t:.3f}$, ${pval(p)}$')"
   ]
  },
  {
   "cell_type": "code",
   "execution_count": 39,
   "metadata": {
    "hidden": true
   },
   "outputs": [
    {
     "name": "stdout",
     "output_type": "stream",
     "text": [
      "wrote \"12.9\" to \"stats/5/mediation-acme.tex\"\n",
      "wrote \"95\\% CI: [7.6, 18.1], $p < .001$\" to \"stats/5/mediation-acme-ci.tex\"\n",
      "wrote \"-3.8\" to \"stats/5/mediation-ade.tex\"\n",
      "wrote \"95\\% CI: [-8.0, 0.4], $p = .082$\" to \"stats/5/mediation-ade-ci.tex\"\n",
      "wrote \"9.0\" to \"stats/5/mediation-total.tex\"\n",
      "wrote \"95\\% CI: [2.6, 15.5], $p = .012$\" to \"stats/5/mediation-total-ci.tex\"\n",
      "wrote \"1.4\" to \"stats/5/mediation-prop.tex\"\n",
      "wrote \"95\\% CI: [0.9, 3.2], $p = .012$\" to \"stats/5/mediation-prop-ci.tex\"\n"
     ]
    }
   ],
   "source": [
    "names = {\n",
    "    'acme': 'd0',\n",
    "    'ade': 'z0',\n",
    "    'total': 'tau',\n",
    "    'prop': 'n0',\n",
    "}\n",
    "med = dict(med_out.items())\n",
    "\n",
    "for k, v in names.items():\n",
    "    est = med[v + ('.coef' if v == 'tau' else '')][0]\n",
    "    lo, hi = med[v+'.ci']\n",
    "    p = med[v+'.p'][0]\n",
    "    write_tex(f'mediation-{k}', f'{est:.1f}')\n",
    "    write_tex(f'mediation-{k}-ci', f'95\\% CI: [{lo:.1f}, {hi:.1f}], ${pval(p)}$')"
   ]
  },
  {
   "cell_type": "code",
   "execution_count": 40,
   "metadata": {
    "hidden": true
   },
   "outputs": [
    {
     "name": "stdout",
     "output_type": "stream",
     "text": [
      "Success!\n"
     ]
    }
   ],
   "source": [
    "print(\"Success!\")"
   ]
  },
  {
   "cell_type": "code",
   "execution_count": null,
   "metadata": {
    "hidden": true
   },
   "outputs": [],
   "source": []
  }
 ],
 "metadata": {
  "@webio": {
   "lastCommId": null,
   "lastKernelId": null
  },
  "kernelspec": {
   "display_name": "Python 3",
   "language": "python",
   "name": "python3"
  },
  "language_info": {
   "codemirror_mode": {
    "name": "ipython",
    "version": 3
   },
   "file_extension": ".py",
   "mimetype": "text/x-python",
   "name": "python",
   "nbconvert_exporter": "python",
   "pygments_lexer": "ipython3",
   "version": "3.7.3"
  }
 },
 "nbformat": 4,
 "nbformat_minor": 2
}
